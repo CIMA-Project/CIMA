{
 "cells": [
  {
   "cell_type": "code",
   "execution_count": 1,
   "id": "297e98c6-6837-470f-b5a5-9fde0d3671ec",
   "metadata": {
    "execution": {
     "iopub.execute_input": "2025-01-18T11:58:36.179939Z",
     "iopub.status.busy": "2025-01-18T11:58:36.179397Z",
     "iopub.status.idle": "2025-01-18T11:58:36.724743Z",
     "shell.execute_reply": "2025-01-18T11:58:36.723389Z",
     "shell.execute_reply.started": "2025-01-18T11:58:36.179903Z"
    }
   },
   "outputs": [],
   "source": [
    "import pandas as pd"
   ]
  },
  {
   "cell_type": "code",
   "execution_count": 2,
   "id": "bb384b24-56bb-4a3f-b997-2f5190b6a373",
   "metadata": {
    "execution": {
     "iopub.execute_input": "2025-01-18T11:59:55.398098Z",
     "iopub.status.busy": "2025-01-18T11:59:55.397534Z",
     "iopub.status.idle": "2025-01-18T11:59:55.417435Z",
     "shell.execute_reply": "2025-01-18T11:59:55.416277Z",
     "shell.execute_reply.started": "2025-01-18T11:59:55.398044Z"
    }
   },
   "outputs": [],
   "source": [
    "sig_lipid = pd.read_csv('/CIMA/Result/GWAS/sig_lipid.csv')"
   ]
  },
  {
   "cell_type": "code",
   "execution_count": 4,
   "id": "6ade594e-d31e-4cb3-9460-9df2c2243c89",
   "metadata": {
    "execution": {
     "iopub.execute_input": "2025-01-18T12:00:57.194756Z",
     "iopub.status.busy": "2025-01-18T12:00:57.194179Z",
     "iopub.status.idle": "2025-01-18T12:00:57.202597Z",
     "shell.execute_reply": "2025-01-18T12:00:57.201849Z",
     "shell.execute_reply.started": "2025-01-18T12:00:57.194704Z"
    }
   },
   "outputs": [
    {
     "data": {
      "text/plain": [
       "0    lipid_490\n",
       "1    lipid_505\n",
       "2    lipid_524\n",
       "3    lipid_585\n",
       "Name: V2, dtype: object"
      ]
     },
     "execution_count": 4,
     "metadata": {},
     "output_type": "execute_result"
    }
   ],
   "source": [
    "sig_lipid['V2']"
   ]
  },
  {
   "cell_type": "code",
   "execution_count": 5,
   "id": "f2d48b5f-7d0f-4170-ba99-29b5a9bdf399",
   "metadata": {
    "execution": {
     "iopub.execute_input": "2025-01-18T12:02:48.315527Z",
     "iopub.status.busy": "2025-01-18T12:02:48.314807Z",
     "iopub.status.idle": "2025-01-18T12:05:09.405106Z",
     "shell.execute_reply": "2025-01-18T12:05:09.403600Z",
     "shell.execute_reply.started": "2025-01-18T12:02:48.315462Z"
    }
   },
   "outputs": [],
   "source": [
    "for file_mlma in sig_lipid['V2']:\n",
    "    mlma_df = pd.read_csv('/CIMA/CIMA_r1/Result/GWAS_lipid/'+file_mlma+'_378.mlma',sep='\\t')\n",
    "    ma_df = mlma_df.loc[:,['SNP','A1','A2','Freq','b','se','p']]\n",
    "    ma_df.loc[:,'N'] = 378\n",
    "    ma_df.to_csv('/CIMA/Data/inhouse_GWAS_for_SMR_OPERA/'+file_mlma+'.ma',sep='\\t',index = False)"
   ]
  },
  {
   "cell_type": "code",
   "execution_count": 6,
   "id": "f54f7f3e-d08c-40da-bc6c-5a13c09d0c68",
   "metadata": {
    "execution": {
     "iopub.execute_input": "2025-01-18T12:05:25.414433Z",
     "iopub.status.busy": "2025-01-18T12:05:25.413586Z",
     "iopub.status.idle": "2025-01-18T12:05:25.425538Z",
     "shell.execute_reply": "2025-01-18T12:05:25.424719Z",
     "shell.execute_reply.started": "2025-01-18T12:05:25.414365Z"
    }
   },
   "outputs": [],
   "source": [
    "sig_meta = pd.read_csv('/CIMA/Result/GWAS/sig_meta.csv')"
   ]
  },
  {
   "cell_type": "code",
   "execution_count": 7,
   "id": "d823754b-23ab-4554-921c-577cfdee10ab",
   "metadata": {
    "execution": {
     "iopub.execute_input": "2025-01-18T12:05:40.808664Z",
     "iopub.status.busy": "2025-01-18T12:05:40.808093Z",
     "iopub.status.idle": "2025-01-18T12:05:40.819851Z",
     "shell.execute_reply": "2025-01-18T12:05:40.819070Z",
     "shell.execute_reply.started": "2025-01-18T12:05:40.808613Z"
    }
   },
   "outputs": [
    {
     "data": {
      "text/html": [
       "<div>\n",
       "<style scoped>\n",
       "    .dataframe tbody tr th:only-of-type {\n",
       "        vertical-align: middle;\n",
       "    }\n",
       "\n",
       "    .dataframe tbody tr th {\n",
       "        vertical-align: top;\n",
       "    }\n",
       "\n",
       "    .dataframe thead th {\n",
       "        text-align: right;\n",
       "    }\n",
       "</style>\n",
       "<table border=\"1\" class=\"dataframe\">\n",
       "  <thead>\n",
       "    <tr style=\"text-align: right;\">\n",
       "      <th></th>\n",
       "      <th>V1</th>\n",
       "      <th>V2</th>\n",
       "    </tr>\n",
       "  </thead>\n",
       "  <tbody>\n",
       "    <tr>\n",
       "      <th>0</th>\n",
       "      <td>2-HYDROXY-4-(METHYLTHIO)BUTANOATE</td>\n",
       "      <td>META_35</td>\n",
       "    </tr>\n",
       "    <tr>\n",
       "      <th>1</th>\n",
       "      <td>Phenylglyoxylic acid</td>\n",
       "      <td>META_36</td>\n",
       "    </tr>\n",
       "    <tr>\n",
       "      <th>2</th>\n",
       "      <td>D-Arabinose</td>\n",
       "      <td>META_37</td>\n",
       "    </tr>\n",
       "    <tr>\n",
       "      <th>3</th>\n",
       "      <td>3-Indoleglyoxylic acid</td>\n",
       "      <td>META_86</td>\n",
       "    </tr>\n",
       "    <tr>\n",
       "      <th>4</th>\n",
       "      <td>Beta-Alanine</td>\n",
       "      <td>META_270</td>\n",
       "    </tr>\n",
       "    <tr>\n",
       "      <th>5</th>\n",
       "      <td>7-Methylguanosine</td>\n",
       "      <td>META_288</td>\n",
       "    </tr>\n",
       "    <tr>\n",
       "      <th>6</th>\n",
       "      <td>3-Indolepropionic acid</td>\n",
       "      <td>META_292</td>\n",
       "    </tr>\n",
       "  </tbody>\n",
       "</table>\n",
       "</div>"
      ],
      "text/plain": [
       "                                  V1        V2\n",
       "0  2-HYDROXY-4-(METHYLTHIO)BUTANOATE   META_35\n",
       "1               Phenylglyoxylic acid   META_36\n",
       "2                        D-Arabinose   META_37\n",
       "3             3-Indoleglyoxylic acid   META_86\n",
       "4                       Beta-Alanine  META_270\n",
       "5                  7-Methylguanosine  META_288\n",
       "6             3-Indolepropionic acid  META_292"
      ]
     },
     "execution_count": 7,
     "metadata": {},
     "output_type": "execute_result"
    }
   ],
   "source": [
    "sig_meta"
   ]
  },
  {
   "cell_type": "code",
   "execution_count": 9,
   "id": "d6bb10b9-1cd5-4a2b-8ac9-fb982f33ddbc",
   "metadata": {
    "execution": {
     "iopub.execute_input": "2025-01-18T12:05:56.137103Z",
     "iopub.status.busy": "2025-01-18T12:05:56.135874Z",
     "iopub.status.idle": "2025-01-18T12:10:00.141141Z",
     "shell.execute_reply": "2025-01-18T12:10:00.139759Z",
     "shell.execute_reply.started": "2025-01-18T12:05:56.137047Z"
    }
   },
   "outputs": [],
   "source": [
    "for file_mlma in sig_meta['V2']:\n",
    "    mlma_df = pd.read_csv('/CIMA/CIMA_r1/Result/GWAS_meta/'+file_mlma+'_378.mlma',sep='\\t')\n",
    "    ma_df = mlma_df.loc[:,['SNP','A1','A2','Freq','b','se','p']]\n",
    "    ma_df.loc[:,'N'] = 378\n",
    "    ma_df.to_csv('/CIMA/Data/inhouse_GWAS_for_SMR_OPERA/'+file_mlma+'.ma',sep='\\t',index = False)"
   ]
  }
 ],
 "metadata": {
  "kernelspec": {
   "display_name": "tensorqtl",
   "language": "python",
   "name": "tensorqtl"
  },
  "language_info": {
   "codemirror_mode": {
    "name": "ipython",
    "version": 3
   },
   "file_extension": ".py",
   "mimetype": "text/x-python",
   "name": "python",
   "nbconvert_exporter": "python",
   "pygments_lexer": "ipython3",
   "version": "3.10.16"
  }
 },
 "nbformat": 4,
 "nbformat_minor": 5
}
