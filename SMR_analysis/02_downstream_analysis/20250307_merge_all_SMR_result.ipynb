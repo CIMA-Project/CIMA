{
 "cells": [
  {
   "cell_type": "code",
   "execution_count": 16,
   "id": "98ccd527-c2cd-4a7c-84ab-61b21409dbc6",
   "metadata": {
    "execution": {
     "iopub.execute_input": "2025-03-28T10:09:57.109215Z",
     "iopub.status.busy": "2025-03-28T10:09:57.108591Z",
     "iopub.status.idle": "2025-03-28T10:09:57.112219Z",
     "shell.execute_reply": "2025-03-28T10:09:57.111604Z",
     "shell.execute_reply.started": "2025-03-28T10:09:57.109180Z"
    }
   },
   "outputs": [],
   "source": [
    "import pandas as pd"
   ]
  },
  {
   "cell_type": "code",
   "execution_count": 17,
   "id": "d3c84e2a-354f-42f1-a391-7bd2212fabdc",
   "metadata": {
    "execution": {
     "iopub.execute_input": "2025-03-28T10:09:57.642645Z",
     "iopub.status.busy": "2025-03-28T10:09:57.642263Z",
     "iopub.status.idle": "2025-03-28T10:09:59.498340Z",
     "shell.execute_reply": "2025-03-28T10:09:59.497222Z",
     "shell.execute_reply.started": "2025-03-28T10:09:57.642612Z"
    }
   },
   "outputs": [],
   "source": [
    "#lead位点\n",
    "eQTL = pd.read_csv('/CIMA/Result/20250108_cis_eQTL_studywise_sig.csv',index_col=0)\n",
    "caQTL =  pd.read_csv('/CIMA/Result/20250108_cis_caQTL_studywise_sig.csv',index_col=0)\n",
    "merged_df_qtl = pd.concat([eQTL, caQTL], axis=0)"
   ]
  },
  {
   "cell_type": "code",
   "execution_count": 18,
   "id": "99c1289e-e839-487d-a55d-be970b9499f8",
   "metadata": {
    "execution": {
     "iopub.execute_input": "2025-03-28T10:09:59.995309Z",
     "iopub.status.busy": "2025-03-28T10:09:59.995059Z",
     "iopub.status.idle": "2025-03-28T10:10:00.052451Z",
     "shell.execute_reply": "2025-03-28T10:10:00.051171Z",
     "shell.execute_reply.started": "2025-03-28T10:09:59.995285Z"
    }
   },
   "outputs": [],
   "source": [
    "SMR1 = pd.read_csv('/CIMA/Result/downstream/SMR_summary/eQTL_lime_sig_SMR_eGene_full.csv',index_col=0)\n",
    "SMR1['lei'] = 'lime'\n",
    "SMR1['QTL'] = 'eQTL'\n",
    "SMR2 = pd.read_csv('/CIMA/Result/downstream/SMR_summary/caQTL_lime_sig_SMR_caPeak_full.csv',index_col=0)\n",
    "SMR2['lei'] = 'lime'\n",
    "SMR2['QTL'] = 'caQTL'\n",
    "SMR3 = pd.read_csv('/CIMA/Result/downstream/SMR_summary/eQTL_BBJ_diease_SMR_eGene_full.csv',index_col=0)\n",
    "SMR3['lei'] = 'BBJ'\n",
    "SMR3['QTL'] = 'eQTL'\n",
    "SMR4 = pd.read_csv('/CIMA/Result/downstream/SMR_summary/caQTL_BBJ_diease_SMR_caPeak_full.csv',index_col=0)\n",
    "SMR4['lei'] = 'BBJ'\n",
    "SMR4['QTL'] = 'caQTL'\n",
    "SMR5 = pd.read_csv('/CIMA/Result/downstream/SMR_summary/eQTL_pQTL_SMR_eGene_full.csv',index_col=0)\n",
    "SMR5['lei'] = 'pQTL'\n",
    "SMR5['QTL'] = 'eQTL'\n",
    "SMR6 = pd.read_csv('/CIMA/Result/downstream/SMR_summary/caQTL_pQTL_SMR_caPeak_full.csv',index_col=0)\n",
    "SMR6['lei'] = 'pQTL'\n",
    "SMR6['QTL'] = 'caQTL'"
   ]
  },
  {
   "cell_type": "code",
   "execution_count": 19,
   "id": "c27a54f2-d17c-4e51-a34c-f5a15795add1",
   "metadata": {
    "execution": {
     "iopub.execute_input": "2025-03-28T10:10:02.619648Z",
     "iopub.status.busy": "2025-03-28T10:10:02.619356Z",
     "iopub.status.idle": "2025-03-28T10:10:02.627998Z",
     "shell.execute_reply": "2025-03-28T10:10:02.627246Z",
     "shell.execute_reply.started": "2025-03-28T10:10:02.619627Z"
    }
   },
   "outputs": [],
   "source": [
    "# 按行合并数据框\n",
    "merged_df = pd.concat([SMR1, SMR2, SMR3, SMR4, SMR5, SMR6], axis=0)\n",
    "# 重置索引（可选）\n",
    "merged_df = merged_df.reset_index(drop=True)"
   ]
  },
  {
   "cell_type": "code",
   "execution_count": 5,
   "id": "ea49ba51-2be5-42ce-9314-5ef992104fad",
   "metadata": {
    "execution": {
     "iopub.execute_input": "2025-03-21T08:23:11.018404Z",
     "iopub.status.busy": "2025-03-21T08:23:11.017602Z",
     "iopub.status.idle": "2025-03-21T08:23:11.077238Z",
     "shell.execute_reply": "2025-03-21T08:23:11.075905Z",
     "shell.execute_reply.started": "2025-03-21T08:23:11.018371Z"
    }
   },
   "outputs": [],
   "source": [
    "merged_df.to_csv('/CIMA/Result/downstream/SMR_summary/merge_all_SMR_result.csv')"
   ]
  },
  {
   "cell_type": "code",
   "execution_count": 27,
   "id": "042c72e9-0996-4eaa-a8eb-5b48f04e8ce9",
   "metadata": {
    "execution": {
     "iopub.execute_input": "2025-03-28T10:14:44.813265Z",
     "iopub.status.busy": "2025-03-28T10:14:44.812822Z",
     "iopub.status.idle": "2025-03-28T10:14:44.825044Z",
     "shell.execute_reply": "2025-03-28T10:14:44.824381Z",
     "shell.execute_reply.started": "2025-03-28T10:14:44.813242Z"
    }
   },
   "outputs": [],
   "source": [
    "merged_df_lead = merged_df[merged_df['topSNP'].isin(eQTL['variant_id'])]\n",
    "merged_df_lead = merged_df_lead[merged_df_lead['QTL'] == 'eQTL']"
   ]
  },
  {
   "cell_type": "code",
   "execution_count": 29,
   "id": "beb5cd19-5eba-4828-a045-070dc46bfe36",
   "metadata": {
    "execution": {
     "iopub.execute_input": "2025-03-28T10:15:03.359574Z",
     "iopub.status.busy": "2025-03-28T10:15:03.359173Z",
     "iopub.status.idle": "2025-03-28T10:15:03.383222Z",
     "shell.execute_reply": "2025-03-28T10:15:03.382492Z",
     "shell.execute_reply.started": "2025-03-28T10:15:03.359550Z"
    }
   },
   "outputs": [],
   "source": [
    "merged_df_lead.to_csv('/CIMA/Result/downstream/SMR_summary/merge_all_SMR_result_with_lead_eQTL.csv')"
   ]
  },
  {
   "cell_type": "code",
   "execution_count": 14,
   "id": "71b83752-9295-4d38-b211-809f304185f4",
   "metadata": {
    "execution": {
     "iopub.execute_input": "2025-03-28T08:26:24.472470Z",
     "iopub.status.busy": "2025-03-28T08:26:24.471974Z",
     "iopub.status.idle": "2025-03-28T08:26:24.501434Z",
     "shell.execute_reply": "2025-03-28T08:26:24.500868Z",
     "shell.execute_reply.started": "2025-03-28T08:26:24.472440Z"
    }
   },
   "outputs": [],
   "source": [
    "selection = pd.read_csv('/media/scPBMC1_AnalysisDisk1/huangzhuoli/hw5_backup/huangzhuoli/genetics_Data/chinese_selection_list_full.csv')"
   ]
  },
  {
   "cell_type": "code",
   "execution_count": 15,
   "id": "0a1c3b48-499f-4601-a7c5-8f98d332801b",
   "metadata": {
    "execution": {
     "iopub.execute_input": "2025-03-28T08:26:31.317438Z",
     "iopub.status.busy": "2025-03-28T08:26:31.316724Z",
     "iopub.status.idle": "2025-03-28T08:26:31.333671Z",
     "shell.execute_reply": "2025-03-28T08:26:31.332720Z",
     "shell.execute_reply.started": "2025-03-28T08:26:31.317405Z"
    }
   },
   "outputs": [
    {
     "data": {
      "text/html": [
       "<div>\n",
       "<style scoped>\n",
       "    .dataframe tbody tr th:only-of-type {\n",
       "        vertical-align: middle;\n",
       "    }\n",
       "\n",
       "    .dataframe tbody tr th {\n",
       "        vertical-align: top;\n",
       "    }\n",
       "\n",
       "    .dataframe thead th {\n",
       "        text-align: right;\n",
       "    }\n",
       "</style>\n",
       "<table border=\"1\" class=\"dataframe\">\n",
       "  <thead>\n",
       "    <tr style=\"text-align: right;\">\n",
       "      <th></th>\n",
       "      <th>probeID</th>\n",
       "      <th>ProbeChr</th>\n",
       "      <th>Gene</th>\n",
       "      <th>Probe_bp</th>\n",
       "      <th>topSNP</th>\n",
       "      <th>topSNP_chr</th>\n",
       "      <th>topSNP_bp</th>\n",
       "      <th>A1</th>\n",
       "      <th>A2</th>\n",
       "      <th>Freq</th>\n",
       "      <th>...</th>\n",
       "      <th>p_eQTL</th>\n",
       "      <th>b_SMR</th>\n",
       "      <th>se_SMR</th>\n",
       "      <th>p_SMR</th>\n",
       "      <th>p_HEIDI</th>\n",
       "      <th>nsnp_HEIDI</th>\n",
       "      <th>celltype</th>\n",
       "      <th>trait</th>\n",
       "      <th>lei</th>\n",
       "      <th>QTL</th>\n",
       "    </tr>\n",
       "  </thead>\n",
       "  <tbody>\n",
       "    <tr>\n",
       "      <th>3</th>\n",
       "      <td>TMEM258</td>\n",
       "      <td>11</td>\n",
       "      <td>TMEM258</td>\n",
       "      <td>61792802</td>\n",
       "      <td>chr11_61781087</td>\n",
       "      <td>11</td>\n",
       "      <td>61781087</td>\n",
       "      <td>G</td>\n",
       "      <td>A</td>\n",
       "      <td>0.509685</td>\n",
       "      <td>...</td>\n",
       "      <td>2.516958e-15</td>\n",
       "      <td>-1.106000</td>\n",
       "      <td>0.229644</td>\n",
       "      <td>1.463644e-06</td>\n",
       "      <td>0.367701</td>\n",
       "      <td>20.0</td>\n",
       "      <td>CD4_Tfh-like_CXCR5</td>\n",
       "      <td>LPC 20:4</td>\n",
       "      <td>lime</td>\n",
       "      <td>eQTL</td>\n",
       "    </tr>\n",
       "    <tr>\n",
       "      <th>1544</th>\n",
       "      <td>FADS2</td>\n",
       "      <td>11</td>\n",
       "      <td>FADS2</td>\n",
       "      <td>61792980</td>\n",
       "      <td>chr11_61811991</td>\n",
       "      <td>11</td>\n",
       "      <td>61811991</td>\n",
       "      <td>G</td>\n",
       "      <td>A</td>\n",
       "      <td>0.500000</td>\n",
       "      <td>...</td>\n",
       "      <td>6.872841e-29</td>\n",
       "      <td>0.113441</td>\n",
       "      <td>0.022215</td>\n",
       "      <td>3.282334e-07</td>\n",
       "      <td>0.385972</td>\n",
       "      <td>20.0</td>\n",
       "      <td>CD8_CTL_GZMB</td>\n",
       "      <td>stem_Cell_Factor_measurement</td>\n",
       "      <td>pQTL</td>\n",
       "      <td>eQTL</td>\n",
       "    </tr>\n",
       "    <tr>\n",
       "      <th>1607</th>\n",
       "      <td>FADS2</td>\n",
       "      <td>11</td>\n",
       "      <td>FADS2</td>\n",
       "      <td>61792980</td>\n",
       "      <td>chr11_61811991</td>\n",
       "      <td>11</td>\n",
       "      <td>61811991</td>\n",
       "      <td>G</td>\n",
       "      <td>A</td>\n",
       "      <td>0.500000</td>\n",
       "      <td>...</td>\n",
       "      <td>6.872841e-29</td>\n",
       "      <td>0.124867</td>\n",
       "      <td>0.022703</td>\n",
       "      <td>3.794707e-08</td>\n",
       "      <td>0.106848</td>\n",
       "      <td>20.0</td>\n",
       "      <td>CD8_CTL_GZMB</td>\n",
       "      <td>TNF_related_apoptosis_inducing_ligand_measurement</td>\n",
       "      <td>pQTL</td>\n",
       "      <td>eQTL</td>\n",
       "    </tr>\n",
       "  </tbody>\n",
       "</table>\n",
       "<p>3 rows × 25 columns</p>\n",
       "</div>"
      ],
      "text/plain": [
       "      probeID  ProbeChr     Gene  Probe_bp          topSNP  topSNP_chr  \\\n",
       "3     TMEM258        11  TMEM258  61792802  chr11_61781087          11   \n",
       "1544    FADS2        11    FADS2  61792980  chr11_61811991          11   \n",
       "1607    FADS2        11    FADS2  61792980  chr11_61811991          11   \n",
       "\n",
       "      topSNP_bp A1 A2      Freq  ...        p_eQTL     b_SMR    se_SMR  \\\n",
       "3      61781087  G  A  0.509685  ...  2.516958e-15 -1.106000  0.229644   \n",
       "1544   61811991  G  A  0.500000  ...  6.872841e-29  0.113441  0.022215   \n",
       "1607   61811991  G  A  0.500000  ...  6.872841e-29  0.124867  0.022703   \n",
       "\n",
       "             p_SMR   p_HEIDI  nsnp_HEIDI            celltype  \\\n",
       "3     1.463644e-06  0.367701        20.0  CD4_Tfh-like_CXCR5   \n",
       "1544  3.282334e-07  0.385972        20.0        CD8_CTL_GZMB   \n",
       "1607  3.794707e-08  0.106848        20.0        CD8_CTL_GZMB   \n",
       "\n",
       "                                                  trait   lei   QTL  \n",
       "3                                              LPC 20:4  lime  eQTL  \n",
       "1544                       stem_Cell_Factor_measurement  pQTL  eQTL  \n",
       "1607  TNF_related_apoptosis_inducing_ligand_measurement  pQTL  eQTL  \n",
       "\n",
       "[3 rows x 25 columns]"
      ]
     },
     "execution_count": 15,
     "metadata": {},
     "output_type": "execute_result"
    }
   ],
   "source": [
    "merged_df[merged_df['topSNP'].isin(selection['site_38'])]"
   ]
  },
  {
   "cell_type": "code",
   "execution_count": 7,
   "id": "7008f28a-8e07-4aff-b4a6-ed66bfb7b74f",
   "metadata": {
    "execution": {
     "iopub.execute_input": "2025-03-11T07:34:10.484342Z",
     "iopub.status.busy": "2025-03-11T07:34:10.484181Z",
     "iopub.status.idle": "2025-03-11T07:34:10.487992Z",
     "shell.execute_reply": "2025-03-11T07:34:10.487567Z",
     "shell.execute_reply.started": "2025-03-11T07:34:10.484327Z"
    }
   },
   "outputs": [
    {
     "data": {
      "text/plain": [
       "68"
      ]
     },
     "execution_count": 7,
     "metadata": {},
     "output_type": "execute_result"
    }
   ],
   "source": [
    "merged_df['celltype'].nunique()"
   ]
  },
  {
   "cell_type": "code",
   "execution_count": 8,
   "id": "971ef659-bc13-489f-a719-9c9bd92599a1",
   "metadata": {
    "execution": {
     "iopub.execute_input": "2025-03-11T07:34:10.488684Z",
     "iopub.status.busy": "2025-03-11T07:34:10.488524Z",
     "iopub.status.idle": "2025-03-11T07:34:10.492455Z",
     "shell.execute_reply": "2025-03-11T07:34:10.492055Z",
     "shell.execute_reply.started": "2025-03-11T07:34:10.488669Z"
    }
   },
   "outputs": [],
   "source": [
    "merged_df['SMR_correlation'] = merged_df['topSNP']+'_'+merged_df['probeID']+'_'+merged_df['trait']"
   ]
  },
  {
   "cell_type": "code",
   "execution_count": 9,
   "id": "534166a5-3bfe-4b0e-8779-25b753e78163",
   "metadata": {
    "execution": {
     "iopub.execute_input": "2025-03-11T07:34:10.493170Z",
     "iopub.status.busy": "2025-03-11T07:34:10.493011Z",
     "iopub.status.idle": "2025-03-11T07:34:10.496209Z",
     "shell.execute_reply": "2025-03-11T07:34:10.495828Z",
     "shell.execute_reply.started": "2025-03-11T07:34:10.493155Z"
    }
   },
   "outputs": [
    {
     "data": {
      "text/plain": [
       "2085"
      ]
     },
     "execution_count": 9,
     "metadata": {},
     "output_type": "execute_result"
    }
   ],
   "source": [
    "len(merged_df)"
   ]
  },
  {
   "cell_type": "code",
   "execution_count": 24,
   "id": "f0cd031d-3cad-4599-b413-c51454a3b51f",
   "metadata": {
    "execution": {
     "iopub.execute_input": "2025-03-11T07:42:11.245737Z",
     "iopub.status.busy": "2025-03-11T07:42:11.245169Z",
     "iopub.status.idle": "2025-03-11T07:42:11.253804Z",
     "shell.execute_reply": "2025-03-11T07:42:11.252767Z",
     "shell.execute_reply.started": "2025-03-11T07:42:11.245684Z"
    }
   },
   "outputs": [
    {
     "data": {
      "text/plain": [
       "833"
      ]
     },
     "execution_count": 24,
     "metadata": {},
     "output_type": "execute_result"
    }
   ],
   "source": [
    "merged_df['topSNP'].nunique()"
   ]
  },
  {
   "cell_type": "code",
   "execution_count": 25,
   "id": "f4a47143-48a1-4fa6-a273-dd0e15586a3d",
   "metadata": {
    "execution": {
     "iopub.execute_input": "2025-03-11T07:42:30.285691Z",
     "iopub.status.busy": "2025-03-11T07:42:30.285214Z",
     "iopub.status.idle": "2025-03-11T07:42:30.291169Z",
     "shell.execute_reply": "2025-03-11T07:42:30.290507Z",
     "shell.execute_reply.started": "2025-03-11T07:42:30.285659Z"
    }
   },
   "outputs": [
    {
     "data": {
      "text/plain": [
       "418"
      ]
     },
     "execution_count": 25,
     "metadata": {},
     "output_type": "execute_result"
    }
   ],
   "source": [
    "merged_df['probeID'].nunique()"
   ]
  },
  {
   "cell_type": "code",
   "execution_count": 26,
   "id": "cdac54bc-df5f-4895-a393-ad1675cdc0d4",
   "metadata": {
    "execution": {
     "iopub.execute_input": "2025-03-11T07:42:52.744916Z",
     "iopub.status.busy": "2025-03-11T07:42:52.744317Z",
     "iopub.status.idle": "2025-03-11T07:42:52.752681Z",
     "shell.execute_reply": "2025-03-11T07:42:52.751757Z",
     "shell.execute_reply.started": "2025-03-11T07:42:52.744853Z"
    }
   },
   "outputs": [
    {
     "data": {
      "text/plain": [
       "68"
      ]
     },
     "execution_count": 26,
     "metadata": {},
     "output_type": "execute_result"
    }
   ],
   "source": [
    "merged_df['trait'].nunique()"
   ]
  },
  {
   "cell_type": "code",
   "execution_count": 10,
   "id": "9ffbc9da-a615-4103-a120-c516e482dd76",
   "metadata": {
    "execution": {
     "iopub.execute_input": "2025-03-11T07:34:10.496899Z",
     "iopub.status.busy": "2025-03-11T07:34:10.496735Z",
     "iopub.status.idle": "2025-03-11T07:34:10.501423Z",
     "shell.execute_reply": "2025-03-11T07:34:10.501027Z",
     "shell.execute_reply.started": "2025-03-11T07:34:10.496878Z"
    }
   },
   "outputs": [
    {
     "name": "stdout",
     "output_type": "stream",
     "text": [
      "eGene 138\n",
      "caPeak 280\n"
     ]
    }
   ],
   "source": [
    "print('eGene '+ str(len(merged_df[merged_df['QTL'] == 'eQTL']['probeID'].unique())))\n",
    "print('caPeak '+ str(len(merged_df[merged_df['QTL'] == 'caQTL']['probeID'].unique())))"
   ]
  },
  {
   "cell_type": "code",
   "execution_count": 11,
   "id": "538f140b-dd1d-4353-a23f-03ea3eecee88",
   "metadata": {
    "execution": {
     "iopub.execute_input": "2025-03-11T07:34:10.502271Z",
     "iopub.status.busy": "2025-03-11T07:34:10.501975Z",
     "iopub.status.idle": "2025-03-11T07:34:10.507272Z",
     "shell.execute_reply": "2025-03-11T07:34:10.506874Z",
     "shell.execute_reply.started": "2025-03-11T07:34:10.502254Z"
    }
   },
   "outputs": [
    {
     "name": "stdout",
     "output_type": "stream",
     "text": [
      "BBJ 16\n",
      "pQTL 47\n",
      "lime 5\n"
     ]
    }
   ],
   "source": [
    "print('BBJ '+ str(len(merged_df[merged_df['lei'] == 'BBJ']['trait'].unique())))\n",
    "print('pQTL '+ str(len(merged_df[merged_df['lei'] == 'pQTL']['trait'].unique())))\n",
    "print('lime '+ str(len(merged_df[merged_df['lei'] == 'lime']['trait'].unique())))"
   ]
  },
  {
   "cell_type": "code",
   "execution_count": 12,
   "id": "2b19cbff-5d78-4e65-b6ab-a4f8973b8d6a",
   "metadata": {
    "execution": {
     "iopub.execute_input": "2025-03-11T07:34:10.507977Z",
     "iopub.status.busy": "2025-03-11T07:34:10.507811Z",
     "iopub.status.idle": "2025-03-11T07:34:10.894082Z",
     "shell.execute_reply": "2025-03-11T07:34:10.893576Z",
     "shell.execute_reply.started": "2025-03-11T07:34:10.507961Z"
    }
   },
   "outputs": [
    {
     "name": "stderr",
     "output_type": "stream",
     "text": [
      "/tmp/ipykernel_586536/1403460195.py:20: FutureWarning: The default of observed=False is deprecated and will be changed to True in a future version of pandas. Pass observed=False to retain current behavior or observed=True to adopt the future default and silence this warning.\n",
      "  interval_counts = df.groupby('interval')['count'].sum()\n"
     ]
    },
    {
     "data": {
      "image/png": "[encoded data removed]",
      "text/plain": [
       "<Figure size 600x600 with 1 Axes>"
      ]
     },
     "metadata": {},
     "output_type": "display_data"
    }
   ],
   "source": [
    "#统计TOPsnp是否是celltype specific的\n",
    "result1 = pd.crosstab(merged_df['topSNP'],merged_df['celltype'])\n",
    "result1[result1 > 1] = 1\n",
    "result1 = result1.sum(axis=1)\n",
    "\n",
    "import pandas as pd\n",
    "import matplotlib.pyplot as plt\n",
    "\n",
    "df = result1.value_counts().reset_index()\n",
    "df.columns = ['value', 'count']\n",
    "\n",
    "# 定义区间\n",
    "bins = [0, 1, 10, float('inf')]  # 区间为 (0,1], (1,10], (10,∞)\n",
    "labels = ['1', '2-10', '>10']\n",
    "\n",
    "# 划分区间\n",
    "df['interval'] = pd.cut(df['value'], bins=bins, labels=labels)\n",
    "\n",
    "# 计算每个区间的总频率\n",
    "interval_counts = df.groupby('interval')['count'].sum()\n",
    "\n",
    "# 绘制饼图\n",
    "plt.figure(figsize=(6, 6))\n",
    "plt.pie(interval_counts, labels=interval_counts.index, autopct='%1.1f%%', startangle=90, colors=['gold', 'lightcoral', 'lightskyblue'])\n",
    "\n",
    "# 添加标题\n",
    "plt.title('Distribution of Value Counts by Intervals')\n",
    "\n",
    "# 显示图形\n",
    "plt.show()"
   ]
  },
  {
   "cell_type": "code",
   "execution_count": 13,
   "id": "dc5a2467-108b-417e-bc84-5c1cec5505aa",
   "metadata": {
    "execution": {
     "iopub.execute_input": "2025-03-11T07:34:10.894987Z",
     "iopub.status.busy": "2025-03-11T07:34:10.894751Z",
     "iopub.status.idle": "2025-03-11T07:34:10.899490Z",
     "shell.execute_reply": "2025-03-11T07:34:10.899045Z",
     "shell.execute_reply.started": "2025-03-11T07:34:10.894969Z"
    }
   },
   "outputs": [
    {
     "data": {
      "text/plain": [
       "interval\n",
       "1       563\n",
       "2-10    260\n",
       ">10      10\n",
       "Name: count, dtype: int64"
      ]
     },
     "execution_count": 13,
     "metadata": {},
     "output_type": "execute_result"
    }
   ],
   "source": [
    "#topSNP只在一个\n",
    "interval_counts"
   ]
  },
  {
   "cell_type": "code",
   "execution_count": 14,
   "id": "a2189935-59b6-4b8c-ace5-d67c56281613",
   "metadata": {
    "execution": {
     "iopub.execute_input": "2025-03-11T07:34:10.900316Z",
     "iopub.status.busy": "2025-03-11T07:34:10.900154Z",
     "iopub.status.idle": "2025-03-11T07:34:10.987387Z",
     "shell.execute_reply": "2025-03-11T07:34:10.986900Z",
     "shell.execute_reply.started": "2025-03-11T07:34:10.900301Z"
    }
   },
   "outputs": [
    {
     "name": "stderr",
     "output_type": "stream",
     "text": [
      "/tmp/ipykernel_586536/3375585630.py:20: FutureWarning: The default of observed=False is deprecated and will be changed to True in a future version of pandas. Pass observed=False to retain current behavior or observed=True to adopt the future default and silence this warning.\n",
      "  interval_counts = df.groupby('interval')['count'].sum()\n"
     ]
    },
    {
     "data": {
      "image/png": "[encoded data removed]",
      "text/plain": [
       "<Figure size 600x600 with 1 Axes>"
      ]
     },
     "metadata": {},
     "output_type": "display_data"
    }
   ],
   "source": [
    "#统计Probe_ID是否是celltype specific的\n",
    "result1 = pd.crosstab(merged_df['probeID'],merged_df['celltype'])\n",
    "result1[result1 > 1] = 1\n",
    "result1 = result1.sum(axis=1)\n",
    "\n",
    "import pandas as pd\n",
    "import matplotlib.pyplot as plt\n",
    "\n",
    "df = result1.value_counts().reset_index()\n",
    "df.columns = ['value', 'count']\n",
    "\n",
    "# 定义区间\n",
    "bins = [0, 1, 10, float('inf')]  # 区间为 (0,1], (1,10], (10,∞)\n",
    "labels = ['1', '2-10', '>10']\n",
    "\n",
    "# 划分区间\n",
    "df['interval'] = pd.cut(df['value'], bins=bins, labels=labels)\n",
    "\n",
    "# 计算每个区间的总频率\n",
    "interval_counts = df.groupby('interval')['count'].sum()\n",
    "\n",
    "# 绘制饼图\n",
    "plt.figure(figsize=(6, 6))\n",
    "plt.pie(interval_counts, labels=interval_counts.index, autopct='%1.1f%%', startangle=90, colors=['gold', 'lightcoral', 'lightskyblue'])\n",
    "\n",
    "# 添加标题\n",
    "plt.title('Distribution of Value Counts by Intervals')\n",
    "\n",
    "# 显示图形\n",
    "plt.show()"
   ]
  },
  {
   "cell_type": "code",
   "execution_count": 15,
   "id": "1bef15e4-e095-4d8f-8439-8966448e9777",
   "metadata": {
    "execution": {
     "iopub.execute_input": "2025-03-11T07:34:10.988111Z",
     "iopub.status.busy": "2025-03-11T07:34:10.987948Z",
     "iopub.status.idle": "2025-03-11T07:34:10.992772Z",
     "shell.execute_reply": "2025-03-11T07:34:10.992280Z",
     "shell.execute_reply.started": "2025-03-11T07:34:10.988096Z"
    }
   },
   "outputs": [
    {
     "data": {
      "text/plain": [
       "interval\n",
       "1       195\n",
       "2-10    189\n",
       ">10      34\n",
       "Name: count, dtype: int64"
      ]
     },
     "execution_count": 15,
     "metadata": {},
     "output_type": "execute_result"
    }
   ],
   "source": [
    "interval_counts"
   ]
  },
  {
   "cell_type": "code",
   "execution_count": 16,
   "id": "29a3cb7d-442c-4996-9082-d597545a4b80",
   "metadata": {
    "execution": {
     "iopub.execute_input": "2025-03-11T07:34:10.993488Z",
     "iopub.status.busy": "2025-03-11T07:34:10.993327Z",
     "iopub.status.idle": "2025-03-11T07:34:11.088284Z",
     "shell.execute_reply": "2025-03-11T07:34:11.087868Z",
     "shell.execute_reply.started": "2025-03-11T07:34:10.993472Z"
    },
    "scrolled": true
   },
   "outputs": [
    {
     "name": "stderr",
     "output_type": "stream",
     "text": [
      "/tmp/ipykernel_586536/2515893808.py:20: FutureWarning: The default of observed=False is deprecated and will be changed to True in a future version of pandas. Pass observed=False to retain current behavior or observed=True to adopt the future default and silence this warning.\n",
      "  interval_counts = df.groupby('interval')['count'].sum()\n"
     ]
    },
    {
     "data": {
      "image/png": "[encoded data removed]",
      "text/plain": [
       "<Figure size 600x600 with 1 Axes>"
      ]
     },
     "metadata": {},
     "output_type": "display_data"
    }
   ],
   "source": [
    "#统计trait是否是celltype specific的\n",
    "result1 = pd.crosstab(merged_df['trait'],merged_df['celltype'])\n",
    "result1[result1 > 1] = 1\n",
    "result1 = result1.sum(axis=1)\n",
    "\n",
    "import pandas as pd\n",
    "import matplotlib.pyplot as plt\n",
    "\n",
    "df = result1.value_counts().reset_index()\n",
    "df.columns = ['value', 'count']\n",
    "\n",
    "# 定义区间\n",
    "bins = [0, 1, 10, float('inf')]  # 区间为 (0,1], (1,10], (10,∞)\n",
    "labels = ['1', '2-10', '>10']\n",
    "\n",
    "# 划分区间\n",
    "df['interval'] = pd.cut(df['value'], bins=bins, labels=labels)\n",
    "\n",
    "# 计算每个区间的总频率\n",
    "interval_counts = df.groupby('interval')['count'].sum()\n",
    "\n",
    "# 绘制饼图\n",
    "plt.figure(figsize=(6, 6))\n",
    "plt.pie(interval_counts, labels=interval_counts.index, autopct='%1.1f%%', startangle=90, colors=['gold', 'lightcoral', 'lightskyblue'])\n",
    "\n",
    "# 添加标题\n",
    "plt.title('Distribution of Value Counts by Intervals')\n",
    "\n",
    "# 显示图形\n",
    "plt.show()"
   ]
  },
  {
   "cell_type": "code",
   "execution_count": 17,
   "id": "7c132ae3-4d68-4feb-9838-2999a7e7ca26",
   "metadata": {
    "execution": {
     "iopub.execute_input": "2025-03-11T07:34:11.089112Z",
     "iopub.status.busy": "2025-03-11T07:34:11.088876Z",
     "iopub.status.idle": "2025-03-11T07:34:11.092974Z",
     "shell.execute_reply": "2025-03-11T07:34:11.092587Z",
     "shell.execute_reply.started": "2025-03-11T07:34:11.089095Z"
    }
   },
   "outputs": [
    {
     "data": {
      "text/plain": [
       "interval\n",
       "1       16\n",
       "2-10    28\n",
       ">10     24\n",
       "Name: count, dtype: int64"
      ]
     },
     "execution_count": 17,
     "metadata": {},
     "output_type": "execute_result"
    }
   ],
   "source": [
    "interval_counts"
   ]
  },
  {
   "cell_type": "code",
   "execution_count": 18,
   "id": "05f811b7-7906-4de2-b3cf-c6d0109288e7",
   "metadata": {
    "execution": {
     "iopub.execute_input": "2025-03-11T07:34:11.093864Z",
     "iopub.status.busy": "2025-03-11T07:34:11.093532Z",
     "iopub.status.idle": "2025-03-11T07:34:11.188121Z",
     "shell.execute_reply": "2025-03-11T07:34:11.187610Z",
     "shell.execute_reply.started": "2025-03-11T07:34:11.093847Z"
    }
   },
   "outputs": [
    {
     "name": "stderr",
     "output_type": "stream",
     "text": [
      "/tmp/ipykernel_586536/3859410737.py:20: FutureWarning: The default of observed=False is deprecated and will be changed to True in a future version of pandas. Pass observed=False to retain current behavior or observed=True to adopt the future default and silence this warning.\n",
      "  interval_counts = df.groupby('interval')['count'].sum()\n"
     ]
    },
    {
     "data": {
      "image/png": "[encoded data removed]",
      "text/plain": [
       "<Figure size 600x600 with 1 Axes>"
      ]
     },
     "metadata": {},
     "output_type": "display_data"
    }
   ],
   "source": [
    "#统计trait是否是celltype specific的\n",
    "result1 = pd.crosstab(merged_df['SMR_correlation'],merged_df['celltype'])\n",
    "result1[result1 > 1] = 1\n",
    "result1 = result1.sum(axis=1)\n",
    "\n",
    "import pandas as pd\n",
    "import matplotlib.pyplot as plt\n",
    "\n",
    "df = result1.value_counts().reset_index()\n",
    "df.columns = ['value', 'count']\n",
    "\n",
    "# 定义区间\n",
    "bins = [0, 1, 10, float('inf')]  # 区间为 (0,1], (1,10], (10,∞)\n",
    "labels = ['1', '2-10', '>10']\n",
    "\n",
    "# 划分区间\n",
    "df['interval'] = pd.cut(df['value'], bins=bins, labels=labels)\n",
    "\n",
    "# 计算每个区间的总频率\n",
    "interval_counts = df.groupby('interval')['count'].sum()\n",
    "\n",
    "# 绘制饼图\n",
    "plt.figure(figsize=(6, 6))\n",
    "plt.pie(interval_counts, labels=interval_counts.index, autopct='%1.1f%%', startangle=90, colors=['gold', 'lightcoral', 'lightskyblue'])\n",
    "\n",
    "# 添加标题\n",
    "plt.title('Distribution of Value Counts by Intervals')\n",
    "\n",
    "# 显示图形\n",
    "plt.show()"
   ]
  },
  {
   "cell_type": "code",
   "execution_count": 19,
   "id": "83a1bf18-288f-4677-8b83-7f54e44219c3",
   "metadata": {
    "execution": {
     "iopub.execute_input": "2025-03-11T07:34:11.188845Z",
     "iopub.status.busy": "2025-03-11T07:34:11.188683Z",
     "iopub.status.idle": "2025-03-11T07:34:11.193340Z",
     "shell.execute_reply": "2025-03-11T07:34:11.192836Z",
     "shell.execute_reply.started": "2025-03-11T07:34:11.188829Z"
    }
   },
   "outputs": [
    {
     "data": {
      "text/plain": [
       "interval\n",
       "1       876\n",
       "2-10    305\n",
       ">10      15\n",
       "Name: count, dtype: int64"
      ]
     },
     "execution_count": 19,
     "metadata": {},
     "output_type": "execute_result"
    }
   ],
   "source": [
    "interval_counts"
   ]
  },
  {
   "cell_type": "code",
   "execution_count": 20,
   "id": "426a7541-2908-4a9a-aa37-b65ca01afe1b",
   "metadata": {
    "execution": {
     "iopub.execute_input": "2025-03-11T07:34:11.194053Z",
     "iopub.status.busy": "2025-03-11T07:34:11.193893Z",
     "iopub.status.idle": "2025-03-11T07:34:11.198476Z",
     "shell.execute_reply": "2025-03-11T07:34:11.198098Z",
     "shell.execute_reply.started": "2025-03-11T07:34:11.194037Z"
    }
   },
   "outputs": [
    {
     "data": {
      "text/plain": [
       "SMR_correlation\n",
       "chr10_92682235_HHEX_T2D                                                        1\n",
       "chr10_63123556_NRBF2_T2D                                                       1\n",
       "chr10_63136072_NRBF2_T2D                                                       1\n",
       "chr10_63141463_NRBF2_T2D                                                       1\n",
       "chr10_63147821_chr10:63225640-63226141_C_X_C_motif_chemokine_5_measurement     1\n",
       "                                                                              ..\n",
       "chr6_34414160_RPS10-NUDT3_RA                                                  15\n",
       "chr12_112115228_HECTD4_C_X_C_motif_chemokine_10_measurement                   15\n",
       "chr1_157701026_FCRL3_GD                                                       16\n",
       "chr11_4091970_STIM1_Urt                                                       25\n",
       "chr12_56007301_RPS26_As                                                       64\n",
       "Length: 1196, dtype: int64"
      ]
     },
     "execution_count": 20,
     "metadata": {},
     "output_type": "execute_result"
    }
   ],
   "source": [
    "result1.sort_values(ascending=True)"
   ]
  },
  {
   "cell_type": "code",
   "execution_count": 22,
   "id": "c3235f4c-14be-4a50-abd4-42f02c0ea891",
   "metadata": {
    "execution": {
     "iopub.execute_input": "2025-03-11T07:34:12.395217Z",
     "iopub.status.busy": "2025-03-11T07:34:12.395028Z",
     "iopub.status.idle": "2025-03-11T07:34:12.418571Z",
     "shell.execute_reply": "2025-03-11T07:34:12.418093Z",
     "shell.execute_reply.started": "2025-03-11T07:34:12.395199Z"
    }
   },
   "outputs": [
    {
     "data": {
      "text/plain": [
       "616"
      ]
     },
     "execution_count": 22,
     "metadata": {},
     "output_type": "execute_result"
    }
   ],
   "source": [
    "#一共833的位点鉴定出了显著SMR关系\n",
    "merged_df['topSNP'].nunique()\n",
    "#其中613个是topSNP\n",
    "sum(pd.Series(merged_df['topSNP'].unique()).isin(merged_df_qtl['variant_id']))"
   ]
  },
  {
   "cell_type": "code",
   "execution_count": 34,
   "id": "991bde6a-bfd6-4f7c-bf4b-9994cea28930",
   "metadata": {
    "execution": {
     "iopub.execute_input": "2025-03-11T09:25:49.294090Z",
     "iopub.status.busy": "2025-03-11T09:25:49.293025Z",
     "iopub.status.idle": "2025-03-11T09:25:50.389234Z",
     "shell.execute_reply": "2025-03-11T09:25:50.388663Z",
     "shell.execute_reply.started": "2025-03-11T09:25:49.294033Z"
    }
   },
   "outputs": [
    {
     "name": "stderr",
     "output_type": "stream",
     "text": [
      "/tmp/ipykernel_586536/2336443239.py:10: FutureWarning: \n",
      "\n",
      "Passing `palette` without assigning `hue` is deprecated and will be removed in v0.14.0. Assign the `x` variable to `hue` and set `legend=False` for the same effect.\n",
      "\n",
      "  sns.barplot(x=celltype_counts.index, y=celltype_counts.values, palette='magma_r')  # 使用 magma 的反向颜色\n",
      "/tmp/ipykernel_586536/2336443239.py:27: UserWarning: Tight layout not applied. The bottom and top margins cannot be made large enough to accommodate all axes decorations.\n",
      "  plt.tight_layout()  # 自动调整布局\n"
     ]
    },
    {
     "data": {
      "image/png": "[encoded data removed]",
      "text/plain": [
       "<Figure size 1400x200 with 1 Axes>"
      ]
     },
     "metadata": {},
     "output_type": "display_data"
    }
   ],
   "source": [
    "import seaborn as sns\n",
    "import matplotlib.pyplot as plt\n",
    "plt.rcParams[\"font.family\"]=\"sans-serif\"\n",
    "plt.rcParams[\"pdf.fonttype\"]= 42\n",
    "# 获取 celltype 的频率\n",
    "celltype_counts = merged_df['celltype'].value_counts()\n",
    "\n",
    "# 绘制直方图\n",
    "plt.figure(figsize=(14, 2))  # 设置图形大小\n",
    "sns.barplot(x=celltype_counts.index, y=celltype_counts.values, palette='magma_r')  # 使用 magma 的反向颜色\n",
    "\n",
    "# 添加标题和标签\n",
    "#plt.title('Cell Type Frequency')\n",
    "plt.xlabel('')\n",
    "plt.ylabel('Frequency')\n",
    "\n",
    "# 旋转 x 轴标签（如果名称太长）\n",
    "plt.xticks(rotation=90, ha='right')\n",
    "\n",
    "# 添加图例\n",
    "#plt.legend(['Frequency'], frameon=False)  # 添加图例并去掉边框\n",
    "\n",
    "# 去掉图形边框\n",
    "sns.despine(left=False, bottom=False)  # 去掉左侧和底部边框\n",
    "\n",
    "# 显示图形\n",
    "plt.tight_layout()  # 自动调整布局\n",
    "plt.savefig('/CIMA/Result/plot/20250310_fig6_sig_smr_numbers_by_celltype.pdf', dpi=300, bbox_inches='tight')\n",
    "plt.show()"
   ]
  },
  {
   "cell_type": "markdown",
   "id": "bc04f316-c800-4c88-8cd6-49885a22691c",
   "metadata": {
    "execution": {
     "iopub.execute_input": "2025-03-11T10:04:03.894791Z",
     "iopub.status.busy": "2025-03-11T10:04:03.894200Z",
     "iopub.status.idle": "2025-03-11T10:04:03.899508Z",
     "shell.execute_reply": "2025-03-11T10:04:03.898662Z",
     "shell.execute_reply.started": "2025-03-11T10:04:03.894739Z"
    }
   },
   "source": [
    "# 画挑选出来的位点"
   ]
  },
  {
   "cell_type": "code",
   "execution_count": 4,
   "id": "c5e5f6a9-a053-4284-88e3-3fdc901c022d",
   "metadata": {
    "execution": {
     "iopub.execute_input": "2025-03-28T06:18:22.622501Z",
     "iopub.status.busy": "2025-03-28T06:18:22.622010Z",
     "iopub.status.idle": "2025-03-28T06:18:22.647596Z",
     "shell.execute_reply": "2025-03-28T06:18:22.646723Z",
     "shell.execute_reply.started": "2025-03-28T06:18:22.622452Z"
    }
   },
   "outputs": [],
   "source": [
    "merged_df =pd.read_csv('/CIMA/Result/downstream/SMR_summary/merge_all_SMR_result.csv',index_col=0)"
   ]
  },
  {
   "cell_type": "code",
   "execution_count": 9,
   "id": "226993b8-6c91-4fa9-bcf1-df8e59a6c863",
   "metadata": {
    "execution": {
     "iopub.execute_input": "2025-03-28T06:20:25.086674Z",
     "iopub.status.busy": "2025-03-28T06:20:25.086443Z",
     "iopub.status.idle": "2025-03-28T06:20:25.092737Z",
     "shell.execute_reply": "2025-03-28T06:20:25.092031Z",
     "shell.execute_reply.started": "2025-03-28T06:20:25.086654Z"
    }
   },
   "outputs": [
    {
     "data": {
      "text/plain": [
       "0"
      ]
     },
     "execution_count": 9,
     "metadata": {},
     "output_type": "execute_result"
    }
   ],
   "source": [
    "sum(merged_df['topSNP'] == 'chr6_26375933')"
   ]
  },
  {
   "cell_type": "code",
   "execution_count": 6,
   "id": "62108f33-b307-4e37-8eb9-adf4a8d8f996",
   "metadata": {
    "execution": {
     "iopub.execute_input": "2025-03-28T06:18:51.128745Z",
     "iopub.status.busy": "2025-03-28T06:18:51.128185Z",
     "iopub.status.idle": "2025-03-28T06:18:51.145162Z",
     "shell.execute_reply": "2025-03-28T06:18:51.144048Z",
     "shell.execute_reply.started": "2025-03-28T06:18:51.128696Z"
    }
   },
   "outputs": [
    {
     "data": {
      "text/html": [
       "<div>\n",
       "<style scoped>\n",
       "    .dataframe tbody tr th:only-of-type {\n",
       "        vertical-align: middle;\n",
       "    }\n",
       "\n",
       "    .dataframe tbody tr th {\n",
       "        vertical-align: top;\n",
       "    }\n",
       "\n",
       "    .dataframe thead th {\n",
       "        text-align: right;\n",
       "    }\n",
       "</style>\n",
       "<table border=\"1\" class=\"dataframe\">\n",
       "  <thead>\n",
       "    <tr style=\"text-align: right;\">\n",
       "      <th></th>\n",
       "      <th>probeID</th>\n",
       "      <th>ProbeChr</th>\n",
       "      <th>Gene</th>\n",
       "      <th>Probe_bp</th>\n",
       "      <th>topSNP</th>\n",
       "      <th>topSNP_chr</th>\n",
       "      <th>topSNP_bp</th>\n",
       "      <th>A1</th>\n",
       "      <th>A2</th>\n",
       "      <th>Freq</th>\n",
       "      <th>...</th>\n",
       "      <th>p_eQTL</th>\n",
       "      <th>b_SMR</th>\n",
       "      <th>se_SMR</th>\n",
       "      <th>p_SMR</th>\n",
       "      <th>p_HEIDI</th>\n",
       "      <th>nsnp_HEIDI</th>\n",
       "      <th>celltype</th>\n",
       "      <th>trait</th>\n",
       "      <th>lei</th>\n",
       "      <th>QTL</th>\n",
       "    </tr>\n",
       "  </thead>\n",
       "  <tbody>\n",
       "  </tbody>\n",
       "</table>\n",
       "<p>0 rows × 25 columns</p>\n",
       "</div>"
      ],
      "text/plain": [
       "Empty DataFrame\n",
       "Columns: [probeID, ProbeChr, Gene, Probe_bp, topSNP, topSNP_chr, topSNP_bp, A1, A2, Freq, b_GWAS, se_GWAS, p_GWAS, b_eQTL, se_eQTL, p_eQTL, b_SMR, se_SMR, p_SMR, p_HEIDI, nsnp_HEIDI, celltype, trait, lei, QTL]\n",
       "Index: []\n",
       "\n",
       "[0 rows x 25 columns]"
      ]
     },
     "execution_count": 6,
     "metadata": {},
     "output_type": "execute_result"
    }
   ],
   "source": [
    "merged_df[merged_df['topSNP'] == 'chr6_26375933']"
   ]
  },
  {
   "cell_type": "code",
   "execution_count": 104,
   "id": "41281979-d366-414b-a0b8-a42028bb6ca3",
   "metadata": {
    "execution": {
     "iopub.execute_input": "2025-03-14T08:36:39.041382Z",
     "iopub.status.busy": "2025-03-14T08:36:39.040061Z",
     "iopub.status.idle": "2025-03-14T08:36:39.051119Z",
     "shell.execute_reply": "2025-03-14T08:36:39.050537Z",
     "shell.execute_reply.started": "2025-03-14T08:36:39.041331Z"
    }
   },
   "outputs": [
    {
     "data": {
      "text/plain": [
       "642    0.000002\n",
       "Name: p_SMR, dtype: float64"
      ]
     },
     "execution_count": 104,
     "metadata": {},
     "output_type": "execute_result"
    }
   ],
   "source": [
    "merged_df[merged_df['probeID'] == \"PADI2\"]['p_SMR']"
   ]
  },
  {
   "cell_type": "code",
   "execution_count": 108,
   "id": "2a321797-4460-456e-a116-aff0f5002614",
   "metadata": {
    "execution": {
     "iopub.execute_input": "2025-03-14T08:45:07.689226Z",
     "iopub.status.busy": "2025-03-14T08:45:07.688629Z",
     "iopub.status.idle": "2025-03-14T08:45:07.695233Z",
     "shell.execute_reply": "2025-03-14T08:45:07.693766Z",
     "shell.execute_reply.started": "2025-03-14T08:45:07.689176Z"
    }
   },
   "outputs": [],
   "source": [
    "import numpy as np"
   ]
  },
  {
   "cell_type": "code",
   "execution_count": 135,
   "id": "4dc95c36-22de-4845-ab6d-d53fd2df7089",
   "metadata": {
    "execution": {
     "iopub.execute_input": "2025-03-14T08:50:22.355175Z",
     "iopub.status.busy": "2025-03-14T08:50:22.354671Z",
     "iopub.status.idle": "2025-03-14T08:50:22.361615Z",
     "shell.execute_reply": "2025-03-14T08:50:22.360249Z",
     "shell.execute_reply.started": "2025-03-14T08:50:22.355144Z"
    }
   },
   "outputs": [],
   "source": [
    "a1 = merged_df[merged_df['topSNP'] == \"chr6_167125409\"]['p_SMR'].values"
   ]
  },
  {
   "cell_type": "code",
   "execution_count": 136,
   "id": "0ac26f37-f537-4ccb-a485-91d9e8f1fd16",
   "metadata": {
    "execution": {
     "iopub.execute_input": "2025-03-14T08:50:23.616653Z",
     "iopub.status.busy": "2025-03-14T08:50:23.616240Z",
     "iopub.status.idle": "2025-03-14T08:50:23.623334Z",
     "shell.execute_reply": "2025-03-14T08:50:23.622276Z",
     "shell.execute_reply.started": "2025-03-14T08:50:23.616627Z"
    }
   },
   "outputs": [
    {
     "data": {
      "text/plain": [
       "array([9.860982e-10, 1.639085e-06, 1.217152e-12, 6.425572e-08])"
      ]
     },
     "execution_count": 136,
     "metadata": {},
     "output_type": "execute_result"
    }
   ],
   "source": [
    "a1"
   ]
  },
  {
   "cell_type": "code",
   "execution_count": 163,
   "id": "f08d709b-f09d-44ef-baa0-aa23cd636e0b",
   "metadata": {
    "execution": {
     "iopub.execute_input": "2025-03-14T09:57:58.038373Z",
     "iopub.status.busy": "2025-03-14T09:57:58.037837Z",
     "iopub.status.idle": "2025-03-14T09:57:58.046579Z",
     "shell.execute_reply": "2025-03-14T09:57:58.045991Z",
     "shell.execute_reply.started": "2025-03-14T09:57:58.038342Z"
    }
   },
   "outputs": [
    {
     "data": {
      "text/plain": [
       "1800    4.582390e-06\n",
       "1801    1.247640e-07\n",
       "1804    9.600302e-07\n",
       "1805    2.136558e-10\n",
       "1806    1.172920e-06\n",
       "1807    1.942347e-07\n",
       "1808    2.223188e-07\n",
       "1809    4.165181e-06\n",
       "1810    1.193621e-08\n",
       "2052    5.366528e-09\n",
       "Name: p_SMR, dtype: float64"
      ]
     },
     "execution_count": 163,
     "metadata": {},
     "output_type": "execute_result"
    }
   ],
   "source": [
    "merged_df[merged_df['topSNP'] == \"chr1_153366838\"]['p_SMR']"
   ]
  },
  {
   "cell_type": "code",
   "execution_count": 162,
   "id": "d16693f9-d8da-4fb8-9c31-5e19ad0380d3",
   "metadata": {
    "execution": {
     "iopub.execute_input": "2025-03-14T09:57:38.202066Z",
     "iopub.status.busy": "2025-03-14T09:57:38.201734Z",
     "iopub.status.idle": "2025-03-14T09:57:38.220605Z",
     "shell.execute_reply": "2025-03-14T09:57:38.219905Z",
     "shell.execute_reply.started": "2025-03-14T09:57:38.202037Z"
    }
   },
   "outputs": [
    {
     "data": {
      "text/html": [
       "<div>\n",
       "<style scoped>\n",
       "    .dataframe tbody tr th:only-of-type {\n",
       "        vertical-align: middle;\n",
       "    }\n",
       "\n",
       "    .dataframe tbody tr th {\n",
       "        vertical-align: top;\n",
       "    }\n",
       "\n",
       "    .dataframe thead th {\n",
       "        text-align: right;\n",
       "    }\n",
       "</style>\n",
       "<table border=\"1\" class=\"dataframe\">\n",
       "  <thead>\n",
       "    <tr style=\"text-align: right;\">\n",
       "      <th></th>\n",
       "      <th>probeID</th>\n",
       "      <th>ProbeChr</th>\n",
       "      <th>Gene</th>\n",
       "      <th>Probe_bp</th>\n",
       "      <th>topSNP</th>\n",
       "      <th>topSNP_chr</th>\n",
       "      <th>topSNP_bp</th>\n",
       "      <th>A1</th>\n",
       "      <th>A2</th>\n",
       "      <th>Freq</th>\n",
       "      <th>...</th>\n",
       "      <th>b_SMR</th>\n",
       "      <th>se_SMR</th>\n",
       "      <th>p_SMR</th>\n",
       "      <th>p_HEIDI</th>\n",
       "      <th>nsnp_HEIDI</th>\n",
       "      <th>celltype</th>\n",
       "      <th>trait</th>\n",
       "      <th>lei</th>\n",
       "      <th>QTL</th>\n",
       "      <th>SMR_correlation</th>\n",
       "    </tr>\n",
       "  </thead>\n",
       "  <tbody>\n",
       "    <tr>\n",
       "      <th>1800</th>\n",
       "      <td>S100A12</td>\n",
       "      <td>1</td>\n",
       "      <td>S100A12</td>\n",
       "      <td>153375621</td>\n",
       "      <td>chr1_153366838</td>\n",
       "      <td>1</td>\n",
       "      <td>153366838</td>\n",
       "      <td>C</td>\n",
       "      <td>A</td>\n",
       "      <td>0.113801</td>\n",
       "      <td>...</td>\n",
       "      <td>0.396907</td>\n",
       "      <td>0.086603</td>\n",
       "      <td>4.582390e-06</td>\n",
       "      <td>0.082199</td>\n",
       "      <td>5.0</td>\n",
       "      <td>Bn_TCL1A</td>\n",
       "      <td>protein_S100_A12_measurement</td>\n",
       "      <td>pQTL</td>\n",
       "      <td>eQTL</td>\n",
       "      <td>chr1_153366838_S100A12_protein_S100_A12_measur...</td>\n",
       "    </tr>\n",
       "    <tr>\n",
       "      <th>1801</th>\n",
       "      <td>S100A12</td>\n",
       "      <td>1</td>\n",
       "      <td>S100A12</td>\n",
       "      <td>153375621</td>\n",
       "      <td>chr1_153366838</td>\n",
       "      <td>1</td>\n",
       "      <td>153366838</td>\n",
       "      <td>C</td>\n",
       "      <td>A</td>\n",
       "      <td>0.113801</td>\n",
       "      <td>...</td>\n",
       "      <td>0.454457</td>\n",
       "      <td>0.085968</td>\n",
       "      <td>1.247640e-07</td>\n",
       "      <td>0.204097</td>\n",
       "      <td>14.0</td>\n",
       "      <td>CD4_Tn_CCR7</td>\n",
       "      <td>protein_S100_A12_measurement</td>\n",
       "      <td>pQTL</td>\n",
       "      <td>eQTL</td>\n",
       "      <td>chr1_153366838_S100A12_protein_S100_A12_measur...</td>\n",
       "    </tr>\n",
       "    <tr>\n",
       "      <th>1804</th>\n",
       "      <td>S100A9</td>\n",
       "      <td>1</td>\n",
       "      <td>S100A9</td>\n",
       "      <td>153357854</td>\n",
       "      <td>chr1_153366838</td>\n",
       "      <td>1</td>\n",
       "      <td>153366838</td>\n",
       "      <td>C</td>\n",
       "      <td>A</td>\n",
       "      <td>0.113801</td>\n",
       "      <td>...</td>\n",
       "      <td>0.306609</td>\n",
       "      <td>0.062578</td>\n",
       "      <td>9.600302e-07</td>\n",
       "      <td>0.380859</td>\n",
       "      <td>14.0</td>\n",
       "      <td>cMono_CD14</td>\n",
       "      <td>protein_S100_A12_measurement</td>\n",
       "      <td>pQTL</td>\n",
       "      <td>eQTL</td>\n",
       "      <td>chr1_153366838_S100A9_protein_S100_A12_measure...</td>\n",
       "    </tr>\n",
       "    <tr>\n",
       "      <th>1805</th>\n",
       "      <td>S100A12</td>\n",
       "      <td>1</td>\n",
       "      <td>S100A12</td>\n",
       "      <td>153375621</td>\n",
       "      <td>chr1_153366838</td>\n",
       "      <td>1</td>\n",
       "      <td>153366838</td>\n",
       "      <td>C</td>\n",
       "      <td>A</td>\n",
       "      <td>0.113801</td>\n",
       "      <td>...</td>\n",
       "      <td>0.182873</td>\n",
       "      <td>0.028793</td>\n",
       "      <td>2.136558e-10</td>\n",
       "      <td>0.252865</td>\n",
       "      <td>15.0</td>\n",
       "      <td>cMono_CD14</td>\n",
       "      <td>protein_S100_A12_measurement</td>\n",
       "      <td>pQTL</td>\n",
       "      <td>eQTL</td>\n",
       "      <td>chr1_153366838_S100A12_protein_S100_A12_measur...</td>\n",
       "    </tr>\n",
       "    <tr>\n",
       "      <th>1806</th>\n",
       "      <td>S100A8</td>\n",
       "      <td>1</td>\n",
       "      <td>S100A8</td>\n",
       "      <td>153391073</td>\n",
       "      <td>chr1_153366838</td>\n",
       "      <td>1</td>\n",
       "      <td>153366838</td>\n",
       "      <td>C</td>\n",
       "      <td>A</td>\n",
       "      <td>0.113801</td>\n",
       "      <td>...</td>\n",
       "      <td>0.384400</td>\n",
       "      <td>0.079092</td>\n",
       "      <td>1.172920e-06</td>\n",
       "      <td>0.201610</td>\n",
       "      <td>11.0</td>\n",
       "      <td>cMono_CD14</td>\n",
       "      <td>protein_S100_A12_measurement</td>\n",
       "      <td>pQTL</td>\n",
       "      <td>eQTL</td>\n",
       "      <td>chr1_153366838_S100A8_protein_S100_A12_measure...</td>\n",
       "    </tr>\n",
       "    <tr>\n",
       "      <th>1807</th>\n",
       "      <td>S100A9</td>\n",
       "      <td>1</td>\n",
       "      <td>S100A9</td>\n",
       "      <td>153357854</td>\n",
       "      <td>chr1_153366838</td>\n",
       "      <td>1</td>\n",
       "      <td>153366838</td>\n",
       "      <td>C</td>\n",
       "      <td>A</td>\n",
       "      <td>0.113801</td>\n",
       "      <td>...</td>\n",
       "      <td>0.253911</td>\n",
       "      <td>0.048784</td>\n",
       "      <td>1.942347e-07</td>\n",
       "      <td>0.349869</td>\n",
       "      <td>14.0</td>\n",
       "      <td>cMono_IFI44L</td>\n",
       "      <td>protein_S100_A12_measurement</td>\n",
       "      <td>pQTL</td>\n",
       "      <td>eQTL</td>\n",
       "      <td>chr1_153366838_S100A9_protein_S100_A12_measure...</td>\n",
       "    </tr>\n",
       "    <tr>\n",
       "      <th>1808</th>\n",
       "      <td>S100A8</td>\n",
       "      <td>1</td>\n",
       "      <td>S100A8</td>\n",
       "      <td>153391073</td>\n",
       "      <td>chr1_153366838</td>\n",
       "      <td>1</td>\n",
       "      <td>153366838</td>\n",
       "      <td>C</td>\n",
       "      <td>A</td>\n",
       "      <td>0.113801</td>\n",
       "      <td>...</td>\n",
       "      <td>0.306908</td>\n",
       "      <td>0.059253</td>\n",
       "      <td>2.223188e-07</td>\n",
       "      <td>0.161362</td>\n",
       "      <td>9.0</td>\n",
       "      <td>cMono_IFI44L</td>\n",
       "      <td>protein_S100_A12_measurement</td>\n",
       "      <td>pQTL</td>\n",
       "      <td>eQTL</td>\n",
       "      <td>chr1_153366838_S100A8_protein_S100_A12_measure...</td>\n",
       "    </tr>\n",
       "    <tr>\n",
       "      <th>1809</th>\n",
       "      <td>S100A9</td>\n",
       "      <td>1</td>\n",
       "      <td>S100A9</td>\n",
       "      <td>153357854</td>\n",
       "      <td>chr1_153366838</td>\n",
       "      <td>1</td>\n",
       "      <td>153366838</td>\n",
       "      <td>C</td>\n",
       "      <td>A</td>\n",
       "      <td>0.113801</td>\n",
       "      <td>...</td>\n",
       "      <td>0.302928</td>\n",
       "      <td>0.065811</td>\n",
       "      <td>4.165181e-06</td>\n",
       "      <td>0.245863</td>\n",
       "      <td>14.0</td>\n",
       "      <td>cMono_IL1B</td>\n",
       "      <td>protein_S100_A12_measurement</td>\n",
       "      <td>pQTL</td>\n",
       "      <td>eQTL</td>\n",
       "      <td>chr1_153366838_S100A9_protein_S100_A12_measure...</td>\n",
       "    </tr>\n",
       "    <tr>\n",
       "      <th>1810</th>\n",
       "      <td>S100A12</td>\n",
       "      <td>1</td>\n",
       "      <td>S100A12</td>\n",
       "      <td>153375621</td>\n",
       "      <td>chr1_153366838</td>\n",
       "      <td>1</td>\n",
       "      <td>153366838</td>\n",
       "      <td>C</td>\n",
       "      <td>A</td>\n",
       "      <td>0.113801</td>\n",
       "      <td>...</td>\n",
       "      <td>0.201182</td>\n",
       "      <td>0.035291</td>\n",
       "      <td>1.193621e-08</td>\n",
       "      <td>0.226905</td>\n",
       "      <td>14.0</td>\n",
       "      <td>cMono_IL1B</td>\n",
       "      <td>protein_S100_A12_measurement</td>\n",
       "      <td>pQTL</td>\n",
       "      <td>eQTL</td>\n",
       "      <td>chr1_153366838_S100A12_protein_S100_A12_measur...</td>\n",
       "    </tr>\n",
       "    <tr>\n",
       "      <th>2052</th>\n",
       "      <td>chr1:153367064-153367565</td>\n",
       "      <td>1</td>\n",
       "      <td>NaN</td>\n",
       "      <td>153367314</td>\n",
       "      <td>chr1_153366838</td>\n",
       "      <td>1</td>\n",
       "      <td>153366838</td>\n",
       "      <td>C</td>\n",
       "      <td>A</td>\n",
       "      <td>0.113801</td>\n",
       "      <td>...</td>\n",
       "      <td>0.171348</td>\n",
       "      <td>0.029364</td>\n",
       "      <td>5.366528e-09</td>\n",
       "      <td>0.330873</td>\n",
       "      <td>14.0</td>\n",
       "      <td>cMono_CD14</td>\n",
       "      <td>protein_S100_A12_measurement</td>\n",
       "      <td>pQTL</td>\n",
       "      <td>caQTL</td>\n",
       "      <td>chr1_153366838_chr1:153367064-153367565_protei...</td>\n",
       "    </tr>\n",
       "  </tbody>\n",
       "</table>\n",
       "<p>10 rows × 26 columns</p>\n",
       "</div>"
      ],
      "text/plain": [
       "                       probeID  ProbeChr     Gene   Probe_bp          topSNP  \\\n",
       "1800                   S100A12         1  S100A12  153375621  chr1_153366838   \n",
       "1801                   S100A12         1  S100A12  153375621  chr1_153366838   \n",
       "1804                    S100A9         1   S100A9  153357854  chr1_153366838   \n",
       "1805                   S100A12         1  S100A12  153375621  chr1_153366838   \n",
       "1806                    S100A8         1   S100A8  153391073  chr1_153366838   \n",
       "1807                    S100A9         1   S100A9  153357854  chr1_153366838   \n",
       "1808                    S100A8         1   S100A8  153391073  chr1_153366838   \n",
       "1809                    S100A9         1   S100A9  153357854  chr1_153366838   \n",
       "1810                   S100A12         1  S100A12  153375621  chr1_153366838   \n",
       "2052  chr1:153367064-153367565         1      NaN  153367314  chr1_153366838   \n",
       "\n",
       "      topSNP_chr  topSNP_bp A1 A2      Freq  ...     b_SMR    se_SMR  \\\n",
       "1800           1  153366838  C  A  0.113801  ...  0.396907  0.086603   \n",
       "1801           1  153366838  C  A  0.113801  ...  0.454457  0.085968   \n",
       "1804           1  153366838  C  A  0.113801  ...  0.306609  0.062578   \n",
       "1805           1  153366838  C  A  0.113801  ...  0.182873  0.028793   \n",
       "1806           1  153366838  C  A  0.113801  ...  0.384400  0.079092   \n",
       "1807           1  153366838  C  A  0.113801  ...  0.253911  0.048784   \n",
       "1808           1  153366838  C  A  0.113801  ...  0.306908  0.059253   \n",
       "1809           1  153366838  C  A  0.113801  ...  0.302928  0.065811   \n",
       "1810           1  153366838  C  A  0.113801  ...  0.201182  0.035291   \n",
       "2052           1  153366838  C  A  0.113801  ...  0.171348  0.029364   \n",
       "\n",
       "             p_SMR   p_HEIDI  nsnp_HEIDI      celltype  \\\n",
       "1800  4.582390e-06  0.082199         5.0      Bn_TCL1A   \n",
       "1801  1.247640e-07  0.204097        14.0   CD4_Tn_CCR7   \n",
       "1804  9.600302e-07  0.380859        14.0    cMono_CD14   \n",
       "1805  2.136558e-10  0.252865        15.0    cMono_CD14   \n",
       "1806  1.172920e-06  0.201610        11.0    cMono_CD14   \n",
       "1807  1.942347e-07  0.349869        14.0  cMono_IFI44L   \n",
       "1808  2.223188e-07  0.161362         9.0  cMono_IFI44L   \n",
       "1809  4.165181e-06  0.245863        14.0    cMono_IL1B   \n",
       "1810  1.193621e-08  0.226905        14.0    cMono_IL1B   \n",
       "2052  5.366528e-09  0.330873        14.0    cMono_CD14   \n",
       "\n",
       "                             trait   lei    QTL  \\\n",
       "1800  protein_S100_A12_measurement  pQTL   eQTL   \n",
       "1801  protein_S100_A12_measurement  pQTL   eQTL   \n",
       "1804  protein_S100_A12_measurement  pQTL   eQTL   \n",
       "1805  protein_S100_A12_measurement  pQTL   eQTL   \n",
       "1806  protein_S100_A12_measurement  pQTL   eQTL   \n",
       "1807  protein_S100_A12_measurement  pQTL   eQTL   \n",
       "1808  protein_S100_A12_measurement  pQTL   eQTL   \n",
       "1809  protein_S100_A12_measurement  pQTL   eQTL   \n",
       "1810  protein_S100_A12_measurement  pQTL   eQTL   \n",
       "2052  protein_S100_A12_measurement  pQTL  caQTL   \n",
       "\n",
       "                                        SMR_correlation  \n",
       "1800  chr1_153366838_S100A12_protein_S100_A12_measur...  \n",
       "1801  chr1_153366838_S100A12_protein_S100_A12_measur...  \n",
       "1804  chr1_153366838_S100A9_protein_S100_A12_measure...  \n",
       "1805  chr1_153366838_S100A12_protein_S100_A12_measur...  \n",
       "1806  chr1_153366838_S100A8_protein_S100_A12_measure...  \n",
       "1807  chr1_153366838_S100A9_protein_S100_A12_measure...  \n",
       "1808  chr1_153366838_S100A8_protein_S100_A12_measure...  \n",
       "1809  chr1_153366838_S100A9_protein_S100_A12_measure...  \n",
       "1810  chr1_153366838_S100A12_protein_S100_A12_measur...  \n",
       "2052  chr1_153366838_chr1:153367064-153367565_protei...  \n",
       "\n",
       "[10 rows x 26 columns]"
      ]
     },
     "execution_count": 162,
     "metadata": {},
     "output_type": "execute_result"
    }
   ],
   "source": [
    "merged_df[merged_df['topSNP'] == \"chr1_153366838\"]"
   ]
  },
  {
   "cell_type": "code",
   "execution_count": 155,
   "id": "a1507e39-98c0-4819-b63c-7ad3f18b074a",
   "metadata": {
    "execution": {
     "iopub.execute_input": "2025-03-14T09:52:01.367083Z",
     "iopub.status.busy": "2025-03-14T09:52:01.366712Z",
     "iopub.status.idle": "2025-03-14T09:52:01.374481Z",
     "shell.execute_reply": "2025-03-14T09:52:01.373908Z",
     "shell.execute_reply.started": "2025-03-14T09:52:01.367055Z"
    }
   },
   "outputs": [
    {
     "data": {
      "text/plain": [
       "3    1.279370e-09\n",
       "Name: p_GWAS, dtype: float64"
      ]
     },
     "execution_count": 155,
     "metadata": {},
     "output_type": "execute_result"
    }
   ],
   "source": [
    "merged_df[merged_df['topSNP'] == \"chr11_61781087\"]['p_GWAS']"
   ]
  },
  {
   "cell_type": "code",
   "execution_count": 157,
   "id": "80227846-9263-4725-84ce-16edaa3c4892",
   "metadata": {
    "execution": {
     "iopub.execute_input": "2025-03-14T09:52:20.221312Z",
     "iopub.status.busy": "2025-03-14T09:52:20.220764Z",
     "iopub.status.idle": "2025-03-14T09:52:20.232176Z",
     "shell.execute_reply": "2025-03-14T09:52:20.231585Z",
     "shell.execute_reply.started": "2025-03-14T09:52:20.221262Z"
    }
   },
   "outputs": [
    {
     "data": {
      "text/plain": [
       "3    2.516958e-15\n",
       "Name: p_eQTL, dtype: float64"
      ]
     },
     "execution_count": 157,
     "metadata": {},
     "output_type": "execute_result"
    }
   ],
   "source": [
    "merged_df[merged_df['topSNP'] == \"chr11_61781087\"]['p_eQTL']"
   ]
  },
  {
   "cell_type": "code",
   "execution_count": 138,
   "id": "6fb3ebd2-939f-4a4d-a55a-8fbe92d57e2d",
   "metadata": {
    "execution": {
     "iopub.execute_input": "2025-03-14T09:05:14.273137Z",
     "iopub.status.busy": "2025-03-14T09:05:14.272039Z",
     "iopub.status.idle": "2025-03-14T09:05:14.291877Z",
     "shell.execute_reply": "2025-03-14T09:05:14.291319Z",
     "shell.execute_reply.started": "2025-03-14T09:05:14.273082Z"
    }
   },
   "outputs": [
    {
     "data": {
      "text/html": [
       "<div>\n",
       "<style scoped>\n",
       "    .dataframe tbody tr th:only-of-type {\n",
       "        vertical-align: middle;\n",
       "    }\n",
       "\n",
       "    .dataframe tbody tr th {\n",
       "        vertical-align: top;\n",
       "    }\n",
       "\n",
       "    .dataframe thead th {\n",
       "        text-align: right;\n",
       "    }\n",
       "</style>\n",
       "<table border=\"1\" class=\"dataframe\">\n",
       "  <thead>\n",
       "    <tr style=\"text-align: right;\">\n",
       "      <th></th>\n",
       "      <th>probeID</th>\n",
       "      <th>ProbeChr</th>\n",
       "      <th>Gene</th>\n",
       "      <th>Probe_bp</th>\n",
       "      <th>topSNP</th>\n",
       "      <th>topSNP_chr</th>\n",
       "      <th>topSNP_bp</th>\n",
       "      <th>A1</th>\n",
       "      <th>A2</th>\n",
       "      <th>Freq</th>\n",
       "      <th>...</th>\n",
       "      <th>b_SMR</th>\n",
       "      <th>se_SMR</th>\n",
       "      <th>p_SMR</th>\n",
       "      <th>p_HEIDI</th>\n",
       "      <th>nsnp_HEIDI</th>\n",
       "      <th>celltype</th>\n",
       "      <th>trait</th>\n",
       "      <th>lei</th>\n",
       "      <th>QTL</th>\n",
       "      <th>SMR_correlation</th>\n",
       "    </tr>\n",
       "  </thead>\n",
       "  <tbody>\n",
       "    <tr>\n",
       "      <th>642</th>\n",
       "      <td>PADI2</td>\n",
       "      <td>1</td>\n",
       "      <td>PADI2</td>\n",
       "      <td>17119451</td>\n",
       "      <td>chr1_17089967</td>\n",
       "      <td>1</td>\n",
       "      <td>17089967</td>\n",
       "      <td>A</td>\n",
       "      <td>G</td>\n",
       "      <td>0.430993</td>\n",
       "      <td>...</td>\n",
       "      <td>0.107687</td>\n",
       "      <td>0.022604</td>\n",
       "      <td>0.000002</td>\n",
       "      <td>0.088247</td>\n",
       "      <td>20.0</td>\n",
       "      <td>cMono_CD14</td>\n",
       "      <td>RA</td>\n",
       "      <td>BBJ</td>\n",
       "      <td>eQTL</td>\n",
       "      <td>chr1_17089967_PADI2_RA</td>\n",
       "    </tr>\n",
       "  </tbody>\n",
       "</table>\n",
       "<p>1 rows × 26 columns</p>\n",
       "</div>"
      ],
      "text/plain": [
       "    probeID  ProbeChr   Gene  Probe_bp         topSNP  topSNP_chr  topSNP_bp  \\\n",
       "642   PADI2         1  PADI2  17119451  chr1_17089967           1   17089967   \n",
       "\n",
       "    A1 A2      Freq  ...     b_SMR    se_SMR     p_SMR   p_HEIDI  nsnp_HEIDI  \\\n",
       "642  A  G  0.430993  ...  0.107687  0.022604  0.000002  0.088247        20.0   \n",
       "\n",
       "       celltype  trait  lei   QTL         SMR_correlation  \n",
       "642  cMono_CD14     RA  BBJ  eQTL  chr1_17089967_PADI2_RA  \n",
       "\n",
       "[1 rows x 26 columns]"
      ]
     },
     "execution_count": 138,
     "metadata": {},
     "output_type": "execute_result"
    }
   ],
   "source": [
    "merged_df[merged_df['probeID'] == \"PADI2\"]"
   ]
  },
  {
   "cell_type": "code",
   "execution_count": null,
   "id": "14b4f381-ee6f-4c2b-ab38-d2a69d023cc6",
   "metadata": {},
   "outputs": [],
   "source": []
  },
  {
   "cell_type": "code",
   "execution_count": 110,
   "id": "e402e034-653d-434e-9f67-63839d88fa99",
   "metadata": {
    "execution": {
     "iopub.execute_input": "2025-03-14T08:46:08.008097Z",
     "iopub.status.busy": "2025-03-14T08:46:08.007597Z",
     "iopub.status.idle": "2025-03-14T08:46:08.033450Z",
     "shell.execute_reply": "2025-03-14T08:46:08.032903Z",
     "shell.execute_reply.started": "2025-03-14T08:46:08.008048Z"
    }
   },
   "outputs": [
    {
     "name": "stderr",
     "output_type": "stream",
     "text": [
      "/home/huangzhuoli/mambaforge/envs/scPAFA_env/lib/python3.10/site-packages/numpy/core/arrayprint.py:1125: FutureWarning: Calling float on a single element Series is deprecated and will raise a TypeError in the future. Use float(ser.iloc[0]) instead\n",
      "  return dragon4_scientific(x, precision=precision, unique=unique,\n"
     ]
    },
    {
     "data": {
      "text/plain": [
       "'1.9e-06'"
      ]
     },
     "execution_count": 110,
     "metadata": {},
     "output_type": "execute_result"
    }
   ],
   "source": [
    "np.format_float_scientific(merged_df[merged_df['probeID'] == \"PADI2\"]['p_SMR'],precision=1)"
   ]
  },
  {
   "cell_type": "code",
   "execution_count": 139,
   "id": "fad068c9-4f84-47b3-b544-e6a8d29308b2",
   "metadata": {
    "execution": {
     "iopub.execute_input": "2025-03-14T09:25:05.361747Z",
     "iopub.status.busy": "2025-03-14T09:25:05.361250Z",
     "iopub.status.idle": "2025-03-14T09:25:16.305323Z",
     "shell.execute_reply": "2025-03-14T09:25:16.304018Z",
     "shell.execute_reply.started": "2025-03-14T09:25:05.361697Z"
    }
   },
   "outputs": [],
   "source": [
    "pval_test = pd.read_parquet('/CIMA/Result/eQTL_tensorqtl_mergenominal/CD4_Treg_FCRL3.parquet')"
   ]
  },
  {
   "cell_type": "code",
   "execution_count": 142,
   "id": "a66c5b64-b0ff-4fb2-bbb4-1a9358251271",
   "metadata": {
    "execution": {
     "iopub.execute_input": "2025-03-14T09:27:05.026833Z",
     "iopub.status.busy": "2025-03-14T09:27:05.026255Z",
     "iopub.status.idle": "2025-03-14T09:27:10.110131Z",
     "shell.execute_reply": "2025-03-14T09:27:10.109293Z",
     "shell.execute_reply.started": "2025-03-14T09:27:05.026782Z"
    }
   },
   "outputs": [],
   "source": [
    "pval_test['pair'] = pval_test['phenotype_id']+'_'+pval_test['variant_id']"
   ]
  },
  {
   "cell_type": "code",
   "execution_count": 146,
   "id": "2175e324-e3a3-4e17-b9b2-51e975032898",
   "metadata": {
    "execution": {
     "iopub.execute_input": "2025-03-14T09:31:53.757155Z",
     "iopub.status.busy": "2025-03-14T09:31:53.756594Z",
     "iopub.status.idle": "2025-03-14T09:31:55.387402Z",
     "shell.execute_reply": "2025-03-14T09:31:55.386397Z",
     "shell.execute_reply.started": "2025-03-14T09:31:53.757104Z"
    }
   },
   "outputs": [
    {
     "data": {
      "text/html": [
       "<div>\n",
       "<style scoped>\n",
       "    .dataframe tbody tr th:only-of-type {\n",
       "        vertical-align: middle;\n",
       "    }\n",
       "\n",
       "    .dataframe tbody tr th {\n",
       "        vertical-align: top;\n",
       "    }\n",
       "\n",
       "    .dataframe thead th {\n",
       "        text-align: right;\n",
       "    }\n",
       "</style>\n",
       "<table border=\"1\" class=\"dataframe\">\n",
       "  <thead>\n",
       "    <tr style=\"text-align: right;\">\n",
       "      <th></th>\n",
       "      <th>phenotype_id</th>\n",
       "      <th>variant_id</th>\n",
       "      <th>start_distance</th>\n",
       "      <th>af</th>\n",
       "      <th>ma_samples</th>\n",
       "      <th>ma_count</th>\n",
       "      <th>pval_nominal</th>\n",
       "      <th>slope</th>\n",
       "      <th>slope_se</th>\n",
       "      <th>pair</th>\n",
       "    </tr>\n",
       "  </thead>\n",
       "  <tbody>\n",
       "    <tr>\n",
       "      <th>17705746</th>\n",
       "      <td>IKZF4</td>\n",
       "      <td>chr12_56050848</td>\n",
       "      <td>43189</td>\n",
       "      <td>0.242611</td>\n",
       "      <td>166</td>\n",
       "      <td>197</td>\n",
       "      <td>0.000429</td>\n",
       "      <td>-0.265072</td>\n",
       "      <td>0.074586</td>\n",
       "      <td>IKZF4_chr12_56050848</td>\n",
       "    </tr>\n",
       "  </tbody>\n",
       "</table>\n",
       "</div>"
      ],
      "text/plain": [
       "         phenotype_id      variant_id  start_distance        af  ma_samples  \\\n",
       "17705746        IKZF4  chr12_56050848           43189  0.242611         166   \n",
       "\n",
       "          ma_count  pval_nominal     slope  slope_se                  pair  \n",
       "17705746       197      0.000429 -0.265072  0.074586  IKZF4_chr12_56050848  "
      ]
     },
     "execution_count": 146,
     "metadata": {},
     "output_type": "execute_result"
    }
   ],
   "source": [
    "pval_test[pval_test['pair'] == 'IKZF4_chr12_56050848']"
   ]
  },
  {
   "cell_type": "code",
   "execution_count": 149,
   "id": "06febd0b-ac69-47d1-a246-af5b158952dd",
   "metadata": {
    "execution": {
     "iopub.execute_input": "2025-03-14T09:37:53.673753Z",
     "iopub.status.busy": "2025-03-14T09:37:53.672848Z",
     "iopub.status.idle": "2025-03-14T09:37:56.556184Z",
     "shell.execute_reply": "2025-03-14T09:37:56.554909Z",
     "shell.execute_reply.started": "2025-03-14T09:37:53.673700Z"
    }
   },
   "outputs": [],
   "source": [
    "TEST1 = pd.read_csv('/CIMA/Result/20250108_cis_eQTL_all.csv',index_col=0)"
   ]
  },
  {
   "cell_type": "code",
   "execution_count": 153,
   "id": "3e1f8b52-d683-41ce-a20e-ae7e9746bfdb",
   "metadata": {
    "execution": {
     "iopub.execute_input": "2025-03-14T09:39:13.213623Z",
     "iopub.status.busy": "2025-03-14T09:39:13.213133Z",
     "iopub.status.idle": "2025-03-14T09:39:13.261668Z",
     "shell.execute_reply": "2025-03-14T09:39:13.260903Z",
     "shell.execute_reply.started": "2025-03-14T09:39:13.213590Z"
    }
   },
   "outputs": [
    {
     "data": {
      "text/html": [
       "<div>\n",
       "<style scoped>\n",
       "    .dataframe tbody tr th:only-of-type {\n",
       "        vertical-align: middle;\n",
       "    }\n",
       "\n",
       "    .dataframe tbody tr th {\n",
       "        vertical-align: top;\n",
       "    }\n",
       "\n",
       "    .dataframe thead th {\n",
       "        text-align: right;\n",
       "    }\n",
       "</style>\n",
       "<table border=\"1\" class=\"dataframe\">\n",
       "  <thead>\n",
       "    <tr style=\"text-align: right;\">\n",
       "      <th></th>\n",
       "      <th>phenotype_id</th>\n",
       "      <th>num_var</th>\n",
       "      <th>beta_shape1</th>\n",
       "      <th>beta_shape2</th>\n",
       "      <th>true_df</th>\n",
       "      <th>pval_true_df</th>\n",
       "      <th>variant_id</th>\n",
       "      <th>start_distance</th>\n",
       "      <th>end_distance</th>\n",
       "      <th>ma_samples</th>\n",
       "      <th>...</th>\n",
       "      <th>pval_nominal</th>\n",
       "      <th>slope</th>\n",
       "      <th>slope_se</th>\n",
       "      <th>pval_perm</th>\n",
       "      <th>pval_beta</th>\n",
       "      <th>celltype</th>\n",
       "      <th>celltype_level_qval</th>\n",
       "      <th>celltype_level_pval_nominal_threshold</th>\n",
       "      <th>study_wise_qval</th>\n",
       "      <th>study_wise_nominal_threshold</th>\n",
       "    </tr>\n",
       "  </thead>\n",
       "  <tbody>\n",
       "    <tr>\n",
       "      <th>53076</th>\n",
       "      <td>IKZF4</td>\n",
       "      <td>2822</td>\n",
       "      <td>1.027337</td>\n",
       "      <td>126.593860</td>\n",
       "      <td>306.22223</td>\n",
       "      <td>6.908804e-03</td>\n",
       "      <td>chr12_55655541</td>\n",
       "      <td>-352118</td>\n",
       "      <td>-352118</td>\n",
       "      <td>224</td>\n",
       "      <td>...</td>\n",
       "      <td>3.183254e-03</td>\n",
       "      <td>0.211223</td>\n",
       "      <td>0.071138</td>\n",
       "      <td>0.577242</td>\n",
       "      <td>0.571846</td>\n",
       "      <td>CD4_Tem_CCR7neg</td>\n",
       "      <td>0.459354</td>\n",
       "      <td>0.000173</td>\n",
       "      <td>0.537888</td>\n",
       "      <td>0.000104</td>\n",
       "    </tr>\n",
       "    <tr>\n",
       "      <th>63883</th>\n",
       "      <td>IKZF4</td>\n",
       "      <td>2822</td>\n",
       "      <td>1.027523</td>\n",
       "      <td>118.256330</td>\n",
       "      <td>303.24420</td>\n",
       "      <td>1.484824e-02</td>\n",
       "      <td>chr12_55581059</td>\n",
       "      <td>-426600</td>\n",
       "      <td>-426600</td>\n",
       "      <td>207</td>\n",
       "      <td>...</td>\n",
       "      <td>7.517678e-03</td>\n",
       "      <td>-0.189136</td>\n",
       "      <td>0.070363</td>\n",
       "      <td>0.824218</td>\n",
       "      <td>0.822244</td>\n",
       "      <td>CD4_Tfh-like_CXCR5</td>\n",
       "      <td>0.452421</td>\n",
       "      <td>0.000296</td>\n",
       "      <td>0.612799</td>\n",
       "      <td>0.000112</td>\n",
       "    </tr>\n",
       "    <tr>\n",
       "      <th>74482</th>\n",
       "      <td>IKZF4</td>\n",
       "      <td>2822</td>\n",
       "      <td>1.037313</td>\n",
       "      <td>124.031430</td>\n",
       "      <td>305.43677</td>\n",
       "      <td>1.789830e-03</td>\n",
       "      <td>chr12_55178717</td>\n",
       "      <td>-828942</td>\n",
       "      <td>-828942</td>\n",
       "      <td>97</td>\n",
       "      <td>...</td>\n",
       "      <td>6.390575e-04</td>\n",
       "      <td>-0.339715</td>\n",
       "      <td>0.098631</td>\n",
       "      <td>0.184582</td>\n",
       "      <td>0.184979</td>\n",
       "      <td>CD4_Th1-like_GZMK</td>\n",
       "      <td>0.215305</td>\n",
       "      <td>0.000229</td>\n",
       "      <td>0.332139</td>\n",
       "      <td>0.000111</td>\n",
       "    </tr>\n",
       "    <tr>\n",
       "      <th>84612</th>\n",
       "      <td>IKZF4</td>\n",
       "      <td>2822</td>\n",
       "      <td>1.046201</td>\n",
       "      <td>121.016014</td>\n",
       "      <td>302.69824</td>\n",
       "      <td>9.751115e-03</td>\n",
       "      <td>chr12_56566982</td>\n",
       "      <td>559323</td>\n",
       "      <td>559323</td>\n",
       "      <td>104</td>\n",
       "      <td>...</td>\n",
       "      <td>4.533014e-03</td>\n",
       "      <td>-0.263390</td>\n",
       "      <td>0.092217</td>\n",
       "      <td>0.679432</td>\n",
       "      <td>0.676504</td>\n",
       "      <td>CD4_Th17-like_RORC</td>\n",
       "      <td>0.483701</td>\n",
       "      <td>0.000194</td>\n",
       "      <td>0.572046</td>\n",
       "      <td>0.000119</td>\n",
       "    </tr>\n",
       "    <tr>\n",
       "      <th>128598</th>\n",
       "      <td>IKZF4</td>\n",
       "      <td>2822</td>\n",
       "      <td>1.042078</td>\n",
       "      <td>115.959630</td>\n",
       "      <td>299.44162</td>\n",
       "      <td>1.011766e-02</td>\n",
       "      <td>chr12_55842259</td>\n",
       "      <td>-165400</td>\n",
       "      <td>-165400</td>\n",
       "      <td>252</td>\n",
       "      <td>...</td>\n",
       "      <td>4.514020e-03</td>\n",
       "      <td>0.170047</td>\n",
       "      <td>0.059508</td>\n",
       "      <td>0.680632</td>\n",
       "      <td>0.676026</td>\n",
       "      <td>CD4_Tn_CCR7</td>\n",
       "      <td>0.285398</td>\n",
       "      <td>0.000639</td>\n",
       "      <td>0.571906</td>\n",
       "      <td>0.000122</td>\n",
       "    </tr>\n",
       "    <tr>\n",
       "      <th>162763</th>\n",
       "      <td>IKZF4</td>\n",
       "      <td>2822</td>\n",
       "      <td>1.029404</td>\n",
       "      <td>128.048300</td>\n",
       "      <td>308.94180</td>\n",
       "      <td>2.237687e-04</td>\n",
       "      <td>chr12_56075048</td>\n",
       "      <td>67389</td>\n",
       "      <td>67389</td>\n",
       "      <td>188</td>\n",
       "      <td>...</td>\n",
       "      <td>6.022494e-05</td>\n",
       "      <td>0.304604</td>\n",
       "      <td>0.075037</td>\n",
       "      <td>0.022598</td>\n",
       "      <td>0.025124</td>\n",
       "      <td>CD4_Treg_FCRL3</td>\n",
       "      <td>0.105063</td>\n",
       "      <td>0.000086</td>\n",
       "      <td>0.092568</td>\n",
       "      <td>0.000104</td>\n",
       "    </tr>\n",
       "    <tr>\n",
       "      <th>171417</th>\n",
       "      <td>IKZF4</td>\n",
       "      <td>2822</td>\n",
       "      <td>1.048502</td>\n",
       "      <td>123.306080</td>\n",
       "      <td>303.46010</td>\n",
       "      <td>4.499190e-07</td>\n",
       "      <td>chr12_56050848</td>\n",
       "      <td>43189</td>\n",
       "      <td>43189</td>\n",
       "      <td>166</td>\n",
       "      <td>...</td>\n",
       "      <td>3.105437e-08</td>\n",
       "      <td>-0.370376</td>\n",
       "      <td>0.065465</td>\n",
       "      <td>0.000200</td>\n",
       "      <td>0.000034</td>\n",
       "      <td>CD4_Treg_FOXP3</td>\n",
       "      <td>0.000330</td>\n",
       "      <td>0.000103</td>\n",
       "      <td>0.000274</td>\n",
       "      <td>0.000118</td>\n",
       "    </tr>\n",
       "    <tr>\n",
       "      <th>181378</th>\n",
       "      <td>IKZF4</td>\n",
       "      <td>2822</td>\n",
       "      <td>1.033402</td>\n",
       "      <td>126.185140</td>\n",
       "      <td>307.07498</td>\n",
       "      <td>1.471518e-02</td>\n",
       "      <td>chr12_56507281</td>\n",
       "      <td>499622</td>\n",
       "      <td>499622</td>\n",
       "      <td>171</td>\n",
       "      <td>...</td>\n",
       "      <td>7.818854e-03</td>\n",
       "      <td>-0.207944</td>\n",
       "      <td>0.077748</td>\n",
       "      <td>0.837216</td>\n",
       "      <td>0.837785</td>\n",
       "      <td>CD8_CTL_GZMB</td>\n",
       "      <td>0.472133</td>\n",
       "      <td>0.000254</td>\n",
       "      <td>0.616868</td>\n",
       "      <td>0.000107</td>\n",
       "    </tr>\n",
       "    <tr>\n",
       "      <th>209837</th>\n",
       "      <td>IKZF4</td>\n",
       "      <td>2822</td>\n",
       "      <td>1.029788</td>\n",
       "      <td>128.473570</td>\n",
       "      <td>308.02250</td>\n",
       "      <td>1.057659e-03</td>\n",
       "      <td>chr12_55819513</td>\n",
       "      <td>-188146</td>\n",
       "      <td>-188146</td>\n",
       "      <td>238</td>\n",
       "      <td>...</td>\n",
       "      <td>3.635714e-04</td>\n",
       "      <td>-0.252450</td>\n",
       "      <td>0.070145</td>\n",
       "      <td>0.115788</td>\n",
       "      <td>0.118143</td>\n",
       "      <td>CD8_Tem_CCR7neg</td>\n",
       "      <td>0.132713</td>\n",
       "      <td>0.000293</td>\n",
       "      <td>0.261569</td>\n",
       "      <td>0.000104</td>\n",
       "    </tr>\n",
       "    <tr>\n",
       "      <th>221884</th>\n",
       "      <td>IKZF4</td>\n",
       "      <td>2825</td>\n",
       "      <td>1.045927</td>\n",
       "      <td>120.676440</td>\n",
       "      <td>301.84344</td>\n",
       "      <td>7.230644e-03</td>\n",
       "      <td>chr12_56676232</td>\n",
       "      <td>668573</td>\n",
       "      <td>668573</td>\n",
       "      <td>195</td>\n",
       "      <td>...</td>\n",
       "      <td>3.177036e-03</td>\n",
       "      <td>0.200603</td>\n",
       "      <td>0.067546</td>\n",
       "      <td>0.565143</td>\n",
       "      <td>0.562659</td>\n",
       "      <td>CD8_Tn_CCR7</td>\n",
       "      <td>0.301477</td>\n",
       "      <td>0.000454</td>\n",
       "      <td>0.534605</td>\n",
       "      <td>0.000119</td>\n",
       "    </tr>\n",
       "    <tr>\n",
       "      <th>360370</th>\n",
       "      <td>IKZF4</td>\n",
       "      <td>2825</td>\n",
       "      <td>1.034738</td>\n",
       "      <td>119.696850</td>\n",
       "      <td>302.23077</td>\n",
       "      <td>6.918467e-04</td>\n",
       "      <td>chr12_56846660</td>\n",
       "      <td>839001</td>\n",
       "      <td>839001</td>\n",
       "      <td>190</td>\n",
       "      <td>...</td>\n",
       "      <td>1.961614e-04</td>\n",
       "      <td>0.275237</td>\n",
       "      <td>0.073157</td>\n",
       "      <td>0.071993</td>\n",
       "      <td>0.071781</td>\n",
       "      <td>cMono_CD14</td>\n",
       "      <td>0.088014</td>\n",
       "      <td>0.000338</td>\n",
       "      <td>0.193780</td>\n",
       "      <td>0.000114</td>\n",
       "    </tr>\n",
       "    <tr>\n",
       "      <th>435351</th>\n",
       "      <td>IKZF4</td>\n",
       "      <td>2822</td>\n",
       "      <td>1.044848</td>\n",
       "      <td>135.336210</td>\n",
       "      <td>312.12793</td>\n",
       "      <td>3.720444e-03</td>\n",
       "      <td>chr12_56348087</td>\n",
       "      <td>340428</td>\n",
       "      <td>340428</td>\n",
       "      <td>176</td>\n",
       "      <td>...</td>\n",
       "      <td>1.704562e-03</td>\n",
       "      <td>0.220805</td>\n",
       "      <td>0.069856</td>\n",
       "      <td>0.381462</td>\n",
       "      <td>0.374650</td>\n",
       "      <td>ncMono_FCGR3A</td>\n",
       "      <td>0.361285</td>\n",
       "      <td>0.000183</td>\n",
       "      <td>0.456831</td>\n",
       "      <td>0.000106</td>\n",
       "    </tr>\n",
       "  </tbody>\n",
       "</table>\n",
       "<p>12 rows × 22 columns</p>\n",
       "</div>"
      ],
      "text/plain": [
       "       phenotype_id  num_var  beta_shape1  beta_shape2    true_df  \\\n",
       "53076         IKZF4     2822     1.027337   126.593860  306.22223   \n",
       "63883         IKZF4     2822     1.027523   118.256330  303.24420   \n",
       "74482         IKZF4     2822     1.037313   124.031430  305.43677   \n",
       "84612         IKZF4     2822     1.046201   121.016014  302.69824   \n",
       "128598        IKZF4     2822     1.042078   115.959630  299.44162   \n",
       "162763        IKZF4     2822     1.029404   128.048300  308.94180   \n",
       "171417        IKZF4     2822     1.048502   123.306080  303.46010   \n",
       "181378        IKZF4     2822     1.033402   126.185140  307.07498   \n",
       "209837        IKZF4     2822     1.029788   128.473570  308.02250   \n",
       "221884        IKZF4     2825     1.045927   120.676440  301.84344   \n",
       "360370        IKZF4     2825     1.034738   119.696850  302.23077   \n",
       "435351        IKZF4     2822     1.044848   135.336210  312.12793   \n",
       "\n",
       "        pval_true_df      variant_id  start_distance  end_distance  \\\n",
       "53076   6.908804e-03  chr12_55655541         -352118       -352118   \n",
       "63883   1.484824e-02  chr12_55581059         -426600       -426600   \n",
       "74482   1.789830e-03  chr12_55178717         -828942       -828942   \n",
       "84612   9.751115e-03  chr12_56566982          559323        559323   \n",
       "128598  1.011766e-02  chr12_55842259         -165400       -165400   \n",
       "162763  2.237687e-04  chr12_56075048           67389         67389   \n",
       "171417  4.499190e-07  chr12_56050848           43189         43189   \n",
       "181378  1.471518e-02  chr12_56507281          499622        499622   \n",
       "209837  1.057659e-03  chr12_55819513         -188146       -188146   \n",
       "221884  7.230644e-03  chr12_56676232          668573        668573   \n",
       "360370  6.918467e-04  chr12_56846660          839001        839001   \n",
       "435351  3.720444e-03  chr12_56348087          340428        340428   \n",
       "\n",
       "        ma_samples  ...  pval_nominal     slope  slope_se  pval_perm  \\\n",
       "53076          224  ...  3.183254e-03  0.211223  0.071138   0.577242   \n",
       "63883          207  ...  7.517678e-03 -0.189136  0.070363   0.824218   \n",
       "74482           97  ...  6.390575e-04 -0.339715  0.098631   0.184582   \n",
       "84612          104  ...  4.533014e-03 -0.263390  0.092217   0.679432   \n",
       "128598         252  ...  4.514020e-03  0.170047  0.059508   0.680632   \n",
       "162763         188  ...  6.022494e-05  0.304604  0.075037   0.022598   \n",
       "171417         166  ...  3.105437e-08 -0.370376  0.065465   0.000200   \n",
       "181378         171  ...  7.818854e-03 -0.207944  0.077748   0.837216   \n",
       "209837         238  ...  3.635714e-04 -0.252450  0.070145   0.115788   \n",
       "221884         195  ...  3.177036e-03  0.200603  0.067546   0.565143   \n",
       "360370         190  ...  1.961614e-04  0.275237  0.073157   0.071993   \n",
       "435351         176  ...  1.704562e-03  0.220805  0.069856   0.381462   \n",
       "\n",
       "        pval_beta            celltype  celltype_level_qval  \\\n",
       "53076    0.571846     CD4_Tem_CCR7neg             0.459354   \n",
       "63883    0.822244  CD4_Tfh-like_CXCR5             0.452421   \n",
       "74482    0.184979   CD4_Th1-like_GZMK             0.215305   \n",
       "84612    0.676504  CD4_Th17-like_RORC             0.483701   \n",
       "128598   0.676026         CD4_Tn_CCR7             0.285398   \n",
       "162763   0.025124      CD4_Treg_FCRL3             0.105063   \n",
       "171417   0.000034      CD4_Treg_FOXP3             0.000330   \n",
       "181378   0.837785        CD8_CTL_GZMB             0.472133   \n",
       "209837   0.118143     CD8_Tem_CCR7neg             0.132713   \n",
       "221884   0.562659         CD8_Tn_CCR7             0.301477   \n",
       "360370   0.071781          cMono_CD14             0.088014   \n",
       "435351   0.374650       ncMono_FCGR3A             0.361285   \n",
       "\n",
       "       celltype_level_pval_nominal_threshold  study_wise_qval  \\\n",
       "53076                               0.000173         0.537888   \n",
       "63883                               0.000296         0.612799   \n",
       "74482                               0.000229         0.332139   \n",
       "84612                               0.000194         0.572046   \n",
       "128598                              0.000639         0.571906   \n",
       "162763                              0.000086         0.092568   \n",
       "171417                              0.000103         0.000274   \n",
       "181378                              0.000254         0.616868   \n",
       "209837                              0.000293         0.261569   \n",
       "221884                              0.000454         0.534605   \n",
       "360370                              0.000338         0.193780   \n",
       "435351                              0.000183         0.456831   \n",
       "\n",
       "        study_wise_nominal_threshold  \n",
       "53076                       0.000104  \n",
       "63883                       0.000112  \n",
       "74482                       0.000111  \n",
       "84612                       0.000119  \n",
       "128598                      0.000122  \n",
       "162763                      0.000104  \n",
       "171417                      0.000118  \n",
       "181378                      0.000107  \n",
       "209837                      0.000104  \n",
       "221884                      0.000119  \n",
       "360370                      0.000114  \n",
       "435351                      0.000106  \n",
       "\n",
       "[12 rows x 22 columns]"
      ]
     },
     "execution_count": 153,
     "metadata": {},
     "output_type": "execute_result"
    }
   ],
   "source": [
    "TEST1[TEST1['phenotype_id'] == 'IKZF4']"
   ]
  }
 ],
 "metadata": {
  "kernelspec": {
   "display_name": "scPAFA",
   "language": "python",
   "name": "scpafa"
  },
  "language_info": {
   "codemirror_mode": {
    "name": "ipython",
    "version": 3
   },
   "file_extension": ".py",
   "mimetype": "text/x-python",
   "name": "python",
   "nbconvert_exporter": "python",
   "pygments_lexer": "ipython3",
   "version": "3.10.14"
  }
 },
 "nbformat": 4,
 "nbformat_minor": 5
}
