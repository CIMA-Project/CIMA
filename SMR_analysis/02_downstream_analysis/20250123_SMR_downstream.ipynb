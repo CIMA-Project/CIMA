{
 "cells": [
  {
   "cell_type": "code",
   "execution_count": 1,
   "id": "b94abc64-4595-44ec-9bfd-f60157481986",
   "metadata": {
    "execution": {
     "iopub.execute_input": "2025-03-18T08:46:21.892646Z",
     "iopub.status.busy": "2025-03-18T08:46:21.892485Z",
     "iopub.status.idle": "2025-03-18T08:46:22.254885Z",
     "shell.execute_reply": "2025-03-18T08:46:22.253791Z",
     "shell.execute_reply.started": "2025-03-18T08:46:21.892630Z"
    }
   },
   "outputs": [],
   "source": [
    "import pandas as pd\n",
    "import json"
   ]
  },
  {
   "cell_type": "markdown",
   "id": "fbe294c8-0941-44ad-bda9-2d33aafdfdad",
   "metadata": {
    "execution": {
     "iopub.execute_input": "2025-02-23T08:49:15.935938Z",
     "iopub.status.busy": "2025-02-23T08:49:15.934879Z",
     "iopub.status.idle": "2025-02-23T08:49:15.941415Z",
     "shell.execute_reply": "2025-02-23T08:49:15.940192Z",
     "shell.execute_reply.started": "2025-02-23T08:49:15.935873Z"
    }
   },
   "source": [
    "# 处理BBJ disease"
   ]
  },
  {
   "cell_type": "code",
   "execution_count": 26,
   "id": "0c493c01-d023-4209-8c6e-129ded486be8",
   "metadata": {
    "execution": {
     "iopub.execute_input": "2025-03-06T08:11:16.619897Z",
     "iopub.status.busy": "2025-03-06T08:11:16.619220Z",
     "iopub.status.idle": "2025-03-06T08:11:16.643013Z",
     "shell.execute_reply": "2025-03-06T08:11:16.641933Z",
     "shell.execute_reply.started": "2025-03-06T08:11:16.619834Z"
    }
   },
   "outputs": [],
   "source": [
    "CT_list = pd.read_csv('/CIMA/Data/20241230_xQTL_cell_sample_number/20241230_celltype_70_scATAC.csv')\n",
    "CT_list_eQTL = pd.read_csv('/CIMA/Data/20241230_xQTL_cell_sample_number/20241230_celltype_70_scRNA.csv')\n",
    "Trait_list =pd.read_csv('/CIMA/Data/BBJ_GWAS_for_SMR_OPERA/BBJ_disease.txt',sep='\\t',header=None)"
   ]
  },
  {
   "cell_type": "code",
   "execution_count": 3,
   "id": "95775742-30d3-43e6-87cb-b96a2cf5e3f0",
   "metadata": {
    "execution": {
     "iopub.execute_input": "2025-03-06T08:11:35.165155Z",
     "iopub.status.busy": "2025-03-06T08:11:35.164784Z",
     "iopub.status.idle": "2025-03-06T08:13:18.665543Z",
     "shell.execute_reply": "2025-03-06T08:13:18.664782Z",
     "shell.execute_reply.started": "2025-03-06T08:11:35.165121Z"
    }
   },
   "outputs": [],
   "source": [
    "caQTL_SMR_summary = pd.DataFrame(columns = Trait_list[0].to_list(),index = CT_list['final_annotation'].to_list())\n",
    "caQTL_SMR_thershold = pd.DataFrame(columns = Trait_list[0].to_list(),index = CT_list['final_annotation'].to_list())\n",
    "caQTL_SMR_thershold = caQTL_SMR_thershold.astype(float)\n",
    "sig_caPeak_df = pd.DataFrame()\n",
    "sig_caPeak_list = {}\n",
    "sig_caPeak_full = pd.DataFrame()\n",
    "\n",
    "for trait in Trait_list[0].to_list():\n",
    "    for celltype in CT_list['final_annotation'].to_list():\n",
    "        SMR_result = pd.read_csv(f'/CIMA/Result/xQTL_GWAS_SMR/BBJ/{trait}/caQTLsmr_{celltype}.smr',sep = '\\t')\n",
    "        SMR_result = SMR_result.dropna(subset=['p_SMR'])\n",
    "        if SMR_result.shape[0] > 0: \n",
    "            caQTL_SMR_thershold.loc[celltype,trait] = 0.05/SMR_result.shape[0]\n",
    "            SMR_result = SMR_result[SMR_result['p_SMR'] < 0.05/SMR_result.shape[0]]\n",
    "            SMR_result = SMR_result.dropna(subset=['p_HEIDI'])\n",
    "            SMR_result = SMR_result[SMR_result['p_HEIDI'] > 0.01]\n",
    "            #添加对p_GWAS的筛选\n",
    "            SMR_result = SMR_result[SMR_result['p_GWAS'] < 1e-5]\n",
    "            sig_count = len(SMR_result['probeID'].unique())\n",
    "            caQTL_SMR_summary.loc[celltype,trait] = sig_count\n",
    "            sig_caPeak_list[f'{celltype}***{trait}'] = list(SMR_result['probeID'].unique())\n",
    "            if SMR_result.shape[0] > 0:\n",
    "                SMR_result_sig = SMR_result.copy()\n",
    "                SMR_result_sig.loc[:,'celltype'] = celltype\n",
    "                SMR_result_sig.loc[:,'trait'] = trait\n",
    "                sig_caPeak_full = pd.concat([sig_caPeak_full,SMR_result_sig],ignore_index = True)\n",
    "                SMR_result_sig = SMR_result_sig.loc[:,['probeID','topSNP','celltype','trait']]\n",
    "                sig_caPeak_df = pd.concat([sig_caPeak_df,SMR_result_sig],ignore_index = True)       \n",
    "        else:\n",
    "            caQTL_SMR_summary.loc[celltype,trait] = 0\n",
    "            caQTL_SMR_thershold.loc[celltype,trait] = np.nan\n",
    "            sig_caPeak_list[f'{celltype}***{trait}'] = []\n",
    "\n",
    "sig_caPeak_full.to_csv('/CIMA/Result/downstream/SMR_summary/caQTL_BBJ_diease_SMR_caPeak_full.csv')\n",
    "caQTL_SMR_summary.to_csv('/CIMA/Result/downstream/SMR_summary/caQTL_BBJ_diease_SMR_summary.csv')\n",
    "caQTL_SMR_thershold.to_csv('/CIMA/Result/downstream/SMR_summary/caQTL_BBJ_diease_SMR_thershold.csv')\n",
    "sig_caPeak_df.to_csv('/CIMA/Result/downstream/SMR_summary/caQTL_BBJ_diease_SMR_caPeak.csv')\n",
    "with open('/CIMA/Result/downstream/SMR_summary/sig_caPeak_smr_BBJ_disease.json', 'w') as f:\n",
    "    json.dump(sig_caPeak_list, f)"
   ]
  },
  {
   "cell_type": "code",
   "execution_count": 4,
   "id": "4f753eeb-06b6-4f8b-b063-319c689afeb5",
   "metadata": {
    "execution": {
     "iopub.execute_input": "2025-03-06T08:15:24.580115Z",
     "iopub.status.busy": "2025-03-06T08:15:24.579489Z",
     "iopub.status.idle": "2025-03-06T08:18:21.426879Z",
     "shell.execute_reply": "2025-03-06T08:18:21.425496Z",
     "shell.execute_reply.started": "2025-03-06T08:15:24.580058Z"
    }
   },
   "outputs": [],
   "source": [
    "eQTL_SMR_summary = pd.DataFrame(columns = Trait_list[0].to_list(),index = CT_list_eQTL['final_annotation'].to_list())\n",
    "eQTL_SMR_thershold = pd.DataFrame(columns = Trait_list[0].to_list(),index = CT_list_eQTL['final_annotation'].to_list())\n",
    "eQTL_SMR_thershold = eQTL_SMR_thershold.astype(float)\n",
    "sig_eGene_list = {}\n",
    "sig_eGene_df = pd.DataFrame()\n",
    "sig_eGene_full = pd.DataFrame()\n",
    "\n",
    "for trait in Trait_list[0].to_list():\n",
    "    for celltype in CT_list_eQTL['final_annotation'].to_list():\n",
    "        SMR_result = pd.read_csv(f'/CIMA/Result/xQTL_GWAS_SMR/BBJ/{trait}/eQTLsmr_{celltype}.smr',sep = '\\t')\n",
    "        SMR_result = SMR_result.dropna(subset=['p_SMR'])\n",
    "        if SMR_result.shape[0] > 0:\n",
    "            eQTL_SMR_thershold.loc[celltype,trait] = 0.05/SMR_result.shape[0]\n",
    "            SMR_result = SMR_result[SMR_result['p_SMR'] < 0.05/SMR_result.shape[0]]\n",
    "            SMR_result = SMR_result.dropna(subset=['p_HEIDI'])\n",
    "            SMR_result = SMR_result[SMR_result['p_HEIDI'] > 0.01]\n",
    "            #添加对p_GWAS的筛选\n",
    "            SMR_result = SMR_result[SMR_result['p_GWAS'] < 1e-5]\n",
    "            sig_count = len(SMR_result['probeID'].unique())\n",
    "            eQTL_SMR_summary.loc[celltype,trait] = sig_count\n",
    "            sig_eGene_list[f'{celltype}***{trait}'] = list(SMR_result['probeID'].unique())\n",
    "            if SMR_result.shape[0] > 0:\n",
    "                SMR_result_sig = SMR_result.copy()\n",
    "                SMR_result_sig.loc[:,'celltype'] = celltype\n",
    "                SMR_result_sig.loc[:,'trait'] = trait\n",
    "                sig_eGene_full = pd.concat([sig_eGene_full,SMR_result_sig],ignore_index = True)\n",
    "                SMR_result_sig = SMR_result_sig.loc[:,['probeID','topSNP','celltype','trait']]\n",
    "                sig_eGene_df = pd.concat([sig_eGene_df,SMR_result_sig],ignore_index = True)\n",
    "           \n",
    "        else:\n",
    "            eQTL_SMR_summary.loc[celltype,trait] = 0\n",
    "            eQTL_SMR_thershold.loc[celltype,trait] = np.nan\n",
    "            sig_eGene_list[f'{celltype}***{trait}'] = []\n",
    "\n",
    "sig_eGene_full.to_csv('/CIMA/Result/downstream/SMR_summary/eQTL_BBJ_diease_SMR_eGene_full.csv')\n",
    "eQTL_SMR_summary.to_csv('/CIMA/Result/downstream/SMR_summary/eQTL_BBJ_diease_SMR_summary.csv')\n",
    "eQTL_SMR_thershold.to_csv('/CIMA/Result/downstream/SMR_summary/eQTL_BBJ_diease_SMR_thershold.csv')\n",
    "sig_eGene_df.to_csv('/CIMA/Result/downstream/SMR_summary/eQTL_BBJ_diease_SMR_eGene.csv')\n",
    "with open('/CIMA/Result/downstream/SMR_summary/sig_eGene_smr_BBJ_disease.json', 'w') as f:\n",
    "    json.dump(sig_eGene_list, f)"
   ]
  },
  {
   "cell_type": "code",
   "execution_count": 5,
   "id": "75976044-ace7-435f-8554-29db1284065c",
   "metadata": {
    "execution": {
     "iopub.execute_input": "2025-03-05T07:32:10.744241Z",
     "iopub.status.busy": "2025-03-05T07:32:10.743697Z",
     "iopub.status.idle": "2025-03-05T07:33:55.610892Z",
     "shell.execute_reply": "2025-03-05T07:33:55.609531Z",
     "shell.execute_reply.started": "2025-03-05T07:32:10.744208Z"
    },
    "scrolled": true
   },
   "outputs": [
    {
     "name": "stderr",
     "output_type": "stream",
     "text": [
      "/tmp/ipykernel_3822141/1852507540.py:2: FutureWarning: Downcasting object dtype arrays on .fillna, .ffill, .bfill is deprecated and will change in a future version. Call result.infer_objects(copy=False) instead. To opt-in to the future behavior, set `pd.set_option('future.no_silent_downcasting', True)`\n",
      "  xQTL_SMR_summary.fillna(0, inplace=True)\n"
     ]
    }
   ],
   "source": [
    "xQTL_SMR_summary = pd.DataFrame(columns = Trait_list[0].to_list(),index = CT_list['final_annotation'].to_list())\n",
    "xQTL_SMR_summary.fillna(0, inplace=True)\n",
    "\n",
    "merge_result = pd.DataFrame()\n",
    "for trait in Trait_list[0].to_list():\n",
    "    for celltype in CT_list['final_annotation'].to_list():\n",
    "        caQTL_SMR_result = pd.read_csv(f'/CIMA/Result/xQTL_GWAS_SMR/BBJ/{trait}/caQTLsmr_{celltype}.smr',sep = '\\t')\n",
    "        caQTL_SMR_result = caQTL_SMR_result.dropna(subset=['p_SMR'])\n",
    "        eQTL_SMR_result =  pd.read_csv(f'/CIMA/Result/xQTL_GWAS_SMR/BBJ/{trait}/eQTLsmr_{celltype}.smr',sep = '\\t')\n",
    "        eQTL_SMR_result = eQTL_SMR_result.dropna(subset=['p_SMR'])\n",
    "\n",
    "        if caQTL_SMR_result.shape[0] > 0: \n",
    "            caQTL_SMR_result = caQTL_SMR_result[caQTL_SMR_result['p_SMR'] < 0.05/caQTL_SMR_result.shape[0]]\n",
    "            #caQTL_SMR_result = caQTL_SMR_result[caQTL_SMR_result['p_SMR'] < 0.05]\n",
    "            caQTL_SMR_result = caQTL_SMR_result.dropna(subset=['p_HEIDI'])\n",
    "            caQTL_SMR_result = caQTL_SMR_result[caQTL_SMR_result['p_HEIDI'] > 0.01]\n",
    "            #添加对p_GWAS的筛选\n",
    "            caQTL_SMR_result = caQTL_SMR_result[caQTL_SMR_result['p_GWAS'] < 1e-5]\n",
    "        \n",
    "        if eQTL_SMR_result.shape[0] > 0: \n",
    "            eQTL_SMR_result = eQTL_SMR_result[eQTL_SMR_result['p_SMR'] < 0.05/eQTL_SMR_result.shape[0]]\n",
    "            #eQTL_SMR_result = eQTL_SMR_result[eQTL_SMR_result['p_SMR'] < 0.05]\n",
    "            eQTL_SMR_result = eQTL_SMR_result.dropna(subset=['p_HEIDI'])\n",
    "            eQTL_SMR_result = eQTL_SMR_result[eQTL_SMR_result['p_HEIDI'] > 0.01]\n",
    "            #添加对p_GWAS的筛选\n",
    "            eQTL_SMR_result = eQTL_SMR_result[eQTL_SMR_result['p_GWAS'] < 1e-5]\n",
    "        \n",
    "        # 如果两个结果都不为空，进行交集操作\n",
    "        if caQTL_SMR_result.shape[0] > 0 and eQTL_SMR_result.shape[0] > 0:\n",
    "            # 找共同的SNPs\n",
    "            caQTL_SMR_result = caQTL_SMR_result[caQTL_SMR_result['topSNP'].isin(eQTL_SMR_result['topSNP'])]\n",
    "            eQTL_SMR_result = eQTL_SMR_result[eQTL_SMR_result['topSNP'].isin(caQTL_SMR_result['topSNP'])]\n",
    "            \n",
    "            # 合并结果\n",
    "            if not caQTL_SMR_result.empty and not eQTL_SMR_result.empty:\n",
    "                xQTL_SMR_summary.loc[celltype,trait] = 1\n",
    "                combined_result = pd.concat([caQTL_SMR_result, eQTL_SMR_result], ignore_index=True)\n",
    "                combined_result.loc[:,'celltype'] = celltype\n",
    "                combined_result.loc[:,'trait'] = trait\n",
    "                merge_result = pd.concat([merge_result,combined_result],ignore_index = True)\n",
    "\n",
    "merge_result.to_csv('/CIMA/Result/downstream/SMR_summary/xQTL_BBJ_diease_SMR_share.csv')\n",
    "xQTL_SMR_summary.to_csv('/CIMA/Result/downstream/SMR_summary/xQTL_BBJ_summary.csv')"
   ]
  },
  {
   "cell_type": "markdown",
   "id": "4e717937-f9ae-456e-9cae-46e52b95d0b1",
   "metadata": {},
   "source": [
    "# 处理lime"
   ]
  },
  {
   "cell_type": "code",
   "execution_count": 12,
   "id": "7e37a7a2-73c9-43a1-8cdb-90147eaaeb7d",
   "metadata": {
    "execution": {
     "iopub.execute_input": "2025-01-24T13:14:39.257967Z",
     "iopub.status.busy": "2025-01-24T13:14:39.257771Z",
     "iopub.status.idle": "2025-01-24T13:14:39.275968Z",
     "shell.execute_reply": "2025-01-24T13:14:39.274915Z",
     "shell.execute_reply.started": "2025-01-24T13:14:39.257947Z"
    }
   },
   "outputs": [],
   "source": [
    "CT_list = pd.read_csv('/CIMA/Data/20241230_xQTL_cell_sample_number/20241230_celltype_70_scATAC.csv')\n",
    "CT_list_eQTL = pd.read_csv('/CIMA/Data/20241230_xQTL_cell_sample_number/20241230_celltype_70_scRNA.csv')\n",
    "\n",
    "Trait_lipid =pd.read_csv('/CIMA/Result/GWAS/sig_lipid.csv')\n",
    "Trait_meta =pd.read_csv('/CIMA/Result/GWAS/sig_meta.csv')\n",
    "Trait_list = pd.concat([Trait_lipid,Trait_meta],axis=0)\n",
    "Trait_list = Trait_list[['V2','V1']]"
   ]
  },
  {
   "cell_type": "code",
   "execution_count": 13,
   "id": "4390f2e9-be9f-4eec-9579-5b12133dd352",
   "metadata": {
    "execution": {
     "iopub.execute_input": "2025-01-24T13:14:39.276892Z",
     "iopub.status.busy": "2025-01-24T13:14:39.276719Z",
     "iopub.status.idle": "2025-01-24T13:14:39.280650Z",
     "shell.execute_reply": "2025-01-24T13:14:39.280253Z",
     "shell.execute_reply.started": "2025-01-24T13:14:39.276870Z"
    }
   },
   "outputs": [],
   "source": [
    "Trait_dict = Trait_list.set_index('V2')['V1'].to_dict()"
   ]
  },
  {
   "cell_type": "code",
   "execution_count": 21,
   "id": "e8ae21ef",
   "metadata": {},
   "outputs": [
    {
     "data": {
      "text/plain": [
       "{'lipid_490': 'LPE 22:6',\n",
       " 'lipid_505': 'LPC 20:4',\n",
       " 'lipid_524': 'PE 18:2-20:1',\n",
       " 'lipid_585': 'PC 18:2-18:2',\n",
       " 'META_35': '2-HYDROXY-4-(METHYLTHIO)BUTANOATE',\n",
       " 'META_36': 'Phenylglyoxylic acid',\n",
       " 'META_37': 'D-Arabinose',\n",
       " 'META_86': '3-Indoleglyoxylic acid',\n",
       " 'META_270': 'Beta-Alanine',\n",
       " 'META_288': '7-Methylguanosine',\n",
       " 'META_292': '3-Indolepropionic acid'}"
      ]
     },
     "execution_count": 21,
     "metadata": {},
     "output_type": "execute_result"
    }
   ],
   "source": [
    "Trait_dict"
   ]
  },
  {
   "cell_type": "code",
   "execution_count": 14,
   "id": "8d6ecfbc-f98c-4b84-825d-d674dc1cbdb5",
   "metadata": {
    "execution": {
     "iopub.execute_input": "2025-01-24T13:14:39.281598Z",
     "iopub.status.busy": "2025-01-24T13:14:39.281425Z",
     "iopub.status.idle": "2025-01-24T13:14:47.534021Z",
     "shell.execute_reply": "2025-01-24T13:14:47.532715Z",
     "shell.execute_reply.started": "2025-01-24T13:14:39.281582Z"
    }
   },
   "outputs": [],
   "source": [
    "caQTL_SMR_summary = pd.DataFrame(columns = Trait_list['V2'].to_list(),index = CT_list['final_annotation'].to_list())\n",
    "caQTL_SMR_thershold = pd.DataFrame(columns = Trait_list['V2'].to_list(),index = CT_list['final_annotation'].to_list())\n",
    "caQTL_SMR_thershold = caQTL_SMR_thershold.astype(float)\n",
    "sig_caPeak_df = pd.DataFrame()\n",
    "sig_caPeak_list = {}\n",
    "sig_caPeak_full = pd.DataFrame()\n",
    "\n",
    "for trait in Trait_list['V2'].to_list():\n",
    "    for celltype in CT_list['final_annotation'].to_list():\n",
    "        SMR_result = pd.read_csv(f'/CIMA/Result/xQTL_GWAS_SMR/lipid_meta/{trait}/caQTLsmr_{celltype}.smr',sep = '\\t')\n",
    "        SMR_result = SMR_result.dropna(subset=['p_SMR'])\n",
    "        if SMR_result.shape[0] > 0: \n",
    "            caQTL_SMR_thershold.loc[celltype,trait] = 0.05/SMR_result.shape[0]\n",
    "            SMR_result = SMR_result[SMR_result['p_SMR'] < 0.05/SMR_result.shape[0]]\n",
    "            SMR_result = SMR_result.dropna(subset=['p_HEIDI'])\n",
    "            SMR_result = SMR_result[SMR_result['p_HEIDI'] > 0.01]\n",
    "            #添加对p_GWAS的筛选\n",
    "            SMR_result = SMR_result[SMR_result['p_GWAS'] < 1e-5]\n",
    "            sig_count = len(SMR_result['probeID'].unique())\n",
    "            caQTL_SMR_summary.loc[celltype,trait] = sig_count\n",
    "            sig_caPeak_list[f'{celltype}***{trait}'] = list(SMR_result['probeID'].unique())\n",
    "            if SMR_result.shape[0] > 0:\n",
    "                SMR_result_sig = SMR_result.copy()\n",
    "                SMR_result_sig.loc[:,'celltype'] = celltype\n",
    "                SMR_result_sig.loc[:,'trait'] = trait\n",
    "                sig_caPeak_full = pd.concat([sig_caPeak_full,SMR_result_sig],ignore_index = True)\n",
    "                SMR_result_sig = SMR_result_sig.loc[:,['probeID','topSNP','celltype','trait']]\n",
    "                sig_caPeak_df = pd.concat([sig_caPeak_df,SMR_result_sig],ignore_index = True)\n",
    "            \n",
    "        else:\n",
    "            caQTL_SMR_summary.loc[celltype,trait] = 0\n",
    "            caQTL_SMR_thershold.loc[celltype,trait] = np.nan\n",
    "            sig_caPeak_list[f'{celltype}***{trait}'] = []"
   ]
  },
  {
   "cell_type": "code",
   "execution_count": 15,
   "id": "2e875692-5a4b-4b61-bd17-ce71bfe037fc",
   "metadata": {
    "execution": {
     "iopub.execute_input": "2025-01-24T13:14:47.535030Z",
     "iopub.status.busy": "2025-01-24T13:14:47.534835Z",
     "iopub.status.idle": "2025-01-24T13:14:47.559902Z",
     "shell.execute_reply": "2025-01-24T13:14:47.559209Z",
     "shell.execute_reply.started": "2025-01-24T13:14:47.535011Z"
    }
   },
   "outputs": [],
   "source": [
    "sig_caPeak_full['trait'] = sig_caPeak_full['trait'].map(Trait_dict)\n",
    "caQTL_SMR_summary.columns = caQTL_SMR_summary.columns.map(Trait_dict)\n",
    "caQTL_SMR_thershold.columns = caQTL_SMR_thershold.columns.map(Trait_dict)\n",
    "sig_caPeak_df['trait'] = sig_caPeak_df['trait'].map(Trait_dict)\n",
    "\n",
    "sig_caPeak_full.to_csv('/CIMA/Result/downstream/SMR_summary/caQTL_lime_sig_SMR_caPeak_full.csv')\n",
    "caQTL_SMR_summary.to_csv('/CIMA/Result/downstream/SMR_summary/caQTL_lime_SMR_summary.csv')\n",
    "caQTL_SMR_thershold.to_csv('/CIMA/Result/downstream/SMR_summary/caQTL_lime_SMR_thershold.csv')\n",
    "sig_caPeak_df.to_csv('/CIMA/Result/downstream/SMR_summary/caQTL_lime_sig_SMR_caPeak.csv')\n",
    "with open('/CIMA/Result/downstream/SMR_summary/sig_caPeak_smr_lime.json', 'w') as f:\n",
    "    json.dump(sig_caPeak_list, f)"
   ]
  },
  {
   "cell_type": "code",
   "execution_count": 16,
   "id": "cc96b04f-f3d5-4be4-984e-0de5cd6edc3a",
   "metadata": {
    "execution": {
     "iopub.execute_input": "2025-01-24T13:14:47.560748Z",
     "iopub.status.busy": "2025-01-24T13:14:47.560584Z",
     "iopub.status.idle": "2025-01-24T13:14:47.566954Z",
     "shell.execute_reply": "2025-01-24T13:14:47.566474Z",
     "shell.execute_reply.started": "2025-01-24T13:14:47.560731Z"
    }
   },
   "outputs": [],
   "source": [
    "eQTL_SMR_summary =  pd.DataFrame(columns = Trait_list['V2'].to_list(),index = CT_list_eQTL['final_annotation'].to_list())\n",
    "eQTL_SMR_thershold =  pd.DataFrame(columns = Trait_list['V2'].to_list(),index = CT_list_eQTL['final_annotation'].to_list())\n",
    "eQTL_SMR_thershold = eQTL_SMR_thershold.astype(float)\n",
    "sig_eGene_list = {}\n",
    "sig_eGene_df = pd.DataFrame()\n",
    "sig_eGene_full = pd.DataFrame()"
   ]
  },
  {
   "cell_type": "code",
   "execution_count": 17,
   "id": "883543b7-9401-4740-83cc-66090bcff2b4",
   "metadata": {
    "execution": {
     "iopub.execute_input": "2025-01-24T13:14:47.567731Z",
     "iopub.status.busy": "2025-01-24T13:14:47.567569Z",
     "iopub.status.idle": "2025-01-24T13:14:52.308127Z",
     "shell.execute_reply": "2025-01-24T13:14:52.307347Z",
     "shell.execute_reply.started": "2025-01-24T13:14:47.567716Z"
    }
   },
   "outputs": [],
   "source": [
    "for trait in Trait_list['V2'].to_list():\n",
    "    for celltype in CT_list_eQTL['final_annotation'].to_list():\n",
    "        SMR_result = pd.read_csv(f'/CIMA/Result/xQTL_GWAS_SMR/lipid_meta/{trait}/eQTLsmr_{celltype}.smr',sep = '\\t')\n",
    "        if SMR_result.shape[0] > 0:\n",
    "            eQTL_SMR_thershold.loc[celltype,trait] = 0.05/SMR_result.shape[0]\n",
    "            SMR_result = SMR_result[SMR_result['p_SMR'] < 0.05/SMR_result.shape[0]]\n",
    "\n",
    "            SMR_result = SMR_result.dropna(subset=['p_HEIDI'])\n",
    "            SMR_result = SMR_result[SMR_result['p_HEIDI'] > 0.01]\n",
    "            #添加对p_GWAS的筛选\n",
    "            SMR_result = SMR_result[SMR_result['p_GWAS'] < 1e-5]\n",
    "            sig_count = len(SMR_result['probeID'].unique())\n",
    "            eQTL_SMR_summary.loc[celltype,trait] = sig_count\n",
    "            sig_eGene_list[f'{celltype}***{trait}'] = list(SMR_result['probeID'].unique())\n",
    "            if SMR_result.shape[0] > 0:\n",
    "                SMR_result_sig = SMR_result.copy()\n",
    "                SMR_result_sig.loc[:,'celltype'] = celltype\n",
    "                SMR_result_sig.loc[:,'trait'] = trait\n",
    "                sig_eGene_full = pd.concat([sig_eGene_full,SMR_result_sig],ignore_index = True)\n",
    "                SMR_result_sig = SMR_result_sig.loc[:,['probeID','topSNP','celltype','trait']]\n",
    "                sig_eGene_df = pd.concat([sig_eGene_df,SMR_result_sig],ignore_index = True)\n",
    "           \n",
    "        else:\n",
    "            eQTL_SMR_summary.loc[celltype,trait] = 0\n",
    "            eQTL_SMR_thershold.loc[celltype,trait] = np.nan\n",
    "            sig_eGene_list[f'{celltype}***{trait}'] = []"
   ]
  },
  {
   "cell_type": "code",
   "execution_count": 18,
   "id": "7bd18c3d-3d55-4200-9261-81cfd14e6e8a",
   "metadata": {
    "execution": {
     "iopub.execute_input": "2025-01-24T13:14:52.309077Z",
     "iopub.status.busy": "2025-01-24T13:14:52.308874Z",
     "iopub.status.idle": "2025-01-24T13:14:52.332391Z",
     "shell.execute_reply": "2025-01-24T13:14:52.331495Z",
     "shell.execute_reply.started": "2025-01-24T13:14:52.309058Z"
    }
   },
   "outputs": [],
   "source": [
    "sig_eGene_full['trait'] = sig_eGene_full['trait'].map(Trait_dict)\n",
    "eQTL_SMR_summary.columns = eQTL_SMR_summary.columns.map(Trait_dict)\n",
    "eQTL_SMR_thershold.columns = eQTL_SMR_thershold.columns.map(Trait_dict)\n",
    "sig_eGene_df['trait'] = sig_eGene_df['trait'].map(Trait_dict)\n",
    "\n",
    "sig_eGene_full.to_csv('/CIMA/Result/downstream/SMR_summary/eQTL_lime_sig_SMR_eGene_full.csv')\n",
    "eQTL_SMR_summary.to_csv('/CIMA/Result/downstream/SMR_summary/eQTL_lime_SMR_summary.csv')\n",
    "eQTL_SMR_thershold.to_csv('/CIMA/Result/downstream/SMR_summary/eQTL_lime_SMR_thershold.csv')\n",
    "sig_eGene_df.to_csv('/CIMA/Result/downstream/SMR_summary/eQTL_lime_sig_SMR_eGene.csv')\n",
    "with open('/CIMA/Result/downstream/SMR_summary/sig_eGene_smr_lime.json', 'w') as f:\n",
    "    json.dump(sig_eGene_list, f)"
   ]
  },
  {
   "cell_type": "code",
   "execution_count": 20,
   "id": "e1907db5-6d5e-4e18-9afc-373fce45e2b3",
   "metadata": {
    "execution": {
     "iopub.execute_input": "2025-01-24T13:14:52.333485Z",
     "iopub.status.busy": "2025-01-24T13:14:52.333296Z",
     "iopub.status.idle": "2025-01-24T13:15:04.827310Z",
     "shell.execute_reply": "2025-01-24T13:15:04.826034Z",
     "shell.execute_reply.started": "2025-01-24T13:14:52.333468Z"
    }
   },
   "outputs": [
    {
     "name": "stderr",
     "output_type": "stream",
     "text": [
      "/tmp/ipykernel_4044350/767489059.py:2: FutureWarning: Downcasting object dtype arrays on .fillna, .ffill, .bfill is deprecated and will change in a future version. Call result.infer_objects(copy=False) instead. To opt-in to the future behavior, set `pd.set_option('future.no_silent_downcasting', True)`\n",
      "  xQTL_SMR_summary.fillna(0, inplace=True)\n"
     ]
    }
   ],
   "source": [
    "xQTL_SMR_summary = pd.DataFrame(columns = Trait_list['V2'].to_list(),index = CT_list['final_annotation'].to_list())\n",
    "xQTL_SMR_summary.fillna(0, inplace=True)\n",
    "\n",
    "merge_result = pd.DataFrame()\n",
    "for trait in Trait_list['V2'].to_list():\n",
    "    for celltype in CT_list['final_annotation'].to_list():\n",
    "        caQTL_SMR_result = pd.read_csv(f'/CIMA/Result/xQTL_GWAS_SMR/lipid_meta/{trait}/caQTLsmr_{celltype}.smr',sep = '\\t')\n",
    "        caQTL_SMR_result = caQTL_SMR_result.dropna(subset=['p_SMR'])\n",
    "        eQTL_SMR_result = pd.read_csv(f'/CIMA/Result/xQTL_GWAS_SMR/lipid_meta/{trait}/eQTLsmr_{celltype}.smr',sep = '\\t')\n",
    "        eQTL_SMR_result = eQTL_SMR_result.dropna(subset=['p_SMR'])\n",
    "\n",
    "        if caQTL_SMR_result.shape[0] > 0: \n",
    "            caQTL_SMR_result = caQTL_SMR_result[caQTL_SMR_result['p_SMR'] < 0.05/caQTL_SMR_result.shape[0]]\n",
    "            #caQTL_SMR_result = caQTL_SMR_result[caQTL_SMR_result['p_SMR'] < 0.05]\n",
    "            caQTL_SMR_result = caQTL_SMR_result.dropna(subset=['p_HEIDI'])\n",
    "            caQTL_SMR_result = caQTL_SMR_result[caQTL_SMR_result['p_HEIDI'] > 0.01]\n",
    "            #添加对p_GWAS的筛选\n",
    "            caQTL_SMR_result = caQTL_SMR_result[caQTL_SMR_result['p_GWAS'] < 1e-5]\n",
    "            \n",
    "        if eQTL_SMR_result.shape[0] > 0: \n",
    "            eQTL_SMR_result = eQTL_SMR_result[eQTL_SMR_result['p_SMR'] < 0.05/eQTL_SMR_result.shape[0]]\n",
    "            #eQTL_SMR_result = eQTL_SMR_result[eQTL_SMR_result['p_SMR'] < 0.05]\n",
    "            eQTL_SMR_result = eQTL_SMR_result.dropna(subset=['p_HEIDI'])\n",
    "            eQTL_SMR_result = eQTL_SMR_result[eQTL_SMR_result['p_HEIDI'] > 0.01]\n",
    "            #添加对p_GWAS的筛选\n",
    "            eQTL_SMR_result = eQTL_SMR_result[eQTL_SMR_result['p_GWAS'] < 1e-5]\n",
    "        \n",
    "        # 如果两个结果都不为空，进行交集操作\n",
    "        if caQTL_SMR_result.shape[0] > 0 and eQTL_SMR_result.shape[0] > 0:\n",
    "            # 找共同的SNPs\n",
    "            caQTL_SMR_result = caQTL_SMR_result[caQTL_SMR_result['topSNP'].isin(eQTL_SMR_result['topSNP'])]\n",
    "            eQTL_SMR_result = eQTL_SMR_result[eQTL_SMR_result['topSNP'].isin(caQTL_SMR_result['topSNP'])]\n",
    "            \n",
    "            # 合并结果\n",
    "            if not caQTL_SMR_result.empty and not eQTL_SMR_result.empty:\n",
    "                xQTL_SMR_summary.loc[celltype,trait] = 1\n",
    "                combined_result = pd.concat([caQTL_SMR_result, eQTL_SMR_result], ignore_index=True)\n",
    "                combined_result.loc[:,'celltype'] = celltype\n",
    "                combined_result.loc[:,'trait'] = trait\n",
    "                merge_result = pd.concat([merge_result,combined_result],ignore_index = True)\n",
    "\n",
    "merge_result['trait'] = merge_result['trait'].map(Trait_dict)\n",
    "merge_result.to_csv('/CIMA/Result/downstream/SMR_summary/xQTL_lime_SMR_share.csv')\n",
    "xQTL_SMR_summary.columns = xQTL_SMR_summary.columns.map(Trait_dict)\n",
    "xQTL_SMR_summary.to_csv('/CIMA/Result/downstream/SMR_summary/xQTL_lime_SMR_summary.csv')"
   ]
  },
  {
   "cell_type": "markdown",
   "id": "fee477eb-f4ad-43b2-acfb-65358f46a7ff",
   "metadata": {},
   "source": [
    "# 处理xQTL之间的SMR"
   ]
  },
  {
   "cell_type": "code",
   "execution_count": 2,
   "id": "5128916b-039d-4162-b951-b4e371eeac37",
   "metadata": {
    "execution": {
     "iopub.execute_input": "2025-03-18T08:46:30.287431Z",
     "iopub.status.busy": "2025-03-18T08:46:30.286919Z",
     "iopub.status.idle": "2025-03-18T08:47:20.247304Z",
     "shell.execute_reply": "2025-03-18T08:47:20.246171Z",
     "shell.execute_reply.started": "2025-03-18T08:46:30.287401Z"
    }
   },
   "outputs": [],
   "source": [
    "CT_list = pd.read_csv('/CIMA/Data/20241230_xQTL_cell_sample_number/20241230_celltype_70_scATAC.csv')\n",
    "xQTL_SMR_summary = pd.DataFrame(columns = ['sig_eGene_count','sig_caPeak_count','sig_pair_counts'],index = CT_list[\"final_annotation\"].to_list())\n",
    "\n",
    "#只筛选topSNP为lead_caQTL的结果\n",
    "sig_xQTL_SMR_full = pd.DataFrame()\n",
    "for celltype in CT_list['final_annotation'].to_list():\n",
    "    caPeak = pd.read_csv('/CIMA/Result/20250108_cis_caQTL_studywise_sig.csv',index_col=0)\n",
    "    caPeak = caPeak[caPeak['celltype'] == celltype]\n",
    "    SMR_result = pd.read_csv(f'/CIMA/Result/xQTL_SMR/{celltype}.smr',sep='\\t')\n",
    "    # lead caQTL\n",
    "    #print(SMR_result.shape[0])\n",
    "    SMR_result = SMR_result[SMR_result['topSNP'].isin(caPeak['variant_id'])]\n",
    "    #print(SMR_result.shape[0])\n",
    "    SMR_result = SMR_result.dropna(subset=['p_SMR'])\n",
    "    #SMR_result = SMR_result[abs(SMR_result['Expo_bp'] - SMR_result['Outco_bp']) <= 50000]\n",
    "    #多重检验矫正\n",
    "    if SMR_result.shape[0] > 0: \n",
    "        SMR_result = SMR_result[SMR_result['p_SMR'] < 0.05/SMR_result.shape[0]]\n",
    "        #SMR_result['adjusted_p_SMR'] = multipletests(SMR_result['p_SMR'], method='fdr_bh')[1]\n",
    "        #SMR_result = SMR_result[SMR_result['adjusted_p_SMR'] < 0.05]\n",
    "        SMR_result = SMR_result.dropna(subset=['p_HEIDI'])\n",
    "        SMR_result = SMR_result[SMR_result['p_HEIDI'] > 0.01]\n",
    "        #SMR_result.to_csv(f'/hwfssz5/ST_HEALTH/P20Z10200N0041/huangzhuoli/genetics_Result/Downstream_result/caQTL_eQTL_SMR_sig/{celltype}.smr',sep='\\t',index = None)\n",
    "        \n",
    "        sig_eGene_count = len(SMR_result['Outco_ID'].unique())\n",
    "        sig_caPeak_count = len(SMR_result['Expo_ID'].unique())\n",
    "        sig_pair_counts = SMR_result.shape[0]\n",
    "\n",
    "        xQTL_SMR_summary.loc[celltype,'sig_eGene_count'] = sig_eGene_count\n",
    "        xQTL_SMR_summary.loc[celltype,'sig_caPeak_count'] = sig_caPeak_count\n",
    "        xQTL_SMR_summary.loc[celltype,'sig_pair_counts'] = sig_pair_counts\n",
    "        SMR_result['celltype'] = celltype\n",
    "        sig_xQTL_SMR_full = pd.concat([sig_xQTL_SMR_full,SMR_result],ignore_index = True)\n",
    "    else : \n",
    "        xQTL_SMR_summary.loc[celltype,'sig_eGene_count'] = 0\n",
    "        xQTL_SMR_summary.loc[celltype,'sig_caPeak_count'] = 0\n",
    "        xQTL_SMR_summary.loc[celltype,'sig_pair_counts'] = 0\n",
    "        SMR_result['celltype'] = celltype\n",
    "        sig_xQTL_SMR_full = pd.concat([sig_xQTL_SMR_full,SMR_result],ignore_index = True)\n",
    "\n",
    "sig_xQTL_SMR_full['pair'] = sig_xQTL_SMR_full['Expo_ID']+'_'+sig_xQTL_SMR_full['Outco_ID']\n",
    "\n",
    "sig_xQTL_SMR_full.to_csv('/CIMA/Result/downstream/SMR_summary/caQTL_eQTL_SMR.csv')\n",
    "xQTL_SMR_summary.to_csv('/CIMA/Result/downstream/SMR_summary/caQTL_eQTL_SMR_summary.csv')"
   ]
  },
  {
   "cell_type": "markdown",
   "id": "636bafcf-5ce1-4382-b7db-bfa57440d179",
   "metadata": {},
   "source": [
    "# 处理dynamic_QTL"
   ]
  },
  {
   "cell_type": "code",
   "execution_count": 7,
   "id": "578f5eb6-89c2-4602-af95-77cb1a41354e",
   "metadata": {
    "execution": {
     "iopub.execute_input": "2025-01-24T13:22:02.141733Z",
     "iopub.status.busy": "2025-01-24T13:22:02.141185Z",
     "iopub.status.idle": "2025-01-24T13:22:03.132993Z",
     "shell.execute_reply": "2025-01-24T13:22:03.132292Z",
     "shell.execute_reply.started": "2025-01-24T13:22:02.141681Z"
    }
   },
   "outputs": [],
   "source": [
    "sig_eGene_full = pd.DataFrame()\n",
    "Trait_list =pd.read_csv('/CIMA/Data/BBJ_GWAS_for_SMR_OPERA/BBJ_disease.txt',sep='\\t',header=None)\n",
    "for trait in Trait_list[0].to_list():\n",
    "    SMR_result = pd.read_csv(f'/CIMA/Result/dynamic/SMR_BBJ/{trait}/eQTLsmr_B.smr',sep = '\\t')\n",
    "    SMR_result = SMR_result.dropna(subset=['p_SMR'])\n",
    "    if SMR_result.shape[0] > 0:\n",
    "        #eQTL_SMR_thershold.loc[celltype,trait] = 0.05/SMR_result.shape[0]\n",
    "        SMR_result = SMR_result[SMR_result['p_SMR'] < 0.05/SMR_result.shape[0]]\n",
    "\n",
    "        SMR_result = SMR_result.dropna(subset=['p_HEIDI'])\n",
    "        SMR_result = SMR_result[SMR_result['p_HEIDI'] > 0.01]\n",
    "        #添加对p_GWAS的筛选\n",
    "        SMR_result = SMR_result[SMR_result['p_GWAS'] < 1e-5]\n",
    "        \n",
    "        sig_count = len(SMR_result['probeID'].unique())\n",
    "        #eQTL_SMR_summary.loc[celltype,trait] = sig_count\n",
    "        #sig_eGene_list[f'{celltype}***{trait}'] = list(SMR_result['probeID'].unique())\n",
    "        if SMR_result.shape[0] > 0:\n",
    "            SMR_result_sig = SMR_result.copy()\n",
    "            SMR_result_sig.loc[:,'trait'] = trait\n",
    "            sig_eGene_full = pd.concat([sig_eGene_full,SMR_result_sig],ignore_index = True)"
   ]
  },
  {
   "cell_type": "code",
   "execution_count": 8,
   "id": "78503db9-ffb8-4ffe-b9a8-bb4f9c7951ae",
   "metadata": {
    "execution": {
     "iopub.execute_input": "2025-01-24T13:23:04.003578Z",
     "iopub.status.busy": "2025-01-24T13:23:04.002999Z",
     "iopub.status.idle": "2025-01-24T13:23:04.045101Z",
     "shell.execute_reply": "2025-01-24T13:23:04.044566Z",
     "shell.execute_reply.started": "2025-01-24T13:23:04.003529Z"
    }
   },
   "outputs": [],
   "source": [
    "sig_eGene_full.to_csv('/CIMA/Result/downstream/SMR_summary/dynamic_eQTL_B.csv')"
   ]
  },
  {
   "cell_type": "code",
   "execution_count": 9,
   "id": "9c86cb0a-74c1-4bc1-bdeb-272aa49d04ac",
   "metadata": {
    "execution": {
     "iopub.execute_input": "2025-01-24T13:23:18.099954Z",
     "iopub.status.busy": "2025-01-24T13:23:18.098742Z",
     "iopub.status.idle": "2025-01-24T13:23:19.845494Z",
     "shell.execute_reply": "2025-01-24T13:23:19.844508Z",
     "shell.execute_reply.started": "2025-01-24T13:23:18.099899Z"
    }
   },
   "outputs": [],
   "source": [
    "sig_eGene_full = pd.DataFrame()\n",
    "Trait_list =pd.read_csv('/CIMA/Data/BBJ_GWAS_for_SMR_OPERA/BBJ_disease.txt',sep='\\t',header=None)\n",
    "for trait in Trait_list[0].to_list():\n",
    "    SMR_result = pd.read_csv(f'/CIMA/Result/dynamic/SMR_BBJ/{trait}/eQTLsmr_Monocyte.smr',sep = '\\t')\n",
    "    SMR_result = SMR_result.dropna(subset=['p_SMR'])\n",
    "    if SMR_result.shape[0] > 0:\n",
    "        #eQTL_SMR_thershold.loc[celltype,trait] = 0.05/SMR_result.shape[0]\n",
    "        SMR_result = SMR_result[SMR_result['p_SMR'] < 0.05/SMR_result.shape[0]]\n",
    "\n",
    "        SMR_result = SMR_result.dropna(subset=['p_HEIDI'])\n",
    "        SMR_result = SMR_result[SMR_result['p_HEIDI'] > 0.01]\n",
    "        #添加对p_GWAS的筛选\n",
    "        SMR_result = SMR_result[SMR_result['p_GWAS'] < 1e-5]\n",
    "        \n",
    "        sig_count = len(SMR_result['probeID'].unique())\n",
    "        #eQTL_SMR_summary.loc[celltype,trait] = sig_count\n",
    "        #sig_eGene_list[f'{celltype}***{trait}'] = list(SMR_result['probeID'].unique())\n",
    "        if SMR_result.shape[0] > 0:\n",
    "            SMR_result_sig = SMR_result.copy()\n",
    "            SMR_result_sig.loc[:,'trait'] = trait\n",
    "            sig_eGene_full = pd.concat([sig_eGene_full,SMR_result_sig],ignore_index = True)"
   ]
  },
  {
   "cell_type": "code",
   "execution_count": 10,
   "id": "0f219a55-a183-46fb-9faf-c1b14b8c2df4",
   "metadata": {
    "execution": {
     "iopub.execute_input": "2025-01-24T13:24:16.135000Z",
     "iopub.status.busy": "2025-01-24T13:24:16.134419Z",
     "iopub.status.idle": "2025-01-24T13:24:16.150330Z",
     "shell.execute_reply": "2025-01-24T13:24:16.149006Z",
     "shell.execute_reply.started": "2025-01-24T13:24:16.134948Z"
    }
   },
   "outputs": [],
   "source": [
    "sig_eGene_full.to_csv('/CIMA/Result/downstream/SMR_summary/dynamic_eQTL_Monocyte.csv')"
   ]
  },
  {
   "cell_type": "markdown",
   "id": "e4ae08f4-cfe7-49c0-a3e5-dc0eafeaac19",
   "metadata": {
    "execution": {
     "iopub.execute_input": "2025-02-23T08:50:42.781038Z",
     "iopub.status.busy": "2025-02-23T08:50:42.780504Z",
     "iopub.status.idle": "2025-02-23T08:50:42.788348Z",
     "shell.execute_reply": "2025-02-23T08:50:42.787264Z",
     "shell.execute_reply.started": "2025-02-23T08:50:42.780986Z"
    }
   },
   "source": [
    "# 处理pQTL"
   ]
  },
  {
   "cell_type": "code",
   "execution_count": 2,
   "id": "1486505e-29b2-41ea-a553-12699a39e027",
   "metadata": {
    "execution": {
     "iopub.execute_input": "2025-03-06T05:27:41.912991Z",
     "iopub.status.busy": "2025-03-06T05:27:41.911733Z",
     "iopub.status.idle": "2025-03-06T05:27:42.123090Z",
     "shell.execute_reply": "2025-03-06T05:27:42.121709Z",
     "shell.execute_reply.started": "2025-03-06T05:27:41.912934Z"
    }
   },
   "outputs": [],
   "source": [
    "CT_list = pd.read_csv('/CIMA/Data/20241230_xQTL_cell_sample_number/20241230_celltype_70_scATAC.csv')\n",
    "CT_list_eQTL = pd.read_csv('/CIMA/Data/20241230_xQTL_cell_sample_number/20241230_celltype_70_scRNA.csv')\n",
    "Trait_list = pd.read_csv('/CIMA/Data/pQTL_ma/pQTL_list.txt',sep='\\t',header=None)"
   ]
  },
  {
   "cell_type": "code",
   "execution_count": 3,
   "id": "430458a6-4666-4246-9c20-710df3841228",
   "metadata": {
    "execution": {
     "iopub.execute_input": "2025-02-24T03:49:43.045622Z",
     "iopub.status.busy": "2025-02-24T03:49:43.045309Z",
     "iopub.status.idle": "2025-02-24T03:50:42.612283Z",
     "shell.execute_reply": "2025-02-24T03:50:42.611004Z",
     "shell.execute_reply.started": "2025-02-24T03:49:43.045601Z"
    }
   },
   "outputs": [],
   "source": [
    "#p_GWAS阈值1e-5\n",
    "caQTL_SMR_summary = pd.DataFrame(columns = Trait_list[0].to_list(),index = CT_list['final_annotation'].to_list())\n",
    "caQTL_SMR_thershold = pd.DataFrame(columns = Trait_list[0].to_list(),index = CT_list['final_annotation'].to_list())\n",
    "caQTL_SMR_thershold = caQTL_SMR_thershold.astype(float)\n",
    "\n",
    "sig_caPeak_df = pd.DataFrame()\n",
    "sig_caPeak_list = {}\n",
    "sig_caPeak_full = pd.DataFrame()\n",
    "\n",
    "for trait in Trait_list[0].to_list():\n",
    "    for celltype in CT_list['final_annotation'].to_list():\n",
    "        SMR_result = pd.read_csv(f'/CIMA/Result/xQTL_GWAS_SMR/pQTL/{trait}/caQTLsmr_{celltype}.smr',sep = '\\t')\n",
    "        SMR_result = SMR_result.dropna(subset=['p_SMR'])\n",
    "        if SMR_result.shape[0] > 0: \n",
    "            caQTL_SMR_thershold.loc[celltype,trait] = 0.05/SMR_result.shape[0]\n",
    "            SMR_result = SMR_result[SMR_result['p_SMR'] < 0.05/SMR_result.shape[0]]\n",
    "            SMR_result = SMR_result.dropna(subset=['p_HEIDI'])\n",
    "            SMR_result = SMR_result[SMR_result['p_HEIDI'] > 0.01]\n",
    "            #添加对p_GWAS的筛选\n",
    "            SMR_result = SMR_result[SMR_result['p_GWAS'] < 1e-5]\n",
    "            \n",
    "            sig_count = len(SMR_result['probeID'].unique())\n",
    "            caQTL_SMR_summary.loc[celltype,trait] = sig_count\n",
    "            sig_caPeak_list[f'{celltype}***{trait}'] = list(SMR_result['probeID'].unique())\n",
    "            if SMR_result.shape[0] > 0:\n",
    "                SMR_result_sig = SMR_result.copy()\n",
    "                SMR_result_sig.loc[:,'celltype'] = celltype\n",
    "                SMR_result_sig.loc[:,'trait'] = trait\n",
    "                sig_caPeak_full = pd.concat([sig_caPeak_full,SMR_result_sig],ignore_index = True)\n",
    "                SMR_result_sig = SMR_result_sig.loc[:,['probeID','topSNP','celltype','trait']]\n",
    "                sig_caPeak_df = pd.concat([sig_caPeak_df,SMR_result_sig],ignore_index = True)       \n",
    "        else:\n",
    "            caQTL_SMR_summary.loc[celltype,trait] = 0\n",
    "            caQTL_SMR_thershold.loc[celltype,trait] = np.nan\n",
    "            sig_caPeak_list[f'{celltype}***{trait}'] = []\n",
    "\n",
    "sig_caPeak_full.to_csv('/CIMA/Result/downstream/SMR_summary/caQTL_pQTL_SMR_caPeak_full.csv')\n",
    "caQTL_SMR_summary.to_csv('/CIMA/Result/downstream/SMR_summary/caQTL_pQTL_SMR_summary.csv')\n",
    "caQTL_SMR_thershold.to_csv('/CIMA/Result/downstream/SMR_summary/caQTL_pQTL_SMR_thershold.csv')\n",
    "sig_caPeak_df.to_csv('/CIMA/Result/downstream/SMR_summary/caQTL_pQTL_SMR_caPeak.csv')\n",
    "with open('/CIMA/Result/downstream/SMR_summary/sig_caPeak_smr_pQTL.json', 'w') as f:\n",
    "    json.dump(sig_caPeak_list, f)"
   ]
  },
  {
   "cell_type": "code",
   "execution_count": 4,
   "id": "c72c894c-77f0-4a62-8c1f-862b2d13784f",
   "metadata": {
    "execution": {
     "iopub.execute_input": "2025-02-24T03:50:42.613894Z",
     "iopub.status.busy": "2025-02-24T03:50:42.613626Z",
     "iopub.status.idle": "2025-02-24T03:51:35.812411Z",
     "shell.execute_reply": "2025-02-24T03:51:35.811159Z",
     "shell.execute_reply.started": "2025-02-24T03:50:42.613870Z"
    }
   },
   "outputs": [],
   "source": [
    "eQTL_SMR_summary = pd.DataFrame(columns = Trait_list[0].to_list(),index = CT_list_eQTL['final_annotation'].to_list())\n",
    "eQTL_SMR_thershold = pd.DataFrame(columns = Trait_list[0].to_list(),index = CT_list_eQTL['final_annotation'].to_list())\n",
    "eQTL_SMR_thershold = eQTL_SMR_thershold.astype(float)\n",
    "sig_eGene_list = {}\n",
    "sig_eGene_df = pd.DataFrame()\n",
    "sig_eGene_full = pd.DataFrame()\n",
    "\n",
    "for trait in Trait_list[0].to_list():\n",
    "    for celltype in CT_list_eQTL['final_annotation'].to_list():\n",
    "        SMR_result = pd.read_csv(f'/CIMA/Result/xQTL_GWAS_SMR/pQTL/{trait}/eQTLsmr_{celltype}.smr',sep = '\\t')\n",
    "        SMR_result = SMR_result.dropna(subset=['p_SMR'])\n",
    "        if SMR_result.shape[0] > 0:\n",
    "            eQTL_SMR_thershold.loc[celltype,trait] = 0.05/SMR_result.shape[0]\n",
    "            SMR_result = SMR_result[SMR_result['p_SMR'] < 0.05/SMR_result.shape[0]]\n",
    "\n",
    "            SMR_result = SMR_result.dropna(subset=['p_HEIDI'])\n",
    "            SMR_result = SMR_result[SMR_result['p_HEIDI'] > 0.01]\n",
    "            #添加对p_GWAS的筛选\n",
    "            SMR_result = SMR_result[SMR_result['p_GWAS'] < 1e-5]\n",
    "            \n",
    "            sig_count = len(SMR_result['probeID'].unique())\n",
    "            eQTL_SMR_summary.loc[celltype,trait] = sig_count\n",
    "            sig_eGene_list[f'{celltype}***{trait}'] = list(SMR_result['probeID'].unique())\n",
    "            if SMR_result.shape[0] > 0:\n",
    "                SMR_result_sig = SMR_result.copy()\n",
    "                SMR_result_sig.loc[:,'celltype'] = celltype\n",
    "                SMR_result_sig.loc[:,'trait'] = trait\n",
    "                sig_eGene_full = pd.concat([sig_eGene_full,SMR_result_sig],ignore_index = True)\n",
    "                SMR_result_sig = SMR_result_sig.loc[:,['probeID','topSNP','celltype','trait']]\n",
    "                sig_eGene_df = pd.concat([sig_eGene_df,SMR_result_sig],ignore_index = True)\n",
    "           \n",
    "        else:\n",
    "            eQTL_SMR_summary.loc[celltype,trait] = 0\n",
    "            eQTL_SMR_thershold.loc[celltype,trait] = np.nan\n",
    "            sig_eGene_list[f'{celltype}***{trait}'] = []\n",
    "\n",
    "sig_eGene_full.to_csv('/CIMA/Result/downstream/SMR_summary/eQTL_pQTL_SMR_eGene_full.csv')\n",
    "eQTL_SMR_summary.to_csv('/CIMA/Result/downstream/SMR_summary/eQTL_pQTL_SMR_summary.csv')\n",
    "eQTL_SMR_thershold.to_csv('/CIMA/Result/downstream/SMR_summary/eQTL_pQTL_SMR_thershold.csv')\n",
    "sig_eGene_df.to_csv('/CIMA/Result/downstream/SMR_summary/eQTL_pQTL_SMR_eGene.csv')\n",
    "with open('/CIMA/Result/downstream/SMR_summary/sig_eGene_smr_pQTL.json', 'w') as f:\n",
    "    json.dump(sig_eGene_list, f)"
   ]
  },
  {
   "cell_type": "code",
   "execution_count": 5,
   "id": "449da1a4-5427-403e-b36d-6ad0ae0b97c6",
   "metadata": {
    "execution": {
     "iopub.execute_input": "2025-03-06T05:28:43.799282Z",
     "iopub.status.busy": "2025-03-06T05:28:43.798698Z",
     "iopub.status.idle": "2025-03-06T05:32:11.365530Z",
     "shell.execute_reply": "2025-03-06T05:32:11.364218Z",
     "shell.execute_reply.started": "2025-03-06T05:28:43.799230Z"
    }
   },
   "outputs": [
    {
     "name": "stderr",
     "output_type": "stream",
     "text": [
      "/tmp/ipykernel_3825891/3922234343.py:2: FutureWarning: Downcasting object dtype arrays on .fillna, .ffill, .bfill is deprecated and will change in a future version. Call result.infer_objects(copy=False) instead. To opt-in to the future behavior, set `pd.set_option('future.no_silent_downcasting', True)`\n",
      "  xQTL_SMR_summary.fillna(0, inplace=True)\n"
     ]
    }
   ],
   "source": [
    "xQTL_SMR_summary = pd.DataFrame(columns = Trait_list[0].to_list(),index = CT_list['final_annotation'].to_list())\n",
    "xQTL_SMR_summary.fillna(0, inplace=True)\n",
    "\n",
    "merge_result = pd.DataFrame()\n",
    "for trait in Trait_list[0].to_list():\n",
    "    for celltype in CT_list['final_annotation'].to_list():\n",
    "        caQTL_SMR_result = pd.read_csv(f'/CIMA/Result/xQTL_GWAS_SMR/pQTL/{trait}/caQTLsmr_{celltype}.smr',sep = '\\t')\n",
    "        caQTL_SMR_result = caQTL_SMR_result.dropna(subset=['p_SMR'])\n",
    "        eQTL_SMR_result =  pd.read_csv(f'/CIMA/Result/xQTL_GWAS_SMR/pQTL/{trait}/eQTLsmr_{celltype}.smr',sep = '\\t')\n",
    "        eQTL_SMR_result = eQTL_SMR_result.dropna(subset=['p_SMR'])\n",
    "\n",
    "        if caQTL_SMR_result.shape[0] > 0: \n",
    "            caQTL_SMR_result = caQTL_SMR_result[caQTL_SMR_result['p_SMR'] < 0.05/caQTL_SMR_result.shape[0]]\n",
    "            #caQTL_SMR_result = caQTL_SMR_result[caQTL_SMR_result['p_SMR'] < 0.05]\n",
    "            caQTL_SMR_result = caQTL_SMR_result.dropna(subset=['p_HEIDI'])\n",
    "            caQTL_SMR_result = caQTL_SMR_result[caQTL_SMR_result['p_HEIDI'] > 0.01]\n",
    "            #添加对p_GWAS的筛选\n",
    "            caQTL_SMR_result = caQTL_SMR_result[caQTL_SMR_result['p_GWAS'] < 1e-5]\n",
    "        \n",
    "        if eQTL_SMR_result.shape[0] > 0: \n",
    "            eQTL_SMR_result = eQTL_SMR_result[eQTL_SMR_result['p_SMR'] < 0.05/eQTL_SMR_result.shape[0]]\n",
    "            #eQTL_SMR_result = eQTL_SMR_result[eQTL_SMR_result['p_SMR'] < 0.05]\n",
    "            eQTL_SMR_result = eQTL_SMR_result.dropna(subset=['p_HEIDI'])\n",
    "            eQTL_SMR_result = eQTL_SMR_result[eQTL_SMR_result['p_HEIDI'] > 0.01]\n",
    "            #添加对p_GWAS的筛选\n",
    "            eQTL_SMR_result = eQTL_SMR_result[eQTL_SMR_result['p_GWAS'] < 1e-5]\n",
    "            \n",
    "        # 如果两个结果都不为空，进行交集操作\n",
    "        if caQTL_SMR_result.shape[0] > 0 and eQTL_SMR_result.shape[0] > 0:\n",
    "            # 找共同的SNPs\n",
    "            caQTL_SMR_result = caQTL_SMR_result[caQTL_SMR_result['topSNP'].isin(eQTL_SMR_result['topSNP'])]\n",
    "            eQTL_SMR_result = eQTL_SMR_result[eQTL_SMR_result['topSNP'].isin(caQTL_SMR_result['topSNP'])]\n",
    "            \n",
    "            # 合并结果\n",
    "            if not caQTL_SMR_result.empty and not eQTL_SMR_result.empty:\n",
    "                xQTL_SMR_summary.loc[celltype,trait] = 1\n",
    "                combined_result = pd.concat([caQTL_SMR_result, eQTL_SMR_result], ignore_index=True)\n",
    "                combined_result.loc[:,'celltype'] = celltype\n",
    "                combined_result.loc[:,'trait'] = trait\n",
    "                merge_result = pd.concat([merge_result,combined_result],ignore_index = True)\n",
    "\n",
    "merge_result.to_csv('/CIMA/Result/downstream/SMR_summary/xQTL_pQTL_SMR_share.csv')\n",
    "xQTL_SMR_summary.to_csv('/CIMA/Result/downstream/SMR_summary/xQTL_pQTL_SMR_summary.csv')"
   ]
  },
  {
   "cell_type": "code",
   "execution_count": 9,
   "id": "4ca41ea0",
   "metadata": {},
   "outputs": [
    {
     "data": {
      "text/plain": [
       "23     8.750000e-06\n",
       "25     8.750000e-06\n",
       "24     8.750000e-06\n",
       "29     4.510000e-06\n",
       "37     4.510000e-06\n",
       "           ...     \n",
       "50     1.520000e-23\n",
       "49     1.520000e-23\n",
       "5      1.910000e-24\n",
       "275    2.150000e-36\n",
       "290    4.630000e-47\n",
       "Name: p_GWAS, Length: 341, dtype: float64"
      ]
     },
     "execution_count": 9,
     "metadata": {},
     "output_type": "execute_result"
    }
   ],
   "source": [
    "sig_eGene_full['p_GWAS'].sort_values(ascending=False)"
   ]
  },
  {
   "cell_type": "code",
   "execution_count": 20,
   "id": "4958dc02-1599-495f-81b6-6717dd8b2f25",
   "metadata": {
    "execution": {
     "iopub.execute_input": "2025-02-24T03:01:04.981741Z",
     "iopub.status.busy": "2025-02-24T03:01:04.981252Z",
     "iopub.status.idle": "2025-02-24T03:01:04.990427Z",
     "shell.execute_reply": "2025-02-24T03:01:04.989352Z",
     "shell.execute_reply.started": "2025-02-24T03:01:04.981692Z"
    }
   },
   "outputs": [
    {
     "data": {
      "text/plain": [
       "'\\nimport os\\n\\n# 获取当前目录\\ncurrent_dir = \\'/CIMA/Result/xQTL_GWAS_SMR/pQTL/\\'\\n\\n# 遍历当前目录下的所有子文件夹\\nfor subfolder in os.listdir(current_dir):\\n    subfolder_path = os.path.join(current_dir, subfolder)\\n    if os.path.isdir(subfolder_path):\\n        # 获取子文件夹下的文件数量\\n        file_count = len([f for f in os.listdir(subfolder_path) if os.path.isfile(os.path.join(subfolder_path, f))])\\n        print(f\"文件夹 \\'{subfolder}\\' 中的文件数量: {file_count}\")\\n\\nimport os\\n\\n# 创建一个空字典来存储结果\\nunique_files_dict = {}\\n\\n# 遍历当前目录下的所有子文件夹\\nfor dirpath, dirnames, filenames in os.walk(\\'/CIMA/Result/xQTL_GWAS_SMR/pQTL/\\'):\\n    # 只处理文件夹下的 .snp_failed_freq_ck.list 文件\\n    for filename in filenames:\\n        if filename.endswith(\\'.snp_failed_freq_ck.list\\'):\\n            # 去掉 \\'caQTLsmr_\\' 或 \\'eQTLsmr_\\' 字段\\n            new_filename = filename.replace(\\'caQTLsmr_\\', \\'\\').replace(\\'eQTLsmr_\\', \\'\\').replace(\\'.snp_failed_freq_ck.list\\',\\'\\')\\n            \\n            # 存储唯一文件名，字典中的值是文件名列表\\n            if new_filename not in unique_files_dict:\\n                unique_files_dict[new_filename] = []\\n            \\n            # 存储该文件所在的子文件夹路径\\n            unique_files_dict[new_filename].append(dirpath)\\n\\n# 为字典中的每个键计算对应值（路径列表）的长度\\nlength_dict = {filename: len(paths) for filename, paths in unique_files_dict.items()}\\n\\n# 输出新的字典\\nprint(\"字典中每个文件名的路径数量:\")\\nfor filename, length in length_dict.items():\\n    print(f\"文件名: {filename}, 路径数量: {length}\")\\n'"
      ]
     },
     "execution_count": 20,
     "metadata": {},
     "output_type": "execute_result"
    }
   ],
   "source": [
    "'''\n",
    "import os\n",
    "\n",
    "# 获取当前目录\n",
    "current_dir = '/CIMA/Result/xQTL_GWAS_SMR/pQTL/'\n",
    "\n",
    "# 遍历当前目录下的所有子文件夹\n",
    "for subfolder in os.listdir(current_dir):\n",
    "    subfolder_path = os.path.join(current_dir, subfolder)\n",
    "    if os.path.isdir(subfolder_path):\n",
    "        # 获取子文件夹下的文件数量\n",
    "        file_count = len([f for f in os.listdir(subfolder_path) if os.path.isfile(os.path.join(subfolder_path, f))])\n",
    "        print(f\"文件夹 '{subfolder}' 中的文件数量: {file_count}\")\n",
    "\n",
    "import os\n",
    "\n",
    "# 创建一个空字典来存储结果\n",
    "unique_files_dict = {}\n",
    "\n",
    "# 遍历当前目录下的所有子文件夹\n",
    "for dirpath, dirnames, filenames in os.walk('/CIMA/Result/xQTL_GWAS_SMR/pQTL/'):\n",
    "    # 只处理文件夹下的 .snp_failed_freq_ck.list 文件\n",
    "    for filename in filenames:\n",
    "        if filename.endswith('.snp_failed_freq_ck.list'):\n",
    "            # 去掉 'caQTLsmr_' 或 'eQTLsmr_' 字段\n",
    "            new_filename = filename.replace('caQTLsmr_', '').replace('eQTLsmr_', '').replace('.snp_failed_freq_ck.list','')\n",
    "            \n",
    "            # 存储唯一文件名，字典中的值是文件名列表\n",
    "            if new_filename not in unique_files_dict:\n",
    "                unique_files_dict[new_filename] = []\n",
    "            \n",
    "            # 存储该文件所在的子文件夹路径\n",
    "            unique_files_dict[new_filename].append(dirpath)\n",
    "\n",
    "# 为字典中的每个键计算对应值（路径列表）的长度\n",
    "length_dict = {filename: len(paths) for filename, paths in unique_files_dict.items()}\n",
    "\n",
    "# 输出新的字典\n",
    "print(\"字典中每个文件名的路径数量:\")\n",
    "for filename, length in length_dict.items():\n",
    "    print(f\"文件名: {filename}, 路径数量: {length}\")\n",
    "'''"
   ]
  },
  {
   "cell_type": "code",
   "execution_count": null,
   "id": "a570ed81",
   "metadata": {},
   "outputs": [],
   "source": []
  }
 ],
 "metadata": {
  "kernelspec": {
   "display_name": "scPAFA",
   "language": "python",
   "name": "scpafa"
  },
  "language_info": {
   "codemirror_mode": {
    "name": "ipython",
    "version": 3
   },
   "file_extension": ".py",
   "mimetype": "text/x-python",
   "name": "python",
   "nbconvert_exporter": "python",
   "pygments_lexer": "ipython3",
   "version": "3.10.14"
  }
 },
 "nbformat": 4,
 "nbformat_minor": 5
}
