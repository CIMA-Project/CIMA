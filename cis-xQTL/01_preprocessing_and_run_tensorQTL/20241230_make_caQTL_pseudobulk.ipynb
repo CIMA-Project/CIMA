{
 "cells": [
  {
   "cell_type": "code",
   "execution_count": 1,
   "id": "d6c766fe-6fe8-4056-919e-0e023652d618",
   "metadata": {
    "execution": {
     "iopub.execute_input": "2024-12-31T07:00:07.551012Z",
     "iopub.status.busy": "2024-12-31T07:00:07.549770Z",
     "iopub.status.idle": "2024-12-31T07:00:10.834035Z",
     "shell.execute_reply": "2024-12-31T07:00:10.833392Z",
     "shell.execute_reply.started": "2024-12-31T07:00:07.550957Z"
    }
   },
   "outputs": [],
   "source": [
    "import scanpy as sc\n",
    "import pandas as pd\n",
    "import decoupler as dc\n",
    "from sklearn.preprocessing import QuantileTransformer\n",
    "from multiprocessing import Pool, cpu_count\n",
    "from functools import partial\n",
    "#from sklearn.preprocessing import QuantileTransformer, StandardScaler\n",
    "#quantile_transformer = QuantileTransformer(output_distribution='normal', random_state=0)\n",
    "#scaler = StandardScaler()"
   ]
  },
  {
   "cell_type": "code",
   "execution_count": null,
   "id": "1cf223ba-7594-4f7a-be44-6e9914aabe50",
   "metadata": {
    "execution": {
     "iopub.execute_input": "2024-12-31T07:01:06.645142Z",
     "iopub.status.busy": "2024-12-31T07:01:06.644538Z",
     "iopub.status.idle": "2024-12-31T07:01:06.656558Z",
     "shell.execute_reply": "2024-12-31T07:01:06.655697Z",
     "shell.execute_reply.started": "2024-12-31T07:01:06.645092Z"
    }
   },
   "outputs": [],
   "source": [
    "def preprocess_ATAC_data(adata_use):\n",
    "    #去除x轴和y轴的峰\n",
    "    adata_use = adata_use[:,~adata_use.var_names.str.contains('chrX|chrY')]\n",
    "    \n",
    "    sample_with_genomics = pd.read_table('/CIMA/Data/413sample.txt')\n",
    "    #去除没有wgs信息的样本\n",
    "    adata_use = adata_use[adata_use.obs['sample'].isin(sample_with_genomics['FID']),:]\n",
    "\n",
    "    celltype_over_70 = pd.read_csv('/CIMA/Data/20241230_xQTL_cell_sample_number/20241230_celltype_70_scATAC.csv')\n",
    "\n",
    "    #去除伪bulk样本少的细胞类型\n",
    "    adata_use = adata_use[adata_use.obs['final_annotation'].isin(celltype_over_70['final_annotation']),:]\n",
    "\n",
    "    for celltype in adata_use.obs['final_annotation'].unique():\n",
    "        print(f\"正在处理 {celltype}\", flush=True)\n",
    "        #分小类\n",
    "        adata_use_celltype = adata_use[adata_use.obs['final_annotation'] == celltype]\n",
    "\n",
    "        #算伪Bulk\n",
    "        pdata = dc.get_pseudobulk(\n",
    "            adata_use_celltype,\n",
    "            sample_col='sample',\n",
    "            groups_col=None,\n",
    "            mode='mean',\n",
    "            min_cells=10,\n",
    "            min_counts=0,\n",
    "            min_prop=0,\n",
    "            min_smpls=0)\n",
    "        \n",
    "        #生成伪bulk矩阵\n",
    "        pseudo_matrix = pd.DataFrame(pdata.X)\n",
    "        pseudo_matrix.columns = pdata.var_names\n",
    "        pseudo_matrix.index = pdata.obs.index\n",
    "\n",
    "        #只选取在90%的样本中都表达的特征\n",
    "        non_zero_ratio = (pseudo_matrix != 0).mean()\n",
    "        columns_to_keep = non_zero_ratio[non_zero_ratio >= 0.9].index\n",
    "        pseudo_matrix = pseudo_matrix[columns_to_keep]\n",
    "\n",
    "        # 计算每列的均值和标准差\n",
    "        means = pseudo_matrix.mean()\n",
    "        stds = pseudo_matrix.std()\n",
    "        # 计算变异系数\n",
    "        cv = (stds / means).abs() * 100\n",
    "        # 按变异系数从大到小排序\n",
    "        sorted_columns = cv.sort_values(ascending=False).index\n",
    "        # 选取变异系数最高的前2000列\n",
    "        top_2000_columns = sorted_columns[:min(2000,pseudo_matrix.shape[1])]\n",
    "\n",
    "        if pseudo_matrix.shape[1] > 0:\n",
    "            #normalized_pseudo_matrix = quantile_transformer.fit_transform(pseudo_matrix)\n",
    "            #normalized_pseudo_matrix = scaler.fit_transform(normalized_pseudo_matrix)\n",
    "            #normalized_pseudo_matrix = pd.DataFrame(normalized_pseudo_matrix, columns=pseudo_matrix.columns,index=pseudo_matrix.index)\n",
    "            #normalized_pseudo_matrix.to_csv(f'/CIMA/Data/caQTL/normal_dis/{celltype}.csv')\n",
    "            #normalized_pseudo_matrix[top_2000_columns].to_csv(f'/CIMA/Data/caQTL/top2000_normal_dis/{celltype}.csv')\n",
    "            pseudo_matrix.to_csv(f'/CIMA/Data/caQTL/pseudobulk/{celltype}.csv')\n",
    "            pseudo_matrix[top_2000_columns].to_csv(f'/CIMA/Data/caQTL/top2000_pseudobulk/{celltype}.csv')\n",
    "        print(f\"处理完成 {celltype}\", flush=True)"
   ]
  },
  {
   "cell_type": "code",
   "execution_count": null,
   "id": "2c4b1e21-e5fc-4973-8667-8d545c090b9d",
   "metadata": {
    "execution": {
     "iopub.execute_input": "2024-12-31T07:01:13.123899Z",
     "iopub.status.busy": "2024-12-31T07:01:13.123484Z",
     "iopub.status.idle": "2024-12-31T07:20:13.090611Z",
     "shell.execute_reply": "2024-12-31T07:20:13.089846Z",
     "shell.execute_reply.started": "2024-12-31T07:01:13.123870Z"
    }
   },
   "outputs": [
    {
     "name": "stdout",
     "output_type": "stream",
     "text": [
      "正在处理 Unswitched_Bm_CD1C\n",
      "处理完成 Unswitched_Bm_CD1C\n",
      "正在处理 Switched_Bm_IGHE\n",
      "处理完成 Switched_Bm_IGHE\n",
      "正在处理 Atypical_Bm_ITGAX\n",
      "处理完成 Atypical_Bm_ITGAX\n",
      "正在处理 Bn_TCL1A\n",
      "处理完成 Bn_TCL1A\n",
      "正在处理 Switched_activated_Bm_CD86\n",
      "处理完成 Switched_activated_Bm_CD86\n",
      "正在处理 Switched_Bm_IGHDneg\n",
      "处理完成 Switched_Bm_IGHDneg\n",
      "正在处理 pre-Switched_Bm_JAM3\n",
      "处理完成 pre-Switched_Bm_JAM3\n",
      "正在处理 Transitional_B_SOX4\n",
      "处理完成 Transitional_B_SOX4\n",
      "正在处理 Plasma_IGHA1\n",
      "处理完成 Plasma_IGHA1\n"
     ]
    }
   ],
   "source": [
    "adata_ATAC_B = sc.read_h5ad('/CIMA/ATAC_h5ad/atac_B_tfidf.h5ad')\n",
    "preprocess_ATAC_data(adata_ATAC_B)\n",
    "del adata_ATAC_B"
   ]
  },
  {
   "cell_type": "code",
   "execution_count": null,
   "id": "1338db0d-3c1b-42b7-a2dd-cfeeff976a3d",
   "metadata": {
    "execution": {
     "iopub.execute_input": "2024-12-31T07:20:13.092237Z",
     "iopub.status.busy": "2024-12-31T07:20:13.091930Z",
     "iopub.status.idle": "2024-12-31T07:40:56.704833Z",
     "shell.execute_reply": "2024-12-31T07:40:56.704006Z",
     "shell.execute_reply.started": "2024-12-31T07:20:13.092215Z"
    }
   },
   "outputs": [
    {
     "name": "stdout",
     "output_type": "stream",
     "text": [
      "正在处理 Mature_NK_dim_FCGR3A\n",
      "处理完成 Mature_NK_dim_FCGR3A\n",
      "正在处理 Transitional_NK_GZMK\n",
      "处理完成 Transitional_NK_GZMK\n",
      "正在处理 NK_bright_XCL1\n",
      "处理完成 NK_bright_XCL1\n"
     ]
    }
   ],
   "source": [
    "adata_ATAC_NKILC = sc.read_h5ad('/CIMA/ATAC_h5ad/atac_NKILC_tfidf.h5ad')\n",
    "preprocess_ATAC_data(adata_ATAC_NKILC)\n",
    "del adata_ATAC_NKILC"
   ]
  },
  {
   "cell_type": "code",
   "execution_count": null,
   "id": "e5314c26-5c4e-44fa-955f-4be28e3fb711",
   "metadata": {
    "execution": {
     "iopub.execute_input": "2024-12-31T07:40:56.706121Z",
     "iopub.status.busy": "2024-12-31T07:40:56.705904Z",
     "iopub.status.idle": "2024-12-31T08:31:40.464535Z",
     "shell.execute_reply": "2024-12-31T08:31:40.463656Z",
     "shell.execute_reply.started": "2024-12-31T07:40:56.706100Z"
    }
   },
   "outputs": [
    {
     "name": "stdout",
     "output_type": "stream",
     "text": [
      "正在处理 CD4_Tn_CCR7\n",
      "处理完成 CD4_Tn_CCR7\n",
      "正在处理 CD4_Th1-like_GZMK\n",
      "处理完成 CD4_Th1-like_GZMK\n",
      "正在处理 CD4_CTL_GZMH\n",
      "处理完成 CD4_CTL_GZMH\n",
      "正在处理 CD4_Tfh-like_CXCR5\n",
      "处理完成 CD4_Tfh-like_CXCR5\n",
      "正在处理 CD4_Tem_CCR7neg\n",
      "处理完成 CD4_Tem_CCR7neg\n",
      "正在处理 CD4_Treg_FOXP3\n",
      "处理完成 CD4_Treg_FOXP3\n",
      "正在处理 CD4_Tcm_CXCR5\n",
      "处理完成 CD4_Tcm_CXCR5\n",
      "正在处理 CD4_Tcm_IFI44L\n",
      "处理完成 CD4_Tcm_IFI44L\n",
      "正在处理 CD4_Th17-like_RORC\n",
      "处理完成 CD4_Th17-like_RORC\n",
      "正在处理 CD4_Th_LMNA\n",
      "处理完成 CD4_Th_LMNA\n",
      "正在处理 CD4_Treg_FCRL3\n",
      "处理完成 CD4_Treg_FCRL3\n",
      "正在处理 CD4_Th_TNFRSF11A\n",
      "处理完成 CD4_Th_TNFRSF11A\n",
      "正在处理 CD4_Tr1-like_IL10\n",
      "处理完成 CD4_Tr1-like_IL10\n"
     ]
    }
   ],
   "source": [
    "adata_ATAC_CD4T = sc.read_h5ad('/CIMA/ATAC_h5ad/atac_CD4T_tfidf.h5ad')\n",
    "preprocess_ATAC_data(adata_ATAC_CD4T)\n",
    "del adata_ATAC_CD4T"
   ]
  },
  {
   "cell_type": "code",
   "execution_count": null,
   "id": "30f3ae30-a33e-4ee5-aa28-5c584e216578",
   "metadata": {
    "execution": {
     "iopub.execute_input": "2024-12-31T08:31:40.466235Z",
     "iopub.status.busy": "2024-12-31T08:31:40.466019Z",
     "iopub.status.idle": "2024-12-31T09:52:34.925536Z",
     "shell.execute_reply": "2024-12-31T09:52:34.924699Z",
     "shell.execute_reply.started": "2024-12-31T08:31:40.466215Z"
    }
   },
   "outputs": [
    {
     "name": "stdout",
     "output_type": "stream",
     "text": [
      "正在处理 CD8_CTL_GZMB\n",
      "处理完成 CD8_CTL_GZMB\n",
      "正在处理 NKT_NCR1\n",
      "处理完成 NKT_NCR1\n",
      "正在处理 CD8_Tn_CCR7\n",
      "处理完成 CD8_Tn_CCR7\n",
      "正在处理 CD8_Tem_CCR7neg\n",
      "处理完成 CD8_Tem_CCR7neg\n",
      "正在处理 gdT2_GZMH\n",
      "处理完成 gdT2_GZMH\n",
      "正在处理 MAIT_SLC4A10\n",
      "处理完成 MAIT_SLC4A10\n",
      "正在处理 gdT2_IL12RB2\n",
      "处理完成 gdT2_IL12RB2\n",
      "正在处理 Cycling_T_MKI67\n",
      "处理完成 Cycling_T_MKI67\n"
     ]
    }
   ],
   "source": [
    "adata_ATAC_CD8T_UCT = sc.read_h5ad('/CIMA/ATAC_h5ad/atac_CD8T_UCT_tfidf.h5ad')\n",
    "preprocess_ATAC_data(adata_ATAC_CD8T_UCT)\n",
    "del adata_ATAC_CD8T_UCT"
   ]
  },
  {
   "cell_type": "code",
   "execution_count": null,
   "id": "384ff761-cff8-4f01-99be-7aa38465d05f",
   "metadata": {
    "execution": {
     "iopub.execute_input": "2024-12-31T09:52:34.926739Z",
     "iopub.status.busy": "2024-12-31T09:52:34.926531Z",
     "iopub.status.idle": "2024-12-31T10:51:45.364911Z",
     "shell.execute_reply": "2024-12-31T10:51:45.364242Z",
     "shell.execute_reply.started": "2024-12-31T09:52:34.926718Z"
    }
   },
   "outputs": [
    {
     "name": "stdout",
     "output_type": "stream",
     "text": [
      "正在处理 cDC2_CD1C\n",
      "处理完成 cDC2_CD1C\n",
      "正在处理 cMono_CD14\n",
      "处理完成 cMono_CD14\n",
      "正在处理 ncMono_FCGR3A\n",
      "处理完成 ncMono_FCGR3A\n",
      "正在处理 intMono_GFRA2\n",
      "处理完成 intMono_GFRA2\n",
      "正在处理 ncMono_C1QA\n",
      "处理完成 ncMono_C1QA\n",
      "正在处理 pDC_IRF4\n",
      "处理完成 pDC_IRF4\n",
      "正在处理 cMono_IL1B\n",
      "处理完成 cMono_IL1B\n",
      "正在处理 cMono_IFI44L\n",
      "处理完成 cMono_IFI44L\n",
      "正在处理 MK_GP9\n",
      "处理完成 MK_GP9\n"
     ]
    }
   ],
   "source": [
    "adata_ATAC_Myeloid = sc.read_h5ad('/CIMA/ATAC_h5ad/atac_Myeloid_tfidf.h5ad')\n",
    "preprocess_ATAC_data(adata_ATAC_Myeloid)\n",
    "del adata_ATAC_Myeloid"
   ]
  }
 ],
 "metadata": {
  "kernelspec": {
   "display_name": "scPAFA",
   "language": "python",
   "name": "scpafa"
  },
  "language_info": {
   "codemirror_mode": {
    "name": "ipython",
    "version": 3
   },
   "file_extension": ".py",
   "mimetype": "text/x-python",
   "name": "python",
   "nbconvert_exporter": "python",
   "pygments_lexer": "ipython3",
   "version": "3.10.14"
  }
 },
 "nbformat": 4,
 "nbformat_minor": 5
}
