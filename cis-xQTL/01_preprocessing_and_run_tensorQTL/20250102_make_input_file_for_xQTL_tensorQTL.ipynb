{
 "cells": [
  {
   "cell_type": "code",
   "execution_count": 1,
   "id": "9ec716c0-5599-4622-a0e6-e6bcf8b15888",
   "metadata": {
    "execution": {
     "iopub.execute_input": "2025-01-08T07:20:45.943470Z",
     "iopub.status.busy": "2025-01-08T07:20:45.943017Z",
     "iopub.status.idle": "2025-01-08T07:20:48.622669Z",
     "shell.execute_reply": "2025-01-08T07:20:48.621706Z",
     "shell.execute_reply.started": "2025-01-08T07:20:45.943447Z"
    }
   },
   "outputs": [],
   "source": [
    "import os\n",
    "os.environ[\"R_HOME\"] = \"/home/huangzhuoli/mambaforge/envs/tensorqtl/lib/R\"\n",
    "os.environ[\"R_LIBS_USER\"] = \"/home/huangzhuoli/mambaforge/envs/tensorqtl/lib/R/library\"\n",
    "import pandas as pd\n",
    "import torch\n",
    "import tensorqtl"
   ]
  },
  {
   "cell_type": "code",
   "execution_count": 2,
   "id": "02ce44ad-a097-475f-85ef-66e0d4bc26e0",
   "metadata": {
    "execution": {
     "iopub.execute_input": "2025-01-08T07:20:49.195604Z",
     "iopub.status.busy": "2025-01-08T07:20:49.194860Z",
     "iopub.status.idle": "2025-01-08T07:20:49.198936Z",
     "shell.execute_reply": "2025-01-08T07:20:49.198126Z",
     "shell.execute_reply.started": "2025-01-08T07:20:49.195567Z"
    }
   },
   "outputs": [],
   "source": [
    "import numpy as np"
   ]
  },
  {
   "cell_type": "code",
   "execution_count": null,
   "id": "0bd1efcd-c821-4255-a35c-8af685a16917",
   "metadata": {
    "execution": {
     "iopub.execute_input": "2025-01-02T16:11:56.767973Z",
     "iopub.status.busy": "2025-01-02T16:11:56.767800Z",
     "iopub.status.idle": "2025-01-02T16:54:05.710993Z",
     "shell.execute_reply": "2025-01-02T16:54:05.709711Z",
     "shell.execute_reply.started": "2025-01-02T16:11:56.767956Z"
    }
   },
   "outputs": [
    {
     "name": "stderr",
     "output_type": "stream",
     "text": [
      "Mapping files: 100%|██████████| 3/3 [41:46<00:00, 835.50s/it]\n"
     ]
    }
   ],
   "source": [
    "pr = tensorqtl.genotypeio.PlinkReader('/CIMA/genetics/qc/10.maf01')\n",
    "# load genotypes and variants into data frames\n",
    "genotype_df = pr.load_genotypes()\n",
    "variant_df = pr.bim.set_index('snp')[['chrom', 'pos']]"
   ]
  },
  {
   "cell_type": "code",
   "execution_count": null,
   "id": "6229040c-bbf4-4b80-bf80-57592cc91299",
   "metadata": {
    "execution": {
     "iopub.execute_input": "2025-01-02T16:54:05.711998Z",
     "iopub.status.busy": "2025-01-02T16:54:05.711707Z",
     "iopub.status.idle": "2025-01-02T16:54:48.242245Z",
     "shell.execute_reply": "2025-01-02T16:54:48.240915Z",
     "shell.execute_reply.started": "2025-01-02T16:54:05.711976Z"
    }
   },
   "outputs": [],
   "source": [
    "genotype_df.to_parquet('/CIMA/Data/413_sample_genotype.parquet')"
   ]
  },
  {
   "cell_type": "code",
   "execution_count": null,
   "id": "6763f341-9c94-42da-ab6d-0b3d05d75e6d",
   "metadata": {
    "execution": {
     "iopub.execute_input": "2025-01-02T16:54:48.243368Z",
     "iopub.status.busy": "2025-01-02T16:54:48.243165Z",
     "iopub.status.idle": "2025-01-02T16:54:52.560778Z",
     "shell.execute_reply": "2025-01-02T16:54:52.559840Z",
     "shell.execute_reply.started": "2025-01-02T16:54:48.243348Z"
    }
   },
   "outputs": [],
   "source": [
    "variant_df.to_parquet('/CIMA/Data/413_sample_variant_df.parquet')"
   ]
  },
  {
   "cell_type": "code",
   "execution_count": null,
   "id": "8b20842f-c4a5-4c2c-bb9e-7e8374ca96f6",
   "metadata": {
    "execution": {
     "iopub.execute_input": "2025-01-08T07:22:41.054036Z",
     "iopub.status.busy": "2025-01-08T07:22:41.053316Z",
     "iopub.status.idle": "2025-01-08T07:22:41.125389Z",
     "shell.execute_reply": "2025-01-08T07:22:41.124419Z",
     "shell.execute_reply.started": "2025-01-08T07:22:41.054003Z"
    }
   },
   "outputs": [],
   "source": [
    "#解决R语言把“-”换成“.\"的问题\n",
    "tss = pd.read_csv('/CIMA/Make_Gene_TSS/tss.bed',sep = ' ')\n",
    "#为了和R得到的结果相符合\n",
    "tss['gene_id_map'] = tss['gene_id'].str.replace('-', '.', regex=False)\n",
    "# 创建字典，映射 gene_id_map 到 gene_id，只包含 B 数据框中出现的列\n",
    "gene_map_dict = pd.Series(tss.gene_id.values, index=tss.gene_id_map).to_dict()"
   ]
  },
  {
   "cell_type": "code",
   "execution_count": null,
   "id": "e95c6d75-7e38-4b6f-b676-3864bde62d37",
   "metadata": {
    "execution": {
     "iopub.execute_input": "2025-01-08T07:22:41.805570Z",
     "iopub.status.busy": "2025-01-08T07:22:41.804970Z",
     "iopub.status.idle": "2025-01-08T07:29:39.920066Z",
     "shell.execute_reply": "2025-01-08T07:29:39.918297Z",
     "shell.execute_reply.started": "2025-01-08T07:22:41.805528Z"
    }
   },
   "outputs": [
    {
     "name": "stdout",
     "output_type": "stream",
     "text": [
      "processing_Atypical_Bm_ITGAX\n",
      "processing_Bn_IFIT3\n",
      "processing_Bn_TCL1A\n",
      "processing_Bn_IL6\n",
      "processing_CD4_CTL_GZMH\n",
      "processing_CD4_Tcm_CXCR5\n",
      "processing_CD4_Tcm_IFI44L\n",
      "processing_CD4_Tem_CCR7neg\n",
      "processing_CD4_Tfh-like_CXCR5\n",
      "processing_CD4_Th1-like_GZMK\n",
      "processing_CD4_Th17-like_RORC\n",
      "processing_CD4_Th22-like_CCR10\n",
      "processing_CD4_Th_CCR4\n",
      "processing_CD4_Th_CR1\n",
      "processing_CD4_Th_LMNA\n",
      "processing_CD4_Th_TNFRSF11A\n",
      "processing_CD4_Tn_CCR7\n",
      "processing_CD4_Tn_CXCR5\n",
      "processing_CD4_Tn_LIMS1\n",
      "processing_CD4_Tn_SOX4\n",
      "processing_CD4_Tr1-like_IL10\n",
      "processing_CD4_Treg_FCRL3\n",
      "processing_CD4_Treg_FOXP3\n",
      "processing_CD8_CTL_GZMB\n",
      "processing_CD8_CTL_GZMK\n",
      "processing_CD8_CTL_IFI44L\n",
      "processing_CD8_Tcm_IFI44L\n",
      "processing_CD8_Tem_CCR7neg\n",
      "processing_CD8_Tn_CCR7\n",
      "processing_CD8_Tn_SOX4\n",
      "processing_Cycling_NK_MKI67\n",
      "processing_Cycling_T_MKI67\n",
      "processing_pre-T-like_CABP4\n",
      "processing_HSPC_CD34\n",
      "processing_ILC2_IL2RA\n",
      "processing_MAIT_SLC4A10\n",
      "processing_MK_GP9\n",
      "processing_NKT_NCR1\n",
      "processing_NKT_IFNG\n",
      "processing_NK_bright_XCL1\n",
      "processing_Plasma_IGHA1\n",
      "processing_Plasma_IGHG1\n",
      "processing_Plasmablast_MKI67\n",
      "processing_Switched_Bm_IGHE\n",
      "processing_Switched_activated_Bm_CD86\n",
      "processing_Switched_Bm_IGHDneg\n",
      "processing_Transitional_B_SOX4\n",
      "processing_Unswitched_Bm_CD1C\n",
      "processing_Unswitched_Bm_IL6\n",
      "processing_cDC1_BATF3\n",
      "processing_cDC2_CD1C\n",
      "processing_cDC_CSF2RA\n",
      "processing_cMono_CD14\n",
      "processing_cMono_CXCL10\n",
      "processing_cMono_IFI44L\n",
      "processing_cMono_IL1B\n",
      "processing_gdT1_TRDV1\n",
      "processing_gdT2_GZMK\n",
      "processing_gdT2_IL12RB2\n",
      "processing_gdT2_GZMH\n",
      "processing_intMono_GFRA2\n",
      "processing_Mature_NK_dim_FCGR3A\n",
      "processing_ncMono_C1QA\n",
      "processing_ncMono_FCGR3A\n",
      "processing_ncMono_IFIT1\n",
      "processing_pDC_IRF4\n",
      "processing_pre-Switched_Bm_JAM3\n",
      "processing_Terminal_NK_dim_CD160neg\n",
      "processing_Transitional_NK_GZMK\n"
     ]
    }
   ],
   "source": [
    "celltype_over_70_eQTL = pd.read_csv('/CIMA/Data/20241230_xQTL_cell_sample_number/20241230_celltype_70_scRNA.csv')\n",
    "#tss = pd.read_csv('/CIMA/Make_Gene_TSS/tss.bed',sep = ' ')\n",
    "#为了和R得到的结果相符合\n",
    "#tss['gene_id'] = tss['gene_id'].str.replace('-', '.', regex=False)\n",
    "\n",
    "for cell in celltype_over_70_eQTL['final_annotation']:\n",
    "    print(f'processing_{cell}')\n",
    "    #make_bed_file_eQTL\n",
    "    ## Prepare phenotype data\n",
    "    norm_expr = pd.read_csv(f'/CIMA/Data/eQTL/normal_dis/{cell}.csv', index_col=0)\n",
    "    #解决R语言列名把“-”变成'.'的问题\n",
    "    filtered_map_dict = {key: gene_map_dict[key] for key in norm_expr.columns}\n",
    "    # 使用字典重命名 B 数据框的列\n",
    "    norm_expr.rename(columns=filtered_map_dict, inplace=True)\n",
    "\n",
    "    norm_expr = norm_expr.T\n",
    "    norm_expr = norm_expr.reset_index()   # gene x sample\n",
    "\n",
    "    pheno_file =  pd.merge(tss, norm_expr, right_on='index', left_on='gene_id', how='inner')\n",
    "    pheno_file = pheno_file.drop(['index'], axis=1).rename(columns={'chr':'#chr'})\n",
    "    pheno_file['#chr'] = pheno_file['#chr'].str.replace('chr','')    # required phenotype file\n",
    "\n",
    "    if norm_expr.shape[0] != pheno_file.shape[0]:\n",
    "        raise ValueError(\"The number of rows in the two dataframes are not equal.\")\n",
    "    else:\n",
    "        pheno_file.to_csv(f'/CIMA/Data/eQTL/bed_file/{cell}.bed', sep='\\t', index=False)"
   ]
  },
  {
   "cell_type": "code",
   "execution_count": 7,
   "id": "8d971a27-fc48-4106-b033-675332d9e57e",
   "metadata": {
    "execution": {
     "iopub.execute_input": "2025-01-02T17:00:13.895943Z",
     "iopub.status.busy": "2025-01-02T17:00:13.895730Z",
     "iopub.status.idle": "2025-01-02T17:00:13.901926Z",
     "shell.execute_reply": "2025-01-02T17:00:13.901173Z",
     "shell.execute_reply.started": "2025-01-02T17:00:13.895923Z"
    }
   },
   "outputs": [
    {
     "name": "stdout",
     "output_type": "stream",
     "text": [
      "Midpoint: 100006538\n"
     ]
    }
   ],
   "source": [
    "#处理caQTL\n",
    "def calculate_midpoint(input_str):\n",
    "    # 切分输入字符串，提取数字部分\n",
    "    parts = input_str.split(':')[-1].split('-')\n",
    "    \n",
    "    # 提取数字calculate_midpoint\n",
    "    start_num = int(parts[0])\n",
    "    end_num = int(parts[1])\n",
    "    \n",
    "    # 计算中点\n",
    "    midpoint = (start_num + end_num) // 2\n",
    "    \n",
    "    return midpoint\n",
    "\n",
    "# 测试\n",
    "input_str = \"chr10:100006245-100006832\"\n",
    "midpoint = calculate_midpoint(input_str)\n",
    "print(\"Midpoint:\", midpoint)\n",
    "\n",
    "vectorized_calculate_midpoint = np.vectorize(calculate_midpoint)"
   ]
  },
  {
   "cell_type": "code",
   "execution_count": null,
   "id": "ee41915c-2170-4e5d-85bc-a0bf4f9e1a3e",
   "metadata": {
    "execution": {
     "iopub.execute_input": "2025-01-02T17:00:13.902740Z",
     "iopub.status.busy": "2025-01-02T17:00:13.902567Z",
     "iopub.status.idle": "2025-01-02T17:00:13.909608Z",
     "shell.execute_reply": "2025-01-02T17:00:13.909183Z",
     "shell.execute_reply.started": "2025-01-02T17:00:13.902722Z"
    }
   },
   "outputs": [],
   "source": [
    "celltype_over_70_caQTL = pd.read_csv('/CIMA/Data/20241230_xQTL_cell_sample_number/20241230_celltype_70_scATAC.csv')"
   ]
  },
  {
   "cell_type": "code",
   "execution_count": null,
   "id": "464e444a-c274-4a0a-b744-60fd48d937d8",
   "metadata": {
    "execution": {
     "iopub.execute_input": "2025-01-02T17:00:13.910227Z",
     "iopub.status.busy": "2025-01-02T17:00:13.910066Z",
     "iopub.status.idle": "2025-01-02T17:13:44.650489Z",
     "shell.execute_reply": "2025-01-02T17:13:44.649508Z",
     "shell.execute_reply.started": "2025-01-02T17:00:13.910210Z"
    }
   },
   "outputs": [
    {
     "name": "stdout",
     "output_type": "stream",
     "text": [
      "Atypical_Bm_ITGAX\n"
     ]
    },
    {
     "name": "stderr",
     "output_type": "stream",
     "text": [
      "/tmp/ipykernel_1216842/3218016426.py:19: DeprecationWarning: DataFrameGroupBy.apply operated on the grouping columns. This behavior is deprecated, and in a future version of pandas the grouping columns will be excluded from the operation. Either pass `include_groups=False` to exclude the groupings or explicitly select the grouping columns after groupby to silence this warning.\n",
      "  pheno_file = pheno_file.groupby('#chr', sort=False, group_keys=False).apply(lambda x: x.sort_values('start')).reset_index(drop=True)\n"
     ]
    },
    {
     "name": "stdout",
     "output_type": "stream",
     "text": [
      "Bn_TCL1A\n"
     ]
    },
    {
     "name": "stderr",
     "output_type": "stream",
     "text": [
      "/tmp/ipykernel_1216842/3218016426.py:19: DeprecationWarning: DataFrameGroupBy.apply operated on the grouping columns. This behavior is deprecated, and in a future version of pandas the grouping columns will be excluded from the operation. Either pass `include_groups=False` to exclude the groupings or explicitly select the grouping columns after groupby to silence this warning.\n",
      "  pheno_file = pheno_file.groupby('#chr', sort=False, group_keys=False).apply(lambda x: x.sort_values('start')).reset_index(drop=True)\n"
     ]
    },
    {
     "name": "stdout",
     "output_type": "stream",
     "text": [
      "CD4_CTL_GZMH\n"
     ]
    },
    {
     "name": "stderr",
     "output_type": "stream",
     "text": [
      "/tmp/ipykernel_1216842/3218016426.py:19: DeprecationWarning: DataFrameGroupBy.apply operated on the grouping columns. This behavior is deprecated, and in a future version of pandas the grouping columns will be excluded from the operation. Either pass `include_groups=False` to exclude the groupings or explicitly select the grouping columns after groupby to silence this warning.\n",
      "  pheno_file = pheno_file.groupby('#chr', sort=False, group_keys=False).apply(lambda x: x.sort_values('start')).reset_index(drop=True)\n"
     ]
    },
    {
     "name": "stdout",
     "output_type": "stream",
     "text": [
      "CD4_Tcm_CXCR5\n"
     ]
    },
    {
     "name": "stderr",
     "output_type": "stream",
     "text": [
      "/tmp/ipykernel_1216842/3218016426.py:19: DeprecationWarning: DataFrameGroupBy.apply operated on the grouping columns. This behavior is deprecated, and in a future version of pandas the grouping columns will be excluded from the operation. Either pass `include_groups=False` to exclude the groupings or explicitly select the grouping columns after groupby to silence this warning.\n",
      "  pheno_file = pheno_file.groupby('#chr', sort=False, group_keys=False).apply(lambda x: x.sort_values('start')).reset_index(drop=True)\n"
     ]
    },
    {
     "name": "stdout",
     "output_type": "stream",
     "text": [
      "CD4_Tcm_IFI44L\n"
     ]
    },
    {
     "name": "stderr",
     "output_type": "stream",
     "text": [
      "/tmp/ipykernel_1216842/3218016426.py:19: DeprecationWarning: DataFrameGroupBy.apply operated on the grouping columns. This behavior is deprecated, and in a future version of pandas the grouping columns will be excluded from the operation. Either pass `include_groups=False` to exclude the groupings or explicitly select the grouping columns after groupby to silence this warning.\n",
      "  pheno_file = pheno_file.groupby('#chr', sort=False, group_keys=False).apply(lambda x: x.sort_values('start')).reset_index(drop=True)\n"
     ]
    },
    {
     "name": "stdout",
     "output_type": "stream",
     "text": [
      "CD4_Tem_CCR7neg\n"
     ]
    },
    {
     "name": "stderr",
     "output_type": "stream",
     "text": [
      "/tmp/ipykernel_1216842/3218016426.py:19: DeprecationWarning: DataFrameGroupBy.apply operated on the grouping columns. This behavior is deprecated, and in a future version of pandas the grouping columns will be excluded from the operation. Either pass `include_groups=False` to exclude the groupings or explicitly select the grouping columns after groupby to silence this warning.\n",
      "  pheno_file = pheno_file.groupby('#chr', sort=False, group_keys=False).apply(lambda x: x.sort_values('start')).reset_index(drop=True)\n"
     ]
    },
    {
     "name": "stdout",
     "output_type": "stream",
     "text": [
      "CD4_Tfh-like_CXCR5\n"
     ]
    },
    {
     "name": "stderr",
     "output_type": "stream",
     "text": [
      "/tmp/ipykernel_1216842/3218016426.py:19: DeprecationWarning: DataFrameGroupBy.apply operated on the grouping columns. This behavior is deprecated, and in a future version of pandas the grouping columns will be excluded from the operation. Either pass `include_groups=False` to exclude the groupings or explicitly select the grouping columns after groupby to silence this warning.\n",
      "  pheno_file = pheno_file.groupby('#chr', sort=False, group_keys=False).apply(lambda x: x.sort_values('start')).reset_index(drop=True)\n"
     ]
    },
    {
     "name": "stdout",
     "output_type": "stream",
     "text": [
      "CD4_Th1-like_GZMK\n"
     ]
    },
    {
     "name": "stderr",
     "output_type": "stream",
     "text": [
      "/tmp/ipykernel_1216842/3218016426.py:19: DeprecationWarning: DataFrameGroupBy.apply operated on the grouping columns. This behavior is deprecated, and in a future version of pandas the grouping columns will be excluded from the operation. Either pass `include_groups=False` to exclude the groupings or explicitly select the grouping columns after groupby to silence this warning.\n",
      "  pheno_file = pheno_file.groupby('#chr', sort=False, group_keys=False).apply(lambda x: x.sort_values('start')).reset_index(drop=True)\n"
     ]
    },
    {
     "name": "stdout",
     "output_type": "stream",
     "text": [
      "CD4_Th17-like_RORC\n"
     ]
    },
    {
     "name": "stderr",
     "output_type": "stream",
     "text": [
      "/tmp/ipykernel_1216842/3218016426.py:19: DeprecationWarning: DataFrameGroupBy.apply operated on the grouping columns. This behavior is deprecated, and in a future version of pandas the grouping columns will be excluded from the operation. Either pass `include_groups=False` to exclude the groupings or explicitly select the grouping columns after groupby to silence this warning.\n",
      "  pheno_file = pheno_file.groupby('#chr', sort=False, group_keys=False).apply(lambda x: x.sort_values('start')).reset_index(drop=True)\n"
     ]
    },
    {
     "name": "stdout",
     "output_type": "stream",
     "text": [
      "CD4_Th_LMNA\n"
     ]
    },
    {
     "name": "stderr",
     "output_type": "stream",
     "text": [
      "/tmp/ipykernel_1216842/3218016426.py:19: DeprecationWarning: DataFrameGroupBy.apply operated on the grouping columns. This behavior is deprecated, and in a future version of pandas the grouping columns will be excluded from the operation. Either pass `include_groups=False` to exclude the groupings or explicitly select the grouping columns after groupby to silence this warning.\n",
      "  pheno_file = pheno_file.groupby('#chr', sort=False, group_keys=False).apply(lambda x: x.sort_values('start')).reset_index(drop=True)\n"
     ]
    },
    {
     "name": "stdout",
     "output_type": "stream",
     "text": [
      "CD4_Th_TNFRSF11A\n"
     ]
    },
    {
     "name": "stderr",
     "output_type": "stream",
     "text": [
      "/tmp/ipykernel_1216842/3218016426.py:19: DeprecationWarning: DataFrameGroupBy.apply operated on the grouping columns. This behavior is deprecated, and in a future version of pandas the grouping columns will be excluded from the operation. Either pass `include_groups=False` to exclude the groupings or explicitly select the grouping columns after groupby to silence this warning.\n",
      "  pheno_file = pheno_file.groupby('#chr', sort=False, group_keys=False).apply(lambda x: x.sort_values('start')).reset_index(drop=True)\n"
     ]
    },
    {
     "name": "stdout",
     "output_type": "stream",
     "text": [
      "CD4_Tn_CCR7\n"
     ]
    },
    {
     "name": "stderr",
     "output_type": "stream",
     "text": [
      "/tmp/ipykernel_1216842/3218016426.py:19: DeprecationWarning: DataFrameGroupBy.apply operated on the grouping columns. This behavior is deprecated, and in a future version of pandas the grouping columns will be excluded from the operation. Either pass `include_groups=False` to exclude the groupings or explicitly select the grouping columns after groupby to silence this warning.\n",
      "  pheno_file = pheno_file.groupby('#chr', sort=False, group_keys=False).apply(lambda x: x.sort_values('start')).reset_index(drop=True)\n"
     ]
    },
    {
     "name": "stdout",
     "output_type": "stream",
     "text": [
      "CD4_Tr1-like_IL10\n"
     ]
    },
    {
     "name": "stderr",
     "output_type": "stream",
     "text": [
      "/tmp/ipykernel_1216842/3218016426.py:19: DeprecationWarning: DataFrameGroupBy.apply operated on the grouping columns. This behavior is deprecated, and in a future version of pandas the grouping columns will be excluded from the operation. Either pass `include_groups=False` to exclude the groupings or explicitly select the grouping columns after groupby to silence this warning.\n",
      "  pheno_file = pheno_file.groupby('#chr', sort=False, group_keys=False).apply(lambda x: x.sort_values('start')).reset_index(drop=True)\n"
     ]
    },
    {
     "name": "stdout",
     "output_type": "stream",
     "text": [
      "CD4_Treg_FCRL3\n"
     ]
    },
    {
     "name": "stderr",
     "output_type": "stream",
     "text": [
      "/tmp/ipykernel_1216842/3218016426.py:19: DeprecationWarning: DataFrameGroupBy.apply operated on the grouping columns. This behavior is deprecated, and in a future version of pandas the grouping columns will be excluded from the operation. Either pass `include_groups=False` to exclude the groupings or explicitly select the grouping columns after groupby to silence this warning.\n",
      "  pheno_file = pheno_file.groupby('#chr', sort=False, group_keys=False).apply(lambda x: x.sort_values('start')).reset_index(drop=True)\n"
     ]
    },
    {
     "name": "stdout",
     "output_type": "stream",
     "text": [
      "CD4_Treg_FOXP3\n"
     ]
    },
    {
     "name": "stderr",
     "output_type": "stream",
     "text": [
      "/tmp/ipykernel_1216842/3218016426.py:19: DeprecationWarning: DataFrameGroupBy.apply operated on the grouping columns. This behavior is deprecated, and in a future version of pandas the grouping columns will be excluded from the operation. Either pass `include_groups=False` to exclude the groupings or explicitly select the grouping columns after groupby to silence this warning.\n",
      "  pheno_file = pheno_file.groupby('#chr', sort=False, group_keys=False).apply(lambda x: x.sort_values('start')).reset_index(drop=True)\n"
     ]
    },
    {
     "name": "stdout",
     "output_type": "stream",
     "text": [
      "CD8_CTL_GZMB\n"
     ]
    },
    {
     "name": "stderr",
     "output_type": "stream",
     "text": [
      "/tmp/ipykernel_1216842/3218016426.py:19: DeprecationWarning: DataFrameGroupBy.apply operated on the grouping columns. This behavior is deprecated, and in a future version of pandas the grouping columns will be excluded from the operation. Either pass `include_groups=False` to exclude the groupings or explicitly select the grouping columns after groupby to silence this warning.\n",
      "  pheno_file = pheno_file.groupby('#chr', sort=False, group_keys=False).apply(lambda x: x.sort_values('start')).reset_index(drop=True)\n"
     ]
    },
    {
     "name": "stdout",
     "output_type": "stream",
     "text": [
      "CD8_Tem_CCR7neg\n"
     ]
    },
    {
     "name": "stderr",
     "output_type": "stream",
     "text": [
      "/tmp/ipykernel_1216842/3218016426.py:19: DeprecationWarning: DataFrameGroupBy.apply operated on the grouping columns. This behavior is deprecated, and in a future version of pandas the grouping columns will be excluded from the operation. Either pass `include_groups=False` to exclude the groupings or explicitly select the grouping columns after groupby to silence this warning.\n",
      "  pheno_file = pheno_file.groupby('#chr', sort=False, group_keys=False).apply(lambda x: x.sort_values('start')).reset_index(drop=True)\n"
     ]
    },
    {
     "name": "stdout",
     "output_type": "stream",
     "text": [
      "CD8_Tn_CCR7\n"
     ]
    },
    {
     "name": "stderr",
     "output_type": "stream",
     "text": [
      "/tmp/ipykernel_1216842/3218016426.py:19: DeprecationWarning: DataFrameGroupBy.apply operated on the grouping columns. This behavior is deprecated, and in a future version of pandas the grouping columns will be excluded from the operation. Either pass `include_groups=False` to exclude the groupings or explicitly select the grouping columns after groupby to silence this warning.\n",
      "  pheno_file = pheno_file.groupby('#chr', sort=False, group_keys=False).apply(lambda x: x.sort_values('start')).reset_index(drop=True)\n"
     ]
    },
    {
     "name": "stdout",
     "output_type": "stream",
     "text": [
      "Cycling_T_MKI67\n"
     ]
    },
    {
     "name": "stderr",
     "output_type": "stream",
     "text": [
      "/tmp/ipykernel_1216842/3218016426.py:19: DeprecationWarning: DataFrameGroupBy.apply operated on the grouping columns. This behavior is deprecated, and in a future version of pandas the grouping columns will be excluded from the operation. Either pass `include_groups=False` to exclude the groupings or explicitly select the grouping columns after groupby to silence this warning.\n",
      "  pheno_file = pheno_file.groupby('#chr', sort=False, group_keys=False).apply(lambda x: x.sort_values('start')).reset_index(drop=True)\n"
     ]
    },
    {
     "name": "stdout",
     "output_type": "stream",
     "text": [
      "MAIT_SLC4A10\n"
     ]
    },
    {
     "name": "stderr",
     "output_type": "stream",
     "text": [
      "/tmp/ipykernel_1216842/3218016426.py:19: DeprecationWarning: DataFrameGroupBy.apply operated on the grouping columns. This behavior is deprecated, and in a future version of pandas the grouping columns will be excluded from the operation. Either pass `include_groups=False` to exclude the groupings or explicitly select the grouping columns after groupby to silence this warning.\n",
      "  pheno_file = pheno_file.groupby('#chr', sort=False, group_keys=False).apply(lambda x: x.sort_values('start')).reset_index(drop=True)\n"
     ]
    },
    {
     "name": "stdout",
     "output_type": "stream",
     "text": [
      "MK_GP9\n"
     ]
    },
    {
     "name": "stderr",
     "output_type": "stream",
     "text": [
      "/tmp/ipykernel_1216842/3218016426.py:19: DeprecationWarning: DataFrameGroupBy.apply operated on the grouping columns. This behavior is deprecated, and in a future version of pandas the grouping columns will be excluded from the operation. Either pass `include_groups=False` to exclude the groupings or explicitly select the grouping columns after groupby to silence this warning.\n",
      "  pheno_file = pheno_file.groupby('#chr', sort=False, group_keys=False).apply(lambda x: x.sort_values('start')).reset_index(drop=True)\n"
     ]
    },
    {
     "name": "stdout",
     "output_type": "stream",
     "text": [
      "Mature_NK_dim_FCGR3A\n"
     ]
    },
    {
     "name": "stderr",
     "output_type": "stream",
     "text": [
      "/tmp/ipykernel_1216842/3218016426.py:19: DeprecationWarning: DataFrameGroupBy.apply operated on the grouping columns. This behavior is deprecated, and in a future version of pandas the grouping columns will be excluded from the operation. Either pass `include_groups=False` to exclude the groupings or explicitly select the grouping columns after groupby to silence this warning.\n",
      "  pheno_file = pheno_file.groupby('#chr', sort=False, group_keys=False).apply(lambda x: x.sort_values('start')).reset_index(drop=True)\n"
     ]
    },
    {
     "name": "stdout",
     "output_type": "stream",
     "text": [
      "NKT_NCR1\n"
     ]
    },
    {
     "name": "stderr",
     "output_type": "stream",
     "text": [
      "/tmp/ipykernel_1216842/3218016426.py:19: DeprecationWarning: DataFrameGroupBy.apply operated on the grouping columns. This behavior is deprecated, and in a future version of pandas the grouping columns will be excluded from the operation. Either pass `include_groups=False` to exclude the groupings or explicitly select the grouping columns after groupby to silence this warning.\n",
      "  pheno_file = pheno_file.groupby('#chr', sort=False, group_keys=False).apply(lambda x: x.sort_values('start')).reset_index(drop=True)\n"
     ]
    },
    {
     "name": "stdout",
     "output_type": "stream",
     "text": [
      "NK_bright_XCL1\n"
     ]
    },
    {
     "name": "stderr",
     "output_type": "stream",
     "text": [
      "/tmp/ipykernel_1216842/3218016426.py:19: DeprecationWarning: DataFrameGroupBy.apply operated on the grouping columns. This behavior is deprecated, and in a future version of pandas the grouping columns will be excluded from the operation. Either pass `include_groups=False` to exclude the groupings or explicitly select the grouping columns after groupby to silence this warning.\n",
      "  pheno_file = pheno_file.groupby('#chr', sort=False, group_keys=False).apply(lambda x: x.sort_values('start')).reset_index(drop=True)\n"
     ]
    },
    {
     "name": "stdout",
     "output_type": "stream",
     "text": [
      "Plasma_IGHA1\n"
     ]
    },
    {
     "name": "stderr",
     "output_type": "stream",
     "text": [
      "/tmp/ipykernel_1216842/3218016426.py:19: DeprecationWarning: DataFrameGroupBy.apply operated on the grouping columns. This behavior is deprecated, and in a future version of pandas the grouping columns will be excluded from the operation. Either pass `include_groups=False` to exclude the groupings or explicitly select the grouping columns after groupby to silence this warning.\n",
      "  pheno_file = pheno_file.groupby('#chr', sort=False, group_keys=False).apply(lambda x: x.sort_values('start')).reset_index(drop=True)\n"
     ]
    },
    {
     "name": "stdout",
     "output_type": "stream",
     "text": [
      "Switched_Bm_IGHDneg\n"
     ]
    },
    {
     "name": "stderr",
     "output_type": "stream",
     "text": [
      "/tmp/ipykernel_1216842/3218016426.py:19: DeprecationWarning: DataFrameGroupBy.apply operated on the grouping columns. This behavior is deprecated, and in a future version of pandas the grouping columns will be excluded from the operation. Either pass `include_groups=False` to exclude the groupings or explicitly select the grouping columns after groupby to silence this warning.\n",
      "  pheno_file = pheno_file.groupby('#chr', sort=False, group_keys=False).apply(lambda x: x.sort_values('start')).reset_index(drop=True)\n"
     ]
    },
    {
     "name": "stdout",
     "output_type": "stream",
     "text": [
      "Switched_Bm_IGHE\n"
     ]
    },
    {
     "name": "stderr",
     "output_type": "stream",
     "text": [
      "/tmp/ipykernel_1216842/3218016426.py:19: DeprecationWarning: DataFrameGroupBy.apply operated on the grouping columns. This behavior is deprecated, and in a future version of pandas the grouping columns will be excluded from the operation. Either pass `include_groups=False` to exclude the groupings or explicitly select the grouping columns after groupby to silence this warning.\n",
      "  pheno_file = pheno_file.groupby('#chr', sort=False, group_keys=False).apply(lambda x: x.sort_values('start')).reset_index(drop=True)\n"
     ]
    },
    {
     "name": "stdout",
     "output_type": "stream",
     "text": [
      "Switched_activated_Bm_CD86\n"
     ]
    },
    {
     "name": "stderr",
     "output_type": "stream",
     "text": [
      "/tmp/ipykernel_1216842/3218016426.py:19: DeprecationWarning: DataFrameGroupBy.apply operated on the grouping columns. This behavior is deprecated, and in a future version of pandas the grouping columns will be excluded from the operation. Either pass `include_groups=False` to exclude the groupings or explicitly select the grouping columns after groupby to silence this warning.\n",
      "  pheno_file = pheno_file.groupby('#chr', sort=False, group_keys=False).apply(lambda x: x.sort_values('start')).reset_index(drop=True)\n"
     ]
    },
    {
     "name": "stdout",
     "output_type": "stream",
     "text": [
      "Transitional_B_SOX4\n"
     ]
    },
    {
     "name": "stderr",
     "output_type": "stream",
     "text": [
      "/tmp/ipykernel_1216842/3218016426.py:19: DeprecationWarning: DataFrameGroupBy.apply operated on the grouping columns. This behavior is deprecated, and in a future version of pandas the grouping columns will be excluded from the operation. Either pass `include_groups=False` to exclude the groupings or explicitly select the grouping columns after groupby to silence this warning.\n",
      "  pheno_file = pheno_file.groupby('#chr', sort=False, group_keys=False).apply(lambda x: x.sort_values('start')).reset_index(drop=True)\n"
     ]
    },
    {
     "name": "stdout",
     "output_type": "stream",
     "text": [
      "Transitional_NK_GZMK\n"
     ]
    },
    {
     "name": "stderr",
     "output_type": "stream",
     "text": [
      "/tmp/ipykernel_1216842/3218016426.py:19: DeprecationWarning: DataFrameGroupBy.apply operated on the grouping columns. This behavior is deprecated, and in a future version of pandas the grouping columns will be excluded from the operation. Either pass `include_groups=False` to exclude the groupings or explicitly select the grouping columns after groupby to silence this warning.\n",
      "  pheno_file = pheno_file.groupby('#chr', sort=False, group_keys=False).apply(lambda x: x.sort_values('start')).reset_index(drop=True)\n"
     ]
    },
    {
     "name": "stdout",
     "output_type": "stream",
     "text": [
      "Unswitched_Bm_CD1C\n"
     ]
    },
    {
     "name": "stderr",
     "output_type": "stream",
     "text": [
      "/tmp/ipykernel_1216842/3218016426.py:19: DeprecationWarning: DataFrameGroupBy.apply operated on the grouping columns. This behavior is deprecated, and in a future version of pandas the grouping columns will be excluded from the operation. Either pass `include_groups=False` to exclude the groupings or explicitly select the grouping columns after groupby to silence this warning.\n",
      "  pheno_file = pheno_file.groupby('#chr', sort=False, group_keys=False).apply(lambda x: x.sort_values('start')).reset_index(drop=True)\n"
     ]
    },
    {
     "name": "stdout",
     "output_type": "stream",
     "text": [
      "cDC2_CD1C\n"
     ]
    },
    {
     "name": "stderr",
     "output_type": "stream",
     "text": [
      "/tmp/ipykernel_1216842/3218016426.py:19: DeprecationWarning: DataFrameGroupBy.apply operated on the grouping columns. This behavior is deprecated, and in a future version of pandas the grouping columns will be excluded from the operation. Either pass `include_groups=False` to exclude the groupings or explicitly select the grouping columns after groupby to silence this warning.\n",
      "  pheno_file = pheno_file.groupby('#chr', sort=False, group_keys=False).apply(lambda x: x.sort_values('start')).reset_index(drop=True)\n"
     ]
    },
    {
     "name": "stdout",
     "output_type": "stream",
     "text": [
      "cMono_CD14\n"
     ]
    },
    {
     "name": "stderr",
     "output_type": "stream",
     "text": [
      "/tmp/ipykernel_1216842/3218016426.py:19: DeprecationWarning: DataFrameGroupBy.apply operated on the grouping columns. This behavior is deprecated, and in a future version of pandas the grouping columns will be excluded from the operation. Either pass `include_groups=False` to exclude the groupings or explicitly select the grouping columns after groupby to silence this warning.\n",
      "  pheno_file = pheno_file.groupby('#chr', sort=False, group_keys=False).apply(lambda x: x.sort_values('start')).reset_index(drop=True)\n"
     ]
    },
    {
     "name": "stdout",
     "output_type": "stream",
     "text": [
      "cMono_IFI44L\n"
     ]
    },
    {
     "name": "stderr",
     "output_type": "stream",
     "text": [
      "/tmp/ipykernel_1216842/3218016426.py:19: DeprecationWarning: DataFrameGroupBy.apply operated on the grouping columns. This behavior is deprecated, and in a future version of pandas the grouping columns will be excluded from the operation. Either pass `include_groups=False` to exclude the groupings or explicitly select the grouping columns after groupby to silence this warning.\n",
      "  pheno_file = pheno_file.groupby('#chr', sort=False, group_keys=False).apply(lambda x: x.sort_values('start')).reset_index(drop=True)\n"
     ]
    },
    {
     "name": "stdout",
     "output_type": "stream",
     "text": [
      "cMono_IL1B\n"
     ]
    },
    {
     "name": "stderr",
     "output_type": "stream",
     "text": [
      "/tmp/ipykernel_1216842/3218016426.py:19: DeprecationWarning: DataFrameGroupBy.apply operated on the grouping columns. This behavior is deprecated, and in a future version of pandas the grouping columns will be excluded from the operation. Either pass `include_groups=False` to exclude the groupings or explicitly select the grouping columns after groupby to silence this warning.\n",
      "  pheno_file = pheno_file.groupby('#chr', sort=False, group_keys=False).apply(lambda x: x.sort_values('start')).reset_index(drop=True)\n"
     ]
    },
    {
     "name": "stdout",
     "output_type": "stream",
     "text": [
      "gdT2_GZMH\n"
     ]
    },
    {
     "name": "stderr",
     "output_type": "stream",
     "text": [
      "/tmp/ipykernel_1216842/3218016426.py:19: DeprecationWarning: DataFrameGroupBy.apply operated on the grouping columns. This behavior is deprecated, and in a future version of pandas the grouping columns will be excluded from the operation. Either pass `include_groups=False` to exclude the groupings or explicitly select the grouping columns after groupby to silence this warning.\n",
      "  pheno_file = pheno_file.groupby('#chr', sort=False, group_keys=False).apply(lambda x: x.sort_values('start')).reset_index(drop=True)\n"
     ]
    },
    {
     "name": "stdout",
     "output_type": "stream",
     "text": [
      "gdT2_IL12RB2\n"
     ]
    },
    {
     "name": "stderr",
     "output_type": "stream",
     "text": [
      "/tmp/ipykernel_1216842/3218016426.py:19: DeprecationWarning: DataFrameGroupBy.apply operated on the grouping columns. This behavior is deprecated, and in a future version of pandas the grouping columns will be excluded from the operation. Either pass `include_groups=False` to exclude the groupings or explicitly select the grouping columns after groupby to silence this warning.\n",
      "  pheno_file = pheno_file.groupby('#chr', sort=False, group_keys=False).apply(lambda x: x.sort_values('start')).reset_index(drop=True)\n"
     ]
    },
    {
     "name": "stdout",
     "output_type": "stream",
     "text": [
      "intMono_GFRA2\n"
     ]
    },
    {
     "name": "stderr",
     "output_type": "stream",
     "text": [
      "/tmp/ipykernel_1216842/3218016426.py:19: DeprecationWarning: DataFrameGroupBy.apply operated on the grouping columns. This behavior is deprecated, and in a future version of pandas the grouping columns will be excluded from the operation. Either pass `include_groups=False` to exclude the groupings or explicitly select the grouping columns after groupby to silence this warning.\n",
      "  pheno_file = pheno_file.groupby('#chr', sort=False, group_keys=False).apply(lambda x: x.sort_values('start')).reset_index(drop=True)\n"
     ]
    },
    {
     "name": "stdout",
     "output_type": "stream",
     "text": [
      "ncMono_C1QA\n"
     ]
    },
    {
     "name": "stderr",
     "output_type": "stream",
     "text": [
      "/tmp/ipykernel_1216842/3218016426.py:19: DeprecationWarning: DataFrameGroupBy.apply operated on the grouping columns. This behavior is deprecated, and in a future version of pandas the grouping columns will be excluded from the operation. Either pass `include_groups=False` to exclude the groupings or explicitly select the grouping columns after groupby to silence this warning.\n",
      "  pheno_file = pheno_file.groupby('#chr', sort=False, group_keys=False).apply(lambda x: x.sort_values('start')).reset_index(drop=True)\n"
     ]
    },
    {
     "name": "stdout",
     "output_type": "stream",
     "text": [
      "ncMono_FCGR3A\n"
     ]
    },
    {
     "name": "stderr",
     "output_type": "stream",
     "text": [
      "/tmp/ipykernel_1216842/3218016426.py:19: DeprecationWarning: DataFrameGroupBy.apply operated on the grouping columns. This behavior is deprecated, and in a future version of pandas the grouping columns will be excluded from the operation. Either pass `include_groups=False` to exclude the groupings or explicitly select the grouping columns after groupby to silence this warning.\n",
      "  pheno_file = pheno_file.groupby('#chr', sort=False, group_keys=False).apply(lambda x: x.sort_values('start')).reset_index(drop=True)\n"
     ]
    },
    {
     "name": "stdout",
     "output_type": "stream",
     "text": [
      "pDC_IRF4\n"
     ]
    },
    {
     "name": "stderr",
     "output_type": "stream",
     "text": [
      "/tmp/ipykernel_1216842/3218016426.py:19: DeprecationWarning: DataFrameGroupBy.apply operated on the grouping columns. This behavior is deprecated, and in a future version of pandas the grouping columns will be excluded from the operation. Either pass `include_groups=False` to exclude the groupings or explicitly select the grouping columns after groupby to silence this warning.\n",
      "  pheno_file = pheno_file.groupby('#chr', sort=False, group_keys=False).apply(lambda x: x.sort_values('start')).reset_index(drop=True)\n"
     ]
    },
    {
     "name": "stdout",
     "output_type": "stream",
     "text": [
      "pre-Switched_Bm_JAM3\n"
     ]
    },
    {
     "name": "stderr",
     "output_type": "stream",
     "text": [
      "/tmp/ipykernel_1216842/3218016426.py:19: DeprecationWarning: DataFrameGroupBy.apply operated on the grouping columns. This behavior is deprecated, and in a future version of pandas the grouping columns will be excluded from the operation. Either pass `include_groups=False` to exclude the groupings or explicitly select the grouping columns after groupby to silence this warning.\n",
      "  pheno_file = pheno_file.groupby('#chr', sort=False, group_keys=False).apply(lambda x: x.sort_values('start')).reset_index(drop=True)\n"
     ]
    }
   ],
   "source": [
    "for celltype in celltype_over_70_caQTL['final_annotation']:\n",
    "    \n",
    "    print(celltype)\n",
    "    \n",
    "    norm_expr = pd.read_csv(f'/CIMA/Data/caQTL/normal_dis/{celltype}.csv', index_col=0)\n",
    "    norm_expr.columns = norm_expr.columns.str.replace('.', ':', 1).str.replace('.', '-', 1)\n",
    "    norm_expr = norm_expr.T\n",
    "    norm_expr = norm_expr.reset_index() \n",
    "\n",
    "    info = pd.DataFrame({'#chr':norm_expr['index'].str.split(\":\", expand=True)[0].str.replace('chr','')})\n",
    "    info['start'] = vectorized_calculate_midpoint(norm_expr['index']) -1\n",
    "    info['end'] = vectorized_calculate_midpoint(norm_expr['index'])\n",
    "    info['gene_id'] = norm_expr['index']\n",
    "\n",
    "    pheno_file =  pd.merge(info, norm_expr, right_on='index', left_on='gene_id', how='inner')\n",
    "    pheno_file = pheno_file.drop(['index'], axis=1)\n",
    "    pheno_file['#chr'] = pheno_file['#chr'].astype(int)\n",
    "    pheno_file = pheno_file.sort_values(by = '#chr').reset_index(drop=True)\n",
    "    pheno_file = pheno_file.groupby('#chr', sort=False, group_keys=False).apply(lambda x: x.sort_values('start')).reset_index(drop=True)\n",
    "    \n",
    "    if norm_expr.shape[0] != pheno_file.shape[0]:\n",
    "        raise ValueError(\"The number of rows in the two dataframes are not equal.\")\n",
    "    else:\n",
    "        pheno_file.to_csv(f'/CIMA/Data/caQTL/bed_file/{celltype}.bed', sep='\\t', index=False)"
   ]
  }
 ],
 "metadata": {
  "kernelspec": {
   "display_name": "tensorqtl",
   "language": "python",
   "name": "tensorqtl"
  },
  "language_info": {
   "codemirror_mode": {
    "name": "ipython",
    "version": 3
   },
   "file_extension": ".py",
   "mimetype": "text/x-python",
   "name": "python",
   "nbconvert_exporter": "python",
   "pygments_lexer": "ipython3",
   "version": "3.10.16"
  }
 },
 "nbformat": 4,
 "nbformat_minor": 5
}
