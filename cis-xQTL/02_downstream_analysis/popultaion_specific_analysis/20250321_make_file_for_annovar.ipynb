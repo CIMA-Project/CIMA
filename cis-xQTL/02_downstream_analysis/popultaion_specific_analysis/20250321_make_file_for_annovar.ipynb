{
 "cells": [
  {
   "cell_type": "code",
   "execution_count": 18,
   "id": "9e1d6e0f-0d75-4f67-ba88-a50093e3da0a",
   "metadata": {
    "execution": {
     "iopub.execute_input": "2025-03-21T04:39:09.635778Z",
     "iopub.status.busy": "2025-03-21T04:39:09.635184Z",
     "iopub.status.idle": "2025-03-21T04:39:09.641933Z",
     "shell.execute_reply": "2025-03-21T04:39:09.640407Z",
     "shell.execute_reply.started": "2025-03-21T04:39:09.635727Z"
    }
   },
   "outputs": [],
   "source": [
    "import pandas as pd\n",
    "import numpy as np"
   ]
  },
  {
   "cell_type": "code",
   "execution_count": 28,
   "id": "a111ef6c-5527-494f-ba1c-fb5b73d41d20",
   "metadata": {
    "execution": {
     "iopub.execute_input": "2025-03-21T04:47:58.480733Z",
     "iopub.status.busy": "2025-03-21T04:47:58.479674Z",
     "iopub.status.idle": "2025-03-21T04:48:01.936400Z",
     "shell.execute_reply": "2025-03-21T04:48:01.934979Z",
     "shell.execute_reply.started": "2025-03-21T04:47:58.480699Z"
    }
   },
   "outputs": [],
   "source": [
    "bim_file = pd.read_csv('/CIMA/genetics/qc/10.maf01.bim',sep=\"\\t\",header=None)"
   ]
  },
  {
   "cell_type": "code",
   "execution_count": 29,
   "id": "bc59f770-8bb7-4340-8191-e1cddc770261",
   "metadata": {
    "execution": {
     "iopub.execute_input": "2025-03-21T04:48:01.938315Z",
     "iopub.status.busy": "2025-03-21T04:48:01.937999Z",
     "iopub.status.idle": "2025-03-21T04:48:01.947229Z",
     "shell.execute_reply": "2025-03-21T04:48:01.946832Z",
     "shell.execute_reply.started": "2025-03-21T04:48:01.938295Z"
    }
   },
   "outputs": [
    {
     "data": {
      "text/html": [
       "<div>\n",
       "<style scoped>\n",
       "    .dataframe tbody tr th:only-of-type {\n",
       "        vertical-align: middle;\n",
       "    }\n",
       "\n",
       "    .dataframe tbody tr th {\n",
       "        vertical-align: top;\n",
       "    }\n",
       "\n",
       "    .dataframe thead th {\n",
       "        text-align: right;\n",
       "    }\n",
       "</style>\n",
       "<table border=\"1\" class=\"dataframe\">\n",
       "  <thead>\n",
       "    <tr style=\"text-align: right;\">\n",
       "      <th></th>\n",
       "      <th>0</th>\n",
       "      <th>1</th>\n",
       "      <th>2</th>\n",
       "      <th>3</th>\n",
       "      <th>4</th>\n",
       "      <th>5</th>\n",
       "    </tr>\n",
       "  </thead>\n",
       "  <tbody>\n",
       "    <tr>\n",
       "      <th>0</th>\n",
       "      <td>1</td>\n",
       "      <td>chr1_266093</td>\n",
       "      <td>0</td>\n",
       "      <td>266093</td>\n",
       "      <td>G</td>\n",
       "      <td>C</td>\n",
       "    </tr>\n",
       "    <tr>\n",
       "      <th>1</th>\n",
       "      <td>1</td>\n",
       "      <td>chr1_266225</td>\n",
       "      <td>0</td>\n",
       "      <td>266225</td>\n",
       "      <td>A</td>\n",
       "      <td>C</td>\n",
       "    </tr>\n",
       "    <tr>\n",
       "      <th>2</th>\n",
       "      <td>1</td>\n",
       "      <td>chr1_280087</td>\n",
       "      <td>0</td>\n",
       "      <td>280087</td>\n",
       "      <td>G</td>\n",
       "      <td>A</td>\n",
       "    </tr>\n",
       "    <tr>\n",
       "      <th>3</th>\n",
       "      <td>1</td>\n",
       "      <td>chr1_280485</td>\n",
       "      <td>0</td>\n",
       "      <td>280485</td>\n",
       "      <td>C</td>\n",
       "      <td>CT</td>\n",
       "    </tr>\n",
       "    <tr>\n",
       "      <th>4</th>\n",
       "      <td>1</td>\n",
       "      <td>chr1_285386</td>\n",
       "      <td>0</td>\n",
       "      <td>285386</td>\n",
       "      <td>G</td>\n",
       "      <td>T</td>\n",
       "    </tr>\n",
       "    <tr>\n",
       "      <th>...</th>\n",
       "      <td>...</td>\n",
       "      <td>...</td>\n",
       "      <td>...</td>\n",
       "      <td>...</td>\n",
       "      <td>...</td>\n",
       "      <td>...</td>\n",
       "    </tr>\n",
       "    <tr>\n",
       "      <th>5051392</th>\n",
       "      <td>22</td>\n",
       "      <td>chr22_50797551</td>\n",
       "      <td>0</td>\n",
       "      <td>50797551</td>\n",
       "      <td>A</td>\n",
       "      <td>G</td>\n",
       "    </tr>\n",
       "    <tr>\n",
       "      <th>5051393</th>\n",
       "      <td>22</td>\n",
       "      <td>chr22_50798635</td>\n",
       "      <td>0</td>\n",
       "      <td>50798635</td>\n",
       "      <td>C</td>\n",
       "      <td>T</td>\n",
       "    </tr>\n",
       "    <tr>\n",
       "      <th>5051394</th>\n",
       "      <td>22</td>\n",
       "      <td>chr22_50802392</td>\n",
       "      <td>0</td>\n",
       "      <td>50802392</td>\n",
       "      <td>T</td>\n",
       "      <td>C</td>\n",
       "    </tr>\n",
       "    <tr>\n",
       "      <th>5051395</th>\n",
       "      <td>22</td>\n",
       "      <td>chr22_50803843</td>\n",
       "      <td>0</td>\n",
       "      <td>50803843</td>\n",
       "      <td>G</td>\n",
       "      <td>C</td>\n",
       "    </tr>\n",
       "    <tr>\n",
       "      <th>5051396</th>\n",
       "      <td>22</td>\n",
       "      <td>chr22_50807702</td>\n",
       "      <td>0</td>\n",
       "      <td>50807702</td>\n",
       "      <td>G</td>\n",
       "      <td>A</td>\n",
       "    </tr>\n",
       "  </tbody>\n",
       "</table>\n",
       "<p>5051397 rows × 6 columns</p>\n",
       "</div>"
      ],
      "text/plain": [
       "          0               1  2         3  4   5\n",
       "0         1     chr1_266093  0    266093  G   C\n",
       "1         1     chr1_266225  0    266225  A   C\n",
       "2         1     chr1_280087  0    280087  G   A\n",
       "3         1     chr1_280485  0    280485  C  CT\n",
       "4         1     chr1_285386  0    285386  G   T\n",
       "...      ..             ... ..       ... ..  ..\n",
       "5051392  22  chr22_50797551  0  50797551  A   G\n",
       "5051393  22  chr22_50798635  0  50798635  C   T\n",
       "5051394  22  chr22_50802392  0  50802392  T   C\n",
       "5051395  22  chr22_50803843  0  50803843  G   C\n",
       "5051396  22  chr22_50807702  0  50807702  G   A\n",
       "\n",
       "[5051397 rows x 6 columns]"
      ]
     },
     "execution_count": 29,
     "metadata": {},
     "output_type": "execute_result"
    }
   ],
   "source": [
    "bim_file"
   ]
  },
  {
   "cell_type": "code",
   "execution_count": null,
   "id": "0182760a-4b53-4ec3-872e-a670e9721dda",
   "metadata": {
    "execution": {
     "iopub.execute_input": "2025-03-21T04:48:03.519079Z",
     "iopub.status.busy": "2025-03-21T04:48:03.518845Z",
     "iopub.status.idle": "2025-03-21T04:48:03.525721Z",
     "shell.execute_reply": "2025-03-21T04:48:03.525269Z",
     "shell.execute_reply.started": "2025-03-21T04:48:03.519059Z"
    }
   },
   "outputs": [],
   "source": [
    "lead_snp1 = pd.read_csv('/CIMA/Result/20250108_cis_eQTL_studywise_sig.csv',index_col=0)\n",
    "lead_snp1 = lead_snp1['variant_id'].unique()\n",
    "\n",
    "lead_snp2 = pd.read_csv('/CIMA/Result/20250108_cis_caQTL_studywise_sig.csv',index_col=0)\n",
    "lead_snp2 = lead_snp2['variant_id'].unique()\n",
    "\n",
    "lead_snp_all = np.concatenate([lead_snp1,lead_snp2])"
   ]
  },
  {
   "cell_type": "code",
   "execution_count": 33,
   "id": "1c57420a-53d3-4bda-8df0-ec25e090974c",
   "metadata": {
    "execution": {
     "iopub.execute_input": "2025-03-21T04:48:03.526554Z",
     "iopub.status.busy": "2025-03-21T04:48:03.526377Z",
     "iopub.status.idle": "2025-03-21T04:48:04.050224Z",
     "shell.execute_reply": "2025-03-21T04:48:04.049651Z",
     "shell.execute_reply.started": "2025-03-21T04:48:03.526536Z"
    }
   },
   "outputs": [],
   "source": [
    "bim_file = bim_file[bim_file[1].isin(lead_snp_all)]"
   ]
  },
  {
   "cell_type": "code",
   "execution_count": 34,
   "id": "64bb03af-6d40-4780-ac04-dd52a27055e2",
   "metadata": {
    "execution": {
     "iopub.execute_input": "2025-03-21T04:48:04.051341Z",
     "iopub.status.busy": "2025-03-21T04:48:04.051078Z",
     "iopub.status.idle": "2025-03-21T04:48:04.453403Z",
     "shell.execute_reply": "2025-03-21T04:48:04.452603Z",
     "shell.execute_reply.started": "2025-03-21T04:48:04.051321Z"
    }
   },
   "outputs": [
    {
     "name": "stderr",
     "output_type": "stream",
     "text": [
      "/tmp/ipykernel_2388833/2994479371.py:2: SettingWithCopyWarning: \n",
      "A value is trying to be set on a copy of a slice from a DataFrame.\n",
      "Try using .loc[row_indexer,col_indexer] = value instead\n",
      "\n",
      "See the caveats in the documentation: https://pandas.pydata.org/pandas-docs/stable/user_guide/indexing.html#returning-a-view-versus-a-copy\n",
      "  bim_file[6] = bim_file[1].str.split('_').str[0]\n"
     ]
    }
   ],
   "source": [
    "# 按 \"_\" 分割，并取第一部分赋值给新列 \"chr\"\n",
    "bim_file[6] = bim_file[1].str.split('_').str[0]"
   ]
  },
  {
   "cell_type": "code",
   "execution_count": 36,
   "id": "975e82ee-6a96-434f-92c8-d2f70b44a2a8",
   "metadata": {
    "execution": {
     "iopub.execute_input": "2025-03-21T04:48:26.634158Z",
     "iopub.status.busy": "2025-03-21T04:48:26.633215Z",
     "iopub.status.idle": "2025-03-21T04:48:26.652152Z",
     "shell.execute_reply": "2025-03-21T04:48:26.650870Z",
     "shell.execute_reply.started": "2025-03-21T04:48:26.634089Z"
    }
   },
   "outputs": [],
   "source": [
    "bim_file = bim_file[[6,3,3,5,4]]"
   ]
  },
  {
   "cell_type": "code",
   "execution_count": 42,
   "id": "b5370194-adf7-44e6-861c-5b74d4a281ef",
   "metadata": {
    "execution": {
     "iopub.execute_input": "2025-03-21T04:56:10.601296Z",
     "iopub.status.busy": "2025-03-21T04:56:10.600695Z",
     "iopub.status.idle": "2025-03-21T04:56:10.905384Z",
     "shell.execute_reply": "2025-03-21T04:56:10.904065Z",
     "shell.execute_reply.started": "2025-03-21T04:56:10.601245Z"
    }
   },
   "outputs": [],
   "source": [
    "bim_file.to_csv('/CIMA/Data/20250321_lead_qtl.avinput',header=None,sep=\" \",index=None)"
   ]
  }
 ],
 "metadata": {
  "kernelspec": {
   "display_name": "scPAFA",
   "language": "python",
   "name": "scpafa"
  },
  "language_info": {
   "codemirror_mode": {
    "name": "ipython",
    "version": 3
   },
   "file_extension": ".py",
   "mimetype": "text/x-python",
   "name": "python",
   "nbconvert_exporter": "python",
   "pygments_lexer": "ipython3",
   "version": "3.10.14"
  }
 },
 "nbformat": 4,
 "nbformat_minor": 5
}
