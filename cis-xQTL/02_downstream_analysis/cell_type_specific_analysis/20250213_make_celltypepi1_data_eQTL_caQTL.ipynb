{
 "cells": [
  {
   "cell_type": "code",
   "execution_count": 2,
   "id": "97cf2b5b",
   "metadata": {
    "execution": {
     "iopub.execute_input": "2025-03-24T07:44:28.851557Z",
     "iopub.status.busy": "2025-03-24T07:44:28.851052Z",
     "iopub.status.idle": "2025-03-24T07:44:28.857198Z",
     "shell.execute_reply": "2025-03-24T07:44:28.855715Z",
     "shell.execute_reply.started": "2025-03-24T07:44:28.851522Z"
    }
   },
   "outputs": [],
   "source": [
    "import pandas as pd"
   ]
  },
  {
   "cell_type": "code",
   "execution_count": null,
   "id": "77161c84",
   "metadata": {
    "execution": {
     "iopub.execute_input": "2025-03-24T07:44:29.647508Z",
     "iopub.status.busy": "2025-03-24T07:44:29.647020Z",
     "iopub.status.idle": "2025-03-24T07:44:30.173797Z",
     "shell.execute_reply": "2025-03-24T07:44:30.172444Z",
     "shell.execute_reply.started": "2025-03-24T07:44:29.647461Z"
    }
   },
   "outputs": [],
   "source": [
    "eQTL_sig = pd.read_csv('/CIMA/20250108_cis_eQTL_studywise_sig.csv',index_col=0)\n",
    "eQTL_sig['pair'] = eQTL_sig['phenotype_id']+'_'+eQTL_sig['variant_id']"
   ]
  },
  {
   "cell_type": "code",
   "execution_count": null,
   "id": "55523e24",
   "metadata": {},
   "outputs": [
    {
     "name": "stdout",
     "output_type": "stream",
     "text": [
      "processing_Atypical_Bm_ITGAX\n",
      "processing_Bn_IFIT3\n",
      "processing_Bn_TCL1A\n",
      "processing_Bn_IL6\n",
      "processing_CD4_CTL_GZMH\n",
      "processing_CD4_Tcm_CXCR5\n",
      "processing_CD4_Tcm_IFI44L\n",
      "processing_CD4_Tem_CCR7neg\n",
      "processing_CD4_Tfh-like_CXCR5\n",
      "processing_CD4_Th1-like_GZMK\n",
      "processing_CD4_Th17-like_RORC\n",
      "processing_CD4_Th22-like_CCR10\n",
      "processing_CD4_Th_CCR4\n",
      "processing_CD4_Th_CR1\n",
      "processing_CD4_Th_LMNA\n",
      "processing_CD4_Th_TNFRSF11A\n",
      "processing_CD4_Tn_CCR7\n",
      "processing_CD4_Tn_CXCR5\n",
      "processing_CD4_Tn_LIMS1\n",
      "processing_CD4_Tn_SOX4\n",
      "processing_CD4_Tr1-like_IL10\n",
      "processing_CD4_Treg_FCRL3\n",
      "processing_CD4_Treg_FOXP3\n",
      "processing_CD8_CTL_GZMB\n",
      "processing_CD8_CTL_GZMK\n",
      "processing_CD8_CTL_IFI44L\n",
      "processing_CD8_Tcm_IFI44L\n",
      "processing_CD8_Tem_CCR7neg\n",
      "processing_CD8_Tn_CCR7\n",
      "processing_CD8_Tn_SOX4\n",
      "processing_Cycling_NK_MKI67\n",
      "processing_Cycling_T_MKI67\n",
      "processing_pre-T-like_CABP4\n",
      "processing_HSPC_CD34\n",
      "processing_ILC2_IL2RA\n",
      "processing_MAIT_SLC4A10\n",
      "processing_MK_GP9\n",
      "processing_NKT_NCR1\n",
      "processing_NKT_IFNG\n",
      "processing_NK_bright_XCL1\n",
      "processing_Plasma_IGHA1\n",
      "processing_Plasma_IGHG1\n",
      "processing_Plasmablast_MKI67\n",
      "processing_Switched_Bm_IGHE\n",
      "processing_Switched_activated_Bm_CD86\n",
      "processing_Switched_Bm_IGHDneg\n",
      "processing_Transitional_B_SOX4\n",
      "processing_Unswitched_Bm_CD1C\n",
      "processing_Unswitched_Bm_IL6\n",
      "processing_cDC1_BATF3\n",
      "processing_cDC2_CD1C\n",
      "processing_cDC_CSF2RA\n",
      "processing_cMono_CD14\n",
      "processing_cMono_CXCL10\n",
      "processing_cMono_IFI44L\n",
      "processing_cMono_IL1B\n",
      "processing_gdT1_TRDV1\n",
      "processing_gdT2_GZMK\n",
      "processing_gdT2_IL12RB2\n",
      "processing_gdT2_GZMH\n",
      "processing_intMono_GFRA2\n",
      "processing_Mature_NK_dim_FCGR3A\n",
      "processing_ncMono_C1QA\n",
      "processing_ncMono_FCGR3A\n",
      "processing_ncMono_IFIT1\n",
      "processing_pDC_IRF4\n",
      "processing_pre-Switched_Bm_JAM3\n",
      "processing_Terminal_NK_dim_CD160neg\n",
      "processing_Transitional_NK_GZMK\n"
     ]
    }
   ],
   "source": [
    "df_list = []\n",
    "for celltype in eQTL_sig['celltype'].unique():\n",
    "    print(f'processing_{celltype}')\n",
    "    nominal_P = pd.read_parquet(f'/CIMA/eQTL_tensorqtl_mergenominal/{celltype}.parquet')\n",
    "    \n",
    "    #去除celltype_A等于自身,没有意义\n",
    "    eQTL_sig_use = eQTL_sig[eQTL_sig['celltype'] != celltype].copy()\n",
    "    eQTL_sig_use = eQTL_sig_use[['celltype','pair']]\n",
    "    eQTL_sig_use.columns = ['celltype_A','pair']\n",
    "    \n",
    "    #只选取需要的数据\n",
    "    nominal_P = pd.read_parquet(f'/CIMA/eQTL_tensorqtl_mergenominal/{celltype}.parquet')\n",
    "    nominal_P['celltype_B'] = celltype\n",
    "    nominal_P['pair'] = nominal_P['phenotype_id']+'_'+nominal_P['variant_id']\n",
    "    nominal_P = nominal_P[['pair','celltype_B','pval_nominal']]\n",
    "    \n",
    "    #合并_只选取相同的pair\n",
    "    nominal_merged_df = pd.merge(eQTL_sig_use, nominal_P, on='pair', how='inner') \n",
    "    \n",
    "    df_list.append(nominal_merged_df)"
   ]
  },
  {
   "cell_type": "code",
   "execution_count": null,
   "id": "aa7f2e8e",
   "metadata": {},
   "outputs": [
    {
     "name": "stdout",
     "output_type": "stream",
     "text": [
      "26\n",
      "4692\n"
     ]
    }
   ],
   "source": [
    "final_df = pd.concat(df_list, ignore_index=True)\n",
    "final_df['celltype_pair'] = final_df['celltype_A']+'_xxx_'+final_df['celltype_B']\n",
    "print(min(final_df['celltype_pair'].value_counts()))\n",
    "print(final_df['celltype_pair'].nunique())\n",
    "final_df.to_csv('/CIMA/pi1_test/20250213_celltype_pi1_eQTLdata.csv')"
   ]
  },
  {
   "cell_type": "code",
   "execution_count": null,
   "id": "b630ed07",
   "metadata": {},
   "outputs": [],
   "source": [
    "caQTL_sig = pd.read_csv('/CIMA/20250108_cis_caQTL_studywise_sig.csv',index_col=0)\n",
    "caQTL_sig['pair'] = caQTL_sig['phenotype_id']+'_'+caQTL_sig['variant_id']"
   ]
  },
  {
   "cell_type": "code",
   "execution_count": null,
   "id": "5f0fa0d0",
   "metadata": {},
   "outputs": [
    {
     "name": "stdout",
     "output_type": "stream",
     "text": [
      "processing_Atypical_Bm_ITGAX\n",
      "processing_Bn_TCL1A\n",
      "processing_CD4_CTL_GZMH\n",
      "processing_CD4_Tcm_CXCR5\n",
      "processing_CD4_Tcm_IFI44L\n",
      "processing_CD4_Tem_CCR7neg\n",
      "processing_CD4_Tfh-like_CXCR5\n",
      "processing_CD4_Th1-like_GZMK\n",
      "processing_CD4_Th17-like_RORC\n",
      "processing_CD4_Th_LMNA\n",
      "processing_CD4_Th_TNFRSF11A\n",
      "processing_CD4_Tn_CCR7\n",
      "processing_CD4_Tr1-like_IL10\n",
      "processing_CD4_Treg_FCRL3\n",
      "processing_CD4_Treg_FOXP3\n",
      "processing_CD8_CTL_GZMB\n",
      "processing_CD8_Tem_CCR7neg\n",
      "processing_CD8_Tn_CCR7\n",
      "processing_Cycling_T_MKI67\n",
      "processing_MAIT_SLC4A10\n",
      "processing_MK_GP9\n",
      "processing_Mature_NK_dim_FCGR3A\n",
      "processing_NKT_NCR1\n",
      "processing_NK_bright_XCL1\n",
      "processing_Plasma_IGHA1\n",
      "processing_Switched_Bm_IGHDneg\n",
      "processing_Switched_Bm_IGHE\n",
      "processing_Switched_activated_Bm_CD86\n",
      "processing_Transitional_B_SOX4\n",
      "processing_Transitional_NK_GZMK\n",
      "processing_Unswitched_Bm_CD1C\n",
      "processing_cDC2_CD1C\n",
      "processing_cMono_CD14\n",
      "processing_cMono_IFI44L\n",
      "processing_cMono_IL1B\n",
      "processing_gdT2_GZMH\n",
      "processing_gdT2_IL12RB2\n",
      "processing_intMono_GFRA2\n",
      "processing_ncMono_C1QA\n",
      "processing_ncMono_FCGR3A\n",
      "processing_pDC_IRF4\n",
      "processing_pre-Switched_Bm_JAM3\n"
     ]
    }
   ],
   "source": [
    "df_list = []\n",
    "\n",
    "for celltype in caQTL_sig['celltype'].unique():\n",
    "    print(f'processing_{celltype}')\n",
    "    nominal_P = pd.read_parquet(f'/CIMA/caQTL_tensorqtl_mergenominal/{celltype}.parquet')\n",
    "    \n",
    "    #去除celltype_A等于自身,没有意义\n",
    "    caQTL_sig_use = caQTL_sig[caQTL_sig['celltype'] != celltype].copy()\n",
    "    caQTL_sig_use = caQTL_sig_use[['celltype','pair']]\n",
    "    caQTL_sig_use.columns = ['celltype_A','pair']\n",
    "    \n",
    "    #只选取需要的数据\n",
    "    nominal_P = pd.read_parquet(f'/CIMA/caQTL_tensorqtl_mergenominal/{celltype}.parquet')\n",
    "    nominal_P['celltype_B'] = celltype\n",
    "    nominal_P['pair'] = nominal_P['phenotype_id']+'_'+nominal_P['variant_id']\n",
    "    nominal_P = nominal_P[['pair','celltype_B','pval_nominal']]\n",
    "    \n",
    "    #合并_只选取相同的pair\n",
    "    nominal_merged_df = pd.merge(caQTL_sig_use, nominal_P, on='pair', how='inner') \n",
    "    \n",
    "    df_list.append(nominal_merged_df)"
   ]
  },
  {
   "cell_type": "code",
   "execution_count": null,
   "id": "9e3404d6",
   "metadata": {},
   "outputs": [
    {
     "name": "stdout",
     "output_type": "stream",
     "text": [
      "36\n",
      "1722\n"
     ]
    }
   ],
   "source": [
    "final_df = pd.concat(df_list, ignore_index=True)\n",
    "final_df['celltype_pair'] = final_df['celltype_A']+'_xxx_'+final_df['celltype_B']\n",
    "print(min(final_df['celltype_pair'].value_counts()))\n",
    "print(final_df['celltype_pair'].nunique())\n",
    "final_df.to_csv('/CIMA/pi1_test/20250213_celltype_pi1_caQTLdata.csv')"
   ]
  }
 ],
 "metadata": {
  "kernelspec": {
   "display_name": "scPAFA",
   "language": "python",
   "name": "scpafa"
  },
  "language_info": {
   "codemirror_mode": {
    "name": "ipython",
    "version": 3
   },
   "file_extension": ".py",
   "mimetype": "text/x-python",
   "name": "python",
   "nbconvert_exporter": "python",
   "pygments_lexer": "ipython3",
   "version": "3.10.14"
  }
 },
 "nbformat": 4,
 "nbformat_minor": 5
}
