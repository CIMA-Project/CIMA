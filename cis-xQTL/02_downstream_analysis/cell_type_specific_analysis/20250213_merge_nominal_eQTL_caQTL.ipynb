{
 "cells": [
  {
   "cell_type": "code",
   "execution_count": 1,
   "id": "0bb81cf6-f295-4d32-ab65-e4623fa95448",
   "metadata": {
    "execution": {
     "iopub.execute_input": "2025-02-13T06:51:48.814026Z",
     "iopub.status.busy": "2025-02-13T06:51:48.813485Z",
     "iopub.status.idle": "2025-02-13T06:51:49.214522Z",
     "shell.execute_reply": "2025-02-13T06:51:49.213024Z",
     "shell.execute_reply.started": "2025-02-13T06:51:48.813991Z"
    }
   },
   "outputs": [],
   "source": [
    "import pandas as pd\n",
    "import os"
   ]
  },
  {
   "cell_type": "code",
   "execution_count": null,
   "id": "b3e31e4e-d4cd-47c9-ae16-c67d70839660",
   "metadata": {
    "execution": {
     "iopub.execute_input": "2025-02-13T06:56:58.252403Z",
     "iopub.status.busy": "2025-02-13T06:56:58.251112Z",
     "iopub.status.idle": "2025-02-13T06:56:58.257913Z",
     "shell.execute_reply": "2025-02-13T06:56:58.256715Z",
     "shell.execute_reply.started": "2025-02-13T06:56:58.252344Z"
    }
   },
   "outputs": [],
   "source": [
    "eQTL_dir = '/CIMA/Result/eQTL_tensorqtl/'\n",
    "caQTL_dir = '/CIMA/Result/caQTL_tensorqtl/'"
   ]
  },
  {
   "cell_type": "code",
   "execution_count": null,
   "id": "0aff8509-5c7d-4cd6-9416-534080968e96",
   "metadata": {
    "execution": {
     "iopub.execute_input": "2025-02-13T06:59:15.037279Z",
     "iopub.status.busy": "2025-02-13T06:59:15.036720Z",
     "iopub.status.idle": "2025-02-13T06:59:15.529050Z",
     "shell.execute_reply": "2025-02-13T06:59:15.528278Z",
     "shell.execute_reply.started": "2025-02-13T06:59:15.037256Z"
    }
   },
   "outputs": [],
   "source": [
    "eQTL_sig = pd.read_csv('/CIMA/Result/20250108_cis_eQTL_studywise_sig.csv',index_col=0)"
   ]
  },
  {
   "cell_type": "code",
   "execution_count": null,
   "id": "d456292e",
   "metadata": {},
   "outputs": [
    {
     "data": {
      "text/plain": [
       "\"\\nfor celltype in eQTL_sig['celltype'].unique():\\n    print('processing_'+celltype)\\n    parquet_files = [f for f in os.listdir(f'{eQTL_dir}{celltype}') if f.endswith('.parquet')]\\n    parquet_files.sort(key=lambda x: int(x.split('.')[2]))\\n    # Read all .parquet files into DataFrames and concatenate them in one step\\n    eQTL_full = pd.concat(\\n        [pd.read_parquet(os.path.join(f'{eQTL_dir}{celltype}', file)) for file in parquet_files],\\n        ignore_index=True\\n    )\\n\\n    eQTL_full.to_parquet(f'/CIMA/Result/eQTL_tensorqtl_mergenominal/{celltype}.parquet\\n\""
      ]
     },
     "execution_count": 4,
     "metadata": {},
     "output_type": "execute_result"
    }
   ],
   "source": [
    "'''\n",
    "for celltype in eQTL_sig['celltype'].unique():\n",
    "    print('processing_'+celltype)\n",
    "    parquet_files = [f for f in os.listdir(f'{eQTL_dir}{celltype}') if f.endswith('.parquet')]\n",
    "    parquet_files.sort(key=lambda x: int(x.split('.')[2]))\n",
    "    # Read all .parquet files into DataFrames and concatenate them in one step\n",
    "    eQTL_full = pd.concat(\n",
    "        [pd.read_parquet(os.path.join(f'{eQTL_dir}{celltype}', file)) for file in parquet_files],\n",
    "        ignore_index=True\n",
    "    )\n",
    "\n",
    "    eQTL_full.to_parquet(f'/CIMA/Result/eQTL_tensorqtl_mergenominal/{celltype}.parquet\n",
    "'''"
   ]
  },
  {
   "cell_type": "code",
   "execution_count": 5,
   "id": "b408d209",
   "metadata": {},
   "outputs": [],
   "source": [
    "import concurrent.futures\n",
    "\n",
    "def process_celltype(celltype, eQTL_dir, output_dir):\n",
    "    print(f'processing_{celltype}')\n",
    "    parquet_files = [f for f in os.listdir(f'{eQTL_dir}{celltype}') if f.endswith('.parquet')]\n",
    "    parquet_files.sort(key=lambda x: int(x.split('.')[2]))\n",
    "\n",
    "    eQTL_full = pd.concat(\n",
    "        [pd.read_parquet(os.path.join(f'{eQTL_dir}{celltype}', file)) for file in parquet_files],\n",
    "        ignore_index=True\n",
    "    )\n",
    "\n",
    "    eQTL_full.to_parquet(f'{output_dir}/{celltype}.parquet')\n",
    "\n",
    "def process_all_celltypes(eQTL_dir, output_dir,celltypes):\n",
    "    \n",
    "    # 设置ThreadPoolExecutor并发线程数为4\n",
    "    with concurrent.futures.ThreadPoolExecutor(max_workers=10) as executor:\n",
    "        executor.map(lambda celltype: process_celltype(celltype, eQTL_dir, output_dir), celltypes)\n"
   ]
  },
  {
   "cell_type": "code",
   "execution_count": null,
   "id": "d22828c4",
   "metadata": {},
   "outputs": [
    {
     "name": "stdout",
     "output_type": "stream",
     "text": [
      "processing_Atypical_Bm_ITGAX\n",
      "processing_Bn_IFIT3\n",
      "processing_Bn_TCL1A\n",
      "processing_Bn_IL6\n",
      "processing_CD4_CTL_GZMH\n",
      "processing_CD4_Tcm_CXCR5\n",
      "processing_CD4_Tcm_IFI44L\n",
      "processing_CD4_Tem_CCR7neg\n",
      "processing_CD4_Tfh-like_CXCR5\n",
      "processing_CD4_Th1-like_GZMK\n",
      "processing_CD4_Th17-like_RORC\n",
      "processing_CD4_Th22-like_CCR10\n",
      "processing_CD4_Th_CCR4\n",
      "processing_CD4_Th_CR1\n",
      "processing_CD4_Th_LMNA\n",
      "processing_CD4_Th_TNFRSF11A\n",
      "processing_CD4_Tn_CCR7\n",
      "processing_CD4_Tn_CXCR5\n",
      "processing_CD4_Tn_LIMS1\n",
      "processing_CD4_Tn_SOX4\n",
      "processing_CD4_Tr1-like_IL10\n",
      "processing_CD4_Treg_FCRL3\n",
      "processing_CD4_Treg_FOXP3\n",
      "processing_CD8_CTL_GZMB\n",
      "processing_CD8_CTL_GZMK\n",
      "processing_CD8_CTL_IFI44L\n",
      "processing_CD8_Tcm_IFI44L\n",
      "processing_CD8_Tem_CCR7neg\n",
      "processing_CD8_Tn_CCR7\n",
      "processing_CD8_Tn_SOX4\n",
      "processing_Cycling_NK_MKI67\n",
      "processing_Cycling_T_MKI67\n",
      "processing_pre-T-like_CABP4\n",
      "processing_HSPC_CD34\n",
      "processing_ILC2_IL2RA\n",
      "processing_MAIT_SLC4A10\n",
      "processing_MK_GP9\n",
      "processing_NKT_NCR1\n",
      "processing_NKT_IFNG\n",
      "processing_NK_bright_XCL1\n",
      "processing_Plasma_IGHA1\n",
      "processing_Plasma_IGHG1\n",
      "processing_Plasmablast_MKI67\n",
      "processing_Switched_Bm_IGHE\n",
      "processing_Switched_activated_Bm_CD86\n",
      "processing_Switched_Bm_IGHDneg\n",
      "processing_Transitional_B_SOX4\n",
      "processing_Unswitched_Bm_CD1C\n",
      "processing_Unswitched_Bm_IL6\n",
      "processing_cDC1_BATF3\n",
      "processing_cDC2_CD1C\n",
      "processing_cDC_CSF2RA\n",
      "processing_cMono_CD14\n",
      "processing_cMono_CXCL10\n",
      "processing_cMono_IFI44L\n",
      "processing_cMono_IL1B\n",
      "processing_gdT1_TRDV1\n",
      "processing_gdT2_GZMK\n",
      "processing_gdT2_IL12RB2\n",
      "processing_gdT2_GZMH\n",
      "processing_intMono_GFRA2\n",
      "processing_Mature_NK_dim_FCGR3A\n",
      "processing_ncMono_C1QA\n",
      "processing_ncMono_FCGR3A\n",
      "processing_ncMono_IFIT1\n",
      "processing_pDC_IRF4\n",
      "processing_pre-Switched_Bm_JAM3\n",
      "processing_Terminal_NK_dim_CD160negprocessing_Transitional_NK_GZMK\n",
      "\n"
     ]
    }
   ],
   "source": [
    "# 调用函数\n",
    "eQTL_dir = '/CIMA/Result/eQTL_tensorqtl/'\n",
    "output_dir = '/CIMA/Result/eQTL_tensorqtl_mergenominal/'\n",
    "process_all_celltypes(eQTL_dir, output_dir,celltypes= eQTL_sig['celltype'].unique())"
   ]
  },
  {
   "cell_type": "code",
   "execution_count": null,
   "id": "d93822ef",
   "metadata": {},
   "outputs": [],
   "source": [
    "caQTL_sig = pd.read_csv('/CIMA/Result/20250108_cis_caQTL_studywise_sig.csv',index_col=0)"
   ]
  },
  {
   "cell_type": "code",
   "execution_count": null,
   "id": "a13b8528",
   "metadata": {},
   "outputs": [
    {
     "name": "stdout",
     "output_type": "stream",
     "text": [
      "processing_Atypical_Bm_ITGAX\n",
      "processing_Bn_TCL1A\n",
      "processing_CD4_CTL_GZMH\n",
      "processing_CD4_Tcm_CXCR5\n",
      "processing_CD4_Tcm_IFI44L\n",
      "processing_CD4_Tem_CCR7neg\n",
      "processing_CD4_Tfh-like_CXCR5\n",
      "processing_CD4_Th1-like_GZMK\n",
      "processing_CD4_Th17-like_RORC\n",
      "processing_CD4_Th_LMNA\n",
      "processing_CD4_Th_TNFRSF11A\n",
      "processing_CD4_Tn_CCR7\n",
      "processing_CD4_Tr1-like_IL10\n",
      "processing_CD4_Treg_FCRL3\n",
      "processing_CD4_Treg_FOXP3\n",
      "processing_CD8_CTL_GZMB\n",
      "processing_CD8_Tem_CCR7neg\n",
      "processing_CD8_Tn_CCR7\n",
      "processing_Cycling_T_MKI67\n",
      "processing_MAIT_SLC4A10\n",
      "processing_MK_GP9\n",
      "processing_Mature_NK_dim_FCGR3A\n",
      "processing_NKT_NCR1\n",
      "processing_NK_bright_XCL1\n",
      "processing_Plasma_IGHA1\n",
      "processing_Switched_Bm_IGHDneg\n",
      "processing_Switched_Bm_IGHE\n",
      "processing_Switched_activated_Bm_CD86\n",
      "processing_Transitional_B_SOX4\n",
      "processing_Transitional_NK_GZMKprocessing_Unswitched_Bm_CD1C\n",
      "\n",
      "processing_cDC2_CD1C\n",
      "processing_cMono_CD14\n",
      "processing_cMono_IFI44L\n",
      "processing_cMono_IL1B\n",
      "processing_gdT2_GZMH\n",
      "processing_gdT2_IL12RB2\n",
      "processing_intMono_GFRA2\n",
      "processing_ncMono_C1QA\n",
      "processing_ncMono_FCGR3A\n",
      "processing_pDC_IRF4\n",
      "processing_pre-Switched_Bm_JAM3\n"
     ]
    }
   ],
   "source": [
    "# 调用函数\n",
    "eQTL_dir = '/CIMA/Result/caQTL_tensorqtl/'\n",
    "output_dir = '/CIMA/Result/caQTL_tensorqtl_mergenominal/'\n",
    "process_all_celltypes(eQTL_dir, output_dir,celltypes= caQTL_sig['celltype'].unique())"
   ]
  }
 ],
 "metadata": {
  "kernelspec": {
   "display_name": "scPAFA_env",
   "language": "python",
   "name": "scpafa_env"
  },
  "language_info": {
   "codemirror_mode": {
    "name": "ipython",
    "version": 3
   },
   "file_extension": ".py",
   "mimetype": "text/x-python",
   "name": "python",
   "nbconvert_exporter": "python",
   "pygments_lexer": "ipython3",
   "version": "3.10.15"
  }
 },
 "nbformat": 4,
 "nbformat_minor": 5
}
