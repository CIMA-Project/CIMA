{
 "cells": [
  {
   "cell_type": "code",
   "execution_count": 1,
   "id": "9f898f29-ad0a-4a5f-8742-7a8b526d5d7c",
   "metadata": {
    "execution": {
     "iopub.execute_input": "2025-04-04T15:39:23.588089Z",
     "iopub.status.busy": "2025-04-04T15:39:23.587411Z",
     "iopub.status.idle": "2025-04-04T15:39:23.901287Z",
     "shell.execute_reply": "2025-04-04T15:39:23.900397Z",
     "shell.execute_reply.started": "2025-04-04T15:39:23.588037Z"
    }
   },
   "outputs": [],
   "source": [
    "import pandas as pd"
   ]
  },
  {
   "cell_type": "markdown",
   "id": "13348e9c-1fe2-42f6-a20c-741d918367cd",
   "metadata": {},
   "source": [
    "# eQTL"
   ]
  },
  {
   "cell_type": "code",
   "execution_count": null,
   "id": "abcf4cb0-147e-41e3-a2a1-1e44726f3b48",
   "metadata": {
    "execution": {
     "iopub.execute_input": "2025-04-04T15:44:29.395015Z",
     "iopub.status.busy": "2025-04-04T15:44:29.394314Z",
     "iopub.status.idle": "2025-04-04T15:44:42.164050Z",
     "shell.execute_reply": "2025-04-04T15:44:42.162814Z",
     "shell.execute_reply.started": "2025-04-04T15:44:29.394976Z"
    }
   },
   "outputs": [],
   "source": [
    "celltype_all = pd.read_csv('/CIMA/Data/20241230_xQTL_cell_sample_number/20241230_celltype_70_scRNA.csv')\n",
    "\n",
    "list1 = []\n",
    "for celltype in celltype_all['final_annotation']:\n",
    "    a1 = pd.read_csv(f'/CIMA/Result/downstream/celltype_independent/eQTL/{celltype}.csv',index_col=0)\n",
    "    list1.append(a1)\n",
    "df_all = pd.concat(list1).reset_index(drop=True)\n",
    "\n",
    "#df_all['pair'] = df_all['celltype_A']+'_'+df_all['celltype_B']\n",
    "df_all.columns = ['reference', 'query', 'phenotype', 'topSNP_reference', 'topSNP_query',\n",
    "       'beta_reference', 'p_reference', 'beta_reference_regress_query', 'p_reference_regress_query']\n",
    "df_all = df_all[df_all['p_reference_regress_query'] < 0.01]\n",
    "\n",
    "df_all.to_csv('/CIMA/Result/20250404_supp_table/share_eGene_with_different_lead_eQTL.csv')"
   ]
  },
  {
   "cell_type": "code",
   "execution_count": null,
   "id": "aab77f6d-28f9-40b4-b5d8-7f0895da74c2",
   "metadata": {
    "execution": {
     "iopub.execute_input": "2025-03-20T09:43:42.931295Z",
     "iopub.status.busy": "2025-03-20T09:43:42.931075Z",
     "iopub.status.idle": "2025-03-20T09:43:47.973451Z",
     "shell.execute_reply": "2025-03-20T09:43:47.972455Z",
     "shell.execute_reply.started": "2025-03-20T09:43:42.931278Z"
    }
   },
   "outputs": [],
   "source": [
    "celltype_all = pd.read_csv('/CIMA/Data/20241230_xQTL_cell_sample_number/20241230_celltype_70_scRNA.csv')\n",
    "\n",
    "list1 = []\n",
    "for celltype in celltype_all['final_annotation']:\n",
    "    a1 = pd.read_csv(f'/CIMA/Result/downstream/celltype_independent/eQTL/{celltype}.csv',index_col=0)\n",
    "    list1.append(a1)\n",
    "df_all = pd.concat(list1).reset_index(drop=True)\n",
    "\n",
    "df_all['pair'] = df_all['celltype_A']+'_'+df_all['celltype_B']\n",
    "\n",
    "grouped = df_all.groupby('pair')\n",
    "\n",
    "# 统计各个组的行数以及 p_A_regressB 列小于 0.01 的行数\n",
    "result = grouped.agg(\n",
    "    total_rows=('p_A_regressB', 'size'),  # 统计每个组的行数\n",
    "    p_less_than_0_05=('p_A_regressB', lambda x: (x < 0.01).sum())  # 统计 p_A_regressB 小于 0.05 的行数\n",
    ")\n",
    "\n",
    "result['percentage'] = result['p_less_than_0_05']/result['total_rows'] "
   ]
  },
  {
   "cell_type": "code",
   "execution_count": 3,
   "id": "b0580064-4cb7-4855-97ea-6eb683b0c75e",
   "metadata": {
    "execution": {
     "iopub.execute_input": "2025-03-20T09:43:47.974545Z",
     "iopub.status.busy": "2025-03-20T09:43:47.974259Z",
     "iopub.status.idle": "2025-03-20T09:43:47.980209Z",
     "shell.execute_reply": "2025-03-20T09:43:47.979809Z",
     "shell.execute_reply.started": "2025-03-20T09:43:47.974526Z"
    }
   },
   "outputs": [
    {
     "data": {
      "text/plain": [
       "0.6185012258789766"
      ]
     },
     "execution_count": 3,
     "metadata": {},
     "output_type": "execute_result"
    }
   ],
   "source": [
    "result['percentage'].mean()"
   ]
  },
  {
   "cell_type": "code",
   "execution_count": 4,
   "id": "a161ee91-4580-4309-8b4d-1ff48f9927c5",
   "metadata": {
    "execution": {
     "iopub.execute_input": "2025-03-20T09:43:47.981133Z",
     "iopub.status.busy": "2025-03-20T09:43:47.980798Z",
     "iopub.status.idle": "2025-03-20T09:43:47.984348Z",
     "shell.execute_reply": "2025-03-20T09:43:47.983975Z",
     "shell.execute_reply.started": "2025-03-20T09:43:47.981116Z"
    }
   },
   "outputs": [
    {
     "data": {
      "text/plain": [
       "0.15384615384615385"
      ]
     },
     "execution_count": 4,
     "metadata": {},
     "output_type": "execute_result"
    }
   ],
   "source": [
    "min(result['percentage'])"
   ]
  },
  {
   "cell_type": "code",
   "execution_count": 5,
   "id": "64dd0f03-2980-4d11-b02f-9da977247ad1",
   "metadata": {
    "execution": {
     "iopub.execute_input": "2025-03-20T09:43:47.986196Z",
     "iopub.status.busy": "2025-03-20T09:43:47.985872Z",
     "iopub.status.idle": "2025-03-20T09:43:47.989316Z",
     "shell.execute_reply": "2025-03-20T09:43:47.988938Z",
     "shell.execute_reply.started": "2025-03-20T09:43:47.986180Z"
    }
   },
   "outputs": [
    {
     "data": {
      "text/plain": [
       "1.0"
      ]
     },
     "execution_count": 5,
     "metadata": {},
     "output_type": "execute_result"
    }
   ],
   "source": [
    "max(result['percentage'])"
   ]
  },
  {
   "cell_type": "code",
   "execution_count": 6,
   "id": "68ade292-8402-4b85-83ea-e4e3ab60c2dc",
   "metadata": {
    "execution": {
     "iopub.execute_input": "2025-03-20T09:43:47.990009Z",
     "iopub.status.busy": "2025-03-20T09:43:47.989846Z",
     "iopub.status.idle": "2025-03-20T09:43:47.994803Z",
     "shell.execute_reply": "2025-03-20T09:43:47.994412Z",
     "shell.execute_reply.started": "2025-03-20T09:43:47.989994Z"
    }
   },
   "outputs": [],
   "source": [
    "output_result = pd.DataFrame(index=celltype_all['final_annotation'].values,columns=celltype_all['final_annotation'].values)"
   ]
  },
  {
   "cell_type": "code",
   "execution_count": 7,
   "id": "4367e668-05d5-413b-b629-23e43c08544a",
   "metadata": {
    "execution": {
     "iopub.execute_input": "2025-03-20T09:43:47.995511Z",
     "iopub.status.busy": "2025-03-20T09:43:47.995355Z",
     "iopub.status.idle": "2025-03-20T09:43:47.997553Z",
     "shell.execute_reply": "2025-03-20T09:43:47.997173Z",
     "shell.execute_reply.started": "2025-03-20T09:43:47.995496Z"
    }
   },
   "outputs": [],
   "source": [
    "import numpy as np"
   ]
  },
  {
   "cell_type": "code",
   "execution_count": 8,
   "id": "a71d0434-d675-49d1-bcca-bf0339189487",
   "metadata": {
    "execution": {
     "iopub.execute_input": "2025-03-20T09:43:47.998442Z",
     "iopub.status.busy": "2025-03-20T09:43:47.998096Z",
     "iopub.status.idle": "2025-03-20T09:43:48.208147Z",
     "shell.execute_reply": "2025-03-20T09:43:48.207458Z",
     "shell.execute_reply.started": "2025-03-20T09:43:47.998426Z"
    }
   },
   "outputs": [],
   "source": [
    "#celltypA是行名\n",
    "#celltypeB是列名\n",
    "for cell1 in output_result.index:\n",
    "    for cell2 in output_result.columns:\n",
    "        if (cell1 != cell2):\n",
    "            output_result.loc[cell1,cell2] = result['percentage'][f'{cell1}_{cell2}']"
   ]
  },
  {
   "cell_type": "code",
   "execution_count": null,
   "id": "e41072c3-1e42-42b8-91d0-e6a687b3dbf7",
   "metadata": {
    "execution": {
     "iopub.execute_input": "2025-03-20T09:43:48.208927Z",
     "iopub.status.busy": "2025-03-20T09:43:48.208759Z",
     "iopub.status.idle": "2025-03-20T09:43:48.216792Z",
     "shell.execute_reply": "2025-03-20T09:43:48.216276Z",
     "shell.execute_reply.started": "2025-03-20T09:43:48.208911Z"
    }
   },
   "outputs": [],
   "source": [
    "sort_celltype = pd.read_csv('/CIMA/Data/69_celltype_sort.csv')"
   ]
  },
  {
   "cell_type": "code",
   "execution_count": null,
   "id": "e49dbf7b-438b-4dee-bece-fdc52ca23fff",
   "metadata": {
    "execution": {
     "iopub.execute_input": "2025-03-20T09:43:48.217515Z",
     "iopub.status.busy": "2025-03-20T09:43:48.217359Z",
     "iopub.status.idle": "2025-03-20T09:43:48.236090Z",
     "shell.execute_reply": "2025-03-20T09:43:48.235065Z",
     "shell.execute_reply.started": "2025-03-20T09:43:48.217500Z"
    }
   },
   "outputs": [],
   "source": [
    "output_result.loc[sort_celltype['celltype'],sort_celltype['celltype']].to_csv('/CIMA/Result/summary/20250320_celltype_independent_percentage_eQTL.csv')"
   ]
  },
  {
   "cell_type": "markdown",
   "id": "34cbe306-18fa-451e-8d87-68961f2b0961",
   "metadata": {},
   "source": [
    "# caQTL"
   ]
  },
  {
   "cell_type": "code",
   "execution_count": null,
   "id": "b74ae347-af70-4d13-be1e-28421f825f8a",
   "metadata": {
    "execution": {
     "iopub.execute_input": "2025-04-04T15:45:22.511659Z",
     "iopub.status.busy": "2025-04-04T15:45:22.511055Z",
     "iopub.status.idle": "2025-04-04T15:45:31.598899Z",
     "shell.execute_reply": "2025-04-04T15:45:31.597811Z",
     "shell.execute_reply.started": "2025-04-04T15:45:22.511606Z"
    }
   },
   "outputs": [],
   "source": [
    "celltype_all = pd.read_csv('/CIMA/Data/20241230_xQTL_cell_sample_number/20241230_celltype_70_scATAC.csv')\n",
    "\n",
    "list1 = []\n",
    "for celltype in celltype_all['final_annotation']:\n",
    "    a1 = pd.read_csv(f'/CIMA/Result/downstream/celltype_independent/caQTL/{celltype}.csv',index_col=0)\n",
    "    list1.append(a1)\n",
    "df_all = pd.concat(list1).reset_index(drop=True)\n",
    "\n",
    "#df_all['pair'] = df_all['celltype_A']+'_'+df_all['celltype_B']\n",
    "df_all.columns = ['reference', 'query', 'phenotype', 'topSNP_reference', 'topSNP_query',\n",
    "       'beta_reference', 'p_reference', 'beta_reference_regress_query', 'p_reference_regress_query']\n",
    "df_all = df_all[df_all['p_reference_regress_query'] < 0.01]\n",
    "\n",
    "df_all.to_csv('/CIMA/Result/20250404_supp_table/share_caPeak_with_different_lead_caQTL.csv')"
   ]
  },
  {
   "cell_type": "code",
   "execution_count": null,
   "id": "e533b171-885a-4e88-9728-7de50ac358a3",
   "metadata": {
    "execution": {
     "iopub.execute_input": "2025-03-20T09:43:48.236827Z",
     "iopub.status.busy": "2025-03-20T09:43:48.236671Z",
     "iopub.status.idle": "2025-03-20T09:43:51.849628Z",
     "shell.execute_reply": "2025-03-20T09:43:51.848515Z",
     "shell.execute_reply.started": "2025-03-20T09:43:48.236812Z"
    }
   },
   "outputs": [],
   "source": [
    "celltype_all = pd.read_csv('/CIMA/Data/20241230_xQTL_cell_sample_number/20241230_celltype_70_scATAC.csv')\n",
    "\n",
    "list1 = []\n",
    "for celltype in celltype_all['final_annotation']:\n",
    "    a1 = pd.read_csv(f'/CIMA/Result/downstream/celltype_independent/caQTL/{celltype}.csv',index_col=0)\n",
    "    list1.append(a1)\n",
    "df_all = pd.concat(list1).reset_index(drop=True)\n",
    "\n",
    "df_all['pair'] = df_all['celltype_A']+'_'+df_all['celltype_B']\n",
    "\n",
    "grouped = df_all.groupby('pair')\n",
    "\n",
    "# 统计各个组的行数以及 p_A_regressB 列小于 0.01 的行数\n",
    "result = grouped.agg(\n",
    "    total_rows=('p_A_regressB', 'size'),  # 统计每个组的行数\n",
    "    p_less_than_0_05=('p_A_regressB', lambda x: (x < 0.01).sum())  # 统计 p_A_regressB 小于 0.05 的行数\n",
    ")\n",
    "\n",
    "\n",
    "result['percentage'] = result['p_less_than_0_05']/result['total_rows']"
   ]
  },
  {
   "cell_type": "code",
   "execution_count": 12,
   "id": "2f3a6a4d-d6f3-41d3-9883-f8eaf2ccb349",
   "metadata": {
    "execution": {
     "iopub.execute_input": "2025-03-20T09:43:51.850852Z",
     "iopub.status.busy": "2025-03-20T09:43:51.850644Z",
     "iopub.status.idle": "2025-03-20T09:43:51.855969Z",
     "shell.execute_reply": "2025-03-20T09:43:51.855356Z",
     "shell.execute_reply.started": "2025-03-20T09:43:51.850833Z"
    }
   },
   "outputs": [
    {
     "data": {
      "text/plain": [
       "0.624206639964299"
      ]
     },
     "execution_count": 12,
     "metadata": {},
     "output_type": "execute_result"
    }
   ],
   "source": [
    "result['percentage'].mean()"
   ]
  },
  {
   "cell_type": "code",
   "execution_count": 13,
   "id": "dd044caf-3372-4e76-92eb-5bc60bbe0592",
   "metadata": {
    "execution": {
     "iopub.execute_input": "2025-03-20T09:43:51.856742Z",
     "iopub.status.busy": "2025-03-20T09:43:51.856580Z",
     "iopub.status.idle": "2025-03-20T09:43:51.860498Z",
     "shell.execute_reply": "2025-03-20T09:43:51.860126Z",
     "shell.execute_reply.started": "2025-03-20T09:43:51.856725Z"
    }
   },
   "outputs": [
    {
     "data": {
      "text/plain": [
       "0.16666666666666666"
      ]
     },
     "execution_count": 13,
     "metadata": {},
     "output_type": "execute_result"
    }
   ],
   "source": [
    "min(result['percentage'])"
   ]
  },
  {
   "cell_type": "code",
   "execution_count": 14,
   "id": "f61bd744-ca66-47a5-b14e-ed02cb9f326c",
   "metadata": {
    "execution": {
     "iopub.execute_input": "2025-03-20T09:43:51.861197Z",
     "iopub.status.busy": "2025-03-20T09:43:51.861042Z",
     "iopub.status.idle": "2025-03-20T09:43:51.864272Z",
     "shell.execute_reply": "2025-03-20T09:43:51.863899Z",
     "shell.execute_reply.started": "2025-03-20T09:43:51.861182Z"
    }
   },
   "outputs": [
    {
     "data": {
      "text/plain": [
       "1.0"
      ]
     },
     "execution_count": 14,
     "metadata": {},
     "output_type": "execute_result"
    }
   ],
   "source": [
    "max(result['percentage'])"
   ]
  },
  {
   "cell_type": "code",
   "execution_count": 15,
   "id": "45c5d572-f165-465e-8978-7e3653ee6f4f",
   "metadata": {
    "execution": {
     "iopub.execute_input": "2025-03-20T09:43:51.865136Z",
     "iopub.status.busy": "2025-03-20T09:43:51.864803Z",
     "iopub.status.idle": "2025-03-20T09:43:51.868918Z",
     "shell.execute_reply": "2025-03-20T09:43:51.868522Z",
     "shell.execute_reply.started": "2025-03-20T09:43:51.865120Z"
    }
   },
   "outputs": [],
   "source": [
    "output_result = pd.DataFrame(index=celltype_all['final_annotation'].values,columns=celltype_all['final_annotation'].values)"
   ]
  },
  {
   "cell_type": "code",
   "execution_count": 16,
   "id": "e5686e5a-579b-4ac2-ac7b-e270fd40a130",
   "metadata": {
    "execution": {
     "iopub.execute_input": "2025-03-20T09:43:51.869778Z",
     "iopub.status.busy": "2025-03-20T09:43:51.869444Z",
     "iopub.status.idle": "2025-03-20T09:43:51.943615Z",
     "shell.execute_reply": "2025-03-20T09:43:51.942927Z",
     "shell.execute_reply.started": "2025-03-20T09:43:51.869762Z"
    }
   },
   "outputs": [],
   "source": [
    "#celltypA是行名\n",
    "#celltypeB是列名\n",
    "for cell1 in output_result.index:\n",
    "    for cell2 in output_result.columns:\n",
    "        if (cell1 != cell2):\n",
    "            output_result.loc[cell1,cell2] = result['percentage'][f'{cell1}_{cell2}']"
   ]
  },
  {
   "cell_type": "code",
   "execution_count": null,
   "id": "b4bd89b6-a6b8-40f9-bba0-21d8b36927d7",
   "metadata": {
    "execution": {
     "iopub.execute_input": "2025-03-20T09:43:51.944298Z",
     "iopub.status.busy": "2025-03-20T09:43:51.944146Z",
     "iopub.status.idle": "2025-03-20T09:43:51.951065Z",
     "shell.execute_reply": "2025-03-20T09:43:51.950663Z",
     "shell.execute_reply.started": "2025-03-20T09:43:51.944283Z"
    }
   },
   "outputs": [],
   "source": [
    "sort_celltype = pd.read_csv('/CIMA/Data/69_celltype_sort.csv')\n",
    "sort_celltype = sort_celltype[sort_celltype['celltype'].isin(output_result.index)]"
   ]
  },
  {
   "cell_type": "code",
   "execution_count": null,
   "id": "777fb290-3150-480a-b891-aeb95ffdfc04",
   "metadata": {
    "execution": {
     "iopub.execute_input": "2025-03-20T09:43:51.951732Z",
     "iopub.status.busy": "2025-03-20T09:43:51.951578Z",
     "iopub.status.idle": "2025-03-20T09:43:51.961055Z",
     "shell.execute_reply": "2025-03-20T09:43:51.960651Z",
     "shell.execute_reply.started": "2025-03-20T09:43:51.951717Z"
    }
   },
   "outputs": [],
   "source": [
    "output_result.loc[sort_celltype['celltype'],sort_celltype['celltype']].to_csv('/CIMA/Result/summary/20250320_celltype_independent_percentage_caQTL.csv')"
   ]
  },
  {
   "cell_type": "markdown",
   "id": "7649ef0e-8669-471f-babe-794d7b1cfcdb",
   "metadata": {},
   "source": [
    "# onek1k"
   ]
  },
  {
   "cell_type": "code",
   "execution_count": null,
   "id": "247828ad-b21e-4382-95e9-7cd8a2e125d7",
   "metadata": {
    "execution": {
     "iopub.execute_input": "2025-03-20T14:37:07.725734Z",
     "iopub.status.busy": "2025-03-20T14:37:07.725212Z",
     "iopub.status.idle": "2025-03-20T14:37:07.897969Z",
     "shell.execute_reply": "2025-03-20T14:37:07.896619Z",
     "shell.execute_reply.started": "2025-03-20T14:37:07.725705Z"
    }
   },
   "outputs": [],
   "source": [
    "celltype_all = ['CD4_T','CD8_T','NK','B','Myeloid']\n",
    "\n",
    "list1 = []\n",
    "for celltype in celltype_all:\n",
    "    a1 = pd.read_csv(f'/CIMA/Result/eQTL_L1_downstream/public_independent/onek1k_{celltype}.csv',index_col=0)\n",
    "    list1.append(a1)\n",
    "df_all = pd.concat(list1).reset_index(drop=True)"
   ]
  },
  {
   "cell_type": "code",
   "execution_count": 24,
   "id": "8d290fca-ee61-4dac-8663-83f714c7a480",
   "metadata": {
    "execution": {
     "iopub.execute_input": "2025-03-20T14:37:11.377387Z",
     "iopub.status.busy": "2025-03-20T14:37:11.376915Z",
     "iopub.status.idle": "2025-03-20T14:37:11.389574Z",
     "shell.execute_reply": "2025-03-20T14:37:11.389042Z",
     "shell.execute_reply.started": "2025-03-20T14:37:11.377356Z"
    }
   },
   "outputs": [
    {
     "data": {
      "text/html": [
       "<div>\n",
       "<style scoped>\n",
       "    .dataframe tbody tr th:only-of-type {\n",
       "        vertical-align: middle;\n",
       "    }\n",
       "\n",
       "    .dataframe tbody tr th {\n",
       "        vertical-align: top;\n",
       "    }\n",
       "\n",
       "    .dataframe thead th {\n",
       "        text-align: right;\n",
       "    }\n",
       "</style>\n",
       "<table border=\"1\" class=\"dataframe\">\n",
       "  <thead>\n",
       "    <tr style=\"text-align: right;\">\n",
       "      <th></th>\n",
       "      <th>celltype</th>\n",
       "      <th>phenotype</th>\n",
       "      <th>topSNP_CIMA</th>\n",
       "      <th>topSNP_public</th>\n",
       "      <th>beta_A</th>\n",
       "      <th>p_A</th>\n",
       "      <th>beta_A_regressB</th>\n",
       "      <th>p_A_regressB</th>\n",
       "    </tr>\n",
       "  </thead>\n",
       "  <tbody>\n",
       "    <tr>\n",
       "      <th>0</th>\n",
       "      <td>CD4_T</td>\n",
       "      <td>ISG15</td>\n",
       "      <td>chr1_1015903</td>\n",
       "      <td>chr1_1014863</td>\n",
       "      <td>-0.349115</td>\n",
       "      <td>1.473064e-14</td>\n",
       "      <td>-0.483365</td>\n",
       "      <td>1.775929e-02</td>\n",
       "    </tr>\n",
       "    <tr>\n",
       "      <th>1</th>\n",
       "      <td>CD4_T</td>\n",
       "      <td>TNFRSF18</td>\n",
       "      <td>chr1_1201373</td>\n",
       "      <td>chr1_1204910</td>\n",
       "      <td>-0.664397</td>\n",
       "      <td>3.455854e-39</td>\n",
       "      <td>-0.540818</td>\n",
       "      <td>1.107340e-22</td>\n",
       "    </tr>\n",
       "    <tr>\n",
       "      <th>2</th>\n",
       "      <td>CD4_T</td>\n",
       "      <td>MRPL20</td>\n",
       "      <td>chr1_1398218</td>\n",
       "      <td>chr1_1365566</td>\n",
       "      <td>0.410455</td>\n",
       "      <td>2.147043e-16</td>\n",
       "      <td>0.426475</td>\n",
       "      <td>2.246078e-16</td>\n",
       "    </tr>\n",
       "    <tr>\n",
       "      <th>3</th>\n",
       "      <td>CD4_T</td>\n",
       "      <td>ATAD3C</td>\n",
       "      <td>chr1_1470034</td>\n",
       "      <td>chr1_1495204</td>\n",
       "      <td>0.314968</td>\n",
       "      <td>1.369566e-05</td>\n",
       "      <td>0.374734</td>\n",
       "      <td>4.453803e-01</td>\n",
       "    </tr>\n",
       "    <tr>\n",
       "      <th>4</th>\n",
       "      <td>CD4_T</td>\n",
       "      <td>MIB2</td>\n",
       "      <td>chr1_1648636</td>\n",
       "      <td>chr1_1627515</td>\n",
       "      <td>0.219085</td>\n",
       "      <td>8.129935e-10</td>\n",
       "      <td>0.246113</td>\n",
       "      <td>5.773008e-02</td>\n",
       "    </tr>\n",
       "    <tr>\n",
       "      <th>...</th>\n",
       "      <td>...</td>\n",
       "      <td>...</td>\n",
       "      <td>...</td>\n",
       "      <td>...</td>\n",
       "      <td>...</td>\n",
       "      <td>...</td>\n",
       "      <td>...</td>\n",
       "      <td>...</td>\n",
       "    </tr>\n",
       "    <tr>\n",
       "      <th>4915</th>\n",
       "      <td>Myeloid</td>\n",
       "      <td>UPK3A</td>\n",
       "      <td>chr22_45280000</td>\n",
       "      <td>chr22_45277596</td>\n",
       "      <td>0.622568</td>\n",
       "      <td>1.073727e-47</td>\n",
       "      <td>0.606447</td>\n",
       "      <td>8.590549e-19</td>\n",
       "    </tr>\n",
       "    <tr>\n",
       "      <th>4916</th>\n",
       "      <td>Myeloid</td>\n",
       "      <td>FAM118A</td>\n",
       "      <td>chr22_45333097</td>\n",
       "      <td>chr22_45368994</td>\n",
       "      <td>-1.289967</td>\n",
       "      <td>1.379741e-81</td>\n",
       "      <td>-1.117916</td>\n",
       "      <td>1.581246e-04</td>\n",
       "    </tr>\n",
       "    <tr>\n",
       "      <th>4917</th>\n",
       "      <td>Myeloid</td>\n",
       "      <td>C22orf34</td>\n",
       "      <td>chr22_49651176</td>\n",
       "      <td>chr22_49628109</td>\n",
       "      <td>-0.740542</td>\n",
       "      <td>3.016166e-31</td>\n",
       "      <td>-1.401372</td>\n",
       "      <td>1.629558e-07</td>\n",
       "    </tr>\n",
       "    <tr>\n",
       "      <th>4918</th>\n",
       "      <td>Myeloid</td>\n",
       "      <td>TYMP</td>\n",
       "      <td>chr22_50523425</td>\n",
       "      <td>chr22_50532618</td>\n",
       "      <td>0.409929</td>\n",
       "      <td>2.246449e-23</td>\n",
       "      <td>0.377551</td>\n",
       "      <td>2.449352e-03</td>\n",
       "    </tr>\n",
       "    <tr>\n",
       "      <th>4919</th>\n",
       "      <td>Myeloid</td>\n",
       "      <td>ARSA</td>\n",
       "      <td>chr22_50616803</td>\n",
       "      <td>chr22_50625988</td>\n",
       "      <td>0.346807</td>\n",
       "      <td>7.494138e-08</td>\n",
       "      <td>1.178550</td>\n",
       "      <td>7.981352e-18</td>\n",
       "    </tr>\n",
       "  </tbody>\n",
       "</table>\n",
       "<p>4920 rows × 8 columns</p>\n",
       "</div>"
      ],
      "text/plain": [
       "     celltype phenotype     topSNP_CIMA   topSNP_public    beta_A  \\\n",
       "0       CD4_T     ISG15    chr1_1015903    chr1_1014863 -0.349115   \n",
       "1       CD4_T  TNFRSF18    chr1_1201373    chr1_1204910 -0.664397   \n",
       "2       CD4_T    MRPL20    chr1_1398218    chr1_1365566  0.410455   \n",
       "3       CD4_T    ATAD3C    chr1_1470034    chr1_1495204  0.314968   \n",
       "4       CD4_T      MIB2    chr1_1648636    chr1_1627515  0.219085   \n",
       "...       ...       ...             ...             ...       ...   \n",
       "4915  Myeloid     UPK3A  chr22_45280000  chr22_45277596  0.622568   \n",
       "4916  Myeloid   FAM118A  chr22_45333097  chr22_45368994 -1.289967   \n",
       "4917  Myeloid  C22orf34  chr22_49651176  chr22_49628109 -0.740542   \n",
       "4918  Myeloid      TYMP  chr22_50523425  chr22_50532618  0.409929   \n",
       "4919  Myeloid      ARSA  chr22_50616803  chr22_50625988  0.346807   \n",
       "\n",
       "               p_A  beta_A_regressB  p_A_regressB  \n",
       "0     1.473064e-14        -0.483365  1.775929e-02  \n",
       "1     3.455854e-39        -0.540818  1.107340e-22  \n",
       "2     2.147043e-16         0.426475  2.246078e-16  \n",
       "3     1.369566e-05         0.374734  4.453803e-01  \n",
       "4     8.129935e-10         0.246113  5.773008e-02  \n",
       "...            ...              ...           ...  \n",
       "4915  1.073727e-47         0.606447  8.590549e-19  \n",
       "4916  1.379741e-81        -1.117916  1.581246e-04  \n",
       "4917  3.016166e-31        -1.401372  1.629558e-07  \n",
       "4918  2.246449e-23         0.377551  2.449352e-03  \n",
       "4919  7.494138e-08         1.178550  7.981352e-18  \n",
       "\n",
       "[4920 rows x 8 columns]"
      ]
     },
     "execution_count": 24,
     "metadata": {},
     "output_type": "execute_result"
    }
   ],
   "source": [
    "df_all"
   ]
  },
  {
   "cell_type": "code",
   "execution_count": 28,
   "id": "1ead5e7d-c2f0-4c81-a19c-34e666fa843d",
   "metadata": {
    "execution": {
     "iopub.execute_input": "2025-03-20T14:38:13.088071Z",
     "iopub.status.busy": "2025-03-20T14:38:13.087698Z",
     "iopub.status.idle": "2025-03-20T14:38:13.097634Z",
     "shell.execute_reply": "2025-03-20T14:38:13.096698Z",
     "shell.execute_reply.started": "2025-03-20T14:38:13.088048Z"
    }
   },
   "outputs": [],
   "source": [
    "grouped = df_all.groupby('celltype')\n",
    "\n",
    "# 统计各个组的行数以及 p_A_regressB 列小于 0.01 的行数\n",
    "result = grouped.agg(\n",
    "    total_rows=('p_A_regressB', 'size'),  # 统计每个组的行数\n",
    "    p_less_than_0_05=('p_A_regressB', lambda x: (x < 0.01).sum())  # 统计 p_A_regressB 小于 0.05 的行数\n",
    ")\n",
    "\n",
    "result['percentage'] = result['p_less_than_0_05']/result['total_rows'] "
   ]
  },
  {
   "cell_type": "code",
   "execution_count": 29,
   "id": "0ba967fc-77f8-4f84-a7ae-ca9b77db31aa",
   "metadata": {
    "execution": {
     "iopub.execute_input": "2025-03-20T14:38:14.043526Z",
     "iopub.status.busy": "2025-03-20T14:38:14.042516Z",
     "iopub.status.idle": "2025-03-20T14:38:14.053456Z",
     "shell.execute_reply": "2025-03-20T14:38:14.052378Z",
     "shell.execute_reply.started": "2025-03-20T14:38:14.043493Z"
    }
   },
   "outputs": [
    {
     "data": {
      "text/html": [
       "<div>\n",
       "<style scoped>\n",
       "    .dataframe tbody tr th:only-of-type {\n",
       "        vertical-align: middle;\n",
       "    }\n",
       "\n",
       "    .dataframe tbody tr th {\n",
       "        vertical-align: top;\n",
       "    }\n",
       "\n",
       "    .dataframe thead th {\n",
       "        text-align: right;\n",
       "    }\n",
       "</style>\n",
       "<table border=\"1\" class=\"dataframe\">\n",
       "  <thead>\n",
       "    <tr style=\"text-align: right;\">\n",
       "      <th></th>\n",
       "      <th>total_rows</th>\n",
       "      <th>p_less_than_0_05</th>\n",
       "      <th>percentage</th>\n",
       "    </tr>\n",
       "    <tr>\n",
       "      <th>celltype</th>\n",
       "      <th></th>\n",
       "      <th></th>\n",
       "      <th></th>\n",
       "    </tr>\n",
       "  </thead>\n",
       "  <tbody>\n",
       "    <tr>\n",
       "      <th>B</th>\n",
       "      <td>609</td>\n",
       "      <td>494</td>\n",
       "      <td>0.811166</td>\n",
       "    </tr>\n",
       "    <tr>\n",
       "      <th>CD4_T</th>\n",
       "      <td>1775</td>\n",
       "      <td>1411</td>\n",
       "      <td>0.794930</td>\n",
       "    </tr>\n",
       "    <tr>\n",
       "      <th>CD8_T</th>\n",
       "      <td>1233</td>\n",
       "      <td>1001</td>\n",
       "      <td>0.811841</td>\n",
       "    </tr>\n",
       "    <tr>\n",
       "      <th>Myeloid</th>\n",
       "      <td>398</td>\n",
       "      <td>339</td>\n",
       "      <td>0.851759</td>\n",
       "    </tr>\n",
       "    <tr>\n",
       "      <th>NK</th>\n",
       "      <td>905</td>\n",
       "      <td>710</td>\n",
       "      <td>0.784530</td>\n",
       "    </tr>\n",
       "  </tbody>\n",
       "</table>\n",
       "</div>"
      ],
      "text/plain": [
       "          total_rows  p_less_than_0_05  percentage\n",
       "celltype                                          \n",
       "B                609               494    0.811166\n",
       "CD4_T           1775              1411    0.794930\n",
       "CD8_T           1233              1001    0.811841\n",
       "Myeloid          398               339    0.851759\n",
       "NK               905               710    0.784530"
      ]
     },
     "execution_count": 29,
     "metadata": {},
     "output_type": "execute_result"
    }
   ],
   "source": [
    "result"
   ]
  },
  {
   "cell_type": "code",
   "execution_count": 30,
   "id": "279dcba8-9dbc-444b-8a3b-df6e39b0d94d",
   "metadata": {
    "execution": {
     "iopub.execute_input": "2025-03-20T14:39:17.554555Z",
     "iopub.status.busy": "2025-03-20T14:39:17.554037Z",
     "iopub.status.idle": "2025-03-20T14:39:17.560093Z",
     "shell.execute_reply": "2025-03-20T14:39:17.559479Z",
     "shell.execute_reply.started": "2025-03-20T14:39:17.554528Z"
    }
   },
   "outputs": [
    {
     "data": {
      "text/plain": [
       "0.810845128388397"
      ]
     },
     "execution_count": 30,
     "metadata": {},
     "output_type": "execute_result"
    }
   ],
   "source": [
    "result['percentage'].mean()"
   ]
  },
  {
   "cell_type": "code",
   "execution_count": 31,
   "id": "27874ca0-5e60-4a13-ae3d-92bf3096c335",
   "metadata": {
    "execution": {
     "iopub.execute_input": "2025-03-20T14:39:25.678113Z",
     "iopub.status.busy": "2025-03-20T14:39:25.677775Z",
     "iopub.status.idle": "2025-03-20T14:39:25.683806Z",
     "shell.execute_reply": "2025-03-20T14:39:25.683070Z",
     "shell.execute_reply.started": "2025-03-20T14:39:25.678087Z"
    }
   },
   "outputs": [
    {
     "data": {
      "text/plain": [
       "0.7845303867403315"
      ]
     },
     "execution_count": 31,
     "metadata": {},
     "output_type": "execute_result"
    }
   ],
   "source": [
    "min(result['percentage'])"
   ]
  },
  {
   "cell_type": "code",
   "execution_count": 32,
   "id": "196dc2ef-325d-4a77-bc42-b38a2aa3d4b5",
   "metadata": {
    "execution": {
     "iopub.execute_input": "2025-03-20T14:39:30.964004Z",
     "iopub.status.busy": "2025-03-20T14:39:30.963541Z",
     "iopub.status.idle": "2025-03-20T14:39:30.969751Z",
     "shell.execute_reply": "2025-03-20T14:39:30.968962Z",
     "shell.execute_reply.started": "2025-03-20T14:39:30.963975Z"
    }
   },
   "outputs": [
    {
     "data": {
      "text/plain": [
       "0.8517587939698492"
      ]
     },
     "execution_count": 32,
     "metadata": {},
     "output_type": "execute_result"
    }
   ],
   "source": [
    "max(result['percentage'])"
   ]
  },
  {
   "cell_type": "code",
   "execution_count": 37,
   "id": "8a4a2f57-0577-4e22-8c69-6d49a03a03f2",
   "metadata": {
    "execution": {
     "iopub.execute_input": "2025-03-20T14:41:31.817936Z",
     "iopub.status.busy": "2025-03-20T14:41:31.817314Z",
     "iopub.status.idle": "2025-03-20T14:41:31.824190Z",
     "shell.execute_reply": "2025-03-20T14:41:31.823366Z",
     "shell.execute_reply.started": "2025-03-20T14:41:31.817873Z"
    }
   },
   "outputs": [],
   "source": [
    "onk1k = result[['percentage']]\n",
    "onk1k.columns = ['onek1k_vs_CIMA']"
   ]
  },
  {
   "cell_type": "markdown",
   "id": "9cd61360-9361-48a6-8fcd-18760fbee6ca",
   "metadata": {},
   "source": [
    "# CIMA"
   ]
  },
  {
   "cell_type": "code",
   "execution_count": null,
   "id": "0259ae48-2eae-4d30-b81b-032f391eaffc",
   "metadata": {
    "execution": {
     "iopub.execute_input": "2025-03-20T14:43:16.616366Z",
     "iopub.status.busy": "2025-03-20T14:43:16.615760Z",
     "iopub.status.idle": "2025-03-20T14:43:16.818586Z",
     "shell.execute_reply": "2025-03-20T14:43:16.817479Z",
     "shell.execute_reply.started": "2025-03-20T14:43:16.616330Z"
    }
   },
   "outputs": [],
   "source": [
    "celltype_all = ['CD4_T','CD8_T','NK','B','Myeloid']\n",
    "\n",
    "list1 = []\n",
    "for celltype in celltype_all:\n",
    "    a1 = pd.read_csv(f'/CIMA/Result/eQTL_L1_downstream/public_independent/immuenexut_{celltype}.csv',index_col=0)\n",
    "    list1.append(a1)\n",
    "df_all = pd.concat(list1).reset_index(drop=True)"
   ]
  },
  {
   "cell_type": "code",
   "execution_count": 40,
   "id": "8b553ccd-9e9c-405f-8ebc-7b14b27860c2",
   "metadata": {
    "execution": {
     "iopub.execute_input": "2025-03-20T14:43:25.718831Z",
     "iopub.status.busy": "2025-03-20T14:43:25.718047Z",
     "iopub.status.idle": "2025-03-20T14:43:25.733756Z",
     "shell.execute_reply": "2025-03-20T14:43:25.733097Z",
     "shell.execute_reply.started": "2025-03-20T14:43:25.718776Z"
    }
   },
   "outputs": [],
   "source": [
    "grouped = df_all.groupby('celltype')\n",
    "\n",
    "# 统计各个组的行数以及 p_A_regressB 列小于 0.01 的行数\n",
    "result = grouped.agg(\n",
    "    total_rows=('p_A_regressB', 'size'),  # 统计每个组的行数\n",
    "    p_less_than_0_05=('p_A_regressB', lambda x: (x < 0.01).sum())  # 统计 p_A_regressB 小于 0.05 的行数\n",
    ")\n",
    "\n",
    "result['percentage'] = result['p_less_than_0_05']/result['total_rows'] "
   ]
  },
  {
   "cell_type": "code",
   "execution_count": 41,
   "id": "603dc266-75fb-4178-ba82-037a9a2b2fdc",
   "metadata": {
    "execution": {
     "iopub.execute_input": "2025-03-20T14:43:31.892579Z",
     "iopub.status.busy": "2025-03-20T14:43:31.891356Z",
     "iopub.status.idle": "2025-03-20T14:43:31.904638Z",
     "shell.execute_reply": "2025-03-20T14:43:31.903576Z",
     "shell.execute_reply.started": "2025-03-20T14:43:31.892526Z"
    }
   },
   "outputs": [
    {
     "data": {
      "text/html": [
       "<div>\n",
       "<style scoped>\n",
       "    .dataframe tbody tr th:only-of-type {\n",
       "        vertical-align: middle;\n",
       "    }\n",
       "\n",
       "    .dataframe tbody tr th {\n",
       "        vertical-align: top;\n",
       "    }\n",
       "\n",
       "    .dataframe thead th {\n",
       "        text-align: right;\n",
       "    }\n",
       "</style>\n",
       "<table border=\"1\" class=\"dataframe\">\n",
       "  <thead>\n",
       "    <tr style=\"text-align: right;\">\n",
       "      <th></th>\n",
       "      <th>total_rows</th>\n",
       "      <th>p_less_than_0_05</th>\n",
       "      <th>percentage</th>\n",
       "    </tr>\n",
       "    <tr>\n",
       "      <th>celltype</th>\n",
       "      <th></th>\n",
       "      <th></th>\n",
       "      <th></th>\n",
       "    </tr>\n",
       "  </thead>\n",
       "  <tbody>\n",
       "    <tr>\n",
       "      <th>B</th>\n",
       "      <td>3223</td>\n",
       "      <td>2272</td>\n",
       "      <td>0.704933</td>\n",
       "    </tr>\n",
       "    <tr>\n",
       "      <th>CD4_T</th>\n",
       "      <td>4259</td>\n",
       "      <td>3124</td>\n",
       "      <td>0.733506</td>\n",
       "    </tr>\n",
       "    <tr>\n",
       "      <th>CD8_T</th>\n",
       "      <td>3518</td>\n",
       "      <td>2535</td>\n",
       "      <td>0.720580</td>\n",
       "    </tr>\n",
       "    <tr>\n",
       "      <th>Myeloid</th>\n",
       "      <td>3692</td>\n",
       "      <td>2602</td>\n",
       "      <td>0.704767</td>\n",
       "    </tr>\n",
       "    <tr>\n",
       "      <th>NK</th>\n",
       "      <td>2158</td>\n",
       "      <td>1414</td>\n",
       "      <td>0.655236</td>\n",
       "    </tr>\n",
       "  </tbody>\n",
       "</table>\n",
       "</div>"
      ],
      "text/plain": [
       "          total_rows  p_less_than_0_05  percentage\n",
       "celltype                                          \n",
       "B               3223              2272    0.704933\n",
       "CD4_T           4259              3124    0.733506\n",
       "CD8_T           3518              2535    0.720580\n",
       "Myeloid         3692              2602    0.704767\n",
       "NK              2158              1414    0.655236"
      ]
     },
     "execution_count": 41,
     "metadata": {},
     "output_type": "execute_result"
    }
   ],
   "source": [
    "result"
   ]
  },
  {
   "cell_type": "code",
   "execution_count": 42,
   "id": "7a8a9d07-b4e1-4741-92f9-5b3c1bc75a80",
   "metadata": {
    "execution": {
     "iopub.execute_input": "2025-03-20T14:45:16.478332Z",
     "iopub.status.busy": "2025-03-20T14:45:16.477743Z",
     "iopub.status.idle": "2025-03-20T14:45:16.487029Z",
     "shell.execute_reply": "2025-03-20T14:45:16.486275Z",
     "shell.execute_reply.started": "2025-03-20T14:45:16.478283Z"
    }
   },
   "outputs": [
    {
     "data": {
      "text/plain": [
       "0.7038044156954459"
      ]
     },
     "execution_count": 42,
     "metadata": {},
     "output_type": "execute_result"
    }
   ],
   "source": [
    "result['percentage'].mean()"
   ]
  },
  {
   "cell_type": "code",
   "execution_count": 43,
   "id": "318962e7-ef24-46d6-819a-2231633d2933",
   "metadata": {
    "execution": {
     "iopub.execute_input": "2025-03-20T14:45:33.877818Z",
     "iopub.status.busy": "2025-03-20T14:45:33.877252Z",
     "iopub.status.idle": "2025-03-20T14:45:33.884155Z",
     "shell.execute_reply": "2025-03-20T14:45:33.883386Z",
     "shell.execute_reply.started": "2025-03-20T14:45:33.877770Z"
    }
   },
   "outputs": [
    {
     "data": {
      "text/plain": [
       "0.6552363299351252"
      ]
     },
     "execution_count": 43,
     "metadata": {},
     "output_type": "execute_result"
    }
   ],
   "source": [
    "min(result['percentage'])"
   ]
  },
  {
   "cell_type": "code",
   "execution_count": 44,
   "id": "012c41fe-0cd3-438c-a9d7-d5cbef771ed7",
   "metadata": {
    "execution": {
     "iopub.execute_input": "2025-03-20T14:45:40.415407Z",
     "iopub.status.busy": "2025-03-20T14:45:40.414842Z",
     "iopub.status.idle": "2025-03-20T14:45:40.422848Z",
     "shell.execute_reply": "2025-03-20T14:45:40.422103Z",
     "shell.execute_reply.started": "2025-03-20T14:45:40.415356Z"
    }
   },
   "outputs": [
    {
     "data": {
      "text/plain": [
       "0.733505517727166"
      ]
     },
     "execution_count": 44,
     "metadata": {},
     "output_type": "execute_result"
    }
   ],
   "source": [
    "max(result['percentage'])"
   ]
  },
  {
   "cell_type": "code",
   "execution_count": 46,
   "id": "f3a0eae6-9aef-4d47-b084-fd1f96f779f6",
   "metadata": {
    "execution": {
     "iopub.execute_input": "2025-03-20T14:46:59.802099Z",
     "iopub.status.busy": "2025-03-20T14:46:59.801770Z",
     "iopub.status.idle": "2025-03-20T14:46:59.807467Z",
     "shell.execute_reply": "2025-03-20T14:46:59.806626Z",
     "shell.execute_reply.started": "2025-03-20T14:46:59.802071Z"
    }
   },
   "outputs": [],
   "source": [
    "immunexut = result[['percentage']]\n",
    "immunexut.columns = ['immunexut_vs_CIMA']"
   ]
  },
  {
   "cell_type": "code",
   "execution_count": null,
   "id": "495ed1ef-d953-4172-baa0-c067c9246763",
   "metadata": {
    "execution": {
     "iopub.execute_input": "2025-03-20T14:49:11.392896Z",
     "iopub.status.busy": "2025-03-20T14:49:11.391649Z",
     "iopub.status.idle": "2025-03-20T14:49:11.408343Z",
     "shell.execute_reply": "2025-03-20T14:49:11.407228Z",
     "shell.execute_reply.started": "2025-03-20T14:49:11.392837Z"
    }
   },
   "outputs": [],
   "source": [
    "pd.concat([onk1k,immunexut],axis=1).to_csv('/CIMA/Result/summary/20250320_onek1k_immunexut_independent_percentage_eQTL.csv')"
   ]
  }
 ],
 "metadata": {
  "kernelspec": {
   "display_name": "scPAFA",
   "language": "python",
   "name": "scpafa"
  },
  "language_info": {
   "codemirror_mode": {
    "name": "ipython",
    "version": 3
   },
   "file_extension": ".py",
   "mimetype": "text/x-python",
   "name": "python",
   "nbconvert_exporter": "python",
   "pygments_lexer": "ipython3",
   "version": "3.10.14"
  }
 },
 "nbformat": 4,
 "nbformat_minor": 5
}
