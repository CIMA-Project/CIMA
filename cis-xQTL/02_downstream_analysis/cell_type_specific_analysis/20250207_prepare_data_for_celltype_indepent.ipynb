{
 "cells": [
  {
   "cell_type": "code",
   "execution_count": 1,
   "id": "a7bc4221-fc06-43a6-8a3f-b8355046c35d",
   "metadata": {
    "execution": {
     "iopub.execute_input": "2025-02-20T12:26:01.872671Z",
     "iopub.status.busy": "2025-02-20T12:26:01.872071Z",
     "iopub.status.idle": "2025-02-20T12:26:02.559501Z",
     "shell.execute_reply": "2025-02-20T12:26:02.558407Z",
     "shell.execute_reply.started": "2025-02-20T12:26:01.872634Z"
    }
   },
   "outputs": [],
   "source": [
    "import pandas as pd\n",
    "import numpy as np\n",
    "from scipy import stats\n",
    "import multiprocessing"
   ]
  },
  {
   "cell_type": "markdown",
   "id": "f4018918-ef1c-484a-9d1d-171b90b9767f",
   "metadata": {},
   "source": [
    "# eQTL数据处理"
   ]
  },
  {
   "cell_type": "code",
   "execution_count": null,
   "id": "ff337518-b1c8-4287-8e4d-4e1a3c7bd1ec",
   "metadata": {
    "execution": {
     "iopub.execute_input": "2025-02-20T12:26:04.847420Z",
     "iopub.status.busy": "2025-02-20T12:26:04.846690Z",
     "iopub.status.idle": "2025-02-20T12:26:07.851481Z",
     "shell.execute_reply": "2025-02-20T12:26:07.850582Z",
     "shell.execute_reply.started": "2025-02-20T12:26:04.847365Z"
    }
   },
   "outputs": [],
   "source": [
    "cis_df_all_eQTL = pd.read_csv('/CIMA/Result/20250108_cis_eQTL_all.csv',index_col=0)\n",
    "cis_df_all_eQTL_sig = cis_df_all_eQTL[cis_df_all_eQTL['study_wise_qval'] < 0.05].copy()"
   ]
  },
  {
   "cell_type": "code",
   "execution_count": null,
   "id": "eb2f5ff8-bf4c-4c32-bae7-6d36f2421e55",
   "metadata": {
    "execution": {
     "iopub.execute_input": "2025-02-20T12:26:07.852894Z",
     "iopub.status.busy": "2025-02-20T12:26:07.852683Z",
     "iopub.status.idle": "2025-02-20T12:26:31.303413Z",
     "shell.execute_reply": "2025-02-20T12:26:31.302326Z",
     "shell.execute_reply.started": "2025-02-20T12:26:07.852871Z"
    }
   },
   "outputs": [],
   "source": [
    "#输出所有显著eSNP的基因分型\n",
    "genotype_df = pd.read_parquet('/CIMA/Data/413_sample_genotype.parquet')\n",
    "genotype_df.loc[cis_df_all_eQTL_sig['variant_id'].unique(),:].T.to_csv('/CIMA/Data/celltype_independent/genotype_sigeSNP.csv')"
   ]
  },
  {
   "cell_type": "code",
   "execution_count": null,
   "id": "6a6fbb1e-928e-4b58-8e0e-3f7d076acc45",
   "metadata": {
    "execution": {
     "iopub.execute_input": "2025-02-07T07:40:46.662102Z",
     "iopub.status.busy": "2025-02-07T07:40:46.661889Z",
     "iopub.status.idle": "2025-02-07T07:41:51.385664Z",
     "shell.execute_reply": "2025-02-07T07:41:51.384703Z",
     "shell.execute_reply.started": "2025-02-07T07:40:46.662083Z"
    }
   },
   "outputs": [],
   "source": [
    "# 创建一个空的DataFrame来存储比例结果\n",
    "overlap_count = pd.DataFrame(index=cis_df_all_eQTL_sig['celltype'].unique(), columns=cis_df_all_eQTL_sig['celltype'].unique())\n",
    "overlap_count_with_diff_topsnp = pd.DataFrame(index=cis_df_all_eQTL_sig['celltype'].unique(), columns=cis_df_all_eQTL_sig['celltype'].unique())\n",
    "\n",
    "for celltype_A in cis_df_all_eQTL_sig['celltype'].unique():\n",
    "    df_merge = pd.DataFrame()\n",
    "    for celltype_B in cis_df_all_eQTL_sig['celltype'].unique():\n",
    "        if celltype_A != celltype_B:\n",
    "            use_df_A = cis_df_all_eQTL_sig[cis_df_all_eQTL_sig['celltype'] == celltype_A][['phenotype_id','variant_id']]\n",
    "            series_A = pd.Series(use_df_A['variant_id'].values, index=use_df_A['phenotype_id'].values)\n",
    "            use_df_B = cis_df_all_eQTL_sig[cis_df_all_eQTL_sig['celltype'] == celltype_B][['phenotype_id','variant_id']]\n",
    "            series_B = pd.Series(use_df_B['variant_id'].values, index=use_df_B['phenotype_id'].values)\n",
    "\n",
    "            # 合并两个 Series，保留共享的索引，并设置列名\n",
    "            df = pd.concat([series_A, series_B], axis=1, join='inner').reset_index()\n",
    "            df.columns = ['phenotype','topSNP_A', 'topSNP_B']\n",
    "            df['celltype_A'] = celltype_A\n",
    "            df['celltype_B'] = celltype_B\n",
    "            df = df[['celltype_A','celltype_B','phenotype','topSNP_A','topSNP_B']]\n",
    "            \n",
    "            # 统计合并后的行数\n",
    "            initial_row_count = len(df)\n",
    "            overlap_count.loc[celltype_A,celltype_B] = initial_row_count\n",
    "\n",
    "            # 去除 topSNP_A 等于 topSNP_B 的行\n",
    "            df_filtered = df[df['topSNP_A'] != df['topSNP_B']]\n",
    "\n",
    "            # 统计去除后的行数\n",
    "            filtered_row_count = len(df_filtered)\n",
    "            overlap_count_with_diff_topsnp.loc[celltype_A,celltype_B] = filtered_row_count\n",
    "            df_merge = pd.concat([df_merge,df_filtered]).reset_index(drop = True)\n",
    "    df_merge.to_csv(f'/CIMA/Data/celltype_independent/eQTL_df/{celltype_A}.csv')    "
   ]
  },
  {
   "cell_type": "code",
   "execution_count": 5,
   "id": "d2b98b02-b3ac-4d63-986d-573818b08572",
   "metadata": {
    "execution": {
     "iopub.execute_input": "2025-02-07T07:41:51.386913Z",
     "iopub.status.busy": "2025-02-07T07:41:51.386694Z",
     "iopub.status.idle": "2025-02-07T07:41:51.399726Z",
     "shell.execute_reply": "2025-02-07T07:41:51.399300Z",
     "shell.execute_reply.started": "2025-02-07T07:41:51.386893Z"
    }
   },
   "outputs": [
    {
     "data": {
      "text/html": [
       "<div>\n",
       "<style scoped>\n",
       "    .dataframe tbody tr th:only-of-type {\n",
       "        vertical-align: middle;\n",
       "    }\n",
       "\n",
       "    .dataframe tbody tr th {\n",
       "        vertical-align: top;\n",
       "    }\n",
       "\n",
       "    .dataframe thead th {\n",
       "        text-align: right;\n",
       "    }\n",
       "</style>\n",
       "<table border=\"1\" class=\"dataframe\">\n",
       "  <thead>\n",
       "    <tr style=\"text-align: right;\">\n",
       "      <th></th>\n",
       "      <th>celltype_A</th>\n",
       "      <th>celltype_B</th>\n",
       "      <th>phenotype</th>\n",
       "      <th>topSNP_A</th>\n",
       "      <th>topSNP_B</th>\n",
       "    </tr>\n",
       "  </thead>\n",
       "  <tbody>\n",
       "    <tr>\n",
       "      <th>0</th>\n",
       "      <td>Transitional_NK_GZMK</td>\n",
       "      <td>Atypical_Bm_ITGAX</td>\n",
       "      <td>SSU72</td>\n",
       "      <td>chr1_1541943</td>\n",
       "      <td>chr1_1538787</td>\n",
       "    </tr>\n",
       "    <tr>\n",
       "      <th>1</th>\n",
       "      <td>Transitional_NK_GZMK</td>\n",
       "      <td>Atypical_Bm_ITGAX</td>\n",
       "      <td>SLC35E2B</td>\n",
       "      <td>chr1_1651653</td>\n",
       "      <td>chr1_1646352</td>\n",
       "    </tr>\n",
       "    <tr>\n",
       "      <th>2</th>\n",
       "      <td>Transitional_NK_GZMK</td>\n",
       "      <td>Atypical_Bm_ITGAX</td>\n",
       "      <td>SLC35E2A</td>\n",
       "      <td>chr1_1618982</td>\n",
       "      <td>chr1_1660318</td>\n",
       "    </tr>\n",
       "    <tr>\n",
       "      <th>3</th>\n",
       "      <td>Transitional_NK_GZMK</td>\n",
       "      <td>Atypical_Bm_ITGAX</td>\n",
       "      <td>CAPZB</td>\n",
       "      <td>chr1_19340105</td>\n",
       "      <td>chr1_19354899</td>\n",
       "    </tr>\n",
       "    <tr>\n",
       "      <th>4</th>\n",
       "      <td>Transitional_NK_GZMK</td>\n",
       "      <td>Atypical_Bm_ITGAX</td>\n",
       "      <td>PINK1-AS</td>\n",
       "      <td>chr1_20647379</td>\n",
       "      <td>chr1_20636214</td>\n",
       "    </tr>\n",
       "    <tr>\n",
       "      <th>...</th>\n",
       "      <td>...</td>\n",
       "      <td>...</td>\n",
       "      <td>...</td>\n",
       "      <td>...</td>\n",
       "      <td>...</td>\n",
       "    </tr>\n",
       "    <tr>\n",
       "      <th>19308</th>\n",
       "      <td>Transitional_NK_GZMK</td>\n",
       "      <td>Terminal_NK_dim_CD160neg</td>\n",
       "      <td>GRAMD4</td>\n",
       "      <td>chr22_46588368</td>\n",
       "      <td>chr22_46602247</td>\n",
       "    </tr>\n",
       "    <tr>\n",
       "      <th>19309</th>\n",
       "      <td>Transitional_NK_GZMK</td>\n",
       "      <td>Terminal_NK_dim_CD160neg</td>\n",
       "      <td>AL118516.1</td>\n",
       "      <td>chr22_46762282</td>\n",
       "      <td>chr22_46762547</td>\n",
       "    </tr>\n",
       "    <tr>\n",
       "      <th>19310</th>\n",
       "      <td>Transitional_NK_GZMK</td>\n",
       "      <td>Terminal_NK_dim_CD160neg</td>\n",
       "      <td>MLC1</td>\n",
       "      <td>chr22_50162190</td>\n",
       "      <td>chr22_50092222</td>\n",
       "    </tr>\n",
       "    <tr>\n",
       "      <th>19311</th>\n",
       "      <td>Transitional_NK_GZMK</td>\n",
       "      <td>Terminal_NK_dim_CD160neg</td>\n",
       "      <td>TYMP</td>\n",
       "      <td>chr22_50524928</td>\n",
       "      <td>chr22_50525111</td>\n",
       "    </tr>\n",
       "    <tr>\n",
       "      <th>19312</th>\n",
       "      <td>Transitional_NK_GZMK</td>\n",
       "      <td>Terminal_NK_dim_CD160neg</td>\n",
       "      <td>CHKB</td>\n",
       "      <td>chr22_50584092</td>\n",
       "      <td>chr22_50594242</td>\n",
       "    </tr>\n",
       "  </tbody>\n",
       "</table>\n",
       "<p>19313 rows × 5 columns</p>\n",
       "</div>"
      ],
      "text/plain": [
       "                 celltype_A                celltype_B   phenotype  \\\n",
       "0      Transitional_NK_GZMK         Atypical_Bm_ITGAX       SSU72   \n",
       "1      Transitional_NK_GZMK         Atypical_Bm_ITGAX    SLC35E2B   \n",
       "2      Transitional_NK_GZMK         Atypical_Bm_ITGAX    SLC35E2A   \n",
       "3      Transitional_NK_GZMK         Atypical_Bm_ITGAX       CAPZB   \n",
       "4      Transitional_NK_GZMK         Atypical_Bm_ITGAX    PINK1-AS   \n",
       "...                     ...                       ...         ...   \n",
       "19308  Transitional_NK_GZMK  Terminal_NK_dim_CD160neg      GRAMD4   \n",
       "19309  Transitional_NK_GZMK  Terminal_NK_dim_CD160neg  AL118516.1   \n",
       "19310  Transitional_NK_GZMK  Terminal_NK_dim_CD160neg        MLC1   \n",
       "19311  Transitional_NK_GZMK  Terminal_NK_dim_CD160neg        TYMP   \n",
       "19312  Transitional_NK_GZMK  Terminal_NK_dim_CD160neg        CHKB   \n",
       "\n",
       "             topSNP_A        topSNP_B  \n",
       "0        chr1_1541943    chr1_1538787  \n",
       "1        chr1_1651653    chr1_1646352  \n",
       "2        chr1_1618982    chr1_1660318  \n",
       "3       chr1_19340105   chr1_19354899  \n",
       "4       chr1_20647379   chr1_20636214  \n",
       "...               ...             ...  \n",
       "19308  chr22_46588368  chr22_46602247  \n",
       "19309  chr22_46762282  chr22_46762547  \n",
       "19310  chr22_50162190  chr22_50092222  \n",
       "19311  chr22_50524928  chr22_50525111  \n",
       "19312  chr22_50584092  chr22_50594242  \n",
       "\n",
       "[19313 rows x 5 columns]"
      ]
     },
     "execution_count": 5,
     "metadata": {},
     "output_type": "execute_result"
    }
   ],
   "source": [
    "df_merge"
   ]
  },
  {
   "cell_type": "code",
   "execution_count": null,
   "id": "bdcb3643-7a9c-47d5-98f5-33027a90fc77",
   "metadata": {
    "execution": {
     "iopub.execute_input": "2025-02-07T07:41:51.401311Z",
     "iopub.status.busy": "2025-02-07T07:41:51.401134Z",
     "iopub.status.idle": "2025-02-07T07:41:51.414248Z",
     "shell.execute_reply": "2025-02-07T07:41:51.413778Z",
     "shell.execute_reply.started": "2025-02-07T07:41:51.401294Z"
    }
   },
   "outputs": [],
   "source": [
    "overlap_count.to_csv('/CIMA/Result/summary/20250207_sig_eGene_celltype_overlapcount.csv')\n",
    "overlap_count_with_diff_topsnp.to_csv('/CIMA/Result/summary/20250207_sig_eGene_withdifftopsnp_celltype_overlapcount.csv')"
   ]
  },
  {
   "cell_type": "markdown",
   "id": "58cba0f2-f256-4856-9594-b7c4fe6aac2e",
   "metadata": {},
   "source": [
    "# caQTL数据处理"
   ]
  },
  {
   "cell_type": "code",
   "execution_count": null,
   "id": "6f6729ce-7990-4f0f-bb63-65a446fa15b6",
   "metadata": {
    "execution": {
     "iopub.execute_input": "2025-02-07T07:41:51.414985Z",
     "iopub.status.busy": "2025-02-07T07:41:51.414813Z",
     "iopub.status.idle": "2025-02-07T07:41:57.981911Z",
     "shell.execute_reply": "2025-02-07T07:41:57.980386Z",
     "shell.execute_reply.started": "2025-02-07T07:41:51.414969Z"
    }
   },
   "outputs": [],
   "source": [
    "cis_df_all_caQTL = pd.read_csv('/CIMA/Result/20250108_cis_caQTL_all.csv',index_col=0)\n",
    "cis_df_all_caQTL_sig = cis_df_all_caQTL[cis_df_all_caQTL['study_wise_qval'] < 0.05].copy()"
   ]
  },
  {
   "cell_type": "code",
   "execution_count": null,
   "id": "d22ad361-2b3d-484a-b76b-ef4901cb0d91",
   "metadata": {
    "execution": {
     "iopub.execute_input": "2025-02-07T07:55:48.295052Z",
     "iopub.status.busy": "2025-02-07T07:55:48.294404Z",
     "iopub.status.idle": "2025-02-07T07:56:55.940804Z",
     "shell.execute_reply": "2025-02-07T07:56:55.939423Z",
     "shell.execute_reply.started": "2025-02-07T07:55:48.294993Z"
    }
   },
   "outputs": [],
   "source": [
    "#输出所有显著eSNP的基因分型\n",
    "genotype_df = pd.read_parquet('/CIMA/Data/413_sample_genotype.parquet')\n",
    "genotype_df.loc[cis_df_all_caQTL_sig['variant_id'].unique(),:].T.to_csv('/CIMA/Data/celltype_independent/genotype_sigcaSNP.csv')"
   ]
  },
  {
   "cell_type": "code",
   "execution_count": null,
   "id": "631360ea-5155-4beb-ba81-a0495430aa0f",
   "metadata": {
    "execution": {
     "iopub.execute_input": "2025-02-07T07:42:16.694384Z",
     "iopub.status.busy": "2025-02-07T07:42:16.694149Z",
     "iopub.status.idle": "2025-02-07T07:43:01.016689Z",
     "shell.execute_reply": "2025-02-07T07:43:01.014906Z",
     "shell.execute_reply.started": "2025-02-07T07:42:16.694362Z"
    }
   },
   "outputs": [],
   "source": [
    "# 创建一个空的DataFrame来存储比例结果\n",
    "overlap_count = pd.DataFrame(index=cis_df_all_caQTL_sig['celltype'].unique(), columns=cis_df_all_caQTL_sig['celltype'].unique())\n",
    "overlap_count_with_diff_topsnp = pd.DataFrame(index=cis_df_all_caQTL_sig['celltype'].unique(), columns=cis_df_all_caQTL_sig['celltype'].unique())\n",
    "\n",
    "for celltype_A in cis_df_all_caQTL_sig['celltype'].unique():\n",
    "    df_merge = pd.DataFrame()\n",
    "    for celltype_B in cis_df_all_caQTL_sig['celltype'].unique():\n",
    "        if celltype_A != celltype_B:\n",
    "            use_df_A = cis_df_all_caQTL_sig[cis_df_all_caQTL_sig['celltype'] == celltype_A][['phenotype_id','variant_id']]\n",
    "            series_A = pd.Series(use_df_A['variant_id'].values, index=use_df_A['phenotype_id'].values)\n",
    "            use_df_B = cis_df_all_caQTL_sig[cis_df_all_caQTL_sig['celltype'] == celltype_B][['phenotype_id','variant_id']]\n",
    "            series_B = pd.Series(use_df_B['variant_id'].values, index=use_df_B['phenotype_id'].values)\n",
    "\n",
    "            # 合并两个 Series，保留共享的索引，并设置列名\n",
    "            df = pd.concat([series_A, series_B], axis=1, join='inner').reset_index()\n",
    "            df.columns = ['phenotype','topSNP_A', 'topSNP_B']\n",
    "            df['celltype_A'] = celltype_A\n",
    "            df['celltype_B'] = celltype_B\n",
    "            df = df[['celltype_A','celltype_B','phenotype','topSNP_A','topSNP_B']]\n",
    "            \n",
    "            # 统计合并后的行数\n",
    "            initial_row_count = len(df)\n",
    "            overlap_count.loc[celltype_A,celltype_B] = initial_row_count\n",
    "\n",
    "            # 去除 topSNP_A 等于 topSNP_B 的行\n",
    "            df_filtered = df[df['topSNP_A'] != df['topSNP_B']]\n",
    "\n",
    "            # 统计去除后的行数\n",
    "            filtered_row_count = len(df_filtered)\n",
    "            overlap_count_with_diff_topsnp.loc[celltype_A,celltype_B] = filtered_row_count\n",
    "            df_merge = pd.concat([df_merge,df_filtered]).reset_index(drop = True)\n",
    "    df_merge.to_csv(f'/CIMA/Data/celltype_independent/caQTL_df/{celltype_A}.csv')    "
   ]
  },
  {
   "cell_type": "code",
   "execution_count": null,
   "id": "e7a785a8-08fb-425d-806e-525adf6a955c",
   "metadata": {
    "execution": {
     "iopub.execute_input": "2025-02-07T07:43:01.018019Z",
     "iopub.status.busy": "2025-02-07T07:43:01.017798Z",
     "iopub.status.idle": "2025-02-07T07:43:01.029512Z",
     "shell.execute_reply": "2025-02-07T07:43:01.028655Z",
     "shell.execute_reply.started": "2025-02-07T07:43:01.017999Z"
    }
   },
   "outputs": [],
   "source": [
    "overlap_count.to_csv('/CIMA/Result/summary/20250207_sig_caPeak_celltype_overlapcount.csv')\n",
    "overlap_count_with_diff_topsnp.to_csv('/CIMA/Result/summary/20250207_sig_caPeak_withdifftopsnp_celltype_overlapcount.csv')"
   ]
  }
 ],
 "metadata": {
  "kernelspec": {
   "display_name": "scPAFA",
   "language": "python",
   "name": "scpafa"
  },
  "language_info": {
   "codemirror_mode": {
    "name": "ipython",
    "version": 3
   },
   "file_extension": ".py",
   "mimetype": "text/x-python",
   "name": "python",
   "nbconvert_exporter": "python",
   "pygments_lexer": "ipython3",
   "version": "3.10.14"
  }
 },
 "nbformat": 4,
 "nbformat_minor": 5
}
