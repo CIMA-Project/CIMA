{
 "cells": [
  {
   "cell_type": "code",
   "execution_count": 1,
   "id": "ea9a1b18-e43a-4d6e-b14a-f429176182f9",
   "metadata": {
    "execution": {
     "iopub.execute_input": "2025-02-20T02:51:20.923244Z",
     "iopub.status.busy": "2025-02-20T02:51:20.922799Z",
     "iopub.status.idle": "2025-02-20T02:51:20.925872Z",
     "shell.execute_reply": "2025-02-20T02:51:20.925419Z",
     "shell.execute_reply.started": "2025-02-20T02:51:20.923216Z"
    }
   },
   "outputs": [],
   "source": [
    "# 20250206\n",
    "# Author: Zhuoli Huang\n",
    "# Analysis Objective: Evaluate the enrichment of eGenes/caPeaks from celltype A in celltype B\n",
    "# Algorithm Description:\n",
    "# First, sort the eGenes of each celltype by p_nominal in ascending order, and then shuffle 10,000 times.\n",
    "# In celltype A, select the significant eGenes and identify those that are detected (expressed) in celltype B, but not significant (A_sig_in_B_notsig).\n",
    "# Count the number of eGenes in the A_sig_in_B_notsig group, denoted as n.\n",
    "# Randomly select n genes from the shuffled ranks and compute the mean rank for these n genes.\n",
    "# Perform a t-test comparing the rank of A_sig_in_B_notsig in celltype B with the n shuffled mean ranks.\n",
    "# If the test is significant, it suggests that eGenes significantly associated with celltype A may have effects in celltype B as well,\n",
    "# but the lack of significance in celltype B may be due to factors such as sample size or other reasons."
   ]
  },
  {
   "cell_type": "code",
   "execution_count": 1,
   "id": "2b8b56d5-d102-48c3-aea6-26ad8e65237d",
   "metadata": {
    "execution": {
     "iopub.execute_input": "2025-04-08T13:53:15.577742Z",
     "iopub.status.busy": "2025-04-08T13:53:15.577175Z",
     "iopub.status.idle": "2025-04-08T13:53:16.203506Z",
     "shell.execute_reply": "2025-04-08T13:53:16.202561Z",
     "shell.execute_reply.started": "2025-04-08T13:53:15.577691Z"
    }
   },
   "outputs": [],
   "source": [
    "import pandas as pd\n",
    "import numpy as np\n",
    "from scipy import stats\n",
    "import multiprocessing"
   ]
  },
  {
   "cell_type": "code",
   "execution_count": 2,
   "id": "fbbfd1b2-556a-46e3-9fc1-551efb01f6a7",
   "metadata": {
    "execution": {
     "iopub.execute_input": "2025-04-08T13:53:16.839574Z",
     "iopub.status.busy": "2025-04-08T13:53:16.838869Z",
     "iopub.status.idle": "2025-04-08T13:53:16.853552Z",
     "shell.execute_reply": "2025-04-08T13:53:16.852641Z",
     "shell.execute_reply.started": "2025-04-08T13:53:16.839521Z"
    }
   },
   "outputs": [],
   "source": [
    "#这个值是每个celltype中的显著eGene/caPeak在另外一个细胞类型中被检测的比例（交集数/显著数量）\n",
    "# 定义计算基因交集比例的函数\n",
    "def calculate_proportion(sig_genes, detected_genes):\n",
    "    intersection = len(set(sig_genes).intersection(set(detected_genes)))\n",
    "    return intersection / len(sig_genes)\n",
    "\n",
    "#洗牌函数\n",
    "def shuffle_ranks(xqtl_df, cell_type, num_shuffles=10000):\n",
    "    # 选择特定细胞类型的数据\n",
    "    use_xqtl_df = xqtl_df[xqtl_df['celltype'] == cell_type].copy()\n",
    "\n",
    "    # 创建一个以phenotype_id为索引的rank_series\n",
    "    rank_series = pd.Series(use_xqtl_df['rank_in_celltype'].values, index=use_xqtl_df['phenotype_id'].values)\n",
    "\n",
    "    # 用于保存每次shuffle的rank数据\n",
    "    rank_data = []\n",
    "\n",
    "    # 执行num_shuffles次随机打乱\n",
    "    for i in range(num_shuffles):\n",
    "        shuffled_series = rank_series.sample(frac=1, random_state=i)  # 随机打乱\n",
    "        ranks = shuffled_series.values  # 获取打乱后的rank\n",
    "        rank_data.append(ranks)\n",
    "\n",
    "    # 将每次shuffle的rank数据存储到DataFrame\n",
    "    rank_df = pd.DataFrame(rank_data, columns=rank_series.index)\n",
    "\n",
    "    return cell_type, rank_df\n",
    "\n",
    "#并发洗牌函数\n",
    "def parallel_shuffle_ranks(xqtl_df, num_shuffles=10000):\n",
    "    # 获取所有独特的celltype\n",
    "    celltypes = xqtl_df['celltype'].unique()\n",
    "\n",
    "    # 创建进程池\n",
    "    with multiprocessing.Pool(processes=multiprocessing.cpu_count()) as pool:\n",
    "        results = pool.starmap(shuffle_ranks, [(xqtl_df, cell_type, num_shuffles) for cell_type in celltypes])\n",
    "\n",
    "    # 将结果转化为字典，key是celltype，value是对应的rank_df\n",
    "    result_dict = {cell_type: rank_df for cell_type, rank_df in results}\n",
    "\n",
    "    return result_dict"
   ]
  },
  {
   "cell_type": "markdown",
   "id": "0104b745-f446-4de0-a538-98484d30452d",
   "metadata": {},
   "source": [
    "# eQTL 数据处理"
   ]
  },
  {
   "cell_type": "code",
   "execution_count": null,
   "id": "332b308b-626a-4f34-a456-87cab654250b",
   "metadata": {
    "execution": {
     "iopub.execute_input": "2025-04-08T13:53:19.045282Z",
     "iopub.status.busy": "2025-04-08T13:53:19.044755Z",
     "iopub.status.idle": "2025-04-08T13:53:22.733815Z",
     "shell.execute_reply": "2025-04-08T13:53:22.732793Z",
     "shell.execute_reply.started": "2025-04-08T13:53:19.045233Z"
    }
   },
   "outputs": [],
   "source": [
    "cis_df_all_eQTL = pd.read_csv('/CIMA/Result/20250108_cis_eQTL_all.csv',index_col=0)\n",
    "#各个细胞类型的eGene按照p_value从小到大排名\n",
    "cis_df_all_eQTL['rank_in_celltype'] = cis_df_all_eQTL.groupby('celltype')['pval_nominal'].rank(method='average', ascending=True).astype('int')\n",
    "#每个细胞类型检测的eGene\n",
    "detected_list = cis_df_all_eQTL.groupby('celltype')['phenotype_id'].unique()\n",
    "cis_df_all_eQTL_sig = cis_df_all_eQTL[cis_df_all_eQTL['study_wise_qval'] < 0.05].copy()\n",
    "#每个细胞类型的study-wide显著eGene\n",
    "sig_list = cis_df_all_eQTL_sig.groupby('celltype')['phenotype_id'].unique()"
   ]
  },
  {
   "cell_type": "code",
   "execution_count": 4,
   "id": "9549c59f-8f6d-4408-bb4a-15b159f26caf",
   "metadata": {
    "execution": {
     "iopub.execute_input": "2025-04-08T13:53:22.735032Z",
     "iopub.status.busy": "2025-04-08T13:53:22.734805Z",
     "iopub.status.idle": "2025-04-08T13:53:24.911978Z",
     "shell.execute_reply": "2025-04-08T13:53:24.910888Z",
     "shell.execute_reply.started": "2025-04-08T13:53:22.735014Z"
    }
   },
   "outputs": [],
   "source": [
    "# 创建一个空的DataFrame来存储比例结果\n",
    "proportion_df = pd.DataFrame(index=sig_list.index, columns=detected_list.index)\n",
    "\n",
    "# 填充DataFrame\n",
    "for sig_index in sig_list.index:\n",
    "    for detected_index in detected_list.index:\n",
    "        proportion_df.loc[sig_index, detected_index] = calculate_proportion(\n",
    "            sig_list[sig_index], detected_list[detected_index]\n",
    "        )\n",
    "\n",
    "# 将比例列转换为float类型\n",
    "proportion_df = proportion_df.astype(float)"
   ]
  },
  {
   "cell_type": "code",
   "execution_count": 5,
   "id": "51930517-0b24-4723-a877-7102d1210ef3",
   "metadata": {
    "execution": {
     "iopub.execute_input": "2025-04-08T13:53:24.913116Z",
     "iopub.status.busy": "2025-04-08T13:53:24.912927Z",
     "iopub.status.idle": "2025-04-08T13:58:15.881040Z",
     "shell.execute_reply": "2025-04-08T13:58:15.879543Z",
     "shell.execute_reply.started": "2025-04-08T13:53:24.913099Z"
    }
   },
   "outputs": [],
   "source": [
    "# 假设xqtl_df是已经加载的数据框\n",
    "result_dict = parallel_shuffle_ranks(xqtl_df = cis_df_all_eQTL, num_shuffles=10000)"
   ]
  },
  {
   "cell_type": "code",
   "execution_count": 46,
   "id": "e307e30d-ee30-490a-9811-04204f9066c6",
   "metadata": {
    "execution": {
     "iopub.execute_input": "2025-04-08T14:26:56.503452Z",
     "iopub.status.busy": "2025-04-08T14:26:56.502814Z",
     "iopub.status.idle": "2025-04-08T14:28:28.453771Z",
     "shell.execute_reply": "2025-04-08T14:28:28.452246Z",
     "shell.execute_reply.started": "2025-04-08T14:26:56.503401Z"
    }
   },
   "outputs": [],
   "source": [
    "# 创建一个空的数据框，用于存储每个显著基因在不同细胞类型中的数量\n",
    "number_df = pd.DataFrame(index=sig_list.index, columns=detected_list.index)\n",
    "# 创建一个空的数据框，用于存储每个显著基因在不同细胞类型中的富集p值\n",
    "enrich_p_df = pd.DataFrame(index=sig_list.index, columns=detected_list.index)\n",
    "\n",
    "# 遍历所有被检测的细胞类型\n",
    "for detected_index in detected_list.index:\n",
    "    # 筛选出当前细胞类型的数据\n",
    "    cis_df_all_eQTL_use = cis_df_all_eQTL[cis_df_all_eQTL['celltype'] == detected_index].copy()\n",
    "    \n",
    "    # 创建一个以phenotype_id为索引的rank_series\n",
    "    rank_series = pd.Series(cis_df_all_eQTL_use['rank_in_celltype'].values, index=cis_df_all_eQTL_use['phenotype_id'].values)\n",
    "    \n",
    "    # 遍历所有显著基因集合\n",
    "    for sig_index in sig_list.index:\n",
    "        # 计算显著基因集合与当前细胞类型中检测到的基因集合的交集\n",
    "        intersection = set(sig_list[sig_index]).intersection(set(detected_list[detected_index]))\n",
    "        # 移除当前细胞类型中已经显著的基因\n",
    "        intersection = list(intersection - set(sig_list[detected_index]))\n",
    "        \n",
    "        # 将交集的基因数目记录在number_df中\n",
    "        number_df.loc[sig_index, detected_index] = len(intersection)\n",
    "        \n",
    "        np.random.seed(42)\n",
    "        # 随机选择与交集大小相同数量的基因\n",
    "        selected_genes = np.random.choice(detected_list[detected_index], size=len(intersection), replace=False)\n",
    "        \n",
    "        # 获取这些随机选择的基因在该细胞类型中的rank数据\n",
    "        rank_df_use = result_dict[detected_index][selected_genes]\n",
    "        \n",
    "        # 进行t检验，比较显著基因在该细胞类型中的rank与随机选择基因的rank均值\n",
    "        t, p = stats.ttest_ind(rank_df_use.mean().values, rank_series[intersection].values,alternative='greater')\n",
    "        \n",
    "        # 将t检验的p值存储在enrich_p_df中\n",
    "        enrich_p_df.loc[sig_index, detected_index] = p"
   ]
  },
  {
   "cell_type": "markdown",
   "id": "88faf042-9839-4a8e-9734-76fd8bc88bcb",
   "metadata": {},
   "source": [
    "# 行是提供显著基因的类型，列是被检测的类型"
   ]
  },
  {
   "cell_type": "code",
   "execution_count": null,
   "id": "5149c478-9fa8-4fcf-b709-a339963ac4c9",
   "metadata": {
    "execution": {
     "iopub.execute_input": "2025-02-20T02:58:01.427510Z",
     "iopub.status.busy": "2025-02-20T02:58:01.427291Z",
     "iopub.status.idle": "2025-02-20T02:58:01.469892Z",
     "shell.execute_reply": "2025-02-20T02:58:01.468876Z",
     "shell.execute_reply.started": "2025-02-20T02:58:01.427489Z"
    }
   },
   "outputs": [],
   "source": [
    "proportion_df.to_csv('/CIMA/Result/summary/20250206_eGene_enrich_a_sig_in_B_detected_percentage.csv')\n",
    "number_df.to_csv('/CIMA/Result/summary/20250206_eGene_enrich_number.csv')\n",
    "enrich_p_df.to_csv('/CIMA/Result/summary/20250206_eGene_enrich_p_df.csv')"
   ]
  },
  {
   "cell_type": "markdown",
   "id": "a060014d-dd54-4e2c-bc1c-b63096713f81",
   "metadata": {},
   "source": [
    "# caQTL数据处理"
   ]
  },
  {
   "cell_type": "code",
   "execution_count": null,
   "id": "1642356e-a9c6-48ee-ab25-da2a38e99a4e",
   "metadata": {
    "execution": {
     "iopub.execute_input": "2025-02-20T02:58:01.470822Z",
     "iopub.status.busy": "2025-02-20T02:58:01.470650Z",
     "iopub.status.idle": "2025-02-20T02:58:08.407466Z",
     "shell.execute_reply": "2025-02-20T02:58:08.406052Z",
     "shell.execute_reply.started": "2025-02-20T02:58:01.470806Z"
    }
   },
   "outputs": [],
   "source": [
    "cis_df_all_caQTL = pd.read_csv('/CIMA/Result/20250108_cis_caQTL_all.csv',index_col=0)\n",
    "#各个细胞类型的eGene按照p_value从小到大排名\n",
    "cis_df_all_caQTL['rank_in_celltype'] = cis_df_all_caQTL.groupby('celltype')['pval_nominal'].rank(method='average', ascending=True).astype('int')\n",
    "#每个细胞类型检测的eGene\n",
    "detected_list = cis_df_all_caQTL.groupby('celltype')['phenotype_id'].unique()\n",
    "cis_df_all_caQTL_sig = cis_df_all_caQTL[cis_df_all_caQTL['study_wise_qval'] < 0.05].copy()\n",
    "#每个细胞类型的study-wide显著eGene\n",
    "sig_list = cis_df_all_caQTL_sig.groupby('celltype')['phenotype_id'].unique()"
   ]
  },
  {
   "cell_type": "code",
   "execution_count": 10,
   "id": "bbff8db0-0ec0-483b-afd8-350ade60108a",
   "metadata": {
    "execution": {
     "iopub.execute_input": "2025-02-20T02:58:08.408644Z",
     "iopub.status.busy": "2025-02-20T02:58:08.408443Z",
     "iopub.status.idle": "2025-02-20T02:58:11.686376Z",
     "shell.execute_reply": "2025-02-20T02:58:11.685422Z",
     "shell.execute_reply.started": "2025-02-20T02:58:08.408626Z"
    }
   },
   "outputs": [],
   "source": [
    "# 创建一个空的DataFrame来存储比例结果\n",
    "proportion_df = pd.DataFrame(index=sig_list.index, columns=detected_list.index)\n",
    "\n",
    "# 填充DataFrame\n",
    "for sig_index in sig_list.index:\n",
    "    for detected_index in detected_list.index:\n",
    "        proportion_df.loc[sig_index, detected_index] = calculate_proportion(\n",
    "            sig_list[sig_index], detected_list[detected_index]\n",
    "        )\n",
    "\n",
    "# 将比例列转换为float类型\n",
    "proportion_df = proportion_df.astype(float)"
   ]
  },
  {
   "cell_type": "code",
   "execution_count": 11,
   "id": "cfef557b-04cc-4664-ba04-b0d363ba875a",
   "metadata": {
    "execution": {
     "iopub.execute_input": "2025-02-20T02:58:11.687413Z",
     "iopub.status.busy": "2025-02-20T02:58:11.687192Z",
     "iopub.status.idle": "2025-02-20T03:33:46.069808Z",
     "shell.execute_reply": "2025-02-20T03:33:46.069096Z",
     "shell.execute_reply.started": "2025-02-20T02:58:11.687393Z"
    }
   },
   "outputs": [],
   "source": [
    "# 假设xqtl_df是已经加载的数据框\n",
    "result_dict = parallel_shuffle_ranks(xqtl_df = cis_df_all_caQTL, num_shuffles=10000)"
   ]
  },
  {
   "cell_type": "code",
   "execution_count": 12,
   "id": "96ddf2d0-1011-4ea2-adc2-959a848b9bd1",
   "metadata": {
    "execution": {
     "iopub.execute_input": "2025-02-20T03:33:46.071203Z",
     "iopub.status.busy": "2025-02-20T03:33:46.070974Z",
     "iopub.status.idle": "2025-02-20T03:34:42.305315Z",
     "shell.execute_reply": "2025-02-20T03:34:42.303721Z",
     "shell.execute_reply.started": "2025-02-20T03:33:46.071180Z"
    }
   },
   "outputs": [],
   "source": [
    "# 创建一个空的数据框，用于存储每个显著基因在不同细胞类型中的数量\n",
    "number_df = pd.DataFrame(index=sig_list.index, columns=detected_list.index)\n",
    "# 创建一个空的数据框，用于存储每个显著基因在不同细胞类型中的富集p值\n",
    "enrich_p_df = pd.DataFrame(index=sig_list.index, columns=detected_list.index)\n",
    "\n",
    "# 遍历所有被检测的细胞类型\n",
    "for detected_index in detected_list.index:\n",
    "    # 筛选出当前细胞类型的数据\n",
    "    cis_df_all_caQTL_use = cis_df_all_caQTL[cis_df_all_caQTL['celltype'] == detected_index].copy()\n",
    "    \n",
    "    # 创建一个以phenotype_id为索引的rank_series\n",
    "    rank_series = pd.Series(cis_df_all_caQTL_use['rank_in_celltype'].values, index=cis_df_all_caQTL_use['phenotype_id'].values)\n",
    "    \n",
    "    # 遍历所有显著基因集合\n",
    "    for sig_index in sig_list.index:\n",
    "        # 计算显著基因集合与当前细胞类型中检测到的基因集合的交集\n",
    "        intersection = set(sig_list[sig_index]).intersection(set(detected_list[detected_index]))\n",
    "        # 移除当前细胞类型中已经显著的基因\n",
    "        intersection = list(intersection - set(sig_list[detected_index]))\n",
    "        \n",
    "        # 将交集的基因数目记录在number_df中\n",
    "        number_df.loc[sig_index, detected_index] = len(intersection)\n",
    "        \n",
    "        np.random.seed(42)\n",
    "        # 随机选择与交集大小相同数量的基因\n",
    "        selected_genes = np.random.choice(detected_list[detected_index], size=len(intersection), replace=False)\n",
    "        \n",
    "        # 获取这些随机选择的基因在该细胞类型中的rank数据\n",
    "        rank_df_use = result_dict[detected_index][selected_genes]\n",
    "        \n",
    "        # 进行t检验，比较显著基因在该细胞类型中的rank与随机选择基因的rank均值\n",
    "        t, p = stats.ttest_ind(rank_df_use.mean().values, rank_series[intersection].values,alternative='greater')\n",
    "        \n",
    "        # 将t检验的p值存储在enrich_p_df中\n",
    "        enrich_p_df.loc[sig_index, detected_index] = p"
   ]
  },
  {
   "cell_type": "code",
   "execution_count": null,
   "id": "582ba785-2d28-4525-a1e3-c2dac15bc3ac",
   "metadata": {
    "execution": {
     "iopub.execute_input": "2025-02-20T03:34:42.306590Z",
     "iopub.status.busy": "2025-02-20T03:34:42.306386Z",
     "iopub.status.idle": "2025-02-20T03:34:42.328704Z",
     "shell.execute_reply": "2025-02-20T03:34:42.327761Z",
     "shell.execute_reply.started": "2025-02-20T03:34:42.306570Z"
    }
   },
   "outputs": [],
   "source": [
    "proportion_df.to_csv('/CIMA/Result/summary/20250206_caPeak_enrich_a_sig_in_B_detected_percentage.csv')\n",
    "number_df.to_csv('/CIMA/Result/summary/20250206_caPeak_enrich_number.csv')\n",
    "enrich_p_df.to_csv('/CIMA/Result/summary/20250206_caPeak_enrich_p_df.csv')"
   ]
  }
 ],
 "metadata": {
  "kernelspec": {
   "display_name": "scPAFA",
   "language": "python",
   "name": "scpafa"
  },
  "language_info": {
   "codemirror_mode": {
    "name": "ipython",
    "version": 3
   },
   "file_extension": ".py",
   "mimetype": "text/x-python",
   "name": "python",
   "nbconvert_exporter": "python",
   "pygments_lexer": "ipython3",
   "version": "3.10.14"
  }
 },
 "nbformat": 4,
 "nbformat_minor": 5
}
