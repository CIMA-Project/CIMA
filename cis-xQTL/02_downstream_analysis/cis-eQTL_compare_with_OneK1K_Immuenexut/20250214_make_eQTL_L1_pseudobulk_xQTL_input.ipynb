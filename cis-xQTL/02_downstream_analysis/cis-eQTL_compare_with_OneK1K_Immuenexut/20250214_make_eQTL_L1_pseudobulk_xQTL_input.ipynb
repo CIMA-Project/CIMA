{
 "cells": [
  {
   "cell_type": "code",
   "execution_count": 1,
   "id": "5021bfd0-afe8-4452-83c3-12e7e993b1a0",
   "metadata": {
    "execution": {
     "iopub.execute_input": "2025-02-14T04:51:01.642874Z",
     "iopub.status.busy": "2025-02-14T04:51:01.642567Z",
     "iopub.status.idle": "2025-02-14T04:51:04.950013Z",
     "shell.execute_reply": "2025-02-14T04:51:04.949088Z",
     "shell.execute_reply.started": "2025-02-14T04:51:01.642854Z"
    }
   },
   "outputs": [],
   "source": [
    "import scanpy as sc\n",
    "import pandas as pd\n",
    "import decoupler as dc"
   ]
  },
  {
   "cell_type": "code",
   "execution_count": 3,
   "id": "10dfc77c-b127-4026-8520-67bf653bc2fb",
   "metadata": {
    "execution": {
     "iopub.execute_input": "2025-02-14T04:51:47.641001Z",
     "iopub.status.busy": "2025-02-14T04:51:47.640398Z",
     "iopub.status.idle": "2025-02-14T05:35:24.324157Z",
     "shell.execute_reply": "2025-02-14T05:35:24.322443Z",
     "shell.execute_reply.started": "2025-02-14T04:51:47.640950Z"
    }
   },
   "outputs": [],
   "source": [
    "#去除其他染色体上的基因和一些样本以及细胞类型\n",
    "adata = sc.read_h5ad('/media/NaturalPopulationCohort/scRNA_Data/NatualCohort_All_Annotation_Final_reUMAP.h5ad')\n",
    "tss_bed = pd.read_csv('/media/scPBMC1_AnalysisDisk1/huangzhuoli/hw5_backup/gaoyue/health/Make_Gene_TSS/tss.bed',sep = ' ')\n",
    "adata = adata[:,adata.var_names.isin(tss_bed['gene_id'])]\n",
    "sample_with_genomics = pd.read_table('/CIMA/Data/413sample.txt')\n",
    "#去除没有wgs信息的样本\n",
    "adata = adata[adata.obs['sample'].isin(sample_with_genomics['FID']),:]\n",
    "adata = adata[adata.obs['final_annotation'] != 'HSPC_CD34']\n",
    "adata = adata[adata.obs['celltype_l1'] != 'unconvensional_T']\n",
    "del adata.layers"
   ]
  },
  {
   "cell_type": "code",
   "execution_count": 5,
   "id": "71270ae3-62fa-46d9-ab64-62467231f92e",
   "metadata": {
    "execution": {
     "iopub.execute_input": "2025-02-14T06:51:51.998070Z",
     "iopub.status.busy": "2025-02-14T06:51:51.997471Z",
     "iopub.status.idle": "2025-02-14T06:51:52.010061Z",
     "shell.execute_reply": "2025-02-14T06:51:52.009250Z",
     "shell.execute_reply.started": "2025-02-14T06:51:51.998018Z"
    }
   },
   "outputs": [
    {
     "data": {
      "text/plain": [
       "AnnData object with n_obs × n_vars = 5305776 × 35083\n",
       "    obs: 'library', 'sample', 'doublet_scores', 'predicted_doublets', 'n_genes_by_counts', 'total_counts', 'total_counts_mt', 'pct_counts_mt', 'total_counts_rb', 'pct_counts_rb', 'total_counts_ncRNA', 'pct_counts_ncRNA', 'total_counts_hb', 'pct_counts_hb', 'n_counts', 'n_genes', 'leiden_r1.5_n2', 'leiden_r2_n2', 'celltype_1st', 'celltype_2nd', 'celltype_3rd', 'celltype_l1', 'celltype_l2', 'celltype_l3', 'celltype_l4', 'SEACell_ID', 'SEACell_l3', 'SEACell_l4', 'final_annotation'\n",
       "    var: 'mt', 'hb', 'rb', 'ncRNA', 'n_cells_by_counts', 'mean_counts', 'pct_dropout_by_counts', 'total_counts', 'n_cells', 'highly_variable', 'highly_variable_rank', 'means', 'variances', 'variances_norm'\n",
       "    uns: 'celltype_1st_colors', 'celltype_2nd_colors', 'celltype_3rd_colors', 'celltype_l1_colors', 'celltype_l3_colors', 'celltype_l4_colors', 'final_annotation_colors', 'hvg', 'leiden', 'leiden_r1.5_n2_colors', 'leiden_r2_n2_colors', 'log1p', 'myeloid_colors', 'neighbors', 'pca', 'umap'\n",
       "    obsm: 'X_pca', 'X_pca_harmony', 'X_umap'\n",
       "    obsp: 'connectivities', 'distances'"
      ]
     },
     "execution_count": 5,
     "metadata": {},
     "output_type": "execute_result"
    }
   ],
   "source": [
    "adata"
   ]
  },
  {
   "cell_type": "code",
   "execution_count": 4,
   "id": "24b6c4fd-95ae-417d-8c93-b78e1e16bb92",
   "metadata": {
    "execution": {
     "iopub.execute_input": "2025-02-14T05:35:24.325944Z",
     "iopub.status.busy": "2025-02-14T05:35:24.325715Z",
     "iopub.status.idle": "2025-02-14T05:35:36.845172Z",
     "shell.execute_reply": "2025-02-14T05:35:36.844253Z",
     "shell.execute_reply.started": "2025-02-14T05:35:24.325922Z"
    }
   },
   "outputs": [],
   "source": [
    "def preprocess_RNA_data(adata_use):\n",
    "    for celltype in adata_use.obs['celltype_l1'].unique():\n",
    "        print(f\"正在处理 {celltype}\", flush=True)\n",
    "        #分小类\n",
    "        adata_use_celltype = adata_use[adata_use.obs['celltype_l1'] == celltype]\n",
    "\n",
    "        #算伪Bulk\n",
    "        pdata = dc.get_pseudobulk(\n",
    "            adata_use_celltype,\n",
    "            sample_col='sample',\n",
    "            groups_col=None,\n",
    "            mode='mean',\n",
    "            min_cells=10,\n",
    "            min_counts=0,\n",
    "            min_prop=0,\n",
    "            min_smpls=0)\n",
    "        \n",
    "        #生成伪bulk矩阵\n",
    "        pseudo_matrix = pd.DataFrame(pdata.X)\n",
    "        pseudo_matrix.columns = pdata.var_names\n",
    "        pseudo_matrix.index = pdata.obs.index\n",
    "\n",
    "        #只选取在90%的样本中都表达的特征\n",
    "        non_zero_ratio = (pseudo_matrix != 0).mean()\n",
    "        columns_to_keep = non_zero_ratio[non_zero_ratio >= 0.9].index\n",
    "        pseudo_matrix = pseudo_matrix[columns_to_keep]\n",
    "\n",
    "        # 计算每列的均值和标准差\n",
    "        means = pseudo_matrix.mean()\n",
    "        stds = pseudo_matrix.std()\n",
    "        # 计算变异系数\n",
    "        cv = (stds / means).abs() * 100\n",
    "        # 按变异系数从大到小排序\n",
    "        sorted_columns = cv.sort_values(ascending=False).index\n",
    "        # 选取变异系数最高的前2000列\n",
    "        top_2000_columns = sorted_columns[:min(2000,pseudo_matrix.shape[1])]\n",
    "\n",
    "        if pseudo_matrix.shape[1] > 0:\n",
    "            #normalized_pseudo_matrix = quantile_transformer.fit_transform(pseudo_matrix)\n",
    "            #normalized_pseudo_matrix = scaler.fit_transform(normalized_pseudo_matrix)\n",
    "            #normalized_pseudo_matrix = pd.DataFrame(normalized_pseudo_matrix, columns=pseudo_matrix.columns,index=pseudo_matrix.index)\n",
    "            #normalized_pseudo_matrix.to_csv(f'/CIMA/Data/eQTL/normal_dis/{celltype}.csv')\n",
    "            #normalized_pseudo_matrix[top_2000_columns].to_csv(f'/CIMA/Data/eQTL/top2000_normal_dis/{celltype}.csv')\n",
    "            pseudo_matrix.to_csv(f'/CIMA/Data/eQTL_L1/pseudobulk/{celltype}.csv')\n",
    "            pseudo_matrix[top_2000_columns].to_csv(f'/CIMA/Data/eQTL_L1/top2000_pseudobulk/{celltype}.csv')\n",
    "        print(f\"处理完成 {celltype}\", flush=True)\n"
   ]
  },
  {
   "cell_type": "code",
   "execution_count": 7,
   "id": "1296fd08-acdd-4606-ad24-28ebd8d1b851",
   "metadata": {
    "execution": {
     "iopub.execute_input": "2025-02-14T06:56:02.036144Z",
     "iopub.status.busy": "2025-02-14T06:56:02.035632Z",
     "iopub.status.idle": "2025-02-14T07:13:18.315918Z",
     "shell.execute_reply": "2025-02-14T07:13:18.315284Z",
     "shell.execute_reply.started": "2025-02-14T06:56:02.036094Z"
    }
   },
   "outputs": [
    {
     "name": "stdout",
     "output_type": "stream",
     "text": [
      "正在处理 CD8_T\n",
      "处理完成 CD8_T\n",
      "正在处理 Myeloid\n",
      "处理完成 Myeloid\n",
      "正在处理 CD4_T\n",
      "处理完成 CD4_T\n",
      "正在处理 NK&ILC\n",
      "处理完成 NK&ILC\n",
      "正在处理 B\n",
      "处理完成 B\n"
     ]
    }
   ],
   "source": [
    "preprocess_RNA_data(adata_use=adata)"
   ]
  },
  {
   "cell_type": "code",
   "execution_count": 8,
   "id": "86585fcb-d9c6-4f37-b7bc-9448e714eff2",
   "metadata": {
    "execution": {
     "iopub.execute_input": "2025-02-14T08:36:37.434982Z",
     "iopub.status.busy": "2025-02-14T08:36:37.433411Z",
     "iopub.status.idle": "2025-02-14T08:36:37.809136Z",
     "shell.execute_reply": "2025-02-14T08:36:37.808345Z",
     "shell.execute_reply.started": "2025-02-14T08:36:37.434949Z"
    }
   },
   "outputs": [],
   "source": [
    "#解决R语言把“-”换成“.\"的问题\n",
    "tss = pd.read_csv('/media/scPBMC1_AnalysisDisk1/huangzhuoli/hw5_backup/gaoyue/health/Make_Gene_TSS/tss.bed',sep = ' ')\n",
    "#为了和R得到的结果相符合\n",
    "tss['gene_id_map'] = tss['gene_id'].str.replace('-', '.', regex=False)\n",
    "# 创建字典，映射 gene_id_map 到 gene_id，只包含 B 数据框中出现的列\n",
    "gene_map_dict = pd.Series(tss.gene_id.values, index=tss.gene_id_map).to_dict()"
   ]
  },
  {
   "cell_type": "code",
   "execution_count": 9,
   "id": "9859aa70-646f-4b76-9580-076659e01a7d",
   "metadata": {
    "execution": {
     "iopub.execute_input": "2025-02-14T08:41:47.875373Z",
     "iopub.status.busy": "2025-02-14T08:41:47.874570Z",
     "iopub.status.idle": "2025-02-14T08:42:44.580255Z",
     "shell.execute_reply": "2025-02-14T08:42:44.579191Z",
     "shell.execute_reply.started": "2025-02-14T08:41:47.875324Z"
    }
   },
   "outputs": [
    {
     "name": "stdout",
     "output_type": "stream",
     "text": [
      "processing_CD4_T\n",
      "processing_CD8_T\n",
      "processing_NK\n",
      "processing_Myeloid\n",
      "processing_B\n"
     ]
    }
   ],
   "source": [
    "for cell in ['CD4_T','CD8_T','NK','Myeloid','B']:\n",
    "    print(f'processing_{cell}')\n",
    "    #make_bed_file_eQTL\n",
    "    ## Prepare phenotype data\n",
    "    norm_expr = pd.read_csv(f'/CIMA/Data/eQTL_L1/normal_dis/{cell}.csv', index_col=0)\n",
    "    #解决R语言列名把“-”变成'.'的问题\n",
    "    filtered_map_dict = {key: gene_map_dict[key] for key in norm_expr.columns}\n",
    "    # 使用字典重命名 B 数据框的列\n",
    "    norm_expr.rename(columns=filtered_map_dict, inplace=True)\n",
    "\n",
    "    norm_expr = norm_expr.T\n",
    "    norm_expr = norm_expr.reset_index()   # gene x sample\n",
    "\n",
    "    pheno_file =  pd.merge(tss, norm_expr, right_on='index', left_on='gene_id', how='inner')\n",
    "    pheno_file = pheno_file.drop(['index'], axis=1).rename(columns={'chr':'#chr'})\n",
    "    pheno_file['#chr'] = pheno_file['#chr'].str.replace('chr','')    # required phenotype file\n",
    "\n",
    "    if norm_expr.shape[0] != pheno_file.shape[0]:\n",
    "        raise ValueError(\"The number of rows in the two dataframes are not equal.\")\n",
    "    else:\n",
    "        pheno_file.to_csv(f'/CIMA/Data/eQTL_L1/bed_file/{cell}.bed', sep='\\t', index=False)"
   ]
  },
  {
   "cell_type": "code",
   "execution_count": 13,
   "id": "3f7b429e-16d2-4557-af63-3e8d586ab79f",
   "metadata": {
    "execution": {
     "iopub.execute_input": "2025-02-14T08:44:42.862815Z",
     "iopub.status.busy": "2025-02-14T08:44:42.861800Z",
     "iopub.status.idle": "2025-02-14T08:44:42.879550Z",
     "shell.execute_reply": "2025-02-14T08:44:42.878865Z",
     "shell.execute_reply.started": "2025-02-14T08:44:42.862773Z"
    }
   },
   "outputs": [
    {
     "data": {
      "text/html": [
       "<div>\n",
       "<style scoped>\n",
       "    .dataframe tbody tr th:only-of-type {\n",
       "        vertical-align: middle;\n",
       "    }\n",
       "\n",
       "    .dataframe tbody tr th {\n",
       "        vertical-align: top;\n",
       "    }\n",
       "\n",
       "    .dataframe thead th {\n",
       "        text-align: right;\n",
       "    }\n",
       "</style>\n",
       "<table border=\"1\" class=\"dataframe\">\n",
       "  <thead>\n",
       "    <tr style=\"text-align: right;\">\n",
       "      <th></th>\n",
       "      <th>#chr</th>\n",
       "      <th>start</th>\n",
       "      <th>end</th>\n",
       "      <th>gene_id</th>\n",
       "      <th>gene_id_map</th>\n",
       "      <th>E-B21100458292</th>\n",
       "      <th>E-B21103279967</th>\n",
       "      <th>E-B21105477143</th>\n",
       "      <th>E-B21106792844</th>\n",
       "      <th>E-B21107799305</th>\n",
       "      <th>...</th>\n",
       "      <th>E-B21947952445</th>\n",
       "      <th>E-B21948759165</th>\n",
       "      <th>E-B21949041549</th>\n",
       "      <th>E-B21949919782</th>\n",
       "      <th>E-B21951228975</th>\n",
       "      <th>E-B21951946398</th>\n",
       "      <th>E-B21954745404</th>\n",
       "      <th>E-B21955109293</th>\n",
       "      <th>E-B21955692773</th>\n",
       "      <th>E-B21998005446</th>\n",
       "    </tr>\n",
       "  </thead>\n",
       "  <tbody>\n",
       "    <tr>\n",
       "      <th>7903</th>\n",
       "      <td>11</td>\n",
       "      <td>118342743</td>\n",
       "      <td>118342744</td>\n",
       "      <td>CD3D</td>\n",
       "      <td>CD3D</td>\n",
       "      <td>-1.904923</td>\n",
       "      <td>0.828465</td>\n",
       "      <td>-0.275781</td>\n",
       "      <td>0.167894</td>\n",
       "      <td>0.45462</td>\n",
       "      <td>...</td>\n",
       "      <td>0.461494</td>\n",
       "      <td>0.055732</td>\n",
       "      <td>0.256544</td>\n",
       "      <td>0.111637</td>\n",
       "      <td>0.400363</td>\n",
       "      <td>-0.987379</td>\n",
       "      <td>0.703922</td>\n",
       "      <td>-0.56025</td>\n",
       "      <td>0.373681</td>\n",
       "      <td>-0.567506</td>\n",
       "    </tr>\n",
       "  </tbody>\n",
       "</table>\n",
       "<p>1 rows × 410 columns</p>\n",
       "</div>"
      ],
      "text/plain": [
       "     #chr      start        end gene_id gene_id_map  E-B21100458292  \\\n",
       "7903   11  118342743  118342744    CD3D        CD3D       -1.904923   \n",
       "\n",
       "      E-B21103279967  E-B21105477143  E-B21106792844  E-B21107799305  ...  \\\n",
       "7903        0.828465       -0.275781        0.167894         0.45462  ...   \n",
       "\n",
       "      E-B21947952445  E-B21948759165  E-B21949041549  E-B21949919782  \\\n",
       "7903        0.461494        0.055732        0.256544        0.111637   \n",
       "\n",
       "      E-B21951228975  E-B21951946398  E-B21954745404  E-B21955109293  \\\n",
       "7903        0.400363       -0.987379        0.703922        -0.56025   \n",
       "\n",
       "      E-B21955692773  E-B21998005446  \n",
       "7903        0.373681       -0.567506  \n",
       "\n",
       "[1 rows x 410 columns]"
      ]
     },
     "execution_count": 13,
     "metadata": {},
     "output_type": "execute_result"
    }
   ],
   "source": [
    "pheno_file[pheno_file['gene_id'] == 'CD3D']"
   ]
  }
 ],
 "metadata": {
  "kernelspec": {
   "display_name": "scPAFA",
   "language": "python",
   "name": "scpafa"
  },
  "language_info": {
   "codemirror_mode": {
    "name": "ipython",
    "version": 3
   },
   "file_extension": ".py",
   "mimetype": "text/x-python",
   "name": "python",
   "nbconvert_exporter": "python",
   "pygments_lexer": "ipython3",
   "version": "3.10.14"
  }
 },
 "nbformat": 4,
 "nbformat_minor": 5
}
