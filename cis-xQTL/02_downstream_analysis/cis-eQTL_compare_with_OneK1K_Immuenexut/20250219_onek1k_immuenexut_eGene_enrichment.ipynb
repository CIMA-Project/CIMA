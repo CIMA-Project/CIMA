{
 "cells": [
  {
   "cell_type": "code",
   "execution_count": 1,
   "id": "a5e05141-624e-4190-8cde-5003f0bab7a0",
   "metadata": {
    "execution": {
     "iopub.execute_input": "2025-02-19T14:37:17.824450Z",
     "iopub.status.busy": "2025-02-19T14:37:17.823044Z",
     "iopub.status.idle": "2025-02-19T14:37:18.469993Z",
     "shell.execute_reply": "2025-02-19T14:37:18.468639Z",
     "shell.execute_reply.started": "2025-02-19T14:37:17.824394Z"
    }
   },
   "outputs": [],
   "source": [
    "import pandas as pd\n",
    "import numpy as np\n",
    "from scipy import stats\n",
    "import multiprocessing"
   ]
  },
  {
   "cell_type": "code",
   "execution_count": 2,
   "id": "d3ad414e-2a4f-4849-ba10-8831f2efd79a",
   "metadata": {
    "execution": {
     "iopub.execute_input": "2025-02-19T14:37:25.993870Z",
     "iopub.status.busy": "2025-02-19T14:37:25.993086Z",
     "iopub.status.idle": "2025-02-19T14:37:26.006480Z",
     "shell.execute_reply": "2025-02-19T14:37:26.005506Z",
     "shell.execute_reply.started": "2025-02-19T14:37:25.993815Z"
    }
   },
   "outputs": [],
   "source": [
    "#这个值是每个celltype中的显著eGene/caPeak在另外一个细胞类型中被检测的比例（交集数/显著数量）\n",
    "# 定义计算基因交集比例的函数\n",
    "def calculate_proportion(sig_genes, detected_genes):\n",
    "    intersection = len(set(sig_genes).intersection(set(detected_genes)))\n",
    "    return intersection / len(sig_genes)\n",
    "\n",
    "#洗牌函数\n",
    "def shuffle_ranks(xqtl_df, cell_type, num_shuffles=10000):\n",
    "    # 选择特定细胞类型的数据\n",
    "    use_xqtl_df = xqtl_df[xqtl_df['celltype'] == cell_type].copy()\n",
    "\n",
    "    # 创建一个以phenotype_id为索引的rank_series\n",
    "    rank_series = pd.Series(use_xqtl_df['rank_in_celltype'].values, index=use_xqtl_df['phenotype_id'].values)\n",
    "\n",
    "    # 用于保存每次shuffle的rank数据\n",
    "    rank_data = []\n",
    "\n",
    "    # 执行num_shuffles次随机打乱\n",
    "    for i in range(num_shuffles):\n",
    "        shuffled_series = rank_series.sample(frac=1, random_state=i)  # 随机打乱\n",
    "        ranks = shuffled_series.values  # 获取打乱后的rank\n",
    "        rank_data.append(ranks)\n",
    "\n",
    "    # 将每次shuffle的rank数据存储到DataFrame\n",
    "    rank_df = pd.DataFrame(rank_data, columns=rank_series.index)\n",
    "\n",
    "    return cell_type, rank_df\n",
    "\n",
    "#并发洗牌函数\n",
    "def parallel_shuffle_ranks(xqtl_df, num_shuffles=10000):\n",
    "    # 获取所有独特的celltype\n",
    "    celltypes = xqtl_df['celltype'].unique()\n",
    "\n",
    "    # 创建进程池\n",
    "    with multiprocessing.Pool(processes=multiprocessing.cpu_count()) as pool:\n",
    "        results = pool.starmap(shuffle_ranks, [(xqtl_df, cell_type, num_shuffles) for cell_type in celltypes])\n",
    "\n",
    "    # 将结果转化为字典，key是celltype，value是对应的rank_df\n",
    "    result_dict = {cell_type: rank_df for cell_type, rank_df in results}\n",
    "\n",
    "    return result_dict"
   ]
  },
  {
   "cell_type": "markdown",
   "id": "388f9403-7b4d-4ec9-8182-3441b7fb169a",
   "metadata": {},
   "source": [
    "# onek1k数据处理"
   ]
  },
  {
   "cell_type": "code",
   "execution_count": 31,
   "id": "e905869f-37e7-46d0-a706-c78ad43ae9db",
   "metadata": {
    "execution": {
     "iopub.execute_input": "2025-02-19T15:00:22.970169Z",
     "iopub.status.busy": "2025-02-19T15:00:22.969561Z",
     "iopub.status.idle": "2025-02-19T15:00:23.460050Z",
     "shell.execute_reply": "2025-02-19T15:00:23.459272Z",
     "shell.execute_reply.started": "2025-02-19T15:00:22.970116Z"
    }
   },
   "outputs": [],
   "source": [
    "cis_df_all_eQTL = pd.read_csv('/CIMA/Result/eQTL_L1_downstream/20250219_cis_eQTL_leal_all.csv',index_col=0)\n",
    "#各个细胞类型的eGene按照p_value从小到大排名\n",
    "cis_df_all_eQTL['rank_in_celltype'] = cis_df_all_eQTL.groupby('celltype')['pval_nominal'].rank(method='average', ascending=True).astype('int')\n",
    "cis_df_all_eQTL_sig = cis_df_all_eQTL[cis_df_all_eQTL['study_wise_qval'] < 0.05].copy()\n",
    "#每个细胞类型的study-wide显著eGene\n",
    "sig_list_own = cis_df_all_eQTL_sig.groupby('celltype')['phenotype_id'].unique()"
   ]
  },
  {
   "cell_type": "code",
   "execution_count": 32,
   "id": "7c9b2c5a-83d8-4a1c-becd-6c8b0561e1a9",
   "metadata": {
    "execution": {
     "iopub.execute_input": "2025-02-19T15:00:24.201211Z",
     "iopub.status.busy": "2025-02-19T15:00:24.200728Z",
     "iopub.status.idle": "2025-02-19T15:00:24.218432Z",
     "shell.execute_reply": "2025-02-19T15:00:24.217843Z",
     "shell.execute_reply.started": "2025-02-19T15:00:24.201182Z"
    }
   },
   "outputs": [],
   "source": [
    "#每个细胞类型检测的eGene\n",
    "detected_list = cis_df_all_eQTL.groupby('celltype')['phenotype_id'].unique()"
   ]
  },
  {
   "cell_type": "code",
   "execution_count": 61,
   "id": "8a4538ba-7cf7-4d5e-b861-ff2f1dd55f73",
   "metadata": {
    "execution": {
     "iopub.execute_input": "2025-02-19T15:21:02.679221Z",
     "iopub.status.busy": "2025-02-19T15:21:02.678669Z",
     "iopub.status.idle": "2025-02-19T15:21:02.826556Z",
     "shell.execute_reply": "2025-02-19T15:21:02.825702Z",
     "shell.execute_reply.started": "2025-02-19T15:21:02.679183Z"
    }
   },
   "outputs": [],
   "source": [
    "onek1k = pd.read_csv('/CIMA/Data/public_eQTL/20250218_file_38_for_comparasion/20250218_onek1k_leap_snp.csv',index_col=0)\n",
    "onek1k = onek1k[onek1k['GENE'].isin(eQTL_own['phenotype_id'])]\n",
    "#每个细胞类型的study-wide显著eGene\n",
    "sig_list = onek1k.groupby('celltype_map')['GENE'].unique()"
   ]
  },
  {
   "cell_type": "code",
   "execution_count": 22,
   "id": "86374d8f-e0ee-467d-a6ea-7176b86dad9d",
   "metadata": {
    "execution": {
     "iopub.execute_input": "2025-02-19T14:50:34.530021Z",
     "iopub.status.busy": "2025-02-19T14:50:34.529503Z",
     "iopub.status.idle": "2025-02-19T14:55:21.670216Z",
     "shell.execute_reply": "2025-02-19T14:55:21.669297Z",
     "shell.execute_reply.started": "2025-02-19T14:50:34.529989Z"
    }
   },
   "outputs": [],
   "source": [
    "# 假设xqtl_df是已经加载的数据框\n",
    "result_dict = parallel_shuffle_ranks(xqtl_df = cis_df_all_eQTL, num_shuffles=10000)"
   ]
  },
  {
   "cell_type": "code",
   "execution_count": 40,
   "id": "b9e411b8-0270-49a4-b693-96f658cf4676",
   "metadata": {
    "execution": {
     "iopub.execute_input": "2025-02-19T15:04:34.713728Z",
     "iopub.status.busy": "2025-02-19T15:04:34.713206Z",
     "iopub.status.idle": "2025-02-19T15:04:35.611692Z",
     "shell.execute_reply": "2025-02-19T15:04:35.610918Z",
     "shell.execute_reply.started": "2025-02-19T15:04:34.713677Z"
    }
   },
   "outputs": [],
   "source": [
    "# 创建一个空的数据框，用于存储每个显著基因在不同细胞类型中的数量\n",
    "number_df = pd.DataFrame(index=sig_list.index, columns=detected_list.index)\n",
    "# 创建一个空的数据框，用于存储每个显著基因在不同细胞类型中的富集p值\n",
    "enrich_p_df = pd.DataFrame(index=sig_list.index, columns=detected_list.index)\n",
    "\n",
    "# 遍历所有被检测的细胞类型\n",
    "for detected_index in detected_list.index:\n",
    "    # 筛选出当前细胞类型的数据\n",
    "    cis_df_all_eQTL_use = cis_df_all_eQTL[cis_df_all_eQTL['celltype'] == detected_index].copy()\n",
    "    \n",
    "    # 创建一个以phenotype_id为索引的rank_series\n",
    "    rank_series = pd.Series(cis_df_all_eQTL_use['rank_in_celltype'].values, index=cis_df_all_eQTL_use['phenotype_id'].values)\n",
    "    \n",
    "    # 遍历所有显著基因集合\n",
    "    for sig_index in sig_list.index:\n",
    "        # 计算显著基因集合与当前细胞类型中检测到的基因集合的交集\n",
    "        intersection = set(sig_list[sig_index]).intersection(set(detected_list[detected_index]))\n",
    "        # 移除当前细胞类型中已经显著的基因\n",
    "        intersection = list(intersection - set(sig_list_own[detected_index]))\n",
    "        \n",
    "        # 将交集的基因数目记录在number_df中\n",
    "        number_df.loc[sig_index, detected_index] = len(intersection)\n",
    "        \n",
    "        np.random.seed(42)\n",
    "        # 随机选择与交集大小相同数量的基因\n",
    "        selected_genes = np.random.choice(detected_list[detected_index], size=len(intersection), replace=False)\n",
    "        \n",
    "        # 获取这些随机选择的基因在该细胞类型中的rank数据\n",
    "        rank_df_use = result_dict[detected_index][selected_genes]\n",
    "        \n",
    "        # 进行t检验，比较显著基因在该细胞类型中的rank与随机选择基因的rank均值\n",
    "        t, p = stats.ttest_ind(rank_df_use.mean().values, rank_series[intersection].values,alternative='greater')\n",
    "        \n",
    "        # 将t检验的p值存储在enrich_p_df中\n",
    "        enrich_p_df.loc[sig_index, detected_index] = p"
   ]
  },
  {
   "cell_type": "code",
   "execution_count": 41,
   "id": "db9f8238-290e-4e7f-825e-97c77ab2842a",
   "metadata": {
    "execution": {
     "iopub.execute_input": "2025-02-19T15:04:40.532797Z",
     "iopub.status.busy": "2025-02-19T15:04:40.532211Z",
     "iopub.status.idle": "2025-02-19T15:04:40.553501Z",
     "shell.execute_reply": "2025-02-19T15:04:40.552752Z",
     "shell.execute_reply.started": "2025-02-19T15:04:40.532746Z"
    }
   },
   "outputs": [
    {
     "data": {
      "text/html": [
       "<div>\n",
       "<style scoped>\n",
       "    .dataframe tbody tr th:only-of-type {\n",
       "        vertical-align: middle;\n",
       "    }\n",
       "\n",
       "    .dataframe tbody tr th {\n",
       "        vertical-align: top;\n",
       "    }\n",
       "\n",
       "    .dataframe thead th {\n",
       "        text-align: right;\n",
       "    }\n",
       "</style>\n",
       "<table border=\"1\" class=\"dataframe\">\n",
       "  <thead>\n",
       "    <tr style=\"text-align: right;\">\n",
       "      <th>celltype</th>\n",
       "      <th>B</th>\n",
       "      <th>CD4_T</th>\n",
       "      <th>CD8_T</th>\n",
       "      <th>Myeloid</th>\n",
       "      <th>NK</th>\n",
       "    </tr>\n",
       "    <tr>\n",
       "      <th>celltype_map</th>\n",
       "      <th></th>\n",
       "      <th></th>\n",
       "      <th></th>\n",
       "      <th></th>\n",
       "      <th></th>\n",
       "    </tr>\n",
       "  </thead>\n",
       "  <tbody>\n",
       "    <tr>\n",
       "      <th>B</th>\n",
       "      <td>1.0</td>\n",
       "      <td>1.0</td>\n",
       "      <td>1.0</td>\n",
       "      <td>1.0</td>\n",
       "      <td>1.0</td>\n",
       "    </tr>\n",
       "    <tr>\n",
       "      <th>CD4_T</th>\n",
       "      <td>1.0</td>\n",
       "      <td>1.0</td>\n",
       "      <td>1.0</td>\n",
       "      <td>1.0</td>\n",
       "      <td>1.0</td>\n",
       "    </tr>\n",
       "    <tr>\n",
       "      <th>CD8_T</th>\n",
       "      <td>1.0</td>\n",
       "      <td>1.0</td>\n",
       "      <td>1.0</td>\n",
       "      <td>1.0</td>\n",
       "      <td>1.0</td>\n",
       "    </tr>\n",
       "    <tr>\n",
       "      <th>Myeloid</th>\n",
       "      <td>1.0</td>\n",
       "      <td>1.0</td>\n",
       "      <td>1.0</td>\n",
       "      <td>1.0</td>\n",
       "      <td>1.0</td>\n",
       "    </tr>\n",
       "    <tr>\n",
       "      <th>NK</th>\n",
       "      <td>1.0</td>\n",
       "      <td>1.0</td>\n",
       "      <td>1.0</td>\n",
       "      <td>1.0</td>\n",
       "      <td>1.0</td>\n",
       "    </tr>\n",
       "  </tbody>\n",
       "</table>\n",
       "</div>"
      ],
      "text/plain": [
       "celltype        B CD4_T CD8_T Myeloid   NK\n",
       "celltype_map                              \n",
       "B             1.0   1.0   1.0     1.0  1.0\n",
       "CD4_T         1.0   1.0   1.0     1.0  1.0\n",
       "CD8_T         1.0   1.0   1.0     1.0  1.0\n",
       "Myeloid       1.0   1.0   1.0     1.0  1.0\n",
       "NK            1.0   1.0   1.0     1.0  1.0"
      ]
     },
     "execution_count": 41,
     "metadata": {},
     "output_type": "execute_result"
    }
   ],
   "source": [
    "#没有显著结果\n",
    "enrich_p_df"
   ]
  },
  {
   "cell_type": "markdown",
   "id": "4bc4f4ff-d3a4-4d17-8bd1-9a9bf98d36fb",
   "metadata": {},
   "source": [
    "# immuenexut_数据处理"
   ]
  },
  {
   "cell_type": "code",
   "execution_count": 42,
   "id": "e38aa0e5-a97f-4a8d-82ff-1540f32408a2",
   "metadata": {
    "execution": {
     "iopub.execute_input": "2025-02-19T15:10:45.262271Z",
     "iopub.status.busy": "2025-02-19T15:10:45.261148Z",
     "iopub.status.idle": "2025-02-19T15:10:45.726201Z",
     "shell.execute_reply": "2025-02-19T15:10:45.724872Z",
     "shell.execute_reply.started": "2025-02-19T15:10:45.262217Z"
    }
   },
   "outputs": [],
   "source": [
    "cis_df_all_eQTL = pd.read_csv('/CIMA/Result/eQTL_L1_downstream/20250219_cis_eQTL_leal_all.csv',index_col=0)\n",
    "#各个细胞类型的eGene按照p_value从小到大排名\n",
    "cis_df_all_eQTL['rank_in_celltype'] = cis_df_all_eQTL.groupby('celltype')['pval_nominal'].rank(method='average', ascending=True).astype('int')\n",
    "cis_df_all_eQTL_sig = cis_df_all_eQTL[cis_df_all_eQTL['study_wise_qval'] < 0.05].copy()\n",
    "#每个细胞类型的study-wide显著eGene\n",
    "sig_list_own = cis_df_all_eQTL_sig.groupby('celltype')['phenotype_id'].unique()"
   ]
  },
  {
   "cell_type": "code",
   "execution_count": 43,
   "id": "79f50bdc-aa01-4846-a676-4670125b8b5c",
   "metadata": {
    "execution": {
     "iopub.execute_input": "2025-02-19T15:10:58.655749Z",
     "iopub.status.busy": "2025-02-19T15:10:58.655153Z",
     "iopub.status.idle": "2025-02-19T15:10:58.677781Z",
     "shell.execute_reply": "2025-02-19T15:10:58.676549Z",
     "shell.execute_reply.started": "2025-02-19T15:10:58.655698Z"
    }
   },
   "outputs": [],
   "source": [
    "#每个细胞类型检测的eGene\n",
    "detected_list = cis_df_all_eQTL.groupby('celltype')['phenotype_id'].unique()"
   ]
  },
  {
   "cell_type": "code",
   "execution_count": 46,
   "id": "582d21a2-1096-414a-b276-d4adde19800a",
   "metadata": {
    "execution": {
     "iopub.execute_input": "2025-02-19T15:13:25.146262Z",
     "iopub.status.busy": "2025-02-19T15:13:25.145682Z",
     "iopub.status.idle": "2025-02-19T15:13:25.487017Z",
     "shell.execute_reply": "2025-02-19T15:13:25.485753Z",
     "shell.execute_reply.started": "2025-02-19T15:13:25.146213Z"
    }
   },
   "outputs": [],
   "source": [
    "immuenexut = pd.read_csv('/CIMA/Data/public_eQTL/20250218_file_38_for_comparasion/20250219_immuenexut_all_lead_snp.csv',index_col=0)\n",
    "immuenexut = immuenexut[immuenexut['Gene_name'].isin(eQTL_own['phenotype_id'])]\n",
    "#每个细胞类型的study-wide显著eGene\n",
    "sig_list = immuenexut.groupby('celltype_map')['Gene_name'].unique()"
   ]
  },
  {
   "cell_type": "code",
   "execution_count": 60,
   "id": "0c92de9d-9eb4-405d-961a-5d895d8339a4",
   "metadata": {
    "execution": {
     "iopub.execute_input": "2025-02-19T15:20:47.105521Z",
     "iopub.status.busy": "2025-02-19T15:20:47.104704Z",
     "iopub.status.idle": "2025-02-19T15:20:47.110551Z",
     "shell.execute_reply": "2025-02-19T15:20:47.109855Z",
     "shell.execute_reply.started": "2025-02-19T15:20:47.105485Z"
    }
   },
   "outputs": [
    {
     "data": {
      "text/plain": [
       "9955"
      ]
     },
     "execution_count": 60,
     "metadata": {},
     "output_type": "execute_result"
    }
   ],
   "source": [
    "len(sig_list['B'])"
   ]
  },
  {
   "cell_type": "code",
   "execution_count": 56,
   "id": "c4faa15d-5a3d-4d82-8681-c54f149f4dc5",
   "metadata": {
    "execution": {
     "iopub.execute_input": "2025-02-19T15:16:25.884353Z",
     "iopub.status.busy": "2025-02-19T15:16:25.883736Z",
     "iopub.status.idle": "2025-02-19T15:16:30.639317Z",
     "shell.execute_reply": "2025-02-19T15:16:30.638560Z",
     "shell.execute_reply.started": "2025-02-19T15:16:25.884301Z"
    }
   },
   "outputs": [],
   "source": [
    "# 创建一个空的数据框，用于存储每个显著基因在不同细胞类型中的数量\n",
    "number_df = pd.DataFrame(index=sig_list.index, columns=detected_list.index)\n",
    "# 创建一个空的数据框，用于存储每个显著基因在不同细胞类型中的富集p值\n",
    "enrich_p_df = pd.DataFrame(index=sig_list.index, columns=detected_list.index)\n",
    "\n",
    "# 遍历所有被检测的细胞类型\n",
    "for detected_index in detected_list.index:\n",
    "    # 筛选出当前细胞类型的数据\n",
    "    cis_df_all_eQTL_use = cis_df_all_eQTL[cis_df_all_eQTL['celltype'] == detected_index].copy()\n",
    "    \n",
    "    # 创建一个以phenotype_id为索引的rank_series\n",
    "    rank_series = pd.Series(cis_df_all_eQTL_use['rank_in_celltype'].values, index=cis_df_all_eQTL_use['phenotype_id'].values)\n",
    "    \n",
    "    # 遍历所有显著基因集合\n",
    "    for sig_index in sig_list.index:\n",
    "        # 计算显著基因集合与当前细胞类型中检测到的基因集合的交集\n",
    "        intersection = set(sig_list[sig_index]).intersection(set(detected_list[detected_index]))\n",
    "        # 移除当前细胞类型中已经显著的基因\n",
    "        intersection = list(intersection - set(sig_list_own[detected_index]))\n",
    "        \n",
    "        # 将交集的基因数目记录在number_df中\n",
    "        number_df.loc[sig_index, detected_index] = len(intersection)\n",
    "        \n",
    "        np.random.seed(42)\n",
    "        # 随机选择与交集大小相同数量的基因\n",
    "        selected_genes = np.random.choice(detected_list[detected_index], size=len(intersection), replace=False)\n",
    "        \n",
    "        # 获取这些随机选择的基因在该细胞类型中的rank数据\n",
    "        rank_df_use = result_dict[detected_index][selected_genes]\n",
    "        \n",
    "        # 进行t检验，比较显著基因在该细胞类型中的rank与随机选择基因的rank均值\n",
    "        t, p = stats.ttest_ind(rank_df_use.mean().values, rank_series[intersection].values,alternative='greater')\n",
    "        \n",
    "        # 将t检验的p值存储在enrich_p_df中\n",
    "        enrich_p_df.loc[sig_index, detected_index] = p"
   ]
  },
  {
   "cell_type": "code",
   "execution_count": 57,
   "id": "0e1c2991-4eda-4da6-bd99-51703e205653",
   "metadata": {
    "execution": {
     "iopub.execute_input": "2025-02-19T15:16:53.091480Z",
     "iopub.status.busy": "2025-02-19T15:16:53.091006Z",
     "iopub.status.idle": "2025-02-19T15:16:53.099364Z",
     "shell.execute_reply": "2025-02-19T15:16:53.098888Z",
     "shell.execute_reply.started": "2025-02-19T15:16:53.091454Z"
    }
   },
   "outputs": [
    {
     "data": {
      "text/html": [
       "<div>\n",
       "<style scoped>\n",
       "    .dataframe tbody tr th:only-of-type {\n",
       "        vertical-align: middle;\n",
       "    }\n",
       "\n",
       "    .dataframe tbody tr th {\n",
       "        vertical-align: top;\n",
       "    }\n",
       "\n",
       "    .dataframe thead th {\n",
       "        text-align: right;\n",
       "    }\n",
       "</style>\n",
       "<table border=\"1\" class=\"dataframe\">\n",
       "  <thead>\n",
       "    <tr style=\"text-align: right;\">\n",
       "      <th>celltype</th>\n",
       "      <th>B</th>\n",
       "      <th>CD4_T</th>\n",
       "      <th>CD8_T</th>\n",
       "      <th>Myeloid</th>\n",
       "      <th>NK</th>\n",
       "    </tr>\n",
       "    <tr>\n",
       "      <th>celltype_map</th>\n",
       "      <th></th>\n",
       "      <th></th>\n",
       "      <th></th>\n",
       "      <th></th>\n",
       "      <th></th>\n",
       "    </tr>\n",
       "  </thead>\n",
       "  <tbody>\n",
       "    <tr>\n",
       "      <th>B</th>\n",
       "      <td>1.0</td>\n",
       "      <td>1.0</td>\n",
       "      <td>1.0</td>\n",
       "      <td>1.0</td>\n",
       "      <td>1.0</td>\n",
       "    </tr>\n",
       "    <tr>\n",
       "      <th>CD4_T</th>\n",
       "      <td>1.0</td>\n",
       "      <td>1.0</td>\n",
       "      <td>1.0</td>\n",
       "      <td>1.0</td>\n",
       "      <td>1.0</td>\n",
       "    </tr>\n",
       "    <tr>\n",
       "      <th>CD8_T</th>\n",
       "      <td>1.0</td>\n",
       "      <td>1.0</td>\n",
       "      <td>1.0</td>\n",
       "      <td>1.0</td>\n",
       "      <td>1.0</td>\n",
       "    </tr>\n",
       "    <tr>\n",
       "      <th>Myeloid</th>\n",
       "      <td>1.0</td>\n",
       "      <td>1.0</td>\n",
       "      <td>1.0</td>\n",
       "      <td>1.0</td>\n",
       "      <td>1.0</td>\n",
       "    </tr>\n",
       "    <tr>\n",
       "      <th>NK</th>\n",
       "      <td>1.0</td>\n",
       "      <td>1.0</td>\n",
       "      <td>1.0</td>\n",
       "      <td>1.0</td>\n",
       "      <td>1.0</td>\n",
       "    </tr>\n",
       "  </tbody>\n",
       "</table>\n",
       "</div>"
      ],
      "text/plain": [
       "celltype        B CD4_T CD8_T Myeloid   NK\n",
       "celltype_map                              \n",
       "B             1.0   1.0   1.0     1.0  1.0\n",
       "CD4_T         1.0   1.0   1.0     1.0  1.0\n",
       "CD8_T         1.0   1.0   1.0     1.0  1.0\n",
       "Myeloid       1.0   1.0   1.0     1.0  1.0\n",
       "NK            1.0   1.0   1.0     1.0  1.0"
      ]
     },
     "execution_count": 57,
     "metadata": {},
     "output_type": "execute_result"
    }
   ],
   "source": [
    "#得到的结果是不显著的\n",
    "enrich_p_df"
   ]
  }
 ],
 "metadata": {
  "kernelspec": {
   "display_name": "scPAFA",
   "language": "python",
   "name": "scpafa"
  },
  "language_info": {
   "codemirror_mode": {
    "name": "ipython",
    "version": 3
   },
   "file_extension": ".py",
   "mimetype": "text/x-python",
   "name": "python",
   "nbconvert_exporter": "python",
   "pygments_lexer": "ipython3",
   "version": "3.10.14"
  }
 },
 "nbformat": 4,
 "nbformat_minor": 5
}
