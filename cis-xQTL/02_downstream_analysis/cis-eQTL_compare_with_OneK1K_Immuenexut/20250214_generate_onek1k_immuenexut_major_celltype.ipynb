{
 "cells": [
  {
   "cell_type": "markdown",
   "id": "dd382fde-95fb-4528-b0e6-7e7d3e7b92ff",
   "metadata": {},
   "source": [
    "# 处理ONEK1K数据"
   ]
  },
  {
   "cell_type": "code",
   "execution_count": 2,
   "id": "9b3fc9dc",
   "metadata": {
    "execution": {
     "iopub.execute_input": "2025-02-19T09:50:46.369072Z",
     "iopub.status.busy": "2025-02-19T09:50:46.368496Z",
     "iopub.status.idle": "2025-02-19T09:50:46.777343Z",
     "shell.execute_reply": "2025-02-19T09:50:46.775942Z",
     "shell.execute_reply.started": "2025-02-19T09:50:46.369022Z"
    }
   },
   "outputs": [],
   "source": [
    "import os\n",
    "from pyliftover import LiftOver\n",
    "import modin.pandas as pd\n",
    "import numpy as np"
   ]
  },
  {
   "cell_type": "code",
   "execution_count": 2,
   "id": "172ae0cb-3e65-4b65-9395-c6a83a0f7fad",
   "metadata": {
    "execution": {
     "iopub.execute_input": "2025-02-19T04:15:05.674554Z",
     "iopub.status.busy": "2025-02-19T04:15:05.674006Z",
     "iopub.status.idle": "2025-02-19T04:15:10.233750Z",
     "shell.execute_reply": "2025-02-19T04:15:10.233016Z",
     "shell.execute_reply.started": "2025-02-19T04:15:05.674517Z"
    }
   },
   "outputs": [
    {
     "name": "stderr",
     "output_type": "stream",
     "text": [
      "2025-02-19 12:15:08,011\tINFO worker.py:1749 -- Started a local Ray instance.\n"
     ]
    }
   ],
   "source": [
    "#根据核对-斯皮尔曼的RHO是A2的\n",
    "onek1k_eSNP = pd.read_csv('/CIMA/Data/public_eQTL/onek1k/esnp_table.tsv',sep='\\t')\n",
    "# onek1k_eSNP\n",
    "celltype_mapping = {\n",
    "    'cd4nc': 'CD4_T', 'cd4sox4': 'CD4_T', 'cd4et': 'CD4_T',\n",
    "    'cd8s100b': 'CD8_T', 'cd8et': 'CD8_T', 'cd8nc': 'CD8_T',\n",
    "    'bmem': 'B', 'bin': 'B', 'plasma': 'B',\n",
    "    'nk': 'NK', 'nkr': 'NK',\n",
    "    'monoc': 'Myeloid', 'mononc': 'Myeloid', 'dc': 'Myeloid'\n",
    "}"
   ]
  },
  {
   "cell_type": "code",
   "execution_count": 3,
   "id": "72f94580-202c-4ae4-a872-0ae6f1a84ba8",
   "metadata": {
    "execution": {
     "iopub.execute_input": "2025-02-19T04:15:37.516749Z",
     "iopub.status.busy": "2025-02-19T04:15:37.515942Z",
     "iopub.status.idle": "2025-02-19T04:15:37.913650Z",
     "shell.execute_reply": "2025-02-19T04:15:37.913080Z",
     "shell.execute_reply.started": "2025-02-19T04:15:37.516687Z"
    }
   },
   "outputs": [],
   "source": [
    "onek1k_eSNP['celltype_map'] = onek1k_eSNP['CELL_ID'].map(celltype_mapping)\n",
    "onek1k_eSNP = onek1k_eSNP[onek1k_eSNP.loc[:,'ROUND'] == 1]"
   ]
  },
  {
   "cell_type": "code",
   "execution_count": 4,
   "id": "7f2bd5a7-389e-4005-b322-52fe1c042f35",
   "metadata": {
    "execution": {
     "iopub.execute_input": "2025-02-19T04:18:34.679465Z",
     "iopub.status.busy": "2025-02-19T04:18:34.679135Z",
     "iopub.status.idle": "2025-02-19T04:18:35.488773Z",
     "shell.execute_reply": "2025-02-19T04:18:35.487923Z",
     "shell.execute_reply.started": "2025-02-19T04:18:34.679439Z"
    }
   },
   "outputs": [],
   "source": [
    "lo = LiftOver('hg19', 'hg38')\n",
    "def convert_coordinates(row):\n",
    "    hg_38_liftover = lo.convert_coordinate(row['CHR'], row['POS'])\n",
    "    \n",
    "    if len(hg_38_liftover) == 0:\n",
    "        row['POS'] = np.nan\n",
    "    elif len(hg_38_liftover) >= 1:\n",
    "        row['CHR'] = hg_38_liftover[0][0]\n",
    "        row['POS'] = hg_38_liftover[0][1]\n",
    "    \n",
    "    return row"
   ]
  },
  {
   "cell_type": "code",
   "execution_count": 5,
   "id": "42ade9e5-46d6-4289-8772-48cd43645d5b",
   "metadata": {
    "execution": {
     "iopub.execute_input": "2025-02-19T04:18:36.904970Z",
     "iopub.status.busy": "2025-02-19T04:18:36.904365Z",
     "iopub.status.idle": "2025-02-19T04:18:37.276445Z",
     "shell.execute_reply": "2025-02-19T04:18:37.275415Z",
     "shell.execute_reply.started": "2025-02-19T04:18:36.904918Z"
    }
   },
   "outputs": [],
   "source": [
    "onek1k_eSNP.loc[:,'CHR'] = onek1k_eSNP['CHR'].astype('str')\n",
    "onek1k_eSNP.loc[:,'CHR'] = 'chr'+onek1k_eSNP['CHR'] \n",
    "onek1k_eSNP['CELLTYPE_GENE'] = onek1k_eSNP['celltype_map']+'_'+onek1k_eSNP['GENE']"
   ]
  },
  {
   "cell_type": "code",
   "execution_count": 6,
   "id": "d0bf5ff1-7a86-487b-b976-ba1a84cd0e7a",
   "metadata": {
    "execution": {
     "iopub.execute_input": "2025-02-19T04:18:40.636573Z",
     "iopub.status.busy": "2025-02-19T04:18:40.635940Z",
     "iopub.status.idle": "2025-02-19T04:18:42.857243Z",
     "shell.execute_reply": "2025-02-19T04:18:42.855910Z",
     "shell.execute_reply.started": "2025-02-19T04:18:40.636539Z"
    }
   },
   "outputs": [],
   "source": [
    "onek1k_eSNP_hg38 = onek1k_eSNP.apply(convert_coordinates, axis=1)\n",
    "onek1k_eSNP_hg38.dropna(subset=['POS'],inplace=True)\n",
    "onek1k_eSNP_hg38.loc[:,'POS'] = onek1k_eSNP_hg38['POS'].astype('int')\n",
    "onek1k_eSNP_hg38.loc[:,'POS'] = onek1k_eSNP_hg38['POS'].astype('str')"
   ]
  },
  {
   "cell_type": "code",
   "execution_count": 7,
   "id": "6d98927a-ef58-4c1d-acf9-627edc5f246b",
   "metadata": {
    "execution": {
     "iopub.execute_input": "2025-02-19T04:18:42.858758Z",
     "iopub.status.busy": "2025-02-19T04:18:42.858547Z",
     "iopub.status.idle": "2025-02-19T04:18:43.222912Z",
     "shell.execute_reply": "2025-02-19T04:18:43.222223Z",
     "shell.execute_reply.started": "2025-02-19T04:18:42.858739Z"
    }
   },
   "outputs": [
    {
     "name": "stderr",
     "output_type": "stream",
     "text": [
      "UserWarning: <function GroupBy.idxmin> is not currently supported by PandasOnRay, defaulting to pandas implementation.\n",
      "Please refer to https://modin.readthedocs.io/en/stable/supported_apis/defaulting_to_pandas.html for explanation.\n"
     ]
    }
   ],
   "source": [
    "min_p_value_rows = onek1k_eSNP_hg38.loc[onek1k_eSNP_hg38.groupby('CELLTYPE_GENE')['P_VALUE'].idxmin()].reset_index(drop = True)"
   ]
  },
  {
   "cell_type": "code",
   "execution_count": 8,
   "id": "8bb85197-b95e-471b-9d23-931be0b56c1c",
   "metadata": {
    "execution": {
     "iopub.execute_input": "2025-02-19T04:18:44.936484Z",
     "iopub.status.busy": "2025-02-19T04:18:44.936038Z",
     "iopub.status.idle": "2025-02-19T04:18:46.135616Z",
     "shell.execute_reply": "2025-02-19T04:18:46.134313Z",
     "shell.execute_reply.started": "2025-02-19T04:18:44.936448Z"
    }
   },
   "outputs": [],
   "source": [
    "min_p_value_rows.to_csv('/CIMA/Data/public_eQTL/20250218_file_38_for_comparasion/20250218_onek1k_leap_snp.csv')"
   ]
  },
  {
   "cell_type": "markdown",
   "id": "beecaf99-b704-4908-8a39-13c6a407f514",
   "metadata": {},
   "source": [
    "# 处理ImmueNexut数据"
   ]
  },
  {
   "cell_type": "code",
   "execution_count": 1,
   "id": "4ff34cc4-c62d-4972-a3a2-522fc45932c8",
   "metadata": {
    "execution": {
     "iopub.execute_input": "2025-02-19T09:51:57.206198Z",
     "iopub.status.busy": "2025-02-19T09:51:57.205673Z",
     "iopub.status.idle": "2025-02-19T09:51:57.516591Z",
     "shell.execute_reply": "2025-02-19T09:51:57.515598Z",
     "shell.execute_reply.started": "2025-02-19T09:51:57.206149Z"
    }
   },
   "outputs": [],
   "source": [
    "import os\n",
    "from pyliftover import LiftOver\n",
    "import pandas as pd\n",
    "import numpy as np"
   ]
  },
  {
   "cell_type": "code",
   "execution_count": 20,
   "id": "8951bbd2-3e27-473e-9898-606a11e1c720",
   "metadata": {
    "execution": {
     "iopub.execute_input": "2025-02-18T16:14:58.068047Z",
     "iopub.status.busy": "2025-02-18T16:14:58.067329Z",
     "iopub.status.idle": "2025-02-18T16:14:58.080066Z",
     "shell.execute_reply": "2025-02-18T16:14:58.079211Z",
     "shell.execute_reply.started": "2025-02-18T16:14:58.068000Z"
    }
   },
   "outputs": [],
   "source": [
    "folder_path = '/CIMA/Data/public_eQTL/ImmuNexUT/conditional/'\n",
    "# 列出所有 .txt 文件\n",
    "txt_files = [f for f in os.listdir(folder_path) if f.endswith('.txt')]"
   ]
  },
  {
   "cell_type": "code",
   "execution_count": 21,
   "id": "0023d932-3e07-40b3-96a9-8ebcec2b90bd",
   "metadata": {
    "execution": {
     "iopub.execute_input": "2025-02-18T16:14:58.584912Z",
     "iopub.status.busy": "2025-02-18T16:14:58.584436Z",
     "iopub.status.idle": "2025-02-18T16:14:58.591847Z",
     "shell.execute_reply": "2025-02-18T16:14:58.591087Z",
     "shell.execute_reply.started": "2025-02-18T16:14:58.584856Z"
    }
   },
   "outputs": [],
   "source": [
    "celltype_list = list(pd.Series(txt_files).str.replace('_conditional_eQTL_FDR0.05.txt',''))"
   ]
  },
  {
   "cell_type": "code",
   "execution_count": 22,
   "id": "a7bff8b4-82a8-43dd-b227-21e8adda112d",
   "metadata": {
    "execution": {
     "iopub.execute_input": "2025-02-18T16:14:59.136872Z",
     "iopub.status.busy": "2025-02-18T16:14:59.136403Z",
     "iopub.status.idle": "2025-02-18T16:14:59.144531Z",
     "shell.execute_reply": "2025-02-18T16:14:59.143526Z",
     "shell.execute_reply.started": "2025-02-18T16:14:59.136827Z"
    }
   },
   "outputs": [],
   "source": [
    "celltype_mapping = {\n",
    "    'Naive_CD4': 'CD4_T', 'Mem_CD4': 'CD4_T', 'Th1':'CD4_T','Th2':'CD4_T','Tfh': 'CD4_T', 'Th17': 'CD4_T','Fr_III_T': 'CD4_T', 'Fr_II_eTreg': 'CD4_T', 'Fr_I_nTreg': 'CD4_T',#CD4_T细胞相关\n",
    "    'CM_CD8': 'CD8_T', 'EM_CD8': 'CD8_T', 'Naive_CD8': 'CD8_T', 'Mem_CD8': 'CD8_T', 'TEMRA_CD8': 'CD8_T',  # CD8+ T细胞相关\n",
    "    'Naive_B': 'B', 'DN_B': 'B', 'SM_B': 'B', 'USM_B': 'B','Plasmablast': 'B',  # B细胞相关\n",
    "    'NK': 'NK',\n",
    "    'CD16p_Mono': 'Myeloid', 'CL_Mono': 'Myeloid', 'Int_Mono': 'Myeloid', 'NC_Mono': 'Myeloid', 'Neu': 'Myeloid', 'mDC': 'Myeloid', 'pDC': 'Myeloid','LDG':'Myeloid' # 单核细胞相关\n",
    "      # NK细胞\n",
    "}"
   ]
  },
  {
   "cell_type": "code",
   "execution_count": 23,
   "id": "ac8c3cc5-b8a9-4ee2-a44b-671345b2a82c",
   "metadata": {
    "execution": {
     "iopub.execute_input": "2025-02-18T16:15:03.512851Z",
     "iopub.status.busy": "2025-02-18T16:15:03.511756Z",
     "iopub.status.idle": "2025-02-18T18:59:01.193316Z",
     "shell.execute_reply": "2025-02-18T18:59:01.192221Z",
     "shell.execute_reply.started": "2025-02-18T16:15:03.512800Z"
    }
   },
   "outputs": [],
   "source": [
    "df_combined = pd.DataFrame()\n",
    "#只选rank0而且是最强那一个\n",
    "for i in range(0,28,1):\n",
    "    snp_list = pd.read_csv(f'/CIMA/Data/public_eQTL/ImmuNexUT/conditional/{txt_files[i]}',sep='\\t')\n",
    "\n",
    "    snp_list = snp_list[snp_list['Rank_of_association'] == 0].reset_index(drop = True)\n",
    "\n",
    "    snp_list =snp_list.iloc[snp_list.groupby('Gene_name')['Forward_nominal_P'].idxmin().values,:]\n",
    "\n",
    "    snp_list=snp_list.reset_index(drop = True)\n",
    "\n",
    "    snp_list['CELL_TYPE'] = celltype_list[i]\n",
    "\n",
    "    snp_list['pair'] = snp_list['Gene_name']+'_'+snp_list['Variant_CHR']+'_'+snp_list['Variant_position_start'].astype(str)\n",
    "\n",
    "    snp_list_full = pd.read_csv(f'/CIMA/Data/public_eQTL/ImmuNexUT/norminal/{celltype_list[i]}_nominal.txt',sep='\\t')\n",
    "    \n",
    "    snp_list_full['pair'] = snp_list_full['Gene_name']+'_'+snp_list_full['Variant_CHR']+'_'+snp_list_full['Variant_position_start'].astype(str)\n",
    "\n",
    "    snp_list_full = snp_list_full[['REF','ALT','nominal_P_value','slope(ALT)','pair']]\n",
    "\n",
    "    snp_list = pd.merge(snp_list, snp_list_full, on='pair', how='inner')  # 默认是 'inner' 合并\n",
    "\n",
    "    snp_list = snp_list.reset_index(drop=True)\n",
    "\n",
    "    df_combined = pd.concat([df_combined, snp_list], axis=0, ignore_index=True)"
   ]
  },
  {
   "cell_type": "code",
   "execution_count": 25,
   "id": "158d16aa-870e-4c6d-a51d-d7f0c49236c8",
   "metadata": {
    "execution": {
     "iopub.execute_input": "2025-02-19T01:28:23.129020Z",
     "iopub.status.busy": "2025-02-19T01:28:23.127947Z",
     "iopub.status.idle": "2025-02-19T01:28:23.194747Z",
     "shell.execute_reply": "2025-02-19T01:28:23.193873Z",
     "shell.execute_reply.started": "2025-02-19T01:28:23.128970Z"
    }
   },
   "outputs": [],
   "source": [
    "df_combined['celltype_map'] = df_combined['CELL_TYPE'].map(celltype_mapping)\n",
    "df_combined['CELLTYPE_GENE'] = df_combined['celltype_map']+'_'+df_combined['Gene_name']"
   ]
  },
  {
   "cell_type": "code",
   "execution_count": 28,
   "id": "cbdcd8a9-0e31-45fa-81dd-be88e63f8e1d",
   "metadata": {
    "execution": {
     "iopub.execute_input": "2025-02-19T01:30:49.325677Z",
     "iopub.status.busy": "2025-02-19T01:30:49.324514Z",
     "iopub.status.idle": "2025-02-19T01:30:52.431557Z",
     "shell.execute_reply": "2025-02-19T01:30:52.430204Z",
     "shell.execute_reply.started": "2025-02-19T01:30:49.325613Z"
    }
   },
   "outputs": [],
   "source": [
    "df_combined.to_csv('/CIMA/Data/public_eQTL/20250218_file_38_for_comparasion/20250219_immuenexut_all_snp.csv')"
   ]
  },
  {
   "cell_type": "code",
   "execution_count": 26,
   "id": "f3564896-7c06-4b1e-91d4-8485310a13fd",
   "metadata": {
    "execution": {
     "iopub.execute_input": "2025-02-19T01:28:28.833897Z",
     "iopub.status.busy": "2025-02-19T01:28:28.833298Z",
     "iopub.status.idle": "2025-02-19T01:28:28.961071Z",
     "shell.execute_reply": "2025-02-19T01:28:28.959951Z",
     "shell.execute_reply.started": "2025-02-19T01:28:28.833837Z"
    }
   },
   "outputs": [],
   "source": [
    "min_p_value_rows = df_combined.loc[df_combined.groupby('CELLTYPE_GENE')['Forward_nominal_P'].idxmin()].reset_index(drop = True)"
   ]
  },
  {
   "cell_type": "code",
   "execution_count": 9,
   "id": "d3316764-d831-4a86-9848-5390d6b60696",
   "metadata": {
    "execution": {
     "iopub.execute_input": "2025-02-19T09:57:43.055943Z",
     "iopub.status.busy": "2025-02-19T09:57:43.055387Z",
     "iopub.status.idle": "2025-02-19T09:57:44.009628Z",
     "shell.execute_reply": "2025-02-19T09:57:44.008601Z",
     "shell.execute_reply.started": "2025-02-19T09:57:43.055916Z"
    }
   },
   "outputs": [],
   "source": [
    "min_p_value_rows.to_csv('/CIMA/Data/public_eQTL/20250218_file_38_for_comparasion/20250219_immuenexut_all_lead_snp.csv')"
   ]
  }
 ],
 "metadata": {
  "kernelspec": {
   "display_name": "scPAFA",
   "language": "python",
   "name": "scpafa"
  },
  "language_info": {
   "codemirror_mode": {
    "name": "ipython",
    "version": 3
   },
   "file_extension": ".py",
   "mimetype": "text/x-python",
   "name": "python",
   "nbconvert_exporter": "python",
   "pygments_lexer": "ipython3",
   "version": "3.10.14"
  }
 },
 "nbformat": 4,
 "nbformat_minor": 5
}
