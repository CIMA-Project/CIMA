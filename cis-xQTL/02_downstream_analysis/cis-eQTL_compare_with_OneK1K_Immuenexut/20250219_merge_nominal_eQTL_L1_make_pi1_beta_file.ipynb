{
 "cells": [
  {
   "cell_type": "code",
   "execution_count": 70,
   "id": "1cebd9ff-61c4-4114-9340-8725971a610a",
   "metadata": {
    "execution": {
     "iopub.execute_input": "2025-02-19T09:30:41.862075Z",
     "iopub.status.busy": "2025-02-19T09:30:41.861693Z",
     "iopub.status.idle": "2025-02-19T09:30:41.865839Z",
     "shell.execute_reply": "2025-02-19T09:30:41.865128Z",
     "shell.execute_reply.started": "2025-02-19T09:30:41.862044Z"
    }
   },
   "outputs": [],
   "source": [
    "import pandas as pd\n",
    "import numpy as np\n",
    "import os"
   ]
  },
  {
   "cell_type": "code",
   "execution_count": 5,
   "id": "d5a40566-f9b3-465b-89ac-1d35977a9822",
   "metadata": {
    "execution": {
     "iopub.execute_input": "2025-02-19T08:08:51.937386Z",
     "iopub.status.busy": "2025-02-19T08:08:51.936160Z",
     "iopub.status.idle": "2025-02-19T08:08:51.941887Z",
     "shell.execute_reply": "2025-02-19T08:08:51.940963Z",
     "shell.execute_reply.started": "2025-02-19T08:08:51.937332Z"
    }
   },
   "outputs": [],
   "source": [
    "eQTL_dir = '/CIMA/Result/eQTL_tensorqtl_L1/'\n",
    "output_dir = '/CIMA/Result/eQTL_tensorqtl_mergenominal_L1/'"
   ]
  },
  {
   "cell_type": "code",
   "execution_count": 6,
   "id": "d7a853ba-83e5-4e4a-a1e5-157558f73694",
   "metadata": {
    "execution": {
     "iopub.execute_input": "2025-02-19T08:08:58.860123Z",
     "iopub.status.busy": "2025-02-19T08:08:58.859650Z",
     "iopub.status.idle": "2025-02-19T08:08:58.866012Z",
     "shell.execute_reply": "2025-02-19T08:08:58.865246Z",
     "shell.execute_reply.started": "2025-02-19T08:08:58.860092Z"
    }
   },
   "outputs": [],
   "source": [
    "import concurrent.futures\n",
    "\n",
    "def process_celltype(celltype, eQTL_dir, output_dir):\n",
    "    print(f'processing_{celltype}')\n",
    "    parquet_files = [f for f in os.listdir(f'{eQTL_dir}{celltype}') if f.endswith('.parquet')]\n",
    "    parquet_files.sort(key=lambda x: int(x.split('.')[2]))\n",
    "\n",
    "    eQTL_full = pd.concat(\n",
    "        [pd.read_parquet(os.path.join(f'{eQTL_dir}{celltype}', file)) for file in parquet_files],\n",
    "        ignore_index=True\n",
    "    )\n",
    "\n",
    "    eQTL_full.to_parquet(f'{output_dir}/{celltype}.parquet')\n",
    "\n",
    "def process_all_celltypes(eQTL_dir, output_dir,celltypes):\n",
    "    \n",
    "    # 设置ThreadPoolExecutor并发线程数为4\n",
    "    with concurrent.futures.ThreadPoolExecutor(max_workers=10) as executor:\n",
    "        executor.map(lambda celltype: process_celltype(celltype, eQTL_dir, output_dir), celltypes)"
   ]
  },
  {
   "cell_type": "code",
   "execution_count": 8,
   "id": "65614926-1a41-4a53-b425-7edda2d8775b",
   "metadata": {
    "execution": {
     "iopub.execute_input": "2025-02-19T08:10:37.733805Z",
     "iopub.status.busy": "2025-02-19T08:10:37.733293Z",
     "iopub.status.idle": "2025-02-19T08:10:37.737421Z",
     "shell.execute_reply": "2025-02-19T08:10:37.736693Z",
     "shell.execute_reply.started": "2025-02-19T08:10:37.733771Z"
    }
   },
   "outputs": [],
   "source": [
    "celltypes_L1 = [\"B\",\"CD4_T\",\"CD8_T\",\"Myeloid\",\"NK\"]"
   ]
  },
  {
   "cell_type": "code",
   "execution_count": 9,
   "id": "9ac30cd6-0297-4ca7-a747-58051e28ef19",
   "metadata": {
    "execution": {
     "iopub.execute_input": "2025-02-19T08:10:45.234170Z",
     "iopub.status.busy": "2025-02-19T08:10:45.233752Z",
     "iopub.status.idle": "2025-02-19T08:13:05.087670Z",
     "shell.execute_reply": "2025-02-19T08:13:05.086656Z",
     "shell.execute_reply.started": "2025-02-19T08:10:45.234141Z"
    }
   },
   "outputs": [
    {
     "name": "stdout",
     "output_type": "stream",
     "text": [
      "processing_B\n",
      "processing_CD4_T\n",
      "processing_CD8_T\n",
      "processing_Myeloid\n",
      "processing_NK\n"
     ]
    }
   ],
   "source": [
    "process_all_celltypes(eQTL_dir, output_dir,celltypes= celltypes_L1)"
   ]
  },
  {
   "cell_type": "markdown",
   "id": "46f1f25a-4b8e-4dc2-b3e5-1b1411360cdd",
   "metadata": {},
   "source": [
    "# 合并ONEK1K位点"
   ]
  },
  {
   "cell_type": "code",
   "execution_count": 58,
   "id": "bdfe6176-c75b-4a72-803a-a8f7cac55f52",
   "metadata": {
    "execution": {
     "iopub.execute_input": "2025-02-19T09:16:03.421308Z",
     "iopub.status.busy": "2025-02-19T09:16:03.420729Z",
     "iopub.status.idle": "2025-02-19T09:16:06.995037Z",
     "shell.execute_reply": "2025-02-19T09:16:06.994090Z",
     "shell.execute_reply.started": "2025-02-19T09:16:03.421253Z"
    }
   },
   "outputs": [],
   "source": [
    "bim_file = pd.read_csv('/CIMA/genetics/qc/10.maf01.bim',sep='\\t',header=None)\n",
    "bim_file.columns = ['chr','variant_id','unknown','pos','eff_own','other_own']\n",
    "bim_file = bim_file[['variant_id','eff_own','other_own']]"
   ]
  },
  {
   "cell_type": "code",
   "execution_count": 59,
   "id": "b31fe3f9-7bb8-4993-a78a-e6b0f11d4d8d",
   "metadata": {
    "execution": {
     "iopub.execute_input": "2025-02-19T09:16:06.996508Z",
     "iopub.status.busy": "2025-02-19T09:16:06.996294Z",
     "iopub.status.idle": "2025-02-19T09:16:07.112695Z",
     "shell.execute_reply": "2025-02-19T09:16:07.111935Z",
     "shell.execute_reply.started": "2025-02-19T09:16:06.996489Z"
    }
   },
   "outputs": [],
   "source": [
    "onek1k_lead_snp = pd.read_csv('/CIMA/Data/public_eQTL/20250218_file_38_for_comparasion/20250218_onek1k_leap_snp.csv',index_col=0)\n",
    "onek1k_lead_snp = onek1k_lead_snp.rename(columns={'celltype_map': 'celltype_A'})\n",
    "onek1k_lead_snp['pair'] = onek1k_lead_snp['GENE']+'_'+onek1k_lead_snp['CHR']+'_'+onek1k_lead_snp['POS'].astype(str)\n",
    "onek1k_lead_snp = onek1k_lead_snp[['pair','celltype_A', 'A2', 'A1','SPEARMANS_RHO']]\n",
    "onek1k_lead_snp.columns = ['pair','celltype_A', 'eff_public', 'other_public','beta_public']"
   ]
  },
  {
   "cell_type": "code",
   "execution_count": 61,
   "id": "47c489d9-6c40-4cf2-b323-77fb262fcc2c",
   "metadata": {
    "execution": {
     "iopub.execute_input": "2025-02-19T09:18:18.205371Z",
     "iopub.status.busy": "2025-02-19T09:18:18.204938Z",
     "iopub.status.idle": "2025-02-19T09:25:59.189514Z",
     "shell.execute_reply": "2025-02-19T09:25:59.188158Z",
     "shell.execute_reply.started": "2025-02-19T09:18:18.205342Z"
    }
   },
   "outputs": [
    {
     "name": "stdout",
     "output_type": "stream",
     "text": [
      "processing_B\n",
      "processing_CD4_T\n",
      "processing_CD8_T\n",
      "processing_Myeloid\n",
      "processing_NK\n"
     ]
    }
   ],
   "source": [
    "df_list = []\n",
    "for celltype in [\"B\",\"CD4_T\",\"CD8_T\",\"Myeloid\",\"NK\"]:\n",
    "    print(f'processing_{celltype}')\n",
    "    nominal_P = pd.read_parquet(f'/CIMA/Result/eQTL_tensorqtl_mergenominal_L1/{celltype}.parquet')\n",
    "    nominal_P = pd.merge(nominal_P,bim_file,on='variant_id',how = 'inner')\n",
    "    nominal_P['celltype_B'] = f'{celltype}_own'\n",
    "    nominal_P['pair'] = nominal_P['phenotype_id']+'_'+nominal_P['variant_id']\n",
    "    #nominal_P = nominal_P[['pair','celltype_B','pval_nominal']]\n",
    "    #合并_只选取相同的pair\n",
    "    nominal_merged_df = pd.merge(nominal_P,onek1k_lead_snp, on='pair', how='inner') \n",
    "    df_list.append(nominal_merged_df)"
   ]
  },
  {
   "cell_type": "code",
   "execution_count": 78,
   "id": "7122a943-99df-4969-a756-9f6fae564230",
   "metadata": {
    "execution": {
     "iopub.execute_input": "2025-02-19T09:34:48.500929Z",
     "iopub.status.busy": "2025-02-19T09:34:48.500408Z",
     "iopub.status.idle": "2025-02-19T09:34:48.524804Z",
     "shell.execute_reply": "2025-02-19T09:34:48.524193Z",
     "shell.execute_reply.started": "2025-02-19T09:34:48.500895Z"
    }
   },
   "outputs": [
    {
     "name": "stdout",
     "output_type": "stream",
     "text": [
      "460\n",
      "25\n"
     ]
    }
   ],
   "source": [
    "final_df = pd.concat(df_list, ignore_index=True)\n",
    "final_df['celltype_pair'] = final_df['celltype_A']+'_xxx_'+final_df['celltype_B']\n",
    "print(min(final_df['celltype_pair'].value_counts()))\n",
    "print(final_df['celltype_pair'].nunique())"
   ]
  },
  {
   "cell_type": "code",
   "execution_count": 80,
   "id": "c38acdc0-8e04-4756-bde5-a22accd83f8c",
   "metadata": {
    "execution": {
     "iopub.execute_input": "2025-02-19T09:41:48.977051Z",
     "iopub.status.busy": "2025-02-19T09:41:48.975968Z",
     "iopub.status.idle": "2025-02-19T09:41:49.440548Z",
     "shell.execute_reply": "2025-02-19T09:41:49.439807Z",
     "shell.execute_reply.started": "2025-02-19T09:41:48.976996Z"
    }
   },
   "outputs": [],
   "source": [
    "final_df.to_csv('/CIMA/Result/eQTL_L1_downstream/20250219_onek1k_vs_own.csv')"
   ]
  },
  {
   "cell_type": "markdown",
   "id": "f0d43d44-a837-4865-85b6-888111b0fe86",
   "metadata": {},
   "source": [
    "# 合并immueNexut位点"
   ]
  },
  {
   "cell_type": "code",
   "execution_count": 81,
   "id": "47cc50a8-1079-4615-9372-a4690ad26b23",
   "metadata": {
    "execution": {
     "iopub.execute_input": "2025-02-19T09:45:57.935465Z",
     "iopub.status.busy": "2025-02-19T09:45:57.934897Z",
     "iopub.status.idle": "2025-02-19T09:46:01.736257Z",
     "shell.execute_reply": "2025-02-19T09:46:01.735611Z",
     "shell.execute_reply.started": "2025-02-19T09:45:57.935415Z"
    }
   },
   "outputs": [],
   "source": [
    "bim_file = pd.read_csv('/CIMA/genetics/qc/10.maf01.bim',sep='\\t',header=None)\n",
    "bim_file.columns = ['chr','variant_id','unknown','pos','eff_own','other_own']\n",
    "bim_file = bim_file[['variant_id','eff_own','other_own']]"
   ]
  },
  {
   "cell_type": "code",
   "execution_count": 97,
   "id": "ca982c5d-7744-4292-9f14-017632d0d8d0",
   "metadata": {
    "execution": {
     "iopub.execute_input": "2025-02-19T13:00:36.271917Z",
     "iopub.status.busy": "2025-02-19T13:00:36.271442Z",
     "iopub.status.idle": "2025-02-19T13:00:36.615135Z",
     "shell.execute_reply": "2025-02-19T13:00:36.614237Z",
     "shell.execute_reply.started": "2025-02-19T13:00:36.271879Z"
    }
   },
   "outputs": [],
   "source": [
    "immuenexut_lead_snp = pd.read_csv('/CIMA/Data/public_eQTL/20250218_file_38_for_comparasion/20250219_immuenexut_all_lead_snp.csv',index_col=0)\n",
    "immuenexut_lead_snp = immuenexut_lead_snp.rename(columns={'celltype_map': 'celltype_A'})\n",
    "immuenexut_lead_snp['pair'] = immuenexut_lead_snp['Gene_name']+'_'+immuenexut_lead_snp['CHR']+'_'+immuenexut_lead_snp['Variant_position_start'].astype(str)\n",
    "immuenexut_lead_snp = immuenexut_lead_snp[['pair','celltype_A', 'ALT', 'REF','slope(ALT)']]\n",
    "immuenexut_lead_snp.columns = ['pair','celltype_A', 'eff_public', 'other_public','beta_public']"
   ]
  },
  {
   "cell_type": "code",
   "execution_count": 98,
   "id": "3886d292-494f-4d63-8fe9-fd228ad932b7",
   "metadata": {
    "execution": {
     "iopub.execute_input": "2025-02-19T13:01:13.207082Z",
     "iopub.status.busy": "2025-02-19T13:01:13.206734Z",
     "iopub.status.idle": "2025-02-19T13:08:51.818738Z",
     "shell.execute_reply": "2025-02-19T13:08:51.817207Z",
     "shell.execute_reply.started": "2025-02-19T13:01:13.207055Z"
    }
   },
   "outputs": [
    {
     "name": "stdout",
     "output_type": "stream",
     "text": [
      "processing_B\n",
      "processing_CD4_T\n",
      "processing_CD8_T\n",
      "processing_Myeloid\n",
      "processing_NK\n"
     ]
    }
   ],
   "source": [
    "df_list = []\n",
    "for celltype in [\"B\",\"CD4_T\",\"CD8_T\",\"Myeloid\",\"NK\"]:\n",
    "    print(f'processing_{celltype}')\n",
    "    nominal_P = pd.read_parquet(f'/CIMA/Result/eQTL_tensorqtl_mergenominal_L1/{celltype}.parquet')\n",
    "    nominal_P = pd.merge(nominal_P,bim_file,on='variant_id',how = 'inner')\n",
    "    nominal_P['celltype_B'] = f'{celltype}_own'\n",
    "    nominal_P['pair'] = nominal_P['phenotype_id']+'_'+nominal_P['variant_id']\n",
    "    #nominal_P = nominal_P[['pair','celltype_B','pval_nominal']]\n",
    "    #合并_只选取相同的pair\n",
    "    nominal_merged_df = pd.merge(nominal_P,immuenexut_lead_snp, on='pair', how='inner') \n",
    "    df_list.append(nominal_merged_df)"
   ]
  },
  {
   "cell_type": "code",
   "execution_count": 107,
   "id": "1015a737-1e13-4559-a742-3cca26b3f5a1",
   "metadata": {
    "execution": {
     "iopub.execute_input": "2025-02-19T13:17:51.987187Z",
     "iopub.status.busy": "2025-02-19T13:17:51.986607Z",
     "iopub.status.idle": "2025-02-19T13:17:52.089237Z",
     "shell.execute_reply": "2025-02-19T13:17:52.088590Z",
     "shell.execute_reply.started": "2025-02-19T13:17:51.987134Z"
    }
   },
   "outputs": [
    {
     "name": "stdout",
     "output_type": "stream",
     "text": [
      "3677\n",
      "25\n"
     ]
    }
   ],
   "source": [
    "final_df = pd.concat(df_list, ignore_index=True)\n",
    "final_df['celltype_pair'] = final_df['celltype_A']+'_xxx_'+final_df['celltype_B']\n",
    "print(min(final_df['celltype_pair'].value_counts()))\n",
    "print(final_df['celltype_pair'].nunique())"
   ]
  },
  {
   "cell_type": "code",
   "execution_count": 108,
   "id": "73097deb-22d3-48e3-b6fb-1eef65a2242a",
   "metadata": {
    "execution": {
     "iopub.execute_input": "2025-02-19T13:20:51.393298Z",
     "iopub.status.busy": "2025-02-19T13:20:51.392714Z",
     "iopub.status.idle": "2025-02-19T13:20:53.161082Z",
     "shell.execute_reply": "2025-02-19T13:20:53.160085Z",
     "shell.execute_reply.started": "2025-02-19T13:20:51.393248Z"
    }
   },
   "outputs": [],
   "source": [
    "final_df.to_csv('/CIMA/Result/eQTL_L1_downstream/20250219_immuenexut_vs_own.csv')"
   ]
  }
 ],
 "metadata": {
  "kernelspec": {
   "display_name": "scPAFA",
   "language": "python",
   "name": "scpafa"
  },
  "language_info": {
   "codemirror_mode": {
    "name": "ipython",
    "version": 3
   },
   "file_extension": ".py",
   "mimetype": "text/x-python",
   "name": "python",
   "nbconvert_exporter": "python",
   "pygments_lexer": "ipython3",
   "version": "3.10.14"
  }
 },
 "nbformat": 4,
 "nbformat_minor": 5
}
