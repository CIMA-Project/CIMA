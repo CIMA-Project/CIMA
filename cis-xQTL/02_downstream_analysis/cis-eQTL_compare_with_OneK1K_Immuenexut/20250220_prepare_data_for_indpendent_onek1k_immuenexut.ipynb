{
 "cells": [
  {
   "cell_type": "code",
   "execution_count": 1,
   "id": "795e05ba-8f51-4449-a219-74e980b93b2b",
   "metadata": {
    "execution": {
     "iopub.execute_input": "2025-02-20T12:30:29.945506Z",
     "iopub.status.busy": "2025-02-20T12:30:29.945060Z",
     "iopub.status.idle": "2025-02-20T12:30:30.641505Z",
     "shell.execute_reply": "2025-02-20T12:30:30.640246Z",
     "shell.execute_reply.started": "2025-02-20T12:30:29.945483Z"
    }
   },
   "outputs": [],
   "source": [
    "import pandas as pd\n",
    "import numpy as np\n",
    "from scipy import stats\n",
    "import multiprocessing"
   ]
  },
  {
   "cell_type": "code",
   "execution_count": 2,
   "id": "cd37a4ae-2f18-46a3-b4a8-6aafcea49090",
   "metadata": {
    "execution": {
     "iopub.execute_input": "2025-02-20T12:30:30.642608Z",
     "iopub.status.busy": "2025-02-20T12:30:30.642344Z",
     "iopub.status.idle": "2025-02-20T12:30:30.914161Z",
     "shell.execute_reply": "2025-02-20T12:30:30.912901Z",
     "shell.execute_reply.started": "2025-02-20T12:30:30.642589Z"
    }
   },
   "outputs": [],
   "source": [
    "cis_df_all_eQTL_sig = pd.read_csv('/CIMA/Result/eQTL_L1_downstream/20250219_cis_eQTL_studywise_sig.csv',index_col=0)"
   ]
  },
  {
   "cell_type": "markdown",
   "id": "e9b4f2d2-a98c-4cd9-8e0d-ec5b5f45a68b",
   "metadata": {},
   "source": [
    "# 处理onek1k数据"
   ]
  },
  {
   "cell_type": "code",
   "execution_count": 3,
   "id": "338a3db0-cebe-42ed-a1c2-97548feeeac3",
   "metadata": {
    "execution": {
     "iopub.execute_input": "2025-02-20T12:30:30.915222Z",
     "iopub.status.busy": "2025-02-20T12:30:30.915031Z",
     "iopub.status.idle": "2025-02-20T12:30:31.010760Z",
     "shell.execute_reply": "2025-02-20T12:30:31.009776Z",
     "shell.execute_reply.started": "2025-02-20T12:30:30.915205Z"
    }
   },
   "outputs": [],
   "source": [
    "public_eQTL = pd.read_csv('/CIMA/Data/public_eQTL/20250218_file_38_for_comparasion/20250218_onek1k_leap_snp.csv',index_col=0)\n",
    "#首先，GENE得在我们显著的eGene里面，其次，这个位点可以不在我们的检测里面（统计数量，这就是频率差异），然后，这个位点不同的在去做分析\n",
    "public_eQTL = public_eQTL[public_eQTL['GENE'].isin(cis_df_all_eQTL_sig['phenotype_id'].unique())]"
   ]
  },
  {
   "cell_type": "markdown",
   "id": "746525c2-5e66-4fd1-ada4-047bb88f2eac",
   "metadata": {},
   "source": [
    "# onek1k中 eGene属于CIMA L1eGene有9000个"
   ]
  },
  {
   "cell_type": "code",
   "execution_count": 4,
   "id": "78d3e01b-cea0-42d5-9d9d-d379fa6142a5",
   "metadata": {
    "execution": {
     "iopub.execute_input": "2025-02-20T12:30:31.011652Z",
     "iopub.status.busy": "2025-02-20T12:30:31.011467Z",
     "iopub.status.idle": "2025-02-20T12:30:31.017283Z",
     "shell.execute_reply": "2025-02-20T12:30:31.016879Z",
     "shell.execute_reply.started": "2025-02-20T12:30:31.011635Z"
    }
   },
   "outputs": [
    {
     "data": {
      "text/plain": [
       "9094"
      ]
     },
     "execution_count": 4,
     "metadata": {},
     "output_type": "execute_result"
    }
   ],
   "source": [
    "len(public_eQTL)"
   ]
  },
  {
   "cell_type": "code",
   "execution_count": 5,
   "id": "a3e4ba77-57c2-476f-a0f8-023ad7bd7f51",
   "metadata": {
    "execution": {
     "iopub.execute_input": "2025-02-20T12:30:31.017981Z",
     "iopub.status.busy": "2025-02-20T12:30:31.017812Z",
     "iopub.status.idle": "2025-02-20T12:30:35.027665Z",
     "shell.execute_reply": "2025-02-20T12:30:35.027124Z",
     "shell.execute_reply.started": "2025-02-20T12:30:31.017966Z"
    }
   },
   "outputs": [],
   "source": [
    "variant_df = pd.read_parquet('/CIMA/Data/413_sample_variant_df.parquet')\n",
    "\n",
    "public_eQTL.loc[:,'variant_id'] = public_eQTL['CHR']+'_'+public_eQTL['POS'].astype(str)\n",
    "\n",
    "public_eQTL = public_eQTL[public_eQTL['variant_id'].isin(variant_df.index)]"
   ]
  },
  {
   "cell_type": "markdown",
   "id": "ef3f9a43-3d6b-4998-9ae9-d2e1ba939098",
   "metadata": {},
   "source": [
    "# onek1k中 eGene属于CIMA L1以及位点被检测的有6000个"
   ]
  },
  {
   "cell_type": "code",
   "execution_count": 6,
   "id": "8345efe6-e33b-4923-9527-96d2f651e1da",
   "metadata": {
    "execution": {
     "iopub.execute_input": "2025-02-20T12:30:35.029690Z",
     "iopub.status.busy": "2025-02-20T12:30:35.029422Z",
     "iopub.status.idle": "2025-02-20T12:30:35.032950Z",
     "shell.execute_reply": "2025-02-20T12:30:35.032528Z",
     "shell.execute_reply.started": "2025-02-20T12:30:35.029670Z"
    }
   },
   "outputs": [
    {
     "data": {
      "text/plain": [
       "6313"
      ]
     },
     "execution_count": 6,
     "metadata": {},
     "output_type": "execute_result"
    }
   ],
   "source": [
    "len(public_eQTL)"
   ]
  },
  {
   "cell_type": "code",
   "execution_count": 7,
   "id": "1ead7870-4fea-422f-98ac-76fbb1e76fcb",
   "metadata": {
    "execution": {
     "iopub.execute_input": "2025-02-20T12:30:35.033856Z",
     "iopub.status.busy": "2025-02-20T12:30:35.033536Z",
     "iopub.status.idle": "2025-02-20T12:30:35.038091Z",
     "shell.execute_reply": "2025-02-20T12:30:35.037688Z",
     "shell.execute_reply.started": "2025-02-20T12:30:35.033838Z"
    }
   },
   "outputs": [],
   "source": [
    "# 创建一个空的DataFrame来存储比例结果\n",
    "overlap_count = pd.DataFrame(index=cis_df_all_eQTL_sig['celltype'].unique(), columns=['overlap_eGene','overlap_eGene_with_diffsnp'])"
   ]
  },
  {
   "cell_type": "code",
   "execution_count": 8,
   "id": "ef552391-a215-44b0-8147-5d152cad543e",
   "metadata": {
    "execution": {
     "iopub.execute_input": "2025-02-20T12:30:35.039017Z",
     "iopub.status.busy": "2025-02-20T12:30:35.038658Z",
     "iopub.status.idle": "2025-02-20T12:30:35.085446Z",
     "shell.execute_reply": "2025-02-20T12:30:35.084537Z",
     "shell.execute_reply.started": "2025-02-20T12:30:35.039000Z"
    }
   },
   "outputs": [],
   "source": [
    "# 创建一个空的DataFrame来存储比例结果\n",
    "overlap_count = pd.DataFrame(index=cis_df_all_eQTL_sig['celltype'].unique(), columns=['overlap_full','overlap_with_diff_topSNP'])\n",
    "\n",
    "df_merge = pd.DataFrame()\n",
    "\n",
    "for celltype in ['CD4_T','CD8_T','NK','Myeloid','B']:\n",
    "    use_df_A = cis_df_all_eQTL_sig[cis_df_all_eQTL_sig['celltype'] == celltype][['phenotype_id','variant_id']]\n",
    "    series_A = pd.Series(use_df_A['variant_id'].values, index=use_df_A['phenotype_id'].values)\n",
    "    use_df_B =public_eQTL[public_eQTL['celltype_map'] == celltype][['GENE','variant_id']]\n",
    "    series_B = pd.Series(use_df_B['variant_id'].values, index=use_df_B['GENE'].values)\n",
    "    # 合并两个 Series，保留共享的索引，并设置列名\n",
    "    df = pd.concat([series_A, series_B], axis=1, join='inner').reset_index()\n",
    "    df.columns = ['phenotype','topSNP_CIMA', 'topSNP_public']\n",
    "    df['celltype'] = celltype\n",
    "    df = df[['celltype','phenotype','topSNP_CIMA', 'topSNP_public']]\n",
    "\n",
    "    # 统计合并后的行数\n",
    "    initial_row_count = len(df)\n",
    "    overlap_count.loc[celltype,'overlap_full'] = initial_row_count\n",
    "\n",
    "    # 去除 topSNP_A 等于 topSNP_B 的行\n",
    "    df_filtered = df[df['topSNP_CIMA'] != df['topSNP_public']]\n",
    "\n",
    "    # 统计去除后的行数\n",
    "    filtered_row_count = len(df_filtered)\n",
    "    overlap_count.loc[celltype,'overlap_with_diff_topSNP'] = filtered_row_count\n",
    "    df_merge = pd.concat([df_merge,df_filtered]).reset_index(drop = True)"
   ]
  },
  {
   "cell_type": "code",
   "execution_count": 9,
   "id": "b72b8e0e-d9d5-48b9-80da-d6aac6d4be85",
   "metadata": {
    "execution": {
     "iopub.execute_input": "2025-02-20T12:30:35.086152Z",
     "iopub.status.busy": "2025-02-20T12:30:35.085990Z",
     "iopub.status.idle": "2025-02-20T12:30:35.114766Z",
     "shell.execute_reply": "2025-02-20T12:30:35.113768Z",
     "shell.execute_reply.started": "2025-02-20T12:30:35.086136Z"
    }
   },
   "outputs": [],
   "source": [
    "df_merge.to_csv(f'/CIMA/Data/public_independent/20250220_onk1k_independent_input.csv')\n",
    "overlap_count.to_csv(f'/CIMA/Result/eQTL_L1_downstream/20250220_onk1k_each_celltype_overlap.csv')"
   ]
  },
  {
   "cell_type": "code",
   "execution_count": 10,
   "id": "fa9183fb-e5a3-4b7a-8901-a447688e3589",
   "metadata": {
    "execution": {
     "iopub.execute_input": "2025-02-20T12:30:35.115495Z",
     "iopub.status.busy": "2025-02-20T12:30:35.115335Z",
     "iopub.status.idle": "2025-02-20T12:30:45.947168Z",
     "shell.execute_reply": "2025-02-20T12:30:45.945596Z",
     "shell.execute_reply.started": "2025-02-20T12:30:35.115480Z"
    }
   },
   "outputs": [],
   "source": [
    "#输出所有显著eSNP的基因分型\n",
    "genotype_df = pd.read_parquet('/CIMA/Data/413_sample_genotype.parquet')\n",
    "\n",
    "combined_list = list(df_merge['topSNP_CIMA']) + list(df_merge['topSNP_public'])\n",
    "\n",
    "genotype_df.loc[np.unique(combined_list),:].T.to_csv('/CIMA/Data/public_independent/genotype_sigeSNP_onek1k.csv')"
   ]
  },
  {
   "cell_type": "markdown",
   "id": "13f3a1d1-e455-4a84-811c-005a87ed7664",
   "metadata": {},
   "source": [
    "# 处理immuenexut数据"
   ]
  },
  {
   "cell_type": "code",
   "execution_count": 11,
   "id": "43eb63ce-372d-4b9e-b069-daf8bedfd60e",
   "metadata": {
    "execution": {
     "iopub.execute_input": "2025-02-20T12:30:45.948412Z",
     "iopub.status.busy": "2025-02-20T12:30:45.948198Z",
     "iopub.status.idle": "2025-02-20T12:30:46.305697Z",
     "shell.execute_reply": "2025-02-20T12:30:46.304284Z",
     "shell.execute_reply.started": "2025-02-20T12:30:45.948391Z"
    }
   },
   "outputs": [],
   "source": [
    "public_eQTL = pd.read_csv('/CIMA/Data/public_eQTL/20250218_file_38_for_comparasion/20250219_immuenexut_all_lead_snp.csv',index_col=0)\n",
    "#首先，GENE得在我们显著的eGene里面，其次，这个位点可以不在我们的检测里面（统计数量，这就是频率差异），然后，这个位点不同的在去做分析\n",
    "public_eQTL = public_eQTL[public_eQTL['Gene_name'].isin(cis_df_all_eQTL_sig['phenotype_id'].unique())]"
   ]
  },
  {
   "cell_type": "code",
   "execution_count": 12,
   "id": "a4054792-9ad3-4a78-9f94-923644e088a1",
   "metadata": {
    "execution": {
     "iopub.execute_input": "2025-02-20T12:30:46.307041Z",
     "iopub.status.busy": "2025-02-20T12:30:46.306732Z",
     "iopub.status.idle": "2025-02-20T12:30:46.311753Z",
     "shell.execute_reply": "2025-02-20T12:30:46.311057Z",
     "shell.execute_reply.started": "2025-02-20T12:30:46.307022Z"
    }
   },
   "outputs": [
    {
     "data": {
      "text/plain": [
       "37886"
      ]
     },
     "execution_count": 12,
     "metadata": {},
     "output_type": "execute_result"
    }
   ],
   "source": [
    "len(public_eQTL)"
   ]
  },
  {
   "cell_type": "code",
   "execution_count": 13,
   "id": "7d45cb24-f9a8-4ada-b3e6-a9cfa811abd5",
   "metadata": {
    "execution": {
     "iopub.execute_input": "2025-02-20T12:30:46.312533Z",
     "iopub.status.busy": "2025-02-20T12:30:46.312354Z",
     "iopub.status.idle": "2025-02-20T12:30:50.519914Z",
     "shell.execute_reply": "2025-02-20T12:30:50.518935Z",
     "shell.execute_reply.started": "2025-02-20T12:30:46.312517Z"
    }
   },
   "outputs": [],
   "source": [
    "variant_df = pd.read_parquet('/CIMA/Data/413_sample_variant_df.parquet')\n",
    "public_eQTL.loc[:,'variant_id'] = public_eQTL['Variant_CHR']+'_'+public_eQTL['Variant_position_start'].astype(str)\n",
    "public_eQTL = public_eQTL[public_eQTL['variant_id'].isin(variant_df.index)]"
   ]
  },
  {
   "cell_type": "code",
   "execution_count": 14,
   "id": "ef8079b2-0d1f-422c-b248-1f9affcfb391",
   "metadata": {
    "execution": {
     "iopub.execute_input": "2025-02-20T12:30:50.521156Z",
     "iopub.status.busy": "2025-02-20T12:30:50.520931Z",
     "iopub.status.idle": "2025-02-20T12:30:50.525646Z",
     "shell.execute_reply": "2025-02-20T12:30:50.525169Z",
     "shell.execute_reply.started": "2025-02-20T12:30:50.521136Z"
    }
   },
   "outputs": [
    {
     "data": {
      "text/plain": [
       "26749"
      ]
     },
     "execution_count": 14,
     "metadata": {},
     "output_type": "execute_result"
    }
   ],
   "source": [
    "len(public_eQTL)"
   ]
  },
  {
   "cell_type": "code",
   "execution_count": 15,
   "id": "8beedac0-fb92-4f12-a817-a8b44cb10860",
   "metadata": {
    "execution": {
     "iopub.execute_input": "2025-02-20T12:30:50.526463Z",
     "iopub.status.busy": "2025-02-20T12:30:50.526289Z",
     "iopub.status.idle": "2025-02-20T12:30:50.598415Z",
     "shell.execute_reply": "2025-02-20T12:30:50.597906Z",
     "shell.execute_reply.started": "2025-02-20T12:30:50.526446Z"
    }
   },
   "outputs": [],
   "source": [
    "# 创建一个空的DataFrame来存储比例结果\n",
    "overlap_count = pd.DataFrame(index=cis_df_all_eQTL_sig['celltype'].unique(), columns=['overlap_full','overlap_with_diff_topSNP'])\n",
    "\n",
    "df_merge = pd.DataFrame()\n",
    "\n",
    "for celltype in ['CD4_T','CD8_T','NK','Myeloid','B']:\n",
    "    use_df_A = cis_df_all_eQTL_sig[cis_df_all_eQTL_sig['celltype'] == celltype][['phenotype_id','variant_id']]\n",
    "    series_A = pd.Series(use_df_A['variant_id'].values, index=use_df_A['phenotype_id'].values)\n",
    "    use_df_B =public_eQTL[public_eQTL['celltype_map'] == celltype][['Gene_name','variant_id']]\n",
    "    series_B = pd.Series(use_df_B['variant_id'].values, index=use_df_B['Gene_name'].values)\n",
    "    # 合并两个 Series，保留共享的索引，并设置列名\n",
    "    df = pd.concat([series_A, series_B], axis=1, join='inner').reset_index()\n",
    "    df.columns = ['phenotype','topSNP_CIMA', 'topSNP_public']\n",
    "    df['celltype'] = celltype\n",
    "    df = df[['celltype','phenotype','topSNP_CIMA', 'topSNP_public']]\n",
    "\n",
    "    # 统计合并后的行数\n",
    "    initial_row_count = len(df)\n",
    "    overlap_count.loc[celltype,'overlap_full'] = initial_row_count\n",
    "\n",
    "    # 去除 topSNP_A 等于 topSNP_B 的行\n",
    "    df_filtered = df[df['topSNP_CIMA'] != df['topSNP_public']]\n",
    "\n",
    "    # 统计去除后的行数\n",
    "    filtered_row_count = len(df_filtered)\n",
    "    overlap_count.loc[celltype,'overlap_with_diff_topSNP'] = filtered_row_count\n",
    "    df_merge = pd.concat([df_merge,df_filtered]).reset_index(drop = True)"
   ]
  },
  {
   "cell_type": "code",
   "execution_count": 16,
   "id": "cd949f16-eb1d-4e81-9d3d-cf0411c1f7cd",
   "metadata": {
    "execution": {
     "iopub.execute_input": "2025-02-20T12:30:50.599264Z",
     "iopub.status.busy": "2025-02-20T12:30:50.599087Z",
     "iopub.status.idle": "2025-02-20T12:30:50.665478Z",
     "shell.execute_reply": "2025-02-20T12:30:50.664614Z",
     "shell.execute_reply.started": "2025-02-20T12:30:50.599246Z"
    }
   },
   "outputs": [],
   "source": [
    "df_merge.to_csv(f'/CIMA/Data/public_independent/20250220_immuenexut_independent_input.csv')\n",
    "overlap_count.to_csv(f'/CIMA/Result/eQTL_L1_downstream/20250220_immuenexut_each_celltype_overlap.csv')"
   ]
  },
  {
   "cell_type": "code",
   "execution_count": 17,
   "id": "6ba2d96d-6f86-4763-95a3-0ac5a45001ee",
   "metadata": {
    "execution": {
     "iopub.execute_input": "2025-02-20T12:30:50.666259Z",
     "iopub.status.busy": "2025-02-20T12:30:50.666090Z",
     "iopub.status.idle": "2025-02-20T12:31:06.872663Z",
     "shell.execute_reply": "2025-02-20T12:31:06.871196Z",
     "shell.execute_reply.started": "2025-02-20T12:30:50.666243Z"
    }
   },
   "outputs": [],
   "source": [
    "#输出所有显著eSNP的基因分型\n",
    "genotype_df = pd.read_parquet('/CIMA/Data/413_sample_genotype.parquet')\n",
    "combined_list = list(df_merge['topSNP_CIMA']) + list(df_merge['topSNP_public'])\n",
    "genotype_df.loc[np.unique(combined_list),:].T.to_csv('/CIMA/Data/public_independent/genotype_sigeSNP_immuenexut.csv')"
   ]
  }
 ],
 "metadata": {
  "kernelspec": {
   "display_name": "scPAFA",
   "language": "python",
   "name": "scpafa"
  },
  "language_info": {
   "codemirror_mode": {
    "name": "ipython",
    "version": 3
   },
   "file_extension": ".py",
   "mimetype": "text/x-python",
   "name": "python",
   "nbconvert_exporter": "python",
   "pygments_lexer": "ipython3",
   "version": "3.10.14"
  }
 },
 "nbformat": 4,
 "nbformat_minor": 5
}
