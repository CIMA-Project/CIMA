{
 "cells": [
  {
   "cell_type": "code",
   "execution_count": 74,
   "id": "69fd585c-6a3c-4136-9755-bb9755a10bd7",
   "metadata": {
    "execution": {
     "iopub.execute_input": "2025-03-21T09:26:24.890233Z",
     "iopub.status.busy": "2025-03-21T09:26:24.889730Z",
     "iopub.status.idle": "2025-03-21T09:26:24.895974Z",
     "shell.execute_reply": "2025-03-21T09:26:24.894575Z",
     "shell.execute_reply.started": "2025-03-21T09:26:24.890192Z"
    }
   },
   "outputs": [],
   "source": [
    "import pandas as pd"
   ]
  },
  {
   "cell_type": "code",
   "execution_count": 75,
   "id": "daa8a850-78ee-4c8b-9fb5-609c7e2f7c36",
   "metadata": {
    "execution": {
     "iopub.execute_input": "2025-03-21T09:26:25.141170Z",
     "iopub.status.busy": "2025-03-21T09:26:25.140706Z",
     "iopub.status.idle": "2025-03-21T09:26:25.150628Z",
     "shell.execute_reply": "2025-03-21T09:26:25.149695Z",
     "shell.execute_reply.started": "2025-03-21T09:26:25.141142Z"
    }
   },
   "outputs": [],
   "source": [
    "L1_L4 = pd.read_csv('/CIMA/Data/L1_L4.csv')\n",
    "celltype_map_dict = dict(zip(L1_L4['celltype'],L1_L4['category']))"
   ]
  },
  {
   "cell_type": "code",
   "execution_count": 76,
   "id": "314b213a-8161-4928-8ce6-568e96d8da17",
   "metadata": {
    "execution": {
     "iopub.execute_input": "2025-03-21T09:26:25.326192Z",
     "iopub.status.busy": "2025-03-21T09:26:25.325140Z",
     "iopub.status.idle": "2025-03-21T09:26:25.363680Z",
     "shell.execute_reply": "2025-03-21T09:26:25.362787Z",
     "shell.execute_reply.started": "2025-03-21T09:26:25.326152Z"
    }
   },
   "outputs": [],
   "source": [
    "sig_eGene_B = pd.read_csv('/CIMA/Result/dynamic/pseudobulk/B/20250122_eGene_use_for_down_stream.csv',index_col= 0)"
   ]
  },
  {
   "cell_type": "code",
   "execution_count": 77,
   "id": "76ff9523-542b-4cce-bb11-809440e05e93",
   "metadata": {
    "execution": {
     "iopub.execute_input": "2025-03-21T09:26:25.492048Z",
     "iopub.status.busy": "2025-03-21T09:26:25.491062Z",
     "iopub.status.idle": "2025-03-21T09:26:25.499723Z",
     "shell.execute_reply": "2025-03-21T09:26:25.499168Z",
     "shell.execute_reply.started": "2025-03-21T09:26:25.492000Z"
    }
   },
   "outputs": [
    {
     "data": {
      "text/plain": [
       "4013"
      ]
     },
     "execution_count": 77,
     "metadata": {},
     "output_type": "execute_result"
    }
   ],
   "source": [
    "sum(sig_eGene_B['qval'] < 0.05)"
   ]
  },
  {
   "cell_type": "code",
   "execution_count": 78,
   "id": "8a2e1e86-b906-4d4a-a41c-dc92b7b35be9",
   "metadata": {
    "execution": {
     "iopub.execute_input": "2025-03-21T09:26:25.657476Z",
     "iopub.status.busy": "2025-03-21T09:26:25.657011Z",
     "iopub.status.idle": "2025-03-21T09:26:25.661958Z",
     "shell.execute_reply": "2025-03-21T09:26:25.661202Z",
     "shell.execute_reply.started": "2025-03-21T09:26:25.657432Z"
    }
   },
   "outputs": [],
   "source": [
    "#B细胞用于检测dynamic的位点一共4013个"
   ]
  },
  {
   "cell_type": "code",
   "execution_count": 79,
   "id": "a37f98f0-3958-4683-82cb-fa88ac7e818e",
   "metadata": {
    "execution": {
     "iopub.execute_input": "2025-03-21T09:26:25.814912Z",
     "iopub.status.busy": "2025-03-21T09:26:25.814533Z",
     "iopub.status.idle": "2025-03-21T09:26:25.831309Z",
     "shell.execute_reply": "2025-03-21T09:26:25.830295Z",
     "shell.execute_reply.started": "2025-03-21T09:26:25.814877Z"
    }
   },
   "outputs": [],
   "source": [
    "sig_eGene_B_dynamic = pd.read_csv('/CIMA/Result/dynamic/20250123_single_cell_dynamic_QTL_Bcell.csv',index_col=0)"
   ]
  },
  {
   "cell_type": "code",
   "execution_count": 80,
   "id": "8e309e68-87a5-4391-8727-ffdd072d3ea9",
   "metadata": {
    "execution": {
     "iopub.execute_input": "2025-03-21T09:26:25.972074Z",
     "iopub.status.busy": "2025-03-21T09:26:25.971102Z",
     "iopub.status.idle": "2025-03-21T09:26:25.976118Z",
     "shell.execute_reply": "2025-03-21T09:26:25.975250Z",
     "shell.execute_reply.started": "2025-03-21T09:26:25.972027Z"
    }
   },
   "outputs": [],
   "source": [
    "#B细胞是dynamic的位点一共1284个"
   ]
  },
  {
   "cell_type": "code",
   "execution_count": 81,
   "id": "d46111b2-546d-4bf0-9989-1fa5627c1505",
   "metadata": {
    "execution": {
     "iopub.execute_input": "2025-03-21T09:26:26.139188Z",
     "iopub.status.busy": "2025-03-21T09:26:26.138781Z",
     "iopub.status.idle": "2025-03-21T09:26:26.144068Z",
     "shell.execute_reply": "2025-03-21T09:26:26.143468Z",
     "shell.execute_reply.started": "2025-03-21T09:26:26.139159Z"
    }
   },
   "outputs": [
    {
     "data": {
      "text/plain": [
       "1266"
      ]
     },
     "execution_count": 81,
     "metadata": {},
     "output_type": "execute_result"
    }
   ],
   "source": [
    "len(sig_eGene_B_dynamic['variant_id'].unique())"
   ]
  },
  {
   "cell_type": "code",
   "execution_count": 82,
   "id": "d0a61cb0-2c30-47be-9899-e61f4ee57995",
   "metadata": {
    "execution": {
     "iopub.execute_input": "2025-03-21T09:26:26.312938Z",
     "iopub.status.busy": "2025-03-21T09:26:26.312587Z",
     "iopub.status.idle": "2025-03-21T09:26:26.818727Z",
     "shell.execute_reply": "2025-03-21T09:26:26.817992Z",
     "shell.execute_reply.started": "2025-03-21T09:26:26.312914Z"
    }
   },
   "outputs": [],
   "source": [
    "eQTL = pd.read_csv('/CIMA/Result/20250108_cis_eQTL_studywise_sig.csv',index_col=0)\n",
    "\n",
    "eQTL['L1_celltype'] = eQTL['celltype'].map(celltype_map_dict)\n",
    "\n",
    "eQTL = eQTL[eQTL['L1_celltype'] == 'B']\n",
    "\n",
    "sig_eGene_B_dynamic = sig_eGene_B_dynamic[sig_eGene_B_dynamic['variant_id'].isin(eQTL['variant_id'])]\n",
    "\n",
    "SMR_merge_result = pd.read_csv('/CIMA/Result/downstream/SMR_summary/merge_all_SMR_result.csv',index_col=0)\n",
    "\n",
    "SMR_merge_result = SMR_merge_result[SMR_merge_result['QTL'] == 'eQTL']\n",
    "\n",
    "SMR_merge_result['L1_celltype'] = SMR_merge_result['celltype'].map(celltype_map_dict)\n",
    "\n",
    "SMR_merge_result = SMR_merge_result[SMR_merge_result['L1_celltype'] == 'B']\n",
    "\n",
    "sig_eGene_B_dynamic = sig_eGene_B_dynamic[sig_eGene_B_dynamic['variant_id'].isin(SMR_merge_result['topSNP'])]\n",
    "\n",
    "sig_eGene_B_dynamic = sig_eGene_B_dynamic[['phenotype_id','variant_id','dynamic_LRT_q']]\n",
    "\n",
    "topSNP_counts = SMR_merge_result['topSNP'].value_counts()\n",
    "\n",
    "sig_eGene_B_dynamic['celltype_count_in_SMR'] = sig_eGene_B_dynamic['variant_id'].map(topSNP_counts).fillna(0).astype(int)\n",
    "\n",
    "topSNP_counts = eQTL['variant_id'].value_counts()\n",
    "\n",
    "sig_eGene_B_dynamic['celltype_count_in_lead_L4_cisQTL'] = sig_eGene_B_dynamic['variant_id'].map(topSNP_counts).fillna(0).astype(int)"
   ]
  },
  {
   "cell_type": "code",
   "execution_count": 115,
   "id": "62760d01-e887-408b-b3f9-a8c98ad80c58",
   "metadata": {
    "execution": {
     "iopub.execute_input": "2025-03-21T09:59:54.285860Z",
     "iopub.status.busy": "2025-03-21T09:59:54.284949Z",
     "iopub.status.idle": "2025-03-21T09:59:54.814985Z",
     "shell.execute_reply": "2025-03-21T09:59:54.813701Z",
     "shell.execute_reply.started": "2025-03-21T09:59:54.285822Z"
    }
   },
   "outputs": [],
   "source": [
    "sig_eGene_B_dynamic = pd.read_csv('/CIMA/Result/dynamic/20250123_single_cell_dynamic_QTL_Bcell.csv',index_col=0)\n",
    "\n",
    "sig_eGene_B_dynamic = sig_eGene_B_dynamic[['phenotype_id','variant_id','dynamic_LRT_q']]\n",
    "\n",
    "eQTL = pd.read_csv('/CIMA/Result/20250108_cis_eQTL_studywise_sig.csv',index_col=0)\n",
    "\n",
    "\n",
    "eQTL['L1_celltype'] = eQTL['celltype'].map(celltype_map_dict)\n",
    "\n",
    "eQTL = eQTL[eQTL['L1_celltype'] == 'B']\n",
    "\n",
    "sig_eGene_B_dynamic = sig_eGene_B_dynamic[sig_eGene_B_dynamic['variant_id'].isin(eQTL['variant_id'])]\n",
    "\n",
    "topSNP_counts = eQTL['variant_id'].value_counts()\n",
    "\n",
    "sig_eGene_B_dynamic['celltype_count_in_lead_L4_cisQTL'] = sig_eGene_B_dynamic['variant_id'].map(topSNP_counts).fillna(0).astype(int)\n",
    "\n",
    "sig_eGene_B_dynamic.sort_values('celltype_count_in_lead_L4_cisQTL',ascending=False).to_csv('/CIMA/Result/dynamic/20250321_B_sort.csv')"
   ]
  },
  {
   "cell_type": "code",
   "execution_count": 95,
   "id": "69f63867-1245-401d-8282-9f204c2c4bf4",
   "metadata": {
    "execution": {
     "iopub.execute_input": "2025-03-21T09:29:56.718755Z",
     "iopub.status.busy": "2025-03-21T09:29:56.718216Z",
     "iopub.status.idle": "2025-03-21T09:29:56.755823Z",
     "shell.execute_reply": "2025-03-21T09:29:56.755039Z",
     "shell.execute_reply.started": "2025-03-21T09:29:56.718706Z"
    }
   },
   "outputs": [],
   "source": [
    "sig_eGene_B = pd.read_csv('/CIMA/Result/dynamic/pseudobulk/Monocyte/20250122_eGene_use_for_down_stream.csv',index_col= 0)"
   ]
  },
  {
   "cell_type": "code",
   "execution_count": 96,
   "id": "4ebbe00f-25d9-4c5b-9a7b-d364ab8dcce5",
   "metadata": {
    "execution": {
     "iopub.execute_input": "2025-03-21T09:29:57.119814Z",
     "iopub.status.busy": "2025-03-21T09:29:57.119175Z",
     "iopub.status.idle": "2025-03-21T09:29:57.124686Z",
     "shell.execute_reply": "2025-03-21T09:29:57.124128Z",
     "shell.execute_reply.started": "2025-03-21T09:29:57.119789Z"
    }
   },
   "outputs": [
    {
     "data": {
      "text/plain": [
       "3931"
      ]
     },
     "execution_count": 96,
     "metadata": {},
     "output_type": "execute_result"
    }
   ],
   "source": [
    "sum(sig_eGene_B['qval'] < 0.05)"
   ]
  },
  {
   "cell_type": "code",
   "execution_count": 97,
   "id": "bc86c6a7-8cfa-4073-8f08-051652549d52",
   "metadata": {
    "execution": {
     "iopub.execute_input": "2025-03-21T09:29:57.532340Z",
     "iopub.status.busy": "2025-03-21T09:29:57.531850Z",
     "iopub.status.idle": "2025-03-21T09:29:57.555081Z",
     "shell.execute_reply": "2025-03-21T09:29:57.554200Z",
     "shell.execute_reply.started": "2025-03-21T09:29:57.532295Z"
    }
   },
   "outputs": [],
   "source": [
    "sig_eGene_B_dynamic = pd.read_csv('/CIMA/Result/dynamic/20250123_single_cell_dynamic_QTL_Monocyte.csv',index_col=0)"
   ]
  },
  {
   "cell_type": "code",
   "execution_count": 98,
   "id": "04ba587b-9bfc-4265-8f64-7b81716f4976",
   "metadata": {
    "execution": {
     "iopub.execute_input": "2025-03-21T09:29:57.882599Z",
     "iopub.status.busy": "2025-03-21T09:29:57.881796Z",
     "iopub.status.idle": "2025-03-21T09:29:57.888896Z",
     "shell.execute_reply": "2025-03-21T09:29:57.888247Z",
     "shell.execute_reply.started": "2025-03-21T09:29:57.882553Z"
    }
   },
   "outputs": [
    {
     "data": {
      "text/plain": [
       "1842"
      ]
     },
     "execution_count": 98,
     "metadata": {},
     "output_type": "execute_result"
    }
   ],
   "source": [
    "len(sig_eGene_B_dynamic)"
   ]
  },
  {
   "cell_type": "code",
   "execution_count": 99,
   "id": "630f7e5d-e442-4e82-83b6-285856f3fd3b",
   "metadata": {
    "execution": {
     "iopub.execute_input": "2025-03-21T09:29:58.231734Z",
     "iopub.status.busy": "2025-03-21T09:29:58.231463Z",
     "iopub.status.idle": "2025-03-21T09:29:58.237151Z",
     "shell.execute_reply": "2025-03-21T09:29:58.236552Z",
     "shell.execute_reply.started": "2025-03-21T09:29:58.231710Z"
    }
   },
   "outputs": [
    {
     "data": {
      "text/plain": [
       "1825"
      ]
     },
     "execution_count": 99,
     "metadata": {},
     "output_type": "execute_result"
    }
   ],
   "source": [
    "len(sig_eGene_B_dynamic['variant_id'].unique())"
   ]
  },
  {
   "cell_type": "code",
   "execution_count": 100,
   "id": "03c2dc8c-44d8-4049-85ae-e5d4d7ae1f3c",
   "metadata": {
    "execution": {
     "iopub.execute_input": "2025-03-21T09:29:58.584680Z",
     "iopub.status.busy": "2025-03-21T09:29:58.583732Z",
     "iopub.status.idle": "2025-03-21T09:29:58.602968Z",
     "shell.execute_reply": "2025-03-21T09:29:58.602347Z",
     "shell.execute_reply.started": "2025-03-21T09:29:58.584632Z"
    }
   },
   "outputs": [
    {
     "data": {
      "text/html": [
       "<div>\n",
       "<style scoped>\n",
       "    .dataframe tbody tr th:only-of-type {\n",
       "        vertical-align: middle;\n",
       "    }\n",
       "\n",
       "    .dataframe tbody tr th {\n",
       "        vertical-align: top;\n",
       "    }\n",
       "\n",
       "    .dataframe thead th {\n",
       "        text-align: right;\n",
       "    }\n",
       "</style>\n",
       "<table border=\"1\" class=\"dataframe\">\n",
       "  <thead>\n",
       "    <tr style=\"text-align: right;\">\n",
       "      <th></th>\n",
       "      <th>probeID</th>\n",
       "      <th>ProbeChr</th>\n",
       "      <th>Gene</th>\n",
       "      <th>Probe_bp</th>\n",
       "      <th>topSNP</th>\n",
       "      <th>topSNP_chr</th>\n",
       "      <th>topSNP_bp</th>\n",
       "      <th>A1</th>\n",
       "      <th>A2</th>\n",
       "      <th>Freq</th>\n",
       "      <th>...</th>\n",
       "      <th>b_SMR</th>\n",
       "      <th>se_SMR</th>\n",
       "      <th>p_SMR</th>\n",
       "      <th>p_HEIDI</th>\n",
       "      <th>nsnp_HEIDI</th>\n",
       "      <th>celltype</th>\n",
       "      <th>trait</th>\n",
       "      <th>lei</th>\n",
       "      <th>QTL</th>\n",
       "      <th>L1_celltype</th>\n",
       "    </tr>\n",
       "  </thead>\n",
       "  <tbody>\n",
       "    <tr>\n",
       "      <th>20</th>\n",
       "      <td>FADS2</td>\n",
       "      <td>11</td>\n",
       "      <td>FADS2</td>\n",
       "      <td>61792980</td>\n",
       "      <td>chr11_61834400</td>\n",
       "      <td>11</td>\n",
       "      <td>61834400</td>\n",
       "      <td>T</td>\n",
       "      <td>C</td>\n",
       "      <td>0.372881</td>\n",
       "      <td>...</td>\n",
       "      <td>-0.811541</td>\n",
       "      <td>0.187854</td>\n",
       "      <td>1.559804e-05</td>\n",
       "      <td>0.125162</td>\n",
       "      <td>20.0</td>\n",
       "      <td>ncMono_FCGR3A</td>\n",
       "      <td>LPC 20:4</td>\n",
       "      <td>lime</td>\n",
       "      <td>eQTL</td>\n",
       "      <td>Myeloid</td>\n",
       "    </tr>\n",
       "    <tr>\n",
       "      <th>21</th>\n",
       "      <td>FADS1</td>\n",
       "      <td>11</td>\n",
       "      <td>FADS1</td>\n",
       "      <td>61829318</td>\n",
       "      <td>chr11_61835560</td>\n",
       "      <td>11</td>\n",
       "      <td>61835560</td>\n",
       "      <td>AT</td>\n",
       "      <td>A</td>\n",
       "      <td>0.387409</td>\n",
       "      <td>...</td>\n",
       "      <td>-0.754005</td>\n",
       "      <td>0.175190</td>\n",
       "      <td>1.677980e-05</td>\n",
       "      <td>0.044458</td>\n",
       "      <td>20.0</td>\n",
       "      <td>ncMono_FCGR3A</td>\n",
       "      <td>LPC 20:4</td>\n",
       "      <td>lime</td>\n",
       "      <td>eQTL</td>\n",
       "      <td>Myeloid</td>\n",
       "    </tr>\n",
       "    <tr>\n",
       "      <th>25</th>\n",
       "      <td>KYAT3</td>\n",
       "      <td>1</td>\n",
       "      <td>KYAT3</td>\n",
       "      <td>88992953</td>\n",
       "      <td>chr1_88982295</td>\n",
       "      <td>1</td>\n",
       "      <td>88982295</td>\n",
       "      <td>A</td>\n",
       "      <td>T</td>\n",
       "      <td>0.451574</td>\n",
       "      <td>...</td>\n",
       "      <td>-1.275740</td>\n",
       "      <td>0.285469</td>\n",
       "      <td>7.861582e-06</td>\n",
       "      <td>0.697078</td>\n",
       "      <td>20.0</td>\n",
       "      <td>cDC2_CD1C</td>\n",
       "      <td>2-HYDROXY-4-(METHYLTHIO)BUTANOATE</td>\n",
       "      <td>lime</td>\n",
       "      <td>eQTL</td>\n",
       "      <td>Myeloid</td>\n",
       "    </tr>\n",
       "    <tr>\n",
       "      <th>32</th>\n",
       "      <td>KYAT3</td>\n",
       "      <td>1</td>\n",
       "      <td>KYAT3</td>\n",
       "      <td>88992953</td>\n",
       "      <td>chr1_88982295</td>\n",
       "      <td>1</td>\n",
       "      <td>88982295</td>\n",
       "      <td>A</td>\n",
       "      <td>T</td>\n",
       "      <td>0.451574</td>\n",
       "      <td>...</td>\n",
       "      <td>-1.344480</td>\n",
       "      <td>0.295799</td>\n",
       "      <td>5.487361e-06</td>\n",
       "      <td>0.707419</td>\n",
       "      <td>20.0</td>\n",
       "      <td>cDC2_CD1C</td>\n",
       "      <td>Phenylglyoxylic acid</td>\n",
       "      <td>lime</td>\n",
       "      <td>eQTL</td>\n",
       "      <td>Myeloid</td>\n",
       "    </tr>\n",
       "    <tr>\n",
       "      <th>70</th>\n",
       "      <td>SH3YL1</td>\n",
       "      <td>2</td>\n",
       "      <td>SH3YL1</td>\n",
       "      <td>266398</td>\n",
       "      <td>chr2_296361</td>\n",
       "      <td>2</td>\n",
       "      <td>296361</td>\n",
       "      <td>A</td>\n",
       "      <td>AGTGCTGACAACCAGGTGTGATACCCTCACATGTACAAGCACTGTG...</td>\n",
       "      <td>0.198547</td>\n",
       "      <td>...</td>\n",
       "      <td>0.789670</td>\n",
       "      <td>0.160681</td>\n",
       "      <td>8.899619e-07</td>\n",
       "      <td>0.232811</td>\n",
       "      <td>20.0</td>\n",
       "      <td>cMono_CD14</td>\n",
       "      <td>D-Arabinose</td>\n",
       "      <td>lime</td>\n",
       "      <td>eQTL</td>\n",
       "      <td>Myeloid</td>\n",
       "    </tr>\n",
       "    <tr>\n",
       "      <th>...</th>\n",
       "      <td>...</td>\n",
       "      <td>...</td>\n",
       "      <td>...</td>\n",
       "      <td>...</td>\n",
       "      <td>...</td>\n",
       "      <td>...</td>\n",
       "      <td>...</td>\n",
       "      <td>...</td>\n",
       "      <td>...</td>\n",
       "      <td>...</td>\n",
       "      <td>...</td>\n",
       "      <td>...</td>\n",
       "      <td>...</td>\n",
       "      <td>...</td>\n",
       "      <td>...</td>\n",
       "      <td>...</td>\n",
       "      <td>...</td>\n",
       "      <td>...</td>\n",
       "      <td>...</td>\n",
       "      <td>...</td>\n",
       "      <td>...</td>\n",
       "    </tr>\n",
       "    <tr>\n",
       "      <th>1809</th>\n",
       "      <td>S100A9</td>\n",
       "      <td>1</td>\n",
       "      <td>S100A9</td>\n",
       "      <td>153357854</td>\n",
       "      <td>chr1_153366838</td>\n",
       "      <td>1</td>\n",
       "      <td>153366838</td>\n",
       "      <td>C</td>\n",
       "      <td>A</td>\n",
       "      <td>0.113801</td>\n",
       "      <td>...</td>\n",
       "      <td>0.302928</td>\n",
       "      <td>0.065811</td>\n",
       "      <td>4.165181e-06</td>\n",
       "      <td>0.245863</td>\n",
       "      <td>14.0</td>\n",
       "      <td>cMono_IL1B</td>\n",
       "      <td>protein_S100_A12_measurement</td>\n",
       "      <td>pQTL</td>\n",
       "      <td>eQTL</td>\n",
       "      <td>Myeloid</td>\n",
       "    </tr>\n",
       "    <tr>\n",
       "      <th>1810</th>\n",
       "      <td>S100A12</td>\n",
       "      <td>1</td>\n",
       "      <td>S100A12</td>\n",
       "      <td>153375621</td>\n",
       "      <td>chr1_153366838</td>\n",
       "      <td>1</td>\n",
       "      <td>153366838</td>\n",
       "      <td>C</td>\n",
       "      <td>A</td>\n",
       "      <td>0.113801</td>\n",
       "      <td>...</td>\n",
       "      <td>0.201182</td>\n",
       "      <td>0.035291</td>\n",
       "      <td>1.193621e-08</td>\n",
       "      <td>0.226905</td>\n",
       "      <td>14.0</td>\n",
       "      <td>cMono_IL1B</td>\n",
       "      <td>protein_S100_A12_measurement</td>\n",
       "      <td>pQTL</td>\n",
       "      <td>eQTL</td>\n",
       "      <td>Myeloid</td>\n",
       "    </tr>\n",
       "    <tr>\n",
       "      <th>1835</th>\n",
       "      <td>TMEM50B</td>\n",
       "      <td>21</td>\n",
       "      <td>TMEM50B</td>\n",
       "      <td>33479974</td>\n",
       "      <td>chr21_33488442</td>\n",
       "      <td>21</td>\n",
       "      <td>33488442</td>\n",
       "      <td>C</td>\n",
       "      <td>CAATTA</td>\n",
       "      <td>0.106538</td>\n",
       "      <td>...</td>\n",
       "      <td>0.129595</td>\n",
       "      <td>0.033035</td>\n",
       "      <td>8.744487e-05</td>\n",
       "      <td>0.055873</td>\n",
       "      <td>15.0</td>\n",
       "      <td>cMono_IFI44L</td>\n",
       "      <td>interleukin_10_receptor_subunit_beta_measurement</td>\n",
       "      <td>pQTL</td>\n",
       "      <td>eQTL</td>\n",
       "      <td>Myeloid</td>\n",
       "    </tr>\n",
       "    <tr>\n",
       "      <th>1862</th>\n",
       "      <td>NAA25</td>\n",
       "      <td>12</td>\n",
       "      <td>NAA25</td>\n",
       "      <td>112108796</td>\n",
       "      <td>chr12_112115228</td>\n",
       "      <td>12</td>\n",
       "      <td>112115228</td>\n",
       "      <td>A</td>\n",
       "      <td>T</td>\n",
       "      <td>0.636804</td>\n",
       "      <td>...</td>\n",
       "      <td>-0.214720</td>\n",
       "      <td>0.041472</td>\n",
       "      <td>2.249615e-07</td>\n",
       "      <td>0.074002</td>\n",
       "      <td>20.0</td>\n",
       "      <td>cMono_CD14</td>\n",
       "      <td>level_of_interleukin_12_subunit_beta_in_blood</td>\n",
       "      <td>pQTL</td>\n",
       "      <td>eQTL</td>\n",
       "      <td>Myeloid</td>\n",
       "    </tr>\n",
       "    <tr>\n",
       "      <th>1865</th>\n",
       "      <td>HECTD4</td>\n",
       "      <td>12</td>\n",
       "      <td>HECTD4</td>\n",
       "      <td>112382439</td>\n",
       "      <td>chr12_112115228</td>\n",
       "      <td>12</td>\n",
       "      <td>112115228</td>\n",
       "      <td>A</td>\n",
       "      <td>T</td>\n",
       "      <td>0.636804</td>\n",
       "      <td>...</td>\n",
       "      <td>0.259981</td>\n",
       "      <td>0.054892</td>\n",
       "      <td>2.177300e-06</td>\n",
       "      <td>0.224317</td>\n",
       "      <td>20.0</td>\n",
       "      <td>ncMono_FCGR3A</td>\n",
       "      <td>level_of_interleukin_12_subunit_beta_in_blood</td>\n",
       "      <td>pQTL</td>\n",
       "      <td>eQTL</td>\n",
       "      <td>Myeloid</td>\n",
       "    </tr>\n",
       "  </tbody>\n",
       "</table>\n",
       "<p>158 rows × 26 columns</p>\n",
       "</div>"
      ],
      "text/plain": [
       "      probeID  ProbeChr     Gene   Probe_bp           topSNP  topSNP_chr  \\\n",
       "20      FADS2        11    FADS2   61792980   chr11_61834400          11   \n",
       "21      FADS1        11    FADS1   61829318   chr11_61835560          11   \n",
       "25      KYAT3         1    KYAT3   88992953    chr1_88982295           1   \n",
       "32      KYAT3         1    KYAT3   88992953    chr1_88982295           1   \n",
       "70     SH3YL1         2   SH3YL1     266398      chr2_296361           2   \n",
       "...       ...       ...      ...        ...              ...         ...   \n",
       "1809   S100A9         1   S100A9  153357854   chr1_153366838           1   \n",
       "1810  S100A12         1  S100A12  153375621   chr1_153366838           1   \n",
       "1835  TMEM50B        21  TMEM50B   33479974   chr21_33488442          21   \n",
       "1862    NAA25        12    NAA25  112108796  chr12_112115228          12   \n",
       "1865   HECTD4        12   HECTD4  112382439  chr12_112115228          12   \n",
       "\n",
       "      topSNP_bp  A1                                                 A2  \\\n",
       "20     61834400   T                                                  C   \n",
       "21     61835560  AT                                                  A   \n",
       "25     88982295   A                                                  T   \n",
       "32     88982295   A                                                  T   \n",
       "70       296361   A  AGTGCTGACAACCAGGTGTGATACCCTCACATGTACAAGCACTGTG...   \n",
       "...         ...  ..                                                ...   \n",
       "1809  153366838   C                                                  A   \n",
       "1810  153366838   C                                                  A   \n",
       "1835   33488442   C                                             CAATTA   \n",
       "1862  112115228   A                                                  T   \n",
       "1865  112115228   A                                                  T   \n",
       "\n",
       "          Freq  ...     b_SMR    se_SMR         p_SMR   p_HEIDI  nsnp_HEIDI  \\\n",
       "20    0.372881  ... -0.811541  0.187854  1.559804e-05  0.125162        20.0   \n",
       "21    0.387409  ... -0.754005  0.175190  1.677980e-05  0.044458        20.0   \n",
       "25    0.451574  ... -1.275740  0.285469  7.861582e-06  0.697078        20.0   \n",
       "32    0.451574  ... -1.344480  0.295799  5.487361e-06  0.707419        20.0   \n",
       "70    0.198547  ...  0.789670  0.160681  8.899619e-07  0.232811        20.0   \n",
       "...        ...  ...       ...       ...           ...       ...         ...   \n",
       "1809  0.113801  ...  0.302928  0.065811  4.165181e-06  0.245863        14.0   \n",
       "1810  0.113801  ...  0.201182  0.035291  1.193621e-08  0.226905        14.0   \n",
       "1835  0.106538  ...  0.129595  0.033035  8.744487e-05  0.055873        15.0   \n",
       "1862  0.636804  ... -0.214720  0.041472  2.249615e-07  0.074002        20.0   \n",
       "1865  0.636804  ...  0.259981  0.054892  2.177300e-06  0.224317        20.0   \n",
       "\n",
       "           celltype                                             trait   lei  \\\n",
       "20    ncMono_FCGR3A                                          LPC 20:4  lime   \n",
       "21    ncMono_FCGR3A                                          LPC 20:4  lime   \n",
       "25        cDC2_CD1C                 2-HYDROXY-4-(METHYLTHIO)BUTANOATE  lime   \n",
       "32        cDC2_CD1C                              Phenylglyoxylic acid  lime   \n",
       "70       cMono_CD14                                       D-Arabinose  lime   \n",
       "...             ...                                               ...   ...   \n",
       "1809     cMono_IL1B                      protein_S100_A12_measurement  pQTL   \n",
       "1810     cMono_IL1B                      protein_S100_A12_measurement  pQTL   \n",
       "1835   cMono_IFI44L  interleukin_10_receptor_subunit_beta_measurement  pQTL   \n",
       "1862     cMono_CD14     level_of_interleukin_12_subunit_beta_in_blood  pQTL   \n",
       "1865  ncMono_FCGR3A     level_of_interleukin_12_subunit_beta_in_blood  pQTL   \n",
       "\n",
       "       QTL  L1_celltype  \n",
       "20    eQTL      Myeloid  \n",
       "21    eQTL      Myeloid  \n",
       "25    eQTL      Myeloid  \n",
       "32    eQTL      Myeloid  \n",
       "70    eQTL      Myeloid  \n",
       "...    ...          ...  \n",
       "1809  eQTL      Myeloid  \n",
       "1810  eQTL      Myeloid  \n",
       "1835  eQTL      Myeloid  \n",
       "1862  eQTL      Myeloid  \n",
       "1865  eQTL      Myeloid  \n",
       "\n",
       "[158 rows x 26 columns]"
      ]
     },
     "execution_count": 100,
     "metadata": {},
     "output_type": "execute_result"
    }
   ],
   "source": [
    "SMR_merge_result"
   ]
  },
  {
   "cell_type": "code",
   "execution_count": 101,
   "id": "f86dc047-03fe-4630-bc02-75f652bc5938",
   "metadata": {
    "execution": {
     "iopub.execute_input": "2025-03-21T09:29:59.028325Z",
     "iopub.status.busy": "2025-03-21T09:29:59.027843Z",
     "iopub.status.idle": "2025-03-21T09:29:59.551267Z",
     "shell.execute_reply": "2025-03-21T09:29:59.550705Z",
     "shell.execute_reply.started": "2025-03-21T09:29:59.028280Z"
    }
   },
   "outputs": [],
   "source": [
    "eQTL = pd.read_csv('/CIMA/Result/20250108_cis_eQTL_studywise_sig.csv',index_col=0)\n",
    "\n",
    "eQTL['L1_celltype'] = eQTL['celltype'].map(celltype_map_dict)\n",
    "\n",
    "eQTL = eQTL[eQTL['L1_celltype'] == 'Myeloid']\n",
    "\n",
    "sig_eGene_B_dynamic = sig_eGene_B_dynamic[sig_eGene_B_dynamic['variant_id'].isin(eQTL['variant_id'])]\n",
    "\n",
    "SMR_merge_result = pd.read_csv('/CIMA/Result/downstream/SMR_summary/merge_all_SMR_result.csv',index_col=0)\n",
    "\n",
    "SMR_merge_result = SMR_merge_result[SMR_merge_result['QTL'] == 'eQTL']\n",
    "\n",
    "SMR_merge_result['L1_celltype'] = SMR_merge_result['celltype'].map(celltype_map_dict)\n",
    "\n",
    "SMR_merge_result = SMR_merge_result[SMR_merge_result['L1_celltype'] == 'Myeloid']\n",
    "\n",
    "sig_eGene_B_dynamic = sig_eGene_B_dynamic[sig_eGene_B_dynamic['variant_id'].isin(SMR_merge_result['topSNP'])]\n",
    "\n",
    "sig_eGene_B_dynamic = sig_eGene_B_dynamic[['phenotype_id','variant_id','dynamic_LRT_q']]\n",
    "\n",
    "topSNP_counts = SMR_merge_result['topSNP'].value_counts()\n",
    "\n",
    "sig_eGene_B_dynamic['celltype_count_in_SMR'] = sig_eGene_B_dynamic['variant_id'].map(topSNP_counts).fillna(0).astype(int)\n",
    "\n",
    "topSNP_counts = eQTL['variant_id'].value_counts()\n",
    "\n",
    "sig_eGene_B_dynamic['celltype_count_in_lead_L4_cisQTL'] = sig_eGene_B_dynamic['variant_id'].map(topSNP_counts).fillna(0).astype(int)"
   ]
  },
  {
   "cell_type": "code",
   "execution_count": 104,
   "id": "a2e920a4-5736-4483-a95a-3b4883231446",
   "metadata": {
    "execution": {
     "iopub.execute_input": "2025-03-21T09:30:52.271700Z",
     "iopub.status.busy": "2025-03-21T09:30:52.271209Z",
     "iopub.status.idle": "2025-03-21T09:30:52.282857Z",
     "shell.execute_reply": "2025-03-21T09:30:52.282133Z",
     "shell.execute_reply.started": "2025-03-21T09:30:52.271654Z"
    }
   },
   "outputs": [
    {
     "data": {
      "text/html": [
       "<div>\n",
       "<style scoped>\n",
       "    .dataframe tbody tr th:only-of-type {\n",
       "        vertical-align: middle;\n",
       "    }\n",
       "\n",
       "    .dataframe tbody tr th {\n",
       "        vertical-align: top;\n",
       "    }\n",
       "\n",
       "    .dataframe thead th {\n",
       "        text-align: right;\n",
       "    }\n",
       "</style>\n",
       "<table border=\"1\" class=\"dataframe\">\n",
       "  <thead>\n",
       "    <tr style=\"text-align: right;\">\n",
       "      <th></th>\n",
       "      <th>phenotype_id</th>\n",
       "      <th>variant_id</th>\n",
       "      <th>dynamic_LRT_q</th>\n",
       "      <th>celltype_count_in_SMR</th>\n",
       "      <th>celltype_count_in_lead_L4_cisQTL</th>\n",
       "    </tr>\n",
       "  </thead>\n",
       "  <tbody>\n",
       "    <tr>\n",
       "      <th>2425</th>\n",
       "      <td>NACA</td>\n",
       "      <td>chr12_56704256</td>\n",
       "      <td>3.998897e-111</td>\n",
       "      <td>1</td>\n",
       "      <td>2</td>\n",
       "    </tr>\n",
       "    <tr>\n",
       "      <th>3140</th>\n",
       "      <td>EVI2A</td>\n",
       "      <td>chr17_31347836</td>\n",
       "      <td>7.588383e-32</td>\n",
       "      <td>1</td>\n",
       "      <td>1</td>\n",
       "    </tr>\n",
       "    <tr>\n",
       "      <th>1175</th>\n",
       "      <td>PRELID1</td>\n",
       "      <td>chr5_177308186</td>\n",
       "      <td>4.503929e-13</td>\n",
       "      <td>4</td>\n",
       "      <td>4</td>\n",
       "    </tr>\n",
       "    <tr>\n",
       "      <th>1968</th>\n",
       "      <td>NRBF2</td>\n",
       "      <td>chr10_63154433</td>\n",
       "      <td>2.457253e-10</td>\n",
       "      <td>1</td>\n",
       "      <td>1</td>\n",
       "    </tr>\n",
       "    <tr>\n",
       "      <th>2420</th>\n",
       "      <td>RPS26</td>\n",
       "      <td>chr12_56007301</td>\n",
       "      <td>1.063450e-09</td>\n",
       "      <td>10</td>\n",
       "      <td>13</td>\n",
       "    </tr>\n",
       "    <tr>\n",
       "      <th>67</th>\n",
       "      <td>PADI2</td>\n",
       "      <td>chr1_17089967</td>\n",
       "      <td>1.287787e-04</td>\n",
       "      <td>1</td>\n",
       "      <td>1</td>\n",
       "    </tr>\n",
       "    <tr>\n",
       "      <th>2863</th>\n",
       "      <td>AP3S2</td>\n",
       "      <td>chr15_89825972</td>\n",
       "      <td>9.246928e-03</td>\n",
       "      <td>1</td>\n",
       "      <td>1</td>\n",
       "    </tr>\n",
       "    <tr>\n",
       "      <th>2107</th>\n",
       "      <td>STIM1</td>\n",
       "      <td>chr11_4091970</td>\n",
       "      <td>1.639335e-02</td>\n",
       "      <td>1</td>\n",
       "      <td>3</td>\n",
       "    </tr>\n",
       "  </tbody>\n",
       "</table>\n",
       "</div>"
      ],
      "text/plain": [
       "     phenotype_id      variant_id  dynamic_LRT_q  celltype_count_in_SMR  \\\n",
       "2425         NACA  chr12_56704256  3.998897e-111                      1   \n",
       "3140        EVI2A  chr17_31347836   7.588383e-32                      1   \n",
       "1175      PRELID1  chr5_177308186   4.503929e-13                      4   \n",
       "1968        NRBF2  chr10_63154433   2.457253e-10                      1   \n",
       "2420        RPS26  chr12_56007301   1.063450e-09                     10   \n",
       "67          PADI2   chr1_17089967   1.287787e-04                      1   \n",
       "2863        AP3S2  chr15_89825972   9.246928e-03                      1   \n",
       "2107        STIM1   chr11_4091970   1.639335e-02                      1   \n",
       "\n",
       "      celltype_count_in_lead_L4_cisQTL  \n",
       "2425                                 2  \n",
       "3140                                 1  \n",
       "1175                                 4  \n",
       "1968                                 1  \n",
       "2420                                13  \n",
       "67                                   1  \n",
       "2863                                 1  \n",
       "2107                                 3  "
      ]
     },
     "execution_count": 104,
     "metadata": {},
     "output_type": "execute_result"
    }
   ],
   "source": [
    "sig_eGene_B_dynamic.sort_values('dynamic_LRT_q')"
   ]
  },
  {
   "cell_type": "code",
   "execution_count": null,
   "id": "af95d895-0d8a-4918-b9f4-305c9746f276",
   "metadata": {
    "execution": {
     "iopub.execute_input": "2025-03-21T09:57:02.136466Z",
     "iopub.status.busy": "2025-03-21T09:57:02.135947Z",
     "iopub.status.idle": "2025-03-21T09:57:02.157536Z",
     "shell.execute_reply": "2025-03-21T09:57:02.156391Z",
     "shell.execute_reply.started": "2025-03-21T09:57:02.136436Z"
    }
   },
   "outputs": [],
   "source": [
    "sig_eGene_B_dynamic = pd.read_csv('/CIMA/Result/dynamic/20250123_single_cell_dynamic_QTL_Monocyte.csv',index_col=0)\n",
    "\n",
    "sig_eGene_B_dynamic = sig_eGene_B_dynamic[['phenotype_id','variant_id','dynamic_LRT_q']]\n",
    "\n",
    "eQTL = pd.read_csv('/CIMA/Result/20250108_cis_eQTL_studywise_sig.csv',index_col=0)\n",
    "\n",
    "\n",
    "eQTL['L1_celltype'] = eQTL['celltype'].map(celltype_map_dict)\n",
    "\n",
    "eQTL = eQTL[eQTL['L1_celltype'] == 'Myeloid']\n",
    "\n",
    "sig_eGene_B_dynamic = sig_eGene_B_dynamic[sig_eGene_B_dynamic['variant_id'].isin(eQTL['variant_id'])]\n",
    "\n",
    "topSNP_counts = eQTL['variant_id'].value_counts()\n",
    "\n",
    "sig_eGene_B_dynamic['celltype_count_in_lead_L4_cisQTL'] = sig_eGene_B_dynamic['variant_id'].map(topSNP_counts).fillna(0).astype(int)\n",
    "\n",
    "sig_eGene_B_dynamic.sort_values('celltype_count_in_lead_L4_cisQTL',ascending=False).to_csv('/CIMA/Result/dynamic/20250321_Mono_sort.csv')"
   ]
  },
  {
   "cell_type": "code",
   "execution_count": null,
   "id": "5e6df3cb-6d70-4f0c-8783-0cea17102f8b",
   "metadata": {},
   "outputs": [],
   "source": []
  }
 ],
 "metadata": {
  "kernelspec": {
   "display_name": "scPAFA",
   "language": "python",
   "name": "scpafa"
  },
  "language_info": {
   "codemirror_mode": {
    "name": "ipython",
    "version": 3
   },
   "file_extension": ".py",
   "mimetype": "text/x-python",
   "name": "python",
   "nbconvert_exporter": "python",
   "pygments_lexer": "ipython3",
   "version": "3.10.14"
  }
 },
 "nbformat": 4,
 "nbformat_minor": 5
}
