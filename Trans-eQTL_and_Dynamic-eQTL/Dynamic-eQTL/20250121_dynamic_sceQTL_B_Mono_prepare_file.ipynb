{
 "cells": [
  {
   "cell_type": "code",
   "execution_count": 1,
   "id": "0892088f-4926-4e4a-83c6-bdd6967aef4c",
   "metadata": {
    "execution": {
     "iopub.execute_input": "2025-01-22T15:27:03.955578Z",
     "iopub.status.busy": "2025-01-22T15:27:03.955138Z",
     "iopub.status.idle": "2025-01-22T15:27:06.666996Z",
     "shell.execute_reply": "2025-01-22T15:27:06.666386Z",
     "shell.execute_reply.started": "2025-01-22T15:27:03.955554Z"
    }
   },
   "outputs": [],
   "source": [
    "import scanpy as sc"
   ]
  },
  {
   "cell_type": "code",
   "execution_count": 2,
   "id": "417fb566-6622-45a9-8652-b3bc965d0f71",
   "metadata": {
    "execution": {
     "iopub.execute_input": "2025-01-22T15:27:06.668133Z",
     "iopub.status.busy": "2025-01-22T15:27:06.667790Z",
     "iopub.status.idle": "2025-01-22T15:27:06.670795Z",
     "shell.execute_reply": "2025-01-22T15:27:06.670324Z",
     "shell.execute_reply.started": "2025-01-22T15:27:06.668110Z"
    }
   },
   "outputs": [],
   "source": [
    "import pandas as pd"
   ]
  },
  {
   "cell_type": "code",
   "execution_count": null,
   "id": "8544feb1-8bbe-4c3f-90fe-093e9daec38f",
   "metadata": {
    "execution": {
     "iopub.execute_input": "2025-01-22T15:27:06.671650Z",
     "iopub.status.busy": "2025-01-22T15:27:06.671412Z",
     "iopub.status.idle": "2025-01-22T16:43:02.290044Z",
     "shell.execute_reply": "2025-01-22T16:43:02.288779Z",
     "shell.execute_reply.started": "2025-01-22T15:27:06.671632Z"
    }
   },
   "outputs": [],
   "source": [
    "#去除其他染色体上的基因和一些样本以及细胞类型\n",
    "adata = sc.read_h5ad('/CIMA/scRNA_Data/NatualCohort_All_Annotation_Final_reUMAP.h5ad')"
   ]
  },
  {
   "cell_type": "code",
   "execution_count": 4,
   "id": "ae7027c2-35ef-4237-bf21-725ceaaff62c",
   "metadata": {
    "execution": {
     "iopub.execute_input": "2025-01-22T16:43:02.291804Z",
     "iopub.status.busy": "2025-01-22T16:43:02.291244Z",
     "iopub.status.idle": "2025-01-22T16:43:09.468688Z",
     "shell.execute_reply": "2025-01-22T16:43:09.467894Z",
     "shell.execute_reply.started": "2025-01-22T16:43:02.291783Z"
    }
   },
   "outputs": [],
   "source": [
    "adata.X = adata.layers['counts']"
   ]
  },
  {
   "cell_type": "code",
   "execution_count": 18,
   "id": "d5808369-a2d0-4739-9677-9cb8420c4a94",
   "metadata": {
    "execution": {
     "iopub.execute_input": "2025-01-23T03:25:11.667914Z",
     "iopub.status.busy": "2025-01-23T03:25:11.667403Z",
     "iopub.status.idle": "2025-01-23T03:25:12.467282Z",
     "shell.execute_reply": "2025-01-23T03:25:12.466413Z",
     "shell.execute_reply.started": "2025-01-23T03:25:11.667879Z"
    }
   },
   "outputs": [],
   "source": [
    "adata_B_use_for_dynamic = adata[adata.obs[\"celltype_l1\"] == \"B\"]\n",
    "adata_B_use_for_dynamic = adata_B_use_for_dynamic[adata_B_use_for_dynamic.obs[\"celltype_l2\"] != 'Total_Plasma']"
   ]
  },
  {
   "cell_type": "code",
   "execution_count": 19,
   "id": "85d23730-5283-4b1f-9d69-7e2450e5d658",
   "metadata": {
    "execution": {
     "iopub.execute_input": "2025-01-23T03:25:13.255723Z",
     "iopub.status.busy": "2025-01-23T03:25:13.255185Z",
     "iopub.status.idle": "2025-01-23T03:28:08.242033Z",
     "shell.execute_reply": "2025-01-23T03:28:08.240837Z",
     "shell.execute_reply.started": "2025-01-23T03:25:13.255671Z"
    }
   },
   "outputs": [],
   "source": [
    "adata_B_use_for_dynamic.write_h5ad('/CIMA/Data/dynamic/single_cell/B_counts.h5ad')"
   ]
  },
  {
   "cell_type": "code",
   "execution_count": 20,
   "id": "b2563ea5-40e6-45c9-af39-3bdae19c873f",
   "metadata": {
    "execution": {
     "iopub.execute_input": "2025-01-23T03:29:59.660948Z",
     "iopub.status.busy": "2025-01-23T03:29:59.660333Z",
     "iopub.status.idle": "2025-01-23T03:30:00.198544Z",
     "shell.execute_reply": "2025-01-23T03:30:00.197917Z",
     "shell.execute_reply.started": "2025-01-23T03:29:59.660893Z"
    }
   },
   "outputs": [],
   "source": [
    "adata_Mono_use_for_dynamic = adata[adata.obs[\"celltype_l2\"] == \"Monocyte\"]"
   ]
  },
  {
   "cell_type": "code",
   "execution_count": 21,
   "id": "30c2cf37-19b8-40d5-af00-b3629f8f406e",
   "metadata": {
    "execution": {
     "iopub.execute_input": "2025-01-23T03:30:00.199848Z",
     "iopub.status.busy": "2025-01-23T03:30:00.199556Z",
     "iopub.status.idle": "2025-01-23T03:34:23.305019Z",
     "shell.execute_reply": "2025-01-23T03:34:23.303636Z",
     "shell.execute_reply.started": "2025-01-23T03:30:00.199827Z"
    }
   },
   "outputs": [],
   "source": [
    "adata_Mono_use_for_dynamic.write_h5ad('/CIMA/Data/dynamic/single_cell/Monocyte_counts.h5ad')"
   ]
  },
  {
   "cell_type": "code",
   "execution_count": 22,
   "id": "01c774b7-6f5f-4f8b-b145-5b1ba13b7cd8",
   "metadata": {
    "execution": {
     "iopub.execute_input": "2025-01-23T03:34:33.418256Z",
     "iopub.status.busy": "2025-01-23T03:34:33.417655Z",
     "iopub.status.idle": "2025-01-23T04:59:42.800750Z",
     "shell.execute_reply": "2025-01-23T04:59:42.799652Z",
     "shell.execute_reply.started": "2025-01-23T03:34:33.418203Z"
    }
   },
   "outputs": [
    {
     "name": "stderr",
     "output_type": "stream",
     "text": [
      "/home/huangzhuoli/mambaforge/envs/scPAFA_env/lib/python3.10/site-packages/scanpy/preprocessing/_normalization.py:206: UserWarning: Received a view of an AnnData. Making a copy.\n",
      "  view_to_actual(adata)\n",
      "/home/huangzhuoli/mambaforge/envs/scPAFA_env/lib/python3.10/site-packages/scanpy/preprocessing/_simple.py:641: UserWarning: Received a view of an AnnData. Making a copy.\n",
      "  view_to_actual(adata)\n"
     ]
    }
   ],
   "source": [
    "#获取mRNA_PC\n",
    "del adata_B_use_for_dynamic.uns\n",
    "del adata_B_use_for_dynamic.obsp\n",
    "del adata_B_use_for_dynamic.obsm\n",
    "\n",
    "sample_with_genomics = pd.read_table('../Data/413sample.txt')\n",
    "#去除没有wgs信息的样本\n",
    "adata_B_use_for_dynamic = adata_B_use_for_dynamic[adata_B_use_for_dynamic.obs['sample'].isin(sample_with_genomics['FID']),:]\n",
    "\n",
    "sc.pp.normalize_total(adata_B_use_for_dynamic, target_sum=1e4)\n",
    "\n",
    "sc.pp.log1p(adata_B_use_for_dynamic)\n",
    "\n",
    "sc.pp.highly_variable_genes(adata_B_use_for_dynamic)\n",
    "\n",
    "adata_B_use_for_dynamic = adata_B_use_for_dynamic[:, adata_B_use_for_dynamic.var.highly_variable]\n",
    "\n",
    "sc.pp.regress_out(adata_B_use_for_dynamic, [\"total_counts\", \"pct_counts_mt\"])\n",
    "\n",
    "sc.pp.scale(adata_B_use_for_dynamic, max_value=10)\n",
    "\n",
    "sc.tl.pca(adata_B_use_for_dynamic, svd_solver=\"arpack\")\n",
    "\n",
    "mRNA_pca_matrix_B = pd.DataFrame(adata_B_use_for_dynamic.obsm['X_pca'])\n",
    "\n",
    "mRNA_pca_matrix_B.index = adata_B_use_for_dynamic.obs.index\n",
    "\n",
    "mRNA_pca_matrix_B.columns =  [f\"mRNA_PC{i+1}\" for i in range(50)]\n",
    "\n",
    "mRNA_pca_matrix_B.to_csv('/CIMA/Data/dynamic/single_cell/mRNA_pc_for_B.csv')"
   ]
  },
  {
   "cell_type": "code",
   "execution_count": 23,
   "id": "629a3b08-9d4d-4c5b-b04e-6e6f044b48c4",
   "metadata": {
    "execution": {
     "iopub.execute_input": "2025-01-23T04:59:42.802459Z",
     "iopub.status.busy": "2025-01-23T04:59:42.802235Z",
     "iopub.status.idle": "2025-01-23T05:54:45.840584Z",
     "shell.execute_reply": "2025-01-23T05:54:45.839720Z",
     "shell.execute_reply.started": "2025-01-23T04:59:42.802440Z"
    }
   },
   "outputs": [
    {
     "name": "stderr",
     "output_type": "stream",
     "text": [
      "/home/huangzhuoli/mambaforge/envs/scPAFA_env/lib/python3.10/site-packages/scanpy/preprocessing/_normalization.py:206: UserWarning: Received a view of an AnnData. Making a copy.\n",
      "  view_to_actual(adata)\n",
      "/home/huangzhuoli/mambaforge/envs/scPAFA_env/lib/python3.10/site-packages/scanpy/preprocessing/_simple.py:641: UserWarning: Received a view of an AnnData. Making a copy.\n",
      "  view_to_actual(adata)\n"
     ]
    }
   ],
   "source": [
    "#获取mRNA_PC\n",
    "del adata_Mono_use_for_dynamic.uns\n",
    "del adata_Mono_use_for_dynamic.obsp\n",
    "del adata_Mono_use_for_dynamic.obsm\n",
    "\n",
    "sample_with_genomics = pd.read_table('../Data/413sample.txt')\n",
    "#去除没有wgs信息的样本\n",
    "adata_Mono_use_for_dynamic = adata_Mono_use_for_dynamic[adata_Mono_use_for_dynamic.obs['sample'].isin(sample_with_genomics['FID']),:]\n",
    "\n",
    "sc.pp.normalize_total(adata_Mono_use_for_dynamic, target_sum=1e4)\n",
    "\n",
    "sc.pp.log1p(adata_Mono_use_for_dynamic)\n",
    "\n",
    "sc.pp.highly_variable_genes(adata_Mono_use_for_dynamic)\n",
    "\n",
    "adata_Mono_use_for_dynamic = adata_Mono_use_for_dynamic[:, adata_Mono_use_for_dynamic.var.highly_variable]\n",
    "\n",
    "sc.pp.regress_out(adata_Mono_use_for_dynamic, [\"total_counts\", \"pct_counts_mt\"])\n",
    "\n",
    "sc.pp.scale(adata_Mono_use_for_dynamic, max_value=10)\n",
    "\n",
    "sc.tl.pca(adata_Mono_use_for_dynamic, svd_solver=\"arpack\")\n",
    "\n",
    "mRNA_pca_matrix_Mono = pd.DataFrame(adata_Mono_use_for_dynamic.obsm['X_pca'])\n",
    "\n",
    "mRNA_pca_matrix_Mono.index = adata_Mono_use_for_dynamic.obs.index\n",
    "\n",
    "mRNA_pca_matrix_Mono.columns =  [f\"mRNA_PC{i+1}\" for i in range(50)]\n",
    "\n",
    "mRNA_pca_matrix_Mono.to_csv('/CIMA/Data/dynamic/single_cell/mRNA_pc_for_Mono.csv')"
   ]
  },
  {
   "cell_type": "code",
   "execution_count": 33,
   "id": "96e7f181-1dd1-495a-b0ac-dad8b3291b1a",
   "metadata": {
    "execution": {
     "iopub.execute_input": "2025-01-23T07:18:25.620246Z",
     "iopub.status.busy": "2025-01-23T07:18:25.618935Z",
     "iopub.status.idle": "2025-01-23T07:18:25.624483Z",
     "shell.execute_reply": "2025-01-23T07:18:25.623651Z",
     "shell.execute_reply.started": "2025-01-23T07:18:25.620187Z"
    }
   },
   "outputs": [],
   "source": [
    "import numpy as np"
   ]
  },
  {
   "cell_type": "code",
   "execution_count": 39,
   "id": "4e425f76-cfc4-4876-bf09-862f940c2aa4",
   "metadata": {
    "execution": {
     "iopub.execute_input": "2025-01-23T07:27:22.422594Z",
     "iopub.status.busy": "2025-01-23T07:27:22.421510Z",
     "iopub.status.idle": "2025-01-23T07:27:22.458837Z",
     "shell.execute_reply": "2025-01-23T07:27:22.457905Z",
     "shell.execute_reply.started": "2025-01-23T07:27:22.422569Z"
    }
   },
   "outputs": [],
   "source": [
    "sig_eGene_B = pd.read_csv('/CIMA/Result/dynamic/pseudobulk/B/20250122_eGene_use_for_down_stream.csv',index_col=0)\n",
    "\n",
    "sig_eGene_B = sig_eGene_B['phenotype_id'].unique()\n",
    "\n",
    "sig_eGene_B = np.array([f\"B_xxx_{x}\" for x in sig_eGene_B])"
   ]
  },
  {
   "cell_type": "code",
   "execution_count": 41,
   "id": "3d205fd9-3952-4f50-a94b-4ae776432608",
   "metadata": {
    "execution": {
     "iopub.execute_input": "2025-01-23T07:36:34.075504Z",
     "iopub.status.busy": "2025-01-23T07:36:34.074869Z",
     "iopub.status.idle": "2025-01-23T07:36:34.088558Z",
     "shell.execute_reply": "2025-01-23T07:36:34.088071Z",
     "shell.execute_reply.started": "2025-01-23T07:36:34.075471Z"
    }
   },
   "outputs": [],
   "source": [
    "pd.Series(sig_eGene_B).to_csv('/CIMA/Script/B_cell_dynamic_eGene.txt',sep='\\t',index=False, header=False)"
   ]
  },
  {
   "cell_type": "code",
   "execution_count": 42,
   "id": "8343ebce-095b-4172-a917-27ea16fabfec",
   "metadata": {
    "execution": {
     "iopub.execute_input": "2025-01-23T11:57:09.654214Z",
     "iopub.status.busy": "2025-01-23T11:57:09.653581Z",
     "iopub.status.idle": "2025-01-23T11:57:09.717782Z",
     "shell.execute_reply": "2025-01-23T11:57:09.717171Z",
     "shell.execute_reply.started": "2025-01-23T11:57:09.654156Z"
    }
   },
   "outputs": [],
   "source": [
    "sig_eGene_Mono = pd.read_csv('/CIMA/Result/dynamic/pseudobulk/Monocyte/20250122_eGene_use_for_down_stream.csv',index_col=0)\n",
    "\n",
    "sig_eGene_Mono = sig_eGene_Mono['phenotype_id'].unique()\n",
    "\n",
    "sig_eGene_Mono = np.array([f\"Monocyte_xxx_{x}\" for x in sig_eGene_Mono])"
   ]
  },
  {
   "cell_type": "code",
   "execution_count": 44,
   "id": "b6fc6446-76ed-4be0-a7e1-774bc52ea8f4",
   "metadata": {
    "execution": {
     "iopub.execute_input": "2025-01-23T11:59:21.012863Z",
     "iopub.status.busy": "2025-01-23T11:59:21.012278Z",
     "iopub.status.idle": "2025-01-23T11:59:21.035425Z",
     "shell.execute_reply": "2025-01-23T11:59:21.034840Z",
     "shell.execute_reply.started": "2025-01-23T11:59:21.012810Z"
    }
   },
   "outputs": [
    {
     "data": {
      "text/plain": [
       "3931"
      ]
     },
     "execution_count": 44,
     "metadata": {},
     "output_type": "execute_result"
    }
   ],
   "source": [
    "len(sig_eGene_Mono)"
   ]
  },
  {
   "cell_type": "code",
   "execution_count": 45,
   "id": "2adda48c-b60d-40a4-aa30-af56ad3a986f",
   "metadata": {
    "execution": {
     "iopub.execute_input": "2025-01-23T12:00:19.453493Z",
     "iopub.status.busy": "2025-01-23T12:00:19.452998Z",
     "iopub.status.idle": "2025-01-23T12:00:19.477582Z",
     "shell.execute_reply": "2025-01-23T12:00:19.476594Z",
     "shell.execute_reply.started": "2025-01-23T12:00:19.453461Z"
    }
   },
   "outputs": [],
   "source": [
    "pd.Series(sig_eGene_Mono).to_csv('/CIMA/Script/Mono_cell_dynamic_eGene.txt',sep='\\t',index=False, header=False)"
   ]
  },
  {
   "cell_type": "code",
   "execution_count": null,
   "id": "a4967119-c849-44e1-82c1-9a67e999528d",
   "metadata": {},
   "outputs": [],
   "source": [
    "B_mRNA_pc = pd.read_csv('/CIMA/Data/dynamic/single_cell/mRNA_pc_for_B.csv',index_col=0)\n",
    "B_mRNA_pc = B_mRNA_pc.iloc[:,0:5]\n",
    "\n",
    "B_pseudotime = pd.read_csv('/CIMA/Science返修/scTour/B_ptime.csv',index_col = 0)\n",
    "B_pseudotime = B_pseudotime.loc[B_mRNA_pc.index,:]\n",
    "\n",
    "#取反\n",
    "B_pseudotime['ptime'] = 1- B_pseudotime['ptime'] \n",
    "\n",
    "adata_B_use_for_dynamic = sc.read_h5ad('/CIMA/Data/dynamic/single_cell/B_counts.h5ad')\n",
    "adata_B_use_for_dynamic = adata_B_use_for_dynamic[B_mRNA_pc.index]\n",
    "\n",
    "useful_obs = adata_B_use_for_dynamic.obs.loc[:,['sample','total_counts','pct_counts_mt']]\n",
    "sum(adata_B_use_for_dynamic.obs.index == useful_obs.index)\n",
    "\n",
    "merge_df = pd.concat([B_mRNA_pc,B_pseudotime,useful_obs],axis=1)\n",
    "keep_index = merge_df.index\n",
    "sample_info_new = pd.read_csv('/CIMA/Data/sample_info_new.csv')\n",
    "sum(merge_df['sample'].isin(sample_info_new['BGE_name']))\n",
    "\n",
    "merge_df = pd.merge(\n",
    "    merge_df,\n",
    "    sample_info_new,\n",
    "    left_on='sample',\n",
    "    right_on='BGE_name',\n",
    "    how='left'\n",
    ")\n",
    "merge_df.index = keep_index\n",
    "\n",
    "merge_df.to_csv('/CIMA/Data/dynamic/single_cell/B_cov_df.csv')\n",
    "\n",
    "sig_eGene = pd.read_csv('/CIMA/Result/dynamic/pseudobulk/B/20250122_eGene_use_for_down_stream.csv',index_col=0)\n",
    "adata_B_use_for_dynamic = adata_B_use_for_dynamic[:,sig_eGene['phenotype_id'].unique()]\n",
    "dense_data = adata_B_use_for_dynamic.to_df()\n",
    "dense_data['sample'] = adata_B_use_for_dynamic.obs['sample']\n",
    "genotype_df = pd.read_parquet('/CIMA/Data/413_sample_genotype.parquet')\n",
    "genotype_df = genotype_df.T\n",
    "genotype_df['sample'] = genotype_df.index\n",
    "\n",
    "for index, row in sig_eGene.iterrows():\n",
    "    phenotype = row['phenotype_id']\n",
    "    variant = row['variant_id']\n",
    "\n",
    "    df1 = dense_data[[phenotype,'sample']]\n",
    "    df2 = genotype_df[[variant,'sample']]\n",
    "\n",
    "    df3 = pd.merge(\n",
    "        df1,\n",
    "        df2,\n",
    "        on='sample',\n",
    "        how='left'\n",
    "    )\n",
    "\n",
    "    df3.index = df1.index\n",
    "    df3.columns = ['E','sample','G']\n",
    "    df3.to_csv(f'/CIMA/Data/dynamic/single_cell/B/{phenotype}.csv')"
   ]
  },
  {
   "cell_type": "code",
   "execution_count": null,
   "id": "005319d3-9709-4572-ab2f-0ae548b81816",
   "metadata": {},
   "outputs": [],
   "source": [
    "Mono_mRNA_pc = pd.read_csv('/CIMA/Data/dynamic/single_cell/mRNA_pc_for_Mono.csv',index_col=0)\n",
    "Mono_mRNA_pc = Mono_mRNA_pc.iloc[:,0:5]\n",
    "\n",
    "Mono_pseudotime = pd.read_csv('/CIMA/Science返修/scTour/Mono_ptime.csv',index_col = 0)\n",
    "Mono_pseudotime = Mono_pseudotime.loc[Mono_mRNA_pc.index,:]\n",
    "#取反\n",
    "Mono_pseudotime['ptime'] = 1-Mono_pseudotime['ptime'] \n",
    "\n",
    "adata_Mono_use_for_dynamic = sc.read_h5ad('/CIMA/Data/dynamic/single_cell/Monocyte_counts.h5ad')\n",
    "adata_Mono_use_for_dynamic = adata_Mono_use_for_dynamic[Mono_mRNA_pc.index]\n",
    "\n",
    "useful_obs = adata_Mono_use_for_dynamic.obs.loc[:,['sample','total_counts','pct_counts_mt']]\n",
    "sum(adata_Mono_use_for_dynamic.obs.index == useful_obs.index)\n",
    "\n",
    "merge_df = pd.concat([Mono_mRNA_pc,Mono_pseudotime,useful_obs],axis=1)\n",
    "keep_index = merge_df.index\n",
    "sample_info_new = pd.read_csv('/CIMA/Data/sample_info_new.csv')\n",
    "sum(merge_df['sample'].isin(sample_info_new['BGE_name']))\n",
    "\n",
    "merge_df = pd.merge(\n",
    "    merge_df,\n",
    "    sample_info_new,\n",
    "    left_on='sample',\n",
    "    right_on='BGE_name',\n",
    "    how='left'\n",
    ")\n",
    "merge_df.index = keep_index\n",
    "\n",
    "merge_df.to_csv('/CIMA/Data/dynamic/single_cell/Monocyte_cov_df.csv')\n",
    "\n",
    "sig_eGene = pd.read_csv('/CIMA/Result/dynamic/pseudobulk/Monocyte/20250122_eGene_use_for_down_stream.csv',index_col=0)\n",
    "adata_Mono_use_for_dynamic = adata_Mono_use_for_dynamic[:,sig_eGene['phenotype_id'].unique()]\n",
    "dense_data = adata_Mono_use_for_dynamic.to_df()\n",
    "dense_data['sample'] = adata_Mono_use_for_dynamic.obs['sample']\n",
    "genotype_df = pd.read_parquet('/CIMA/Data/413_sample_genotype.parquet')\n",
    "genotype_df = genotype_df.T\n",
    "genotype_df['sample'] = genotype_df.index\n",
    "\n",
    "for index, row in sig_eGene.iterrows():\n",
    "    phenotype = row['phenotype_id']\n",
    "    variant = row['variant_id']\n",
    "\n",
    "    df1 = dense_data[[phenotype,'sample']]\n",
    "    df2 = genotype_df[[variant,'sample']]\n",
    "\n",
    "    df3 = pd.merge(\n",
    "        df1,\n",
    "        df2,\n",
    "        on='sample',\n",
    "        how='left'\n",
    "    )\n",
    "\n",
    "    df3.index = df1.index\n",
    "    df3.columns = ['E','sample','G']\n",
    "    df3.to_csv(f'/CIMA/Data/dynamic/single_cell/Monocyte/{phenotype}.csv')"
   ]
  }
 ],
 "metadata": {
  "kernelspec": {
   "display_name": "scPAFA",
   "language": "python",
   "name": "scpafa"
  },
  "language_info": {
   "codemirror_mode": {
    "name": "ipython",
    "version": 3
   },
   "file_extension": ".py",
   "mimetype": "text/x-python",
   "name": "python",
   "nbconvert_exporter": "python",
   "pygments_lexer": "ipython3",
   "version": "3.10.14"
  }
 },
 "nbformat": 4,
 "nbformat_minor": 5
}
