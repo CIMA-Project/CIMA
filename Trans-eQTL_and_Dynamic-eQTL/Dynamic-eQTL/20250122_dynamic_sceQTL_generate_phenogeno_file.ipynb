{
 "cells": [
  {
   "cell_type": "code",
   "execution_count": 6,
   "id": "c13208f0-e454-40f3-8b72-0159f086e3c2",
   "metadata": {
    "execution": {
     "iopub.execute_input": "2025-01-23T06:41:43.803053Z",
     "iopub.status.busy": "2025-01-23T06:41:43.802421Z",
     "iopub.status.idle": "2025-01-23T06:41:43.810788Z",
     "shell.execute_reply": "2025-01-23T06:41:43.809258Z",
     "shell.execute_reply.started": "2025-01-23T06:41:43.803017Z"
    }
   },
   "outputs": [],
   "source": [
    "import scanpy as sc\n",
    "import pandas as pd"
   ]
  },
  {
   "cell_type": "code",
   "execution_count": null,
   "id": "1d0bb6d3-a922-4e53-a9e4-726ff9936f43",
   "metadata": {
    "execution": {
     "iopub.execute_input": "2025-01-23T04:09:01.196061Z",
     "iopub.status.busy": "2025-01-23T04:09:01.195604Z",
     "iopub.status.idle": "2025-01-23T06:18:39.987413Z",
     "shell.execute_reply": "2025-01-23T06:18:39.984781Z",
     "shell.execute_reply.started": "2025-01-23T04:09:01.196039Z"
    }
   },
   "outputs": [],
   "source": [
    "B_mRNA_pc = pd.read_csv('/CIMA/Data/dynamic/single_cell/mRNA_pc_for_B.csv',index_col=0)\n",
    "B_mRNA_pc = B_mRNA_pc.iloc[:,0:5]\n",
    "\n",
    "B_pseudotime = pd.read_csv('/CIMA/scTour/B_ptime.csv',index_col = 0)\n",
    "B_pseudotime = B_pseudotime.loc[B_mRNA_pc.index,:]\n",
    "\n",
    "#取反\n",
    "B_pseudotime['ptime'] = 1- B_pseudotime['ptime'] \n",
    "\n",
    "adata_B_use_for_dynamic = sc.read_h5ad('/CIMA/Data/dynamic/single_cell/B_counts.h5ad')\n",
    "adata_B_use_for_dynamic = adata_B_use_for_dynamic[B_mRNA_pc.index]\n",
    "\n",
    "useful_obs = adata_B_use_for_dynamic.obs.loc[:,['sample','total_counts','pct_counts_mt']]\n",
    "sum(adata_B_use_for_dynamic.obs.index == useful_obs.index)\n",
    "\n",
    "merge_df = pd.concat([B_mRNA_pc,B_pseudotime,useful_obs],axis=1)\n",
    "keep_index = merge_df.index\n",
    "sample_info_new = pd.read_csv('/CIMA/Data/sample_info_new.csv')\n",
    "sum(merge_df['sample'].isin(sample_info_new['BGE_name']))\n",
    "\n",
    "merge_df = pd.merge(\n",
    "    merge_df,\n",
    "    sample_info_new,\n",
    "    left_on='sample',\n",
    "    right_on='BGE_name',\n",
    "    how='left'\n",
    ")\n",
    "merge_df.index = keep_index\n",
    "\n",
    "merge_df.to_csv('/CIMA/Data/dynamic/single_cell/B_cov_df.csv')\n",
    "\n",
    "sig_eGene = pd.read_csv('/CIMA/Result/dynamic/pseudobulk/B/20250122_eGene_use_for_down_stream.csv',index_col=0)\n",
    "adata_B_use_for_dynamic = adata_B_use_for_dynamic[:,sig_eGene['phenotype_id'].unique()]\n",
    "dense_data = adata_B_use_for_dynamic.to_df()\n",
    "dense_data['sample'] = adata_B_use_for_dynamic.obs['sample']\n",
    "genotype_df = pd.read_parquet('/CIMA/Data/413_sample_genotype.parquet')\n",
    "genotype_df = genotype_df.T\n",
    "genotype_df['sample'] = genotype_df.index\n",
    "\n",
    "for index, row in sig_eGene.iterrows():\n",
    "    phenotype = row['phenotype_id']\n",
    "    variant = row['variant_id']\n",
    "\n",
    "    df1 = dense_data[[phenotype,'sample']]\n",
    "    df2 = genotype_df[[variant,'sample']]\n",
    "\n",
    "    df3 = pd.merge(\n",
    "        df1,\n",
    "        df2,\n",
    "        on='sample',\n",
    "        how='left'\n",
    "    )\n",
    "\n",
    "    df3.index = df1.index\n",
    "    df3.columns = ['E','sample','G']\n",
    "    df3.to_csv(f'/CIMA/Data/dynamic/single_cell/B/{phenotype}.csv')"
   ]
  },
  {
   "cell_type": "code",
   "execution_count": null,
   "id": "42387a51-2c24-4b8c-8e3e-96f8a25f35d3",
   "metadata": {},
   "outputs": [],
   "source": [
    "#处理Mono"
   ]
  },
  {
   "cell_type": "code",
   "execution_count": null,
   "id": "1b701d1a-13a7-4664-ba65-91197ae2d7bb",
   "metadata": {
    "execution": {
     "iopub.execute_input": "2025-01-23T07:27:06.927446Z",
     "iopub.status.busy": "2025-01-23T07:27:06.925984Z",
     "iopub.status.idle": "2025-01-23T11:24:39.375933Z",
     "shell.execute_reply": "2025-01-23T11:24:39.374661Z",
     "shell.execute_reply.started": "2025-01-23T07:27:06.927391Z"
    }
   },
   "outputs": [],
   "source": [
    "Mono_mRNA_pc = pd.read_csv('/CIMA/Data/dynamic/single_cell/mRNA_pc_for_Mono.csv',index_col=0)\n",
    "Mono_mRNA_pc = Mono_mRNA_pc.iloc[:,0:5]\n",
    "\n",
    "Mono_pseudotime = pd.read_csv('/CIMA/scTour/Mono_ptime.csv',index_col = 0)\n",
    "Mono_pseudotime = Mono_pseudotime.loc[Mono_mRNA_pc.index,:]\n",
    "#取反\n",
    "Mono_pseudotime['ptime'] = 1-Mono_pseudotime['ptime'] \n",
    "\n",
    "adata_Mono_use_for_dynamic = sc.read_h5ad('/CIMA/Data/dynamic/single_cell/Monocyte_counts.h5ad')\n",
    "adata_Mono_use_for_dynamic = adata_Mono_use_for_dynamic[Mono_mRNA_pc.index]\n",
    "\n",
    "useful_obs = adata_Mono_use_for_dynamic.obs.loc[:,['sample','total_counts','pct_counts_mt']]\n",
    "sum(adata_Mono_use_for_dynamic.obs.index == useful_obs.index)\n",
    "\n",
    "merge_df = pd.concat([Mono_mRNA_pc,Mono_pseudotime,useful_obs],axis=1)\n",
    "keep_index = merge_df.index\n",
    "sample_info_new = pd.read_csv('/CIMA/Data/sample_info_new.csv')\n",
    "sum(merge_df['sample'].isin(sample_info_new['BGE_name']))\n",
    "\n",
    "merge_df = pd.merge(\n",
    "    merge_df,\n",
    "    sample_info_new,\n",
    "    left_on='sample',\n",
    "    right_on='BGE_name',\n",
    "    how='left'\n",
    ")\n",
    "merge_df.index = keep_index\n",
    "\n",
    "merge_df.to_csv('/CIMA/Data/dynamic/single_cell/Monocyte_cov_df.csv')\n",
    "\n",
    "sig_eGene = pd.read_csv('/CIMA/Result/dynamic/pseudobulk/Monocyte/20250122_eGene_use_for_down_stream.csv',index_col=0)\n",
    "adata_Mono_use_for_dynamic = adata_Mono_use_for_dynamic[:,sig_eGene['phenotype_id'].unique()]\n",
    "dense_data = adata_Mono_use_for_dynamic.to_df()\n",
    "dense_data['sample'] = adata_Mono_use_for_dynamic.obs['sample']\n",
    "genotype_df = pd.read_parquet('/CIMA/Data/413_sample_genotype.parquet')\n",
    "genotype_df = genotype_df.T\n",
    "genotype_df['sample'] = genotype_df.index\n",
    "\n",
    "for index, row in sig_eGene.iterrows():\n",
    "    phenotype = row['phenotype_id']\n",
    "    variant = row['variant_id']\n",
    "\n",
    "    df1 = dense_data[[phenotype,'sample']]\n",
    "    df2 = genotype_df[[variant,'sample']]\n",
    "\n",
    "    df3 = pd.merge(\n",
    "        df1,\n",
    "        df2,\n",
    "        on='sample',\n",
    "        how='left'\n",
    "    )\n",
    "\n",
    "    df3.index = df1.index\n",
    "    df3.columns = ['E','sample','G']\n",
    "    df3.to_csv(f'/CIMA/Data/dynamic/single_cell/Monocyte/{phenotype}.csv')"
   ]
  }
 ],
 "metadata": {
  "kernelspec": {
   "display_name": "scPAFA",
   "language": "python",
   "name": "scpafa"
  },
  "language_info": {
   "codemirror_mode": {
    "name": "ipython",
    "version": 3
   },
   "file_extension": ".py",
   "mimetype": "text/x-python",
   "name": "python",
   "nbconvert_exporter": "python",
   "pygments_lexer": "ipython3",
   "version": "3.10.14"
  }
 },
 "nbformat": 4,
 "nbformat_minor": 5
}
