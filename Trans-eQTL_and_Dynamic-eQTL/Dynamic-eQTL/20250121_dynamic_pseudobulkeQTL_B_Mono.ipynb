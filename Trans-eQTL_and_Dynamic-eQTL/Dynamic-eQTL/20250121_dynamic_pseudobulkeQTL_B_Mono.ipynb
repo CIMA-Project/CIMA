{
 "cells": [
  {
   "cell_type": "code",
   "execution_count": 1,
   "id": "fa5071cd-e12d-4cfa-a686-63e02791de2e",
   "metadata": {
    "execution": {
     "iopub.execute_input": "2025-01-21T06:41:12.212618Z",
     "iopub.status.busy": "2025-01-21T06:41:12.211583Z",
     "iopub.status.idle": "2025-01-21T06:41:19.768350Z",
     "shell.execute_reply": "2025-01-21T06:41:19.766953Z",
     "shell.execute_reply.started": "2025-01-21T06:41:12.212567Z"
    }
   },
   "outputs": [],
   "source": [
    "import scanpy as sc\n",
    "import pandas as pd\n",
    "import decoupler as dc"
   ]
  },
  {
   "cell_type": "code",
   "execution_count": null,
   "id": "406bd90f-54ba-4b85-8944-77a036f521b5",
   "metadata": {
    "execution": {
     "iopub.execute_input": "2025-01-21T06:41:38.149039Z",
     "iopub.status.busy": "2025-01-21T06:41:38.147845Z",
     "iopub.status.idle": "2025-01-21T07:32:12.392616Z",
     "shell.execute_reply": "2025-01-21T07:32:12.391379Z",
     "shell.execute_reply.started": "2025-01-21T06:41:38.148991Z"
    }
   },
   "outputs": [],
   "source": [
    "#去除其他染色体上的基因和一些样本以及细胞类型\n",
    "adata = sc.read_h5ad('/CIMA/scRNA_Data/NatualCohort_All_Annotation_Final_reUMAP.h5ad')\n",
    "tss_bed = pd.read_csv('/CIMA/Make_Gene_TSS/tss.bed',sep = ' ')\n",
    "adata = adata[:,adata.var_names.isin(tss_bed['gene_id'])]\n",
    "sample_with_genomics = pd.read_table('../Data/413sample.txt')\n",
    "#去除没有wgs信息的样本\n",
    "adata = adata[adata.obs['sample'].isin(sample_with_genomics['FID']),:]"
   ]
  },
  {
   "cell_type": "code",
   "execution_count": 7,
   "id": "30010980-26c2-4f1a-b870-139933b26db9",
   "metadata": {
    "execution": {
     "iopub.execute_input": "2025-01-21T09:07:18.368945Z",
     "iopub.status.busy": "2025-01-21T09:07:18.367704Z",
     "iopub.status.idle": "2025-01-21T09:07:18.421739Z",
     "shell.execute_reply": "2025-01-21T09:07:18.420807Z",
     "shell.execute_reply.started": "2025-01-21T09:07:18.368843Z"
    }
   },
   "outputs": [
    {
     "data": {
      "text/plain": [
       "['CD8_T', 'Myeloid', 'CD4_T', 'NK&ILC', 'B', 'unconvensional_T']\n",
       "Categories (6, object): ['B', 'CD4_T', 'CD8_T', 'Myeloid', 'NK&ILC', 'unconvensional_T']"
      ]
     },
     "execution_count": 7,
     "metadata": {},
     "output_type": "execute_result"
    }
   ],
   "source": [
    "adata.obs[\"celltype_l1\"].unique()"
   ]
  },
  {
   "cell_type": "code",
   "execution_count": 66,
   "id": "1a96a9a3-6ff1-4e89-bc50-e1c28a555a26",
   "metadata": {
    "execution": {
     "iopub.execute_input": "2025-01-22T02:46:58.405426Z",
     "iopub.status.busy": "2025-01-22T02:46:58.404848Z",
     "iopub.status.idle": "2025-01-22T02:46:58.417579Z",
     "shell.execute_reply": "2025-01-22T02:46:58.416712Z",
     "shell.execute_reply.started": "2025-01-22T02:46:58.405375Z"
    }
   },
   "outputs": [],
   "source": [
    "def preprocess_RNA_data(adata_use,celltype):\n",
    "    print(f\"正在处理 {celltype}\", flush=True)\n",
    "    #算伪Bulk\n",
    "    pdata = dc.get_pseudobulk(\n",
    "        adata_use,\n",
    "        sample_col='sample',\n",
    "        groups_col=None,\n",
    "        mode='mean',\n",
    "        min_cells=10,\n",
    "        min_counts=0,\n",
    "        min_prop=0,\n",
    "        min_smpls=0)\n",
    "        \n",
    "    #生成伪bulk矩阵\n",
    "    pseudo_matrix = pd.DataFrame(pdata.X)\n",
    "    pseudo_matrix.columns = pdata.var_names\n",
    "    pseudo_matrix.index = pdata.obs.index\n",
    "\n",
    "    #只选取在90%的样本中都表达的特征\n",
    "    non_zero_ratio = (pseudo_matrix != 0).mean()\n",
    "    columns_to_keep = non_zero_ratio[non_zero_ratio >= 0.9].index\n",
    "    pseudo_matrix = pseudo_matrix[columns_to_keep]\n",
    "\n",
    "    # 计算每列的均值和标准差\n",
    "    means = pseudo_matrix.mean()\n",
    "    stds = pseudo_matrix.std()\n",
    "    # 计算变异系数\n",
    "    cv = (stds / means).abs() * 100\n",
    "    # 按变异系数从大到小排序\n",
    "    sorted_columns = cv.sort_values(ascending=False).index\n",
    "    # 选取变异系数最高的前2000列\n",
    "    top_2000_columns = sorted_columns[:min(2000,pseudo_matrix.shape[1])]\n",
    "\n",
    "    if pseudo_matrix.shape[1] > 0:\n",
    "            #normalized_pseudo_matrix = quantile_transformer.fit_transform(pseudo_matrix)\n",
    "            #normalized_pseudo_matrix = scaler.fit_transform(normalized_pseudo_matrix)\n",
    "            #normalized_pseudo_matrix = pd.DataFrame(normalized_pseudo_matrix, columns=pseudo_matrix.columns,index=pseudo_matrix.index)\n",
    "            #normalized_pseudo_matrix.to_csv(f'/CIMA/Data/eQTL/normal_dis/{celltype}.csv')\n",
    "            #normalized_pseudo_matrix[top_2000_columns].to_csv(f'/CIMA/Data/eQTL/top2000_normal_dis/{celltype}.csv')\n",
    "        pseudo_matrix.to_csv(f'/CIMA/Data/dynamic/pseudobulk/pseudobulk/{celltype}.csv')\n",
    "        pseudo_matrix[top_2000_columns].to_csv(f'/CIMA/Data/dynamic/pseudobulk/top2000_pseudobulk/{celltype}.csv')\n",
    "    print(f\"处理完成 {celltype}\", flush=True)\n"
   ]
  },
  {
   "cell_type": "code",
   "execution_count": 65,
   "id": "69a0ddc3-1135-4f2a-919f-7a9ddaf658d6",
   "metadata": {
    "execution": {
     "iopub.execute_input": "2025-01-22T02:45:37.517732Z",
     "iopub.status.busy": "2025-01-22T02:45:37.516563Z",
     "iopub.status.idle": "2025-01-22T02:46:14.232517Z",
     "shell.execute_reply": "2025-01-22T02:46:14.231870Z",
     "shell.execute_reply.started": "2025-01-22T02:45:37.517677Z"
    }
   },
   "outputs": [],
   "source": [
    "adata_B_use_for_dynamic = adata[adata.obs[\"celltype_l1\"] == \"B\"]\n",
    "adata_B_use_for_dynamic = adata_B_use_for_dynamic[adata_B_use_for_dynamic.obs[\"celltype_l2\"] != 'Total_Plasma']\n",
    "del adata_B_use_for_dynamic.layers"
   ]
  },
  {
   "cell_type": "code",
   "execution_count": 67,
   "id": "a4156a43-1383-4d98-abb1-e4660273cba9",
   "metadata": {
    "execution": {
     "iopub.execute_input": "2025-01-22T02:47:02.305705Z",
     "iopub.status.busy": "2025-01-22T02:47:02.304881Z",
     "iopub.status.idle": "2025-01-22T02:48:47.970050Z",
     "shell.execute_reply": "2025-01-22T02:48:47.969335Z",
     "shell.execute_reply.started": "2025-01-22T02:47:02.305670Z"
    }
   },
   "outputs": [
    {
     "name": "stdout",
     "output_type": "stream",
     "text": [
      "正在处理 B\n",
      "处理完成 B\n"
     ]
    }
   ],
   "source": [
    "preprocess_RNA_data(adata_use=adata_B_use_for_dynamic,celltype=\"B\")"
   ]
  },
  {
   "cell_type": "code",
   "execution_count": 64,
   "id": "d4dfa813-8acc-4dd5-8e06-bff683484535",
   "metadata": {
    "execution": {
     "iopub.execute_input": "2025-01-22T02:41:41.156595Z",
     "iopub.status.busy": "2025-01-22T02:41:41.156125Z",
     "iopub.status.idle": "2025-01-22T02:44:23.734982Z",
     "shell.execute_reply": "2025-01-22T02:44:23.733570Z",
     "shell.execute_reply.started": "2025-01-22T02:41:41.156567Z"
    }
   },
   "outputs": [],
   "source": [
    "adata_Mono_use_for_dynamic = adata[adata.obs[\"celltype_l2\"] == \"Monocyte\"]\n",
    "del adata_Mono_use_for_dynamic.layers"
   ]
  },
  {
   "cell_type": "code",
   "execution_count": 68,
   "id": "d1a46e0a-7fd6-4f65-90fa-46ac7f4882bd",
   "metadata": {
    "execution": {
     "iopub.execute_input": "2025-01-22T02:48:47.971706Z",
     "iopub.status.busy": "2025-01-22T02:48:47.971405Z",
     "iopub.status.idle": "2025-01-22T02:50:48.778539Z",
     "shell.execute_reply": "2025-01-22T02:50:48.777561Z",
     "shell.execute_reply.started": "2025-01-22T02:48:47.971684Z"
    }
   },
   "outputs": [
    {
     "name": "stdout",
     "output_type": "stream",
     "text": [
      "正在处理 Monocyte\n",
      "处理完成 Monocyte\n"
     ]
    }
   ],
   "source": [
    "preprocess_RNA_data(adata_use=adata_Mono_use_for_dynamic,celltype=\"Monocyte\")"
   ]
  },
  {
   "cell_type": "code",
   "execution_count": null,
   "id": "9e5a48c7-7b35-4301-82cf-22f2259ef4de",
   "metadata": {},
   "outputs": [],
   "source": [
    "##make_besd"
   ]
  },
  {
   "cell_type": "code",
   "execution_count": null,
   "id": "60985272-bed1-4cc4-9729-b4575d535bca",
   "metadata": {
    "execution": {
     "iopub.execute_input": "2025-01-22T03:20:29.146990Z",
     "iopub.status.busy": "2025-01-22T03:20:29.146419Z",
     "iopub.status.idle": "2025-01-22T03:20:29.324587Z",
     "shell.execute_reply": "2025-01-22T03:20:29.324007Z",
     "shell.execute_reply.started": "2025-01-22T03:20:29.146948Z"
    }
   },
   "outputs": [],
   "source": [
    "#解决R语言把“-”换成“.\"的问题\n",
    "tss = pd.read_csv('/CIMA/Make_Gene_TSS/tss.bed',sep = ' ')\n",
    "#为了和R得到的结果相符合\n",
    "tss['gene_id_map'] = tss['gene_id'].str.replace('-', '.', regex=False)\n",
    "# 创建字典，映射 gene_id_map 到 gene_id，只包含 B 数据框中出现的列\n",
    "gene_map_dict = pd.Series(tss.gene_id.values, index=tss.gene_id_map).to_dict()"
   ]
  },
  {
   "cell_type": "code",
   "execution_count": 71,
   "id": "96da3424-d5bf-40b7-af28-8205bd048a4a",
   "metadata": {
    "execution": {
     "iopub.execute_input": "2025-01-22T03:23:38.591032Z",
     "iopub.status.busy": "2025-01-22T03:23:38.590464Z",
     "iopub.status.idle": "2025-01-22T03:24:00.520126Z",
     "shell.execute_reply": "2025-01-22T03:24:00.519147Z",
     "shell.execute_reply.started": "2025-01-22T03:23:38.590978Z"
    }
   },
   "outputs": [
    {
     "name": "stdout",
     "output_type": "stream",
     "text": [
      "processing_B\n",
      "processing_Monocyte\n"
     ]
    }
   ],
   "source": [
    "for cell in ['B','Monocyte']:\n",
    "    print(f'processing_{cell}')\n",
    "    #make_bed_file_eQTL\n",
    "    ## Prepare phenotype data\n",
    "    norm_expr = pd.read_csv(f'/CIMA/Data/dynamic/pseudobulk/normal_dis/{cell}.csv', index_col=0)\n",
    "    #解决R语言列名把“-”变成'.'的问题\n",
    "    filtered_map_dict = {key: gene_map_dict[key] for key in norm_expr.columns}\n",
    "    # 使用字典重命名 B 数据框的列\n",
    "    norm_expr.rename(columns=filtered_map_dict, inplace=True)\n",
    "\n",
    "    norm_expr = norm_expr.T\n",
    "    norm_expr = norm_expr.reset_index()   # gene x sample\n",
    "\n",
    "    pheno_file =  pd.merge(tss, norm_expr, right_on='index', left_on='gene_id', how='inner')\n",
    "    pheno_file = pheno_file.drop(['index'], axis=1).rename(columns={'chr':'#chr'})\n",
    "    pheno_file['#chr'] = pheno_file['#chr'].str.replace('chr','')    # required phenotype file\n",
    "\n",
    "    if norm_expr.shape[0] != pheno_file.shape[0]:\n",
    "        raise ValueError(\"The number of rows in the two dataframes are not equal.\")\n",
    "    else:\n",
    "        pheno_file.to_csv(f'/CIMA/Data/dynamic/pseudobulk/bed_file/{cell}.bed', sep='\\t', index=False)"
   ]
  },
  {
   "cell_type": "code",
   "execution_count": 1,
   "id": "aa1ea8fb-cc3c-43ef-aecc-cc1cb0040a29",
   "metadata": {
    "execution": {
     "iopub.execute_input": "2025-01-22T07:49:22.117425Z",
     "iopub.status.busy": "2025-01-22T07:49:22.117015Z",
     "iopub.status.idle": "2025-01-22T07:49:25.701031Z",
     "shell.execute_reply": "2025-01-22T07:49:25.700462Z",
     "shell.execute_reply.started": "2025-01-22T07:49:22.117387Z"
    }
   },
   "outputs": [],
   "source": [
    "import os\n",
    "os.environ[\"R_HOME\"] = \"/home/huangzhuoli/mambaforge/envs/tensorqtl/lib/R\"\n",
    "os.environ[\"R_LIBS_USER\"] = \"/home/huangzhuoli/mambaforge/envs/tensorqtl/lib/R/library\"\n",
    "import pandas as pd\n",
    "import tensorqtl"
   ]
  },
  {
   "cell_type": "code",
   "execution_count": 80,
   "id": "f5f907d1-0104-4488-adc5-dded7fafa6c0",
   "metadata": {
    "execution": {
     "iopub.execute_input": "2025-01-22T08:18:39.793152Z",
     "iopub.status.busy": "2025-01-22T08:18:39.792722Z",
     "iopub.status.idle": "2025-01-22T08:18:40.750221Z",
     "shell.execute_reply": "2025-01-22T08:18:40.749324Z",
     "shell.execute_reply.started": "2025-01-22T08:18:39.793128Z"
    },
    "scrolled": true
   },
   "outputs": [
    {
     "name": "stdout",
     "output_type": "stream",
     "text": [
      "Computing q-values\n",
      "  * Number of phenotypes tested: 13406\n",
      "  * Correlation between Beta-approximated and empirical p-values: 0.9999\n",
      "  * Proportion of significant phenotypes (1-pi0): 0.58\n",
      "  * QTL phenotypes @ FDR 0.05: 5442\n",
      "  * min p-value threshold @ FDR 0.05: 0.0484728\n",
      "4290\n",
      "4013\n"
     ]
    }
   ],
   "source": [
    "B_cell_result = pd.read_csv('/CIMA/Result/dynamic/pseudobulk/B/all_lead_perm.csv')\n",
    "\n",
    "tensorqtl.calculate_qvalues(B_cell_result)\n",
    "\n",
    "B_cell_result = B_cell_result[B_cell_result['qval'] < 0.01]\n",
    "print(len(B_cell_result))\n",
    "sig_eQTL = pd.read_csv('/CIMA/Result/20250108_cis_eQTL_studywise_sig.csv',index_col=0)\n",
    "\n",
    "B_cell_result = B_cell_result[B_cell_result['phenotype_id'].isin(sig_eQTL['phenotype_id'])].reset_index(drop=True)\n",
    "print(len(B_cell_result))\n",
    "\n",
    "B_cell_result.to_csv('/CIMA/Result/dynamic/pseudobulk/B/20250122_eGene_use_for_down_stream.csv')"
   ]
  },
  {
   "cell_type": "code",
   "execution_count": 81,
   "id": "3b04e5ac-0f63-4dcd-b3e2-d88ffe900bfc",
   "metadata": {
    "execution": {
     "iopub.execute_input": "2025-01-22T08:18:49.436451Z",
     "iopub.status.busy": "2025-01-22T08:18:49.435977Z",
     "iopub.status.idle": "2025-01-22T08:18:50.374936Z",
     "shell.execute_reply": "2025-01-22T08:18:50.374396Z",
     "shell.execute_reply.started": "2025-01-22T08:18:49.436422Z"
    }
   },
   "outputs": [
    {
     "name": "stdout",
     "output_type": "stream",
     "text": [
      "Computing q-values\n",
      "  * Number of phenotypes tested: 12821\n",
      "  * Correlation between Beta-approximated and empirical p-values: 0.9999\n",
      "  * Proportion of significant phenotypes (1-pi0): 0.64\n",
      "  * QTL phenotypes @ FDR 0.05: 5465\n",
      "  * min p-value threshold @ FDR 0.05: 0.0586476\n",
      "4206\n",
      "3931\n"
     ]
    }
   ],
   "source": [
    "Mono_cell_result = pd.read_csv('/CIMA/Result/dynamic/pseudobulk/Monocyte/all_lead_perm.csv')\n",
    "\n",
    "tensorqtl.calculate_qvalues(Mono_cell_result)\n",
    "\n",
    "Mono_cell_result = Mono_cell_result[Mono_cell_result['qval'] < 0.01]\n",
    "print(len(Mono_cell_result))\n",
    "\n",
    "sig_eQTL = pd.read_csv('/CIMA/Result/20250108_cis_eQTL_studywise_sig.csv',index_col=0)\n",
    "\n",
    "Mono_cell_result = Mono_cell_result[Mono_cell_result['phenotype_id'].isin(sig_eQTL['phenotype_id'])].reset_index(drop=True)\n",
    "\n",
    "print(len(Mono_cell_result))\n",
    "\n",
    "Mono_cell_result.to_csv('/CIMA/Result/dynamic/pseudobulk/Monocyte/20250122_eGene_use_for_down_stream.csv')"
   ]
  },
  {
   "cell_type": "code",
   "execution_count": 82,
   "id": "219bb5de-29d9-4d69-a403-e5c026e34a3a",
   "metadata": {
    "execution": {
     "iopub.execute_input": "2025-01-22T08:27:26.271891Z",
     "iopub.status.busy": "2025-01-22T08:27:26.271141Z",
     "iopub.status.idle": "2025-01-22T08:27:26.276385Z",
     "shell.execute_reply": "2025-01-22T08:27:26.275400Z",
     "shell.execute_reply.started": "2025-01-22T08:27:26.271840Z"
    }
   },
   "outputs": [],
   "source": [
    "#make besd for SMR\n",
    "import pandas as pd\n",
    "import numpy as np\n",
    "import os"
   ]
  },
  {
   "cell_type": "code",
   "execution_count": 83,
   "id": "8e64e20c-c09f-4c87-9597-ca6ee1e49cfd",
   "metadata": {
    "execution": {
     "iopub.execute_input": "2025-01-22T08:31:17.420917Z",
     "iopub.status.busy": "2025-01-22T08:31:17.420354Z",
     "iopub.status.idle": "2025-01-22T08:31:17.427459Z",
     "shell.execute_reply": "2025-01-22T08:31:17.426132Z",
     "shell.execute_reply.started": "2025-01-22T08:31:17.420846Z"
    }
   },
   "outputs": [],
   "source": [
    "eQTL_dir = '/CIMA/Result/dynamic/pseudobulk/'\n",
    "eQTL_temp_dir = '/CIMA/Data/dynamic/for_SMR/result_for_besd/'\n",
    "eQTL_output_dir = '/CIMA/Data/dynamic/for_SMR/besd/'\n",
    "smr = '/media/scPBMC1_AnalysisDisk1/huangzhuoli/Script_HPC/software_gaoyue/SMR/smr-1.3.1-linux-x86_64/smr-1.3.1'"
   ]
  },
  {
   "cell_type": "code",
   "execution_count": 84,
   "id": "0253e31a-be0c-4470-b896-4d9d7beecde4",
   "metadata": {
    "execution": {
     "iopub.execute_input": "2025-01-22T08:31:52.653968Z",
     "iopub.status.busy": "2025-01-22T08:31:52.653334Z",
     "iopub.status.idle": "2025-01-22T08:31:52.659702Z",
     "shell.execute_reply": "2025-01-22T08:31:52.658898Z",
     "shell.execute_reply.started": "2025-01-22T08:31:52.653908Z"
    }
   },
   "outputs": [],
   "source": [
    "CT_list = ['B','Monocyte']"
   ]
  },
  {
   "cell_type": "code",
   "execution_count": null,
   "id": "b860882c-426a-4e4c-b8e2-d1a81e354b1e",
   "metadata": {
    "execution": {
     "iopub.execute_input": "2025-01-22T08:32:49.021521Z",
     "iopub.status.busy": "2025-01-22T08:32:49.020901Z",
     "iopub.status.idle": "2025-01-22T08:32:54.700225Z",
     "shell.execute_reply": "2025-01-22T08:32:54.699523Z",
     "shell.execute_reply.started": "2025-01-22T08:32:49.021463Z"
    }
   },
   "outputs": [],
   "source": [
    "#update_esi\n",
    "bim = pd.read_csv('/CIMA/genetics/qc/10.maf01.bim', header=None, sep='\\t')\n",
    "bim.columns = ['chr','variant_id','dis','pos','A1','A2']\n",
    "bed_df = pd.read_csv('/CIMA/Data/SMR/tss.strand.csv')"
   ]
  },
  {
   "cell_type": "code",
   "execution_count": 87,
   "id": "f8a1d1fa-feb9-4c1e-b44d-7cb57a72a250",
   "metadata": {
    "execution": {
     "iopub.execute_input": "2025-01-22T08:34:53.765854Z",
     "iopub.status.busy": "2025-01-22T08:34:53.765248Z",
     "iopub.status.idle": "2025-01-22T08:43:01.241173Z",
     "shell.execute_reply": "2025-01-22T08:43:01.240290Z",
     "shell.execute_reply.started": "2025-01-22T08:34:53.765794Z"
    }
   },
   "outputs": [
    {
     "name": "stdout",
     "output_type": "stream",
     "text": [
      "processing_B\n",
      "*******************************************************************\n",
      "* Summary-data-based Mendelian Randomization (SMR)\n",
      "* Version 1.3.1\n",
      "* Build at Sep 21 2022 12:13:19, by GCC 8.3\n",
      "* (C) 2015 Futao Zhang, Zhihong Zhu and Jian Yang\n",
      "* The University of Queensland\n",
      "* MIT License\n",
      "*******************************************************************\n",
      "Analysis started: 16:36:42,Wed Jan 22,2025\n",
      "\n",
      "Options:\n",
      "--eqtl-summary /CIMA/Data/dynamic/for_SMR/result_for_besd//B_eQTL_for_besd.txt\n",
      "--matrix-eqtl-format \n",
      "--make-besd \n",
      "--out /CIMA/Data/dynamic/for_SMR/besd/B\n",
      "\n",
      "Reading eQTL summary data from /CIMA/Data/dynamic/for_SMR/result_for_besd//B_eQTL_for_besd.txt ...\n",
      "14643552 rows to be included from /CIMA/Data/dynamic/for_SMR/result_for_besd//B_eQTL_for_besd.txt.\n",
      "\n",
      "Generating the .epi file...\n",
      "4013 probes have been saved in the file /CIMA/Data/dynamic/for_SMR/besd/B.epi.\n",
      "\n",
      "Generating the .esi file...\n",
      "3708514 SNPs have been saved in the file /CIMA/Data/dynamic/for_SMR/besd/B.esi.\n",
      "\n",
      "Generating the .besd file...\n",
      "Effect sizes (beta) and SE for 4013 probes and 3708514 SNPs have been saved in a binary file [/CIMA/Data/dynamic/for_SMR/besd/B.besd].\n",
      "\n",
      "Analysis completed: 16:37:44,Wed Jan 22,2025\n",
      "Computational time: 0:1:2\n",
      "updating_B\n",
      "*******************************************************************\n",
      "* Summary-data-based Mendelian Randomization (SMR)\n",
      "* Version 1.3.1\n",
      "* Build at Sep 21 2022 12:13:19, by GCC 8.3\n",
      "* (C) 2015 Futao Zhang, Zhihong Zhu and Jian Yang\n",
      "* The University of Queensland\n",
      "* MIT License\n",
      "*******************************************************************\n",
      "Analysis started: 16:38:14,Wed Jan 22,2025\n",
      "\n",
      "Options:\n",
      "--beqtl-summary /CIMA/Data/dynamic/for_SMR/besd/B\n",
      "--update-esi /CIMA/Data/dynamic/for_SMR/besd/B_update.esi\n",
      "\n",
      "Reading eQTL SNP information from [/CIMA/Data/dynamic/for_SMR/besd/B.esi].\n",
      "3708514 SNPs to be included from [/CIMA/Data/dynamic/for_SMR/besd/B.esi].\n",
      "\n",
      "Generating the .esi file...\n",
      "3708514 SNPs have been saved in the file /CIMA/Data/dynamic/for_SMR/besd/B.bak.esi.\n",
      "\n",
      "Generating the .esi file...\n",
      "3708514 SNPs have been saved in the file /CIMA/Data/dynamic/for_SMR/besd/B.esi.\n",
      "3708514 of 3708514 SNPs are updated.\n",
      "\n",
      "Analysis completed: 16:38:47,Wed Jan 22,2025\n",
      "Computational time: 0:0:33\n",
      "*******************************************************************\n",
      "* Summary-data-based Mendelian Randomization (SMR)\n",
      "* Version 1.3.1\n",
      "* Build at Sep 21 2022 12:13:19, by GCC 8.3\n",
      "* (C) 2015 Futao Zhang, Zhihong Zhu and Jian Yang\n",
      "* The University of Queensland\n",
      "* MIT License\n",
      "*******************************************************************\n",
      "Analysis started: 16:38:47,Wed Jan 22,2025\n",
      "\n",
      "Options:\n",
      "--beqtl-summary /CIMA/Data/dynamic/for_SMR/besd/B\n",
      "--update-epi /CIMA/Data/dynamic/for_SMR/besd/B_update.epi\n",
      "\n",
      "Reading eQTL probe information from [/CIMA/Data/dynamic/for_SMR/besd/B.epi].\n",
      "4013 Probes to be included from [/CIMA/Data/dynamic/for_SMR/besd/B.epi].\n",
      "\n",
      "Generating the .epi file...\n",
      "4013 probes have been saved in the file /CIMA/Data/dynamic/for_SMR/besd/B.bak.epi.\n",
      "\n",
      "Generating the .epi file...\n",
      "4013 probes have been saved in the file /CIMA/Data/dynamic/for_SMR/besd/B.epi.\n",
      "4013 of 4013 probes are updated.\n",
      "\n",
      "Analysis completed: 16:38:47,Wed Jan 22,2025\n",
      "Computational time: 0:0:0\n",
      "processing_Monocyte\n",
      "*******************************************************************\n",
      "* Summary-data-based Mendelian Randomization (SMR)\n",
      "* Version 1.3.1\n",
      "* Build at Sep 21 2022 12:13:19, by GCC 8.3\n",
      "* (C) 2015 Futao Zhang, Zhihong Zhu and Jian Yang\n",
      "* The University of Queensland\n",
      "* MIT License\n",
      "*******************************************************************\n",
      "Analysis started: 16:40:44,Wed Jan 22,2025\n",
      "\n",
      "Options:\n",
      "--eqtl-summary /CIMA/Data/dynamic/for_SMR/result_for_besd//Monocyte_eQTL_for_besd.txt\n",
      "--matrix-eqtl-format \n",
      "--make-besd \n",
      "--out /CIMA/Data/dynamic/for_SMR/besd/Monocyte\n",
      "\n",
      "Reading eQTL summary data from /CIMA/Data/dynamic/for_SMR/result_for_besd//Monocyte_eQTL_for_besd.txt ...\n",
      "14319965 rows to be included from /CIMA/Data/dynamic/for_SMR/result_for_besd//Monocyte_eQTL_for_besd.txt.\n",
      "\n",
      "Generating the .epi file...\n",
      "3931 probes have been saved in the file /CIMA/Data/dynamic/for_SMR/besd/Monocyte.epi.\n",
      "\n",
      "Generating the .esi file...\n",
      "3704251 SNPs have been saved in the file /CIMA/Data/dynamic/for_SMR/besd/Monocyte.esi.\n",
      "\n",
      "Generating the .besd file...\n",
      "Effect sizes (beta) and SE for 3931 probes and 3704251 SNPs have been saved in a binary file [/CIMA/Data/dynamic/for_SMR/besd/Monocyte.besd].\n",
      "\n",
      "Analysis completed: 16:42:1,Wed Jan 22,2025\n",
      "Computational time: 0:1:17\n",
      "updating_Monocyte\n",
      "*******************************************************************\n",
      "* Summary-data-based Mendelian Randomization (SMR)\n",
      "* Version 1.3.1\n",
      "* Build at Sep 21 2022 12:13:19, by GCC 8.3\n",
      "* (C) 2015 Futao Zhang, Zhihong Zhu and Jian Yang\n",
      "* The University of Queensland\n",
      "* MIT License\n",
      "*******************************************************************\n",
      "Analysis started: 16:42:32,Wed Jan 22,2025\n",
      "\n",
      "Options:\n",
      "--beqtl-summary /CIMA/Data/dynamic/for_SMR/besd/Monocyte\n",
      "--update-esi /CIMA/Data/dynamic/for_SMR/besd/Monocyte_update.esi\n",
      "\n",
      "Reading eQTL SNP information from [/CIMA/Data/dynamic/for_SMR/besd/Monocyte.esi].\n",
      "3704251 SNPs to be included from [/CIMA/Data/dynamic/for_SMR/besd/Monocyte.esi].\n",
      "\n",
      "Generating the .esi file...\n",
      "3704251 SNPs have been saved in the file /CIMA/Data/dynamic/for_SMR/besd/Monocyte.bak.esi.\n",
      "\n",
      "Generating the .esi file...\n",
      "3704251 SNPs have been saved in the file /CIMA/Data/dynamic/for_SMR/besd/Monocyte.esi.\n",
      "3704251 of 3704251 SNPs are updated.\n",
      "\n",
      "Analysis completed: 16:42:59,Wed Jan 22,2025\n",
      "Computational time: 0:0:27\n",
      "*******************************************************************\n",
      "* Summary-data-based Mendelian Randomization (SMR)\n",
      "* Version 1.3.1\n",
      "* Build at Sep 21 2022 12:13:19, by GCC 8.3\n",
      "* (C) 2015 Futao Zhang, Zhihong Zhu and Jian Yang\n",
      "* The University of Queensland\n",
      "* MIT License\n",
      "*******************************************************************\n",
      "Analysis started: 16:43:1,Wed Jan 22,2025\n",
      "\n",
      "Options:\n",
      "--beqtl-summary /CIMA/Data/dynamic/for_SMR/besd/Monocyte\n",
      "--update-epi /CIMA/Data/dynamic/for_SMR/besd/Monocyte_update.epi\n",
      "\n",
      "Reading eQTL probe information from [/CIMA/Data/dynamic/for_SMR/besd/Monocyte.epi].\n",
      "3931 Probes to be included from [/CIMA/Data/dynamic/for_SMR/besd/Monocyte.epi].\n",
      "\n",
      "Generating the .epi file...\n",
      "3931 probes have been saved in the file /CIMA/Data/dynamic/for_SMR/besd/Monocyte.bak.epi.\n",
      "\n",
      "Generating the .epi file...\n",
      "3931 probes have been saved in the file /CIMA/Data/dynamic/for_SMR/besd/Monocyte.epi.\n",
      "3931 of 3931 probes are updated.\n",
      "\n",
      "Analysis completed: 16:43:1,Wed Jan 22,2025\n",
      "Computational time: 0:0:0\n"
     ]
    }
   ],
   "source": [
    "for celltype in CT_list:\n",
    "    print('processing_'+celltype)\n",
    "    eGene = pd.read_csv(f'/CIMA/Result/dynamic/pseudobulk/{celltype}/20250122_eGene_use_for_down_stream.csv')\n",
    "    eGene = eGene['phenotype_id'].unique()\n",
    "    \n",
    "    parquet_files = [f for f in os.listdir(f'{eQTL_dir}{celltype}') if f.endswith('.parquet')]\n",
    "\n",
    "    # 初始化一个空的 DataFrame 来存储结果\n",
    "    eQTL_match = pd.DataFrame()\n",
    "\n",
    "    # 循环遍历每个.parquet文件\n",
    "    for file in parquet_files:\n",
    "        # 读取.parquet文件为 DataFrame\n",
    "        file_path = os.path.join(f'{eQTL_dir}{celltype}', file)\n",
    "        eQTL_result = pd.read_parquet(file_path)    \n",
    "        # 过滤数据并合并\n",
    "        eQTL_result_match = eQTL_result[eQTL_result['phenotype_id'].isin(eGene)]\n",
    "        eQTL_match = pd.concat([eQTL_match, eQTL_result_match])\n",
    "    \n",
    "    #make besd\n",
    "    eQTL_match_besd = eQTL_match.loc[:,['variant_id','phenotype_id','slope','slope','pval_nominal','pval_nominal']]\n",
    "    eQTL_match_besd.columns = ['SNP','gene','beta','t-stat','p-value','FDR']\n",
    "    eQTL_match_besd ['t-stat'] = 'NA'\n",
    "    eQTL_match_besd ['FDR'] = 'NA'\n",
    "    eQTL_match_besd.to_csv(f'{eQTL_temp_dir}/{celltype}_eQTL_for_besd.txt', index=False, sep='\\t')\n",
    "\n",
    "    #linux command\n",
    "    eqtl = f'{eQTL_temp_dir}/{celltype}_eQTL_for_besd.txt'\n",
    "    gi = f'{smr} --eqtl-summary {eqtl} --matrix-eqtl-format --make-besd --out {eQTL_output_dir}{celltype}'\n",
    "    os.system(gi)\n",
    "    \n",
    "    print('updating_'+celltype)\n",
    "    esi = pd.read_csv(f'{eQTL_output_dir}{celltype}.esi', sep='\\t', header=None)\n",
    "    esi.columns = ['chr','variant_id','dis','pos','A1','A2','af']\n",
    "    esi = esi[['variant_id']]\n",
    "    esi = pd.merge(esi, bim.loc[:,['chr','variant_id','dis','pos','A1','A2']], left_on='variant_id', right_on='variant_id')\n",
    "\n",
    "    af_df = eQTL_match.loc[:,['variant_id','af']]\n",
    "    af_df_dup = af_df.duplicated(subset='variant_id', keep='first')\n",
    "    af_df = af_df.loc[~af_df_dup]\n",
    "\n",
    "    esi = pd.merge(esi, af_df, left_on='variant_id', right_on='variant_id')\n",
    "    esi = esi.loc[:,['chr','variant_id','dis','pos','A1','A2','af']]\n",
    "    esi.to_csv(f'{eQTL_output_dir}{celltype}_update.esi', sep='\\t', header=None, index=False)\n",
    "\n",
    "    #linux command\n",
    "    gi = f'{smr} --beqtl-summary {eQTL_output_dir}{celltype} --update-esi {eQTL_output_dir}{celltype}_update.esi'\n",
    "    os.system(gi)\n",
    "\n",
    "    #updata_epi\n",
    "    epi = pd.read_csv(f'{eQTL_output_dir}{celltype}.epi', sep='\\t', header=None)\n",
    "    epi.columns = ['chr','prob','dis','pos','gene_id','strand']\n",
    "    epi = epi[['prob']]\n",
    "    epi = pd.merge(epi, bed_df, left_on='prob',right_on='prob')\n",
    "    epi.loc[:,'dis'] = 0\n",
    "    epi = epi.loc[:,['chr','prob','dis','pos','gene_id','strand']]\n",
    "    epi.to_csv(f'{eQTL_output_dir}{celltype}_update.epi', index=False, header=None, sep='\\t')\n",
    "\n",
    "    #linux command\n",
    "    gi = f'{smr} --beqtl-summary {eQTL_output_dir}{celltype} --update-epi {eQTL_output_dir}{celltype}_update.epi'\n",
    "    os.system(gi)"
   ]
  }
 ],
 "metadata": {
  "kernelspec": {
   "display_name": "tensorqtl",
   "language": "python",
   "name": "tensorqtl"
  },
  "language_info": {
   "codemirror_mode": {
    "name": "ipython",
    "version": 3
   },
   "file_extension": ".py",
   "mimetype": "text/x-python",
   "name": "python",
   "nbconvert_exporter": "python",
   "pygments_lexer": "ipython3",
   "version": "3.10.16"
  }
 },
 "nbformat": 4,
 "nbformat_minor": 5
}
