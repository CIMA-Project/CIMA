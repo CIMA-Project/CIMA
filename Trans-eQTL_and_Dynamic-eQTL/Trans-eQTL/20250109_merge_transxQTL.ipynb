{
 "cells": [
  {
   "cell_type": "code",
   "execution_count": 1,
   "id": "da901d2a-b3d0-4154-9e35-c0e1eaba89b2",
   "metadata": {
    "execution": {
     "iopub.execute_input": "2025-01-14T11:54:35.223003Z",
     "iopub.status.busy": "2025-01-14T11:54:35.222479Z",
     "iopub.status.idle": "2025-01-14T11:54:40.904823Z",
     "shell.execute_reply": "2025-01-14T11:54:40.903901Z",
     "shell.execute_reply.started": "2025-01-14T11:54:35.222964Z"
    }
   },
   "outputs": [],
   "source": [
    "import os\n",
    "os.environ[\"R_HOME\"] = \"/home/huangzhuoli/mambaforge/envs/tensorqtl/lib/R\"\n",
    "os.environ[\"R_LIBS_USER\"] = \"/home/huangzhuoli/mambaforge/envs/tensorqtl/lib/R/library\"\n",
    "import pandas as pd\n",
    "import tensorqtl"
   ]
  },
  {
   "cell_type": "code",
   "execution_count": 2,
   "id": "03e9c151-aefc-4077-a995-c0f11af63179",
   "metadata": {
    "execution": {
     "iopub.execute_input": "2025-01-14T11:54:40.909217Z",
     "iopub.status.busy": "2025-01-14T11:54:40.908752Z",
     "iopub.status.idle": "2025-01-14T11:54:40.912584Z",
     "shell.execute_reply": "2025-01-14T11:54:40.911911Z",
     "shell.execute_reply.started": "2025-01-14T11:54:40.909184Z"
    }
   },
   "outputs": [],
   "source": [
    "from tensorqtl import rfunc"
   ]
  },
  {
   "cell_type": "code",
   "execution_count": null,
   "id": "9badbff7-01fc-4108-955e-c4ffe8c2bb91",
   "metadata": {},
   "outputs": [],
   "source": [
    "#处理eQTL"
   ]
  },
  {
   "cell_type": "code",
   "execution_count": null,
   "id": "53257ff5-74af-4186-be54-ebbfaf199eec",
   "metadata": {
    "execution": {
     "iopub.execute_input": "2025-01-10T06:47:31.917015Z",
     "iopub.status.busy": "2025-01-10T06:47:31.915987Z",
     "iopub.status.idle": "2025-01-10T06:47:31.929192Z",
     "shell.execute_reply": "2025-01-10T06:47:31.928083Z",
     "shell.execute_reply.started": "2025-01-10T06:47:31.916965Z"
    }
   },
   "outputs": [],
   "source": [
    "eqtl_celltype = pd.read_csv('/CIMA/Data/20241230_xQTL_cell_sample_number/20241230_celltype_70_scRNA.csv')\n",
    "eqtl_celltype = eqtl_celltype ['final_annotation']"
   ]
  },
  {
   "cell_type": "code",
   "execution_count": 4,
   "id": "36513c29-13c8-4da2-9f52-297d0eddee8b",
   "metadata": {
    "execution": {
     "iopub.execute_input": "2025-01-10T06:47:33.616054Z",
     "iopub.status.busy": "2025-01-10T06:47:33.615015Z",
     "iopub.status.idle": "2025-01-10T07:15:20.120056Z",
     "shell.execute_reply": "2025-01-10T07:15:20.118412Z",
     "shell.execute_reply.started": "2025-01-10T06:47:33.616007Z"
    }
   },
   "outputs": [
    {
     "name": "stdout",
     "output_type": "stream",
     "text": [
      "reading_Atypical_Bm_ITGAX\n",
      "reading_Bn_IFIT3\n",
      "reading_Bn_TCL1A\n",
      "reading_Bn_IL6\n",
      "reading_CD4_CTL_GZMH\n",
      "reading_CD4_Tcm_CXCR5\n",
      "reading_CD4_Tcm_IFI44L\n",
      "reading_CD4_Tem_CCR7neg\n",
      "reading_CD4_Tfh-like_CXCR5\n",
      "reading_CD4_Th1-like_GZMK\n",
      "reading_CD4_Th17-like_RORC\n",
      "reading_CD4_Th22-like_CCR10\n",
      "reading_CD4_Th_CCR4\n",
      "reading_CD4_Th_CR1\n",
      "reading_CD4_Th_LMNA\n",
      "reading_CD4_Th_TNFRSF11A\n",
      "reading_CD4_Tn_CCR7\n",
      "reading_CD4_Tn_CXCR5\n",
      "reading_CD4_Tn_LIMS1\n",
      "reading_CD4_Tn_SOX4\n",
      "reading_CD4_Tr1-like_IL10\n",
      "reading_CD4_Treg_FCRL3\n",
      "reading_CD4_Treg_FOXP3\n",
      "reading_CD8_CTL_GZMB\n",
      "reading_CD8_CTL_GZMK\n",
      "reading_CD8_CTL_IFI44L\n",
      "reading_CD8_Tcm_IFI44L\n",
      "reading_CD8_Tem_CCR7neg\n",
      "reading_CD8_Tn_CCR7\n",
      "reading_CD8_Tn_SOX4\n",
      "reading_Cycling_NK_MKI67\n",
      "reading_Cycling_T_MKI67\n",
      "reading_pre-T-like_CABP4\n",
      "reading_HSPC_CD34\n",
      "reading_ILC2_IL2RA\n",
      "reading_MAIT_SLC4A10\n",
      "reading_MK_GP9\n",
      "reading_NKT_NCR1\n",
      "reading_NKT_IFNG\n",
      "reading_NK_bright_XCL1\n",
      "reading_Plasma_IGHA1\n",
      "reading_Plasma_IGHG1\n",
      "reading_Plasmablast_MKI67\n",
      "reading_Switched_Bm_IGHE\n",
      "reading_Switched_activated_Bm_CD86\n",
      "reading_Switched_Bm_IGHDneg\n",
      "reading_Transitional_B_SOX4\n",
      "reading_Unswitched_Bm_CD1C\n",
      "reading_Unswitched_Bm_IL6\n",
      "reading_cDC1_BATF3\n",
      "reading_cDC2_CD1C\n",
      "reading_cDC_CSF2RA\n",
      "reading_cMono_CD14\n",
      "reading_cMono_CXCL10\n",
      "reading_cMono_IFI44L\n",
      "reading_cMono_IL1B\n",
      "reading_gdT1_TRDV1\n",
      "reading_gdT2_GZMK\n",
      "reading_gdT2_IL12RB2\n",
      "reading_gdT2_GZMH\n",
      "reading_intMono_GFRA2\n",
      "reading_Mature_NK_dim_FCGR3A\n",
      "reading_ncMono_C1QA\n",
      "reading_ncMono_FCGR3A\n",
      "reading_ncMono_IFIT1\n",
      "reading_pDC_IRF4\n",
      "reading_pre-Switched_Bm_JAM3\n",
      "reading_Terminal_NK_dim_CD160neg\n",
      "reading_Transitional_NK_GZMK\n"
     ]
    }
   ],
   "source": [
    "trans_df_all = pd.DataFrame()\n",
    "for celltype in eqtl_celltype:\n",
    "    print(f'reading_{celltype}')\n",
    "    trans_df = pd.read_parquet(f'/CIMA/Result/eQTL_trans/{celltype}.parquet')\n",
    "    trans_df_all = pd.concat([trans_df_all, trans_df], axis=0, ignore_index=True) "
   ]
  },
  {
   "cell_type": "code",
   "execution_count": 6,
   "id": "4dd918b3-4bed-4e8e-956c-05756a35ab68",
   "metadata": {
    "execution": {
     "iopub.execute_input": "2025-01-10T07:27:43.968154Z",
     "iopub.status.busy": "2025-01-10T07:27:43.967618Z",
     "iopub.status.idle": "2025-01-10T07:34:14.757478Z",
     "shell.execute_reply": "2025-01-10T07:34:14.756263Z",
     "shell.execute_reply.started": "2025-01-10T07:27:43.968103Z"
    }
   },
   "outputs": [],
   "source": [
    "trans_df_all.to_parquet('/CIMA/Result/summary/20250110_trans_eQTL_full.parquet')"
   ]
  },
  {
   "cell_type": "code",
   "execution_count": null,
   "id": "77cb0f14-381e-4f23-bd5c-0fe316cfa41b",
   "metadata": {},
   "outputs": [],
   "source": [
    "#筛选下游的结果"
   ]
  },
  {
   "cell_type": "code",
   "execution_count": null,
   "id": "51613862-a419-49de-9961-dd48e5c9a9a1",
   "metadata": {
    "execution": {
     "iopub.execute_input": "2025-01-10T10:55:46.212364Z",
     "iopub.status.busy": "2025-01-10T10:55:46.212150Z",
     "iopub.status.idle": "2025-01-10T10:58:57.631804Z",
     "shell.execute_reply": "2025-01-10T10:58:57.630357Z",
     "shell.execute_reply.started": "2025-01-10T10:55:46.212344Z"
    }
   },
   "outputs": [],
   "source": [
    "trans_df_all = pd.read_parquet('/CIMA/Result/summary/20250110_trans_eQTL_full.parquet')\n",
    "\n",
    "#去除同一条染色体上的结果\n",
    "trans_df_all = trans_df_all[trans_df_all['variant_chr'] != trans_df_all['phenotype_chr']]\n",
    "\n",
    "trans_df_all.loc[:,'pair'] = trans_df_all['variant_id'].astype(str) + '_' + trans_df_all['phenotype_id'].astype(str)"
   ]
  },
  {
   "cell_type": "code",
   "execution_count": null,
   "id": "648225da-3107-4bdf-8541-a4bd7305ad1c",
   "metadata": {
    "execution": {
     "iopub.execute_input": "2025-01-10T11:25:20.167256Z",
     "iopub.status.busy": "2025-01-10T11:25:20.166642Z",
     "iopub.status.idle": "2025-01-10T11:25:20.175929Z",
     "shell.execute_reply": "2025-01-10T11:25:20.174369Z",
     "shell.execute_reply.started": "2025-01-10T11:25:20.167206Z"
    }
   },
   "outputs": [],
   "source": [
    "#做BH\n",
    "import pandas as pd\n",
    "from statsmodels.stats.multitest import multipletests\n",
    "trans_df_all.loc[:,'padj'] = multipletests(trans_df_all['pval'], method='fdr_bh')[1]\n",
    "trans_df_all_sig = trans_df_all[trans_df_all['padj'] < 0.05].reset_index(drop = True)\n",
    "trans_df_all_sig['variant_celltype'] = trans_df_all_sig['variant_id']+\"_\"+trans_df_all_sig['celltype']"
   ]
  },
  {
   "cell_type": "code",
   "execution_count": null,
   "id": "79275d45-6cd5-46e3-a569-a4e6eda6d5fe",
   "metadata": {
    "execution": {
     "iopub.execute_input": "2025-01-10T11:31:38.752879Z",
     "iopub.status.busy": "2025-01-10T11:31:38.752284Z",
     "iopub.status.idle": "2025-01-10T11:31:38.772230Z",
     "shell.execute_reply": "2025-01-10T11:31:38.771242Z",
     "shell.execute_reply.started": "2025-01-10T11:31:38.752825Z"
    }
   },
   "outputs": [],
   "source": [
    "#合并cis-eQTL的结果\n",
    "lead_esnp_all_df =  pd.read_csv('/CIMA/Result/20250108_cis_eQTL_studywise_sig.csv',index_col=0) \n",
    "\n",
    "lead_esnp_all_df['variant_celltype'] = lead_esnp_all_df['variant_id']+\"_\"+lead_esnp_all_df['celltype']\n",
    "\n",
    "lead_snp_egene = lead_esnp_all_df.groupby('variant_celltype')['phenotype_id'].agg(';'.join).reset_index()\n",
    "\n",
    "lead_snp_egene = lead_snp_egene.rename(columns={'phenotype_id': 'cis_eGene'})\n",
    "\n",
    "trans_df_all_sig_merge = pd.merge(trans_df_all_sig, lead_snp_egene, on='variant_celltype', how='inner')\n",
    "\n",
    "trans_df_all_sig_merge['trans_eGene'] = trans_df_all_sig_merge['phenotype_id']\n",
    "\n",
    "trans_df_all_sig_merge.to_csv('/CIMA/Result/summary/20250110_trans_eQTL_fdr005.csv')"
   ]
  },
  {
   "cell_type": "code",
   "execution_count": 3,
   "id": "5f06b966-92cb-4f1c-8a8a-83a662e7e9d2",
   "metadata": {
    "execution": {
     "iopub.execute_input": "2025-01-14T11:54:55.005268Z",
     "iopub.status.busy": "2025-01-14T11:54:55.004749Z",
     "iopub.status.idle": "2025-01-14T11:54:55.008837Z",
     "shell.execute_reply": "2025-01-14T11:54:55.008073Z",
     "shell.execute_reply.started": "2025-01-14T11:54:55.005230Z"
    }
   },
   "outputs": [],
   "source": [
    "#处理caQTL"
   ]
  },
  {
   "cell_type": "code",
   "execution_count": null,
   "id": "4d136434-7339-4e11-869b-bcfba8693a24",
   "metadata": {
    "execution": {
     "iopub.execute_input": "2025-01-14T11:54:55.519799Z",
     "iopub.status.busy": "2025-01-14T11:54:55.519289Z",
     "iopub.status.idle": "2025-01-14T11:54:55.550638Z",
     "shell.execute_reply": "2025-01-14T11:54:55.549857Z",
     "shell.execute_reply.started": "2025-01-14T11:54:55.519763Z"
    }
   },
   "outputs": [],
   "source": [
    "caqtl_celltype = pd.read_csv('/CIMA/Data/20241230_xQTL_cell_sample_number/20241230_celltype_70_scATAC.csv')\n",
    "caqtl_celltype = caqtl_celltype ['final_annotation']"
   ]
  },
  {
   "cell_type": "code",
   "execution_count": 6,
   "id": "9d7eec5c-3839-4e2b-aa17-9b0e104fb77a",
   "metadata": {
    "execution": {
     "iopub.execute_input": "2025-01-13T15:22:38.354419Z",
     "iopub.status.busy": "2025-01-13T15:22:38.353949Z",
     "iopub.status.idle": "2025-01-13T15:22:38.360227Z",
     "shell.execute_reply": "2025-01-13T15:22:38.358757Z",
     "shell.execute_reply.started": "2025-01-13T15:22:38.354387Z"
    }
   },
   "outputs": [],
   "source": [
    "#trans_df_all = pd.DataFrame()\n",
    "#for celltype in caqtl_celltype:\n",
    "#    print(f'reading_{celltype}')\n",
    "#    trans_df = pd.read_parquet(f'/CIMA/Result/caQTL_trans/{celltype}.parquet')\n",
    "#    trans_df_all = pd.concat([trans_df_all, trans_df], axis=0, ignore_index=True) "
   ]
  },
  {
   "cell_type": "code",
   "execution_count": 5,
   "id": "82938275-ee86-4dd8-ace4-a143504b1ff4",
   "metadata": {
    "execution": {
     "iopub.execute_input": "2025-01-14T11:55:03.793087Z",
     "iopub.status.busy": "2025-01-14T11:55:03.792263Z",
     "iopub.status.idle": "2025-01-14T13:09:16.908646Z",
     "shell.execute_reply": "2025-01-14T13:09:16.906902Z",
     "shell.execute_reply.started": "2025-01-14T11:55:03.793049Z"
    }
   },
   "outputs": [],
   "source": [
    "# 使用列表存储所有 DataFrame\n",
    "trans_df_list = [\n",
    "    pd.read_parquet(f'/CIMA/Result/caQTL_trans/{celltype}.parquet')\n",
    "    for celltype in caqtl_celltype\n",
    "]\n",
    "\n",
    "# 一次性合并\n",
    "trans_df_all = pd.concat(trans_df_list, axis=0, ignore_index=True)"
   ]
  },
  {
   "cell_type": "code",
   "execution_count": 6,
   "id": "62edc718-4a2a-454a-a9ea-4ebbc662fa35",
   "metadata": {
    "execution": {
     "iopub.execute_input": "2025-01-14T13:09:16.910695Z",
     "iopub.status.busy": "2025-01-14T13:09:16.910456Z",
     "iopub.status.idle": "2025-01-14T13:12:02.691863Z",
     "shell.execute_reply": "2025-01-14T13:12:02.690913Z",
     "shell.execute_reply.started": "2025-01-14T13:09:16.910672Z"
    }
   },
   "outputs": [
    {
     "data": {
      "text/plain": [
       "60"
      ]
     },
     "execution_count": 6,
     "metadata": {},
     "output_type": "execute_result"
    }
   ],
   "source": [
    "del trans_df_list\n",
    "import gc\n",
    "gc.collect()"
   ]
  },
  {
   "cell_type": "code",
   "execution_count": 7,
   "id": "71726e68-99c2-447c-a7bb-b2b3167f5b39",
   "metadata": {
    "execution": {
     "iopub.execute_input": "2025-01-14T13:12:02.692919Z",
     "iopub.status.busy": "2025-01-14T13:12:02.692697Z",
     "iopub.status.idle": "2025-01-14T13:12:02.709442Z",
     "shell.execute_reply": "2025-01-14T13:12:02.708825Z",
     "shell.execute_reply.started": "2025-01-14T13:12:02.692892Z"
    }
   },
   "outputs": [
    {
     "data": {
      "text/html": [
       "<div>\n",
       "<style scoped>\n",
       "    .dataframe tbody tr th:only-of-type {\n",
       "        vertical-align: middle;\n",
       "    }\n",
       "\n",
       "    .dataframe tbody tr th {\n",
       "        vertical-align: top;\n",
       "    }\n",
       "\n",
       "    .dataframe thead th {\n",
       "        text-align: right;\n",
       "    }\n",
       "</style>\n",
       "<table border=\"1\" class=\"dataframe\">\n",
       "  <thead>\n",
       "    <tr style=\"text-align: right;\">\n",
       "      <th></th>\n",
       "      <th>variant_id</th>\n",
       "      <th>phenotype_id</th>\n",
       "      <th>pval</th>\n",
       "      <th>b</th>\n",
       "      <th>b_se</th>\n",
       "      <th>af</th>\n",
       "      <th>variant_chr</th>\n",
       "      <th>phenotype_chr</th>\n",
       "      <th>celltype</th>\n",
       "    </tr>\n",
       "  </thead>\n",
       "  <tbody>\n",
       "    <tr>\n",
       "      <th>0</th>\n",
       "      <td>chr1_893503</td>\n",
       "      <td>chr1:629700-630201</td>\n",
       "      <td>4.977980e-01</td>\n",
       "      <td>-0.071484</td>\n",
       "      <td>0.105304</td>\n",
       "      <td>0.209231</td>\n",
       "      <td>1</td>\n",
       "      <td>1</td>\n",
       "      <td>Atypical_Bm_ITGAX</td>\n",
       "    </tr>\n",
       "    <tr>\n",
       "      <th>1</th>\n",
       "      <td>chr1_893503</td>\n",
       "      <td>chr1:633771-634272</td>\n",
       "      <td>5.449140e-01</td>\n",
       "      <td>0.064975</td>\n",
       "      <td>0.107196</td>\n",
       "      <td>0.209231</td>\n",
       "      <td>1</td>\n",
       "      <td>1</td>\n",
       "      <td>Atypical_Bm_ITGAX</td>\n",
       "    </tr>\n",
       "    <tr>\n",
       "      <th>2</th>\n",
       "      <td>chr1_893503</td>\n",
       "      <td>chr1:778491-778992</td>\n",
       "      <td>1.878104e-10</td>\n",
       "      <td>0.633154</td>\n",
       "      <td>0.095762</td>\n",
       "      <td>0.209231</td>\n",
       "      <td>1</td>\n",
       "      <td>1</td>\n",
       "      <td>Atypical_Bm_ITGAX</td>\n",
       "    </tr>\n",
       "    <tr>\n",
       "      <th>3</th>\n",
       "      <td>chr1_893503</td>\n",
       "      <td>chr1:827286-827787</td>\n",
       "      <td>4.405727e-01</td>\n",
       "      <td>0.071233</td>\n",
       "      <td>0.092234</td>\n",
       "      <td>0.209231</td>\n",
       "      <td>1</td>\n",
       "      <td>1</td>\n",
       "      <td>Atypical_Bm_ITGAX</td>\n",
       "    </tr>\n",
       "    <tr>\n",
       "      <th>4</th>\n",
       "      <td>chr1_893503</td>\n",
       "      <td>chr1:865547-866048</td>\n",
       "      <td>9.218741e-02</td>\n",
       "      <td>0.151274</td>\n",
       "      <td>0.089528</td>\n",
       "      <td>0.209231</td>\n",
       "      <td>1</td>\n",
       "      <td>1</td>\n",
       "      <td>Atypical_Bm_ITGAX</td>\n",
       "    </tr>\n",
       "    <tr>\n",
       "      <th>...</th>\n",
       "      <td>...</td>\n",
       "      <td>...</td>\n",
       "      <td>...</td>\n",
       "      <td>...</td>\n",
       "      <td>...</td>\n",
       "      <td>...</td>\n",
       "      <td>...</td>\n",
       "      <td>...</td>\n",
       "      <td>...</td>\n",
       "    </tr>\n",
       "    <tr>\n",
       "      <th>7122724589</th>\n",
       "      <td>chr22_50525807</td>\n",
       "      <td>chr22:50469787-50470288</td>\n",
       "      <td>6.399828e-01</td>\n",
       "      <td>-0.051792</td>\n",
       "      <td>0.110517</td>\n",
       "      <td>0.227979</td>\n",
       "      <td>22</td>\n",
       "      <td>22</td>\n",
       "      <td>pre-Switched_Bm_JAM3</td>\n",
       "    </tr>\n",
       "    <tr>\n",
       "      <th>7122724590</th>\n",
       "      <td>chr22_50525807</td>\n",
       "      <td>chr22:50530801-50531302</td>\n",
       "      <td>1.583826e-01</td>\n",
       "      <td>-0.141391</td>\n",
       "      <td>0.099762</td>\n",
       "      <td>0.227979</td>\n",
       "      <td>22</td>\n",
       "      <td>22</td>\n",
       "      <td>pre-Switched_Bm_JAM3</td>\n",
       "    </tr>\n",
       "    <tr>\n",
       "      <th>7122724591</th>\n",
       "      <td>chr22_50525807</td>\n",
       "      <td>chr22:50539528-50540029</td>\n",
       "      <td>7.634677e-01</td>\n",
       "      <td>0.031535</td>\n",
       "      <td>0.104610</td>\n",
       "      <td>0.227979</td>\n",
       "      <td>22</td>\n",
       "      <td>22</td>\n",
       "      <td>pre-Switched_Bm_JAM3</td>\n",
       "    </tr>\n",
       "    <tr>\n",
       "      <th>7122724592</th>\n",
       "      <td>chr22_50525807</td>\n",
       "      <td>chr22:50582746-50583247</td>\n",
       "      <td>5.517996e-06</td>\n",
       "      <td>-0.487746</td>\n",
       "      <td>0.103653</td>\n",
       "      <td>0.227979</td>\n",
       "      <td>22</td>\n",
       "      <td>22</td>\n",
       "      <td>pre-Switched_Bm_JAM3</td>\n",
       "    </tr>\n",
       "    <tr>\n",
       "      <th>7122724593</th>\n",
       "      <td>chr22_50525807</td>\n",
       "      <td>chr22:50620939-50621440</td>\n",
       "      <td>1.170855e-01</td>\n",
       "      <td>-0.167273</td>\n",
       "      <td>0.106151</td>\n",
       "      <td>0.227979</td>\n",
       "      <td>22</td>\n",
       "      <td>22</td>\n",
       "      <td>pre-Switched_Bm_JAM3</td>\n",
       "    </tr>\n",
       "  </tbody>\n",
       "</table>\n",
       "<p>7122724594 rows × 9 columns</p>\n",
       "</div>"
      ],
      "text/plain": [
       "                variant_id             phenotype_id          pval         b  \\\n",
       "0              chr1_893503       chr1:629700-630201  4.977980e-01 -0.071484   \n",
       "1              chr1_893503       chr1:633771-634272  5.449140e-01  0.064975   \n",
       "2              chr1_893503       chr1:778491-778992  1.878104e-10  0.633154   \n",
       "3              chr1_893503       chr1:827286-827787  4.405727e-01  0.071233   \n",
       "4              chr1_893503       chr1:865547-866048  9.218741e-02  0.151274   \n",
       "...                    ...                      ...           ...       ...   \n",
       "7122724589  chr22_50525807  chr22:50469787-50470288  6.399828e-01 -0.051792   \n",
       "7122724590  chr22_50525807  chr22:50530801-50531302  1.583826e-01 -0.141391   \n",
       "7122724591  chr22_50525807  chr22:50539528-50540029  7.634677e-01  0.031535   \n",
       "7122724592  chr22_50525807  chr22:50582746-50583247  5.517996e-06 -0.487746   \n",
       "7122724593  chr22_50525807  chr22:50620939-50621440  1.170855e-01 -0.167273   \n",
       "\n",
       "                b_se        af variant_chr phenotype_chr              celltype  \n",
       "0           0.105304  0.209231           1             1     Atypical_Bm_ITGAX  \n",
       "1           0.107196  0.209231           1             1     Atypical_Bm_ITGAX  \n",
       "2           0.095762  0.209231           1             1     Atypical_Bm_ITGAX  \n",
       "3           0.092234  0.209231           1             1     Atypical_Bm_ITGAX  \n",
       "4           0.089528  0.209231           1             1     Atypical_Bm_ITGAX  \n",
       "...              ...       ...         ...           ...                   ...  \n",
       "7122724589  0.110517  0.227979          22            22  pre-Switched_Bm_JAM3  \n",
       "7122724590  0.099762  0.227979          22            22  pre-Switched_Bm_JAM3  \n",
       "7122724591  0.104610  0.227979          22            22  pre-Switched_Bm_JAM3  \n",
       "7122724592  0.103653  0.227979          22            22  pre-Switched_Bm_JAM3  \n",
       "7122724593  0.106151  0.227979          22            22  pre-Switched_Bm_JAM3  \n",
       "\n",
       "[7122724594 rows x 9 columns]"
      ]
     },
     "execution_count": 7,
     "metadata": {},
     "output_type": "execute_result"
    }
   ],
   "source": [
    "trans_df_all"
   ]
  },
  {
   "cell_type": "code",
   "execution_count": 8,
   "id": "ef10328a-9292-461d-b495-5083f5d38ae0",
   "metadata": {
    "execution": {
     "iopub.execute_input": "2025-01-14T13:12:02.711054Z",
     "iopub.status.busy": "2025-01-14T13:12:02.710534Z",
     "iopub.status.idle": "2025-01-14T13:17:29.548646Z",
     "shell.execute_reply": "2025-01-14T13:17:29.547793Z",
     "shell.execute_reply.started": "2025-01-14T13:12:02.711034Z"
    }
   },
   "outputs": [
    {
     "data": {
      "text/plain": [
       "celltype\n",
       "cMono_CD14                    3164646576\n",
       "CD4_Tn_CCR7                    449855420\n",
       "ncMono_FCGR3A                  442648965\n",
       "Mature_NK_dim_FCGR3A           387503160\n",
       "cDC2_CD1C                      387286437\n",
       "CD8_Tem_CCR7neg                302257824\n",
       "CD8_CTL_GZMB                   255863520\n",
       "NKT_NCR1                       253687126\n",
       "CD8_Tn_CCR7                    214078807\n",
       "MAIT_SLC4A10                   187477642\n",
       "Bn_TCL1A                       184338809\n",
       "CD4_Th1-like_GZMK              180301761\n",
       "cMono_IFI44L                   100216500\n",
       "CD4_Tfh-like_CXCR5              74770227\n",
       "intMono_GFRA2                   74636910\n",
       "gdT2_IL12RB2                    68462520\n",
       "Switched_Bm_IGHDneg             59299980\n",
       "ncMono_C1QA                     53402559\n",
       "CD4_Tem_CCR7neg                 52169440\n",
       "gdT2_GZMH                       35572583\n",
       "pDC_IRF4                        32395234\n",
       "CD4_Th17-like_RORC              26653085\n",
       "Transitional_B_SOX4             22727232\n",
       "CD4_CTL_GZMH                    20884160\n",
       "Transitional_NK_GZMK            20271993\n",
       "CD4_Treg_FOXP3                  18989316\n",
       "Unswitched_Bm_CD1C              12995655\n",
       "Switched_activated_Bm_CD86      12938640\n",
       "Atypical_Bm_ITGAX                6365400\n",
       "CD4_Tcm_IFI44L                   5859966\n",
       "Switched_Bm_IGHE                 4684680\n",
       "NK_bright_XCL1                   4071725\n",
       "pre-Switched_Bm_JAM3             1087003\n",
       "CD4_Th_LMNA                      1012150\n",
       "cMono_IL1B                        715990\n",
       "CD4_Tr1-like_IL10                 551518\n",
       "CD4_Tcm_CXCR5                     457314\n",
       "Plasma_IGHA1                      454363\n",
       "CD4_Th_TNFRSF11A                  320034\n",
       "CD4_Treg_FCRL3                    305870\n",
       "Cycling_T_MKI67                   295100\n",
       "MK_GP9                            211400\n",
       "Name: count, dtype: int64"
      ]
     },
     "execution_count": 8,
     "metadata": {},
     "output_type": "execute_result"
    }
   ],
   "source": [
    "trans_df_all['celltype'].value_counts()"
   ]
  },
  {
   "cell_type": "code",
   "execution_count": 9,
   "id": "c2c1c69b-48ce-42ba-9957-d78ec655b121",
   "metadata": {
    "execution": {
     "iopub.execute_input": "2025-01-14T13:17:29.549830Z",
     "iopub.status.busy": "2025-01-14T13:17:29.549604Z",
     "iopub.status.idle": "2025-01-14T14:49:27.102780Z",
     "shell.execute_reply": "2025-01-14T14:49:27.100845Z",
     "shell.execute_reply.started": "2025-01-14T13:17:29.549811Z"
    }
   },
   "outputs": [],
   "source": [
    "trans_df_all.to_parquet('/CIMA/CIMA_r1/test/20250110_trans_caQTL_full.parquet')"
   ]
  },
  {
   "cell_type": "code",
   "execution_count": 3,
   "id": "43842853-4fe7-491c-8f44-7fd334115727",
   "metadata": {
    "execution": {
     "iopub.execute_input": "2025-01-14T06:56:10.162220Z",
     "iopub.status.busy": "2025-01-14T06:56:10.161601Z",
     "iopub.status.idle": "2025-01-14T07:19:50.050563Z",
     "shell.execute_reply": "2025-01-14T07:19:48.032927Z",
     "shell.execute_reply.started": "2025-01-14T06:56:10.162168Z"
    }
   },
   "outputs": [],
   "source": [
    "trans_df_all = pd.read_parquet('/CIMA/CIMA_r1/test/20250110_trans_caQTL_full.parquet')"
   ]
  },
  {
   "cell_type": "code",
   "execution_count": 10,
   "id": "5f96ffd2-5ef9-42af-8633-e2a2573570c0",
   "metadata": {
    "execution": {
     "iopub.execute_input": "2025-01-14T15:22:33.653195Z",
     "iopub.status.busy": "2025-01-14T15:22:33.652495Z",
     "iopub.status.idle": "2025-01-14T17:15:03.266447Z",
     "shell.execute_reply": "2025-01-14T17:15:03.250229Z",
     "shell.execute_reply.started": "2025-01-14T15:22:33.653150Z"
    }
   },
   "outputs": [
    {
     "name": "stdout",
     "output_type": "stream",
     "text": [
      "done\n",
      "done\n"
     ]
    },
    {
     "name": "stderr",
     "output_type": "stream",
     "text": [
      "/tmp/ipykernel_2476465/3940533042.py:5: SettingWithCopyWarning: \n",
      "A value is trying to be set on a copy of a slice from a DataFrame.\n",
      "Try using .loc[row_indexer,col_indexer] = value instead\n",
      "\n",
      "See the caveats in the documentation: https://pandas.pydata.org/pandas-docs/stable/user_guide/indexing.html#returning-a-view-versus-a-copy\n",
      "  trans_df_all['pair'] = trans_df_all['variant_id'].astype(str) + '_' + trans_df_all['phenotype_id'].astype(str)\n"
     ]
    }
   ],
   "source": [
    "#去除同一条染色体上的结果\n",
    "trans_df_all = trans_df_all.query('variant_chr != phenotype_chr')\n",
    "print('done')\n",
    "# 操作和 pandas 基本相同\n",
    "trans_df_all['pair'] = trans_df_all['variant_id'].astype(str) + '_' + trans_df_all['phenotype_id'].astype(str)\n",
    "print('done')"
   ]
  },
  {
   "cell_type": "code",
   "execution_count": 11,
   "id": "80e8a653-c51f-4864-ac23-912ea510f612",
   "metadata": {
    "execution": {
     "iopub.execute_input": "2025-01-14T17:15:03.295414Z",
     "iopub.status.busy": "2025-01-14T17:15:03.294218Z",
     "iopub.status.idle": "2025-01-14T18:25:03.773833Z",
     "shell.execute_reply": "2025-01-14T18:25:03.772599Z",
     "shell.execute_reply.started": "2025-01-14T17:15:03.295269Z"
    }
   },
   "outputs": [
    {
     "name": "stdout",
     "output_type": "stream",
     "text": [
      "done\n",
      "done\n"
     ]
    },
    {
     "name": "stderr",
     "output_type": "stream",
     "text": [
      "/tmp/ipykernel_2476465/1565689682.py:11: SettingWithCopyWarning: \n",
      "A value is trying to be set on a copy of a slice from a DataFrame.\n",
      "Try using .loc[row_indexer,col_indexer] = value instead\n",
      "\n",
      "See the caveats in the documentation: https://pandas.pydata.org/pandas-docs/stable/user_guide/indexing.html#returning-a-view-versus-a-copy\n",
      "  trans_df_all['padj'] = padj\n"
     ]
    },
    {
     "name": "stdout",
     "output_type": "stream",
     "text": [
      "done\n",
      "done\n",
      "done\n"
     ]
    }
   ],
   "source": [
    "import pandas as pd\n",
    "from statsmodels.stats.multitest import multipletests\n",
    "\n",
    "# 提取 p 值为 NumPy 数组\n",
    "pvals = trans_df_all['pval'].values\n",
    "print('done')\n",
    "# 执行 Benjamini-Hochberg 校正\n",
    "_, padj, _, _ = multipletests(pvals, method='fdr_bh')\n",
    "print('done')\n",
    "# 将结果赋值回 DataFrame\n",
    "trans_df_all['padj'] = padj\n",
    "print('done')\n",
    "# 筛选 padj < 0.05 的显著结果\n",
    "trans_df_all_sig = trans_df_all[trans_df_all['padj'] < 0.05].reset_index(drop=True)\n",
    "print('done')\n",
    "# 创建新列 'variant_celltype'\n",
    "trans_df_all_sig['variant_celltype'] = trans_df_all_sig['variant_id'] + \"_\" + trans_df_all_sig['celltype']\n",
    "print('done')"
   ]
  },
  {
   "cell_type": "code",
   "execution_count": 30,
   "id": "d2e47ec7-e2b7-40c6-b5c0-13b4df2a0ae7",
   "metadata": {
    "execution": {
     "iopub.execute_input": "2025-01-15T02:46:17.677221Z",
     "iopub.status.busy": "2025-01-15T02:46:17.676630Z",
     "iopub.status.idle": "2025-01-15T06:14:28.452053Z",
     "shell.execute_reply": "2025-01-15T06:14:28.417083Z",
     "shell.execute_reply.started": "2025-01-15T02:46:17.677169Z"
    }
   },
   "outputs": [],
   "source": [
    "trans_df_all.to_parquet('/CIMA/CIMA_r1/test/20250110_trans_caQTL_with_FDR.parquet')"
   ]
  },
  {
   "cell_type": "code",
   "execution_count": 13,
   "id": "3caaa416-77ed-42a6-ac68-94f7659314d4",
   "metadata": {
    "execution": {
     "iopub.execute_input": "2025-01-15T02:42:17.364765Z",
     "iopub.status.busy": "2025-01-15T02:42:17.364413Z",
     "iopub.status.idle": "2025-01-15T02:42:17.637733Z",
     "shell.execute_reply": "2025-01-15T02:42:17.636166Z",
     "shell.execute_reply.started": "2025-01-15T02:42:17.364738Z"
    }
   },
   "outputs": [],
   "source": [
    "trans_df_all_sig.to_csv('/CIMA/Result/summary/20250114_trans_caQTL_fdr005.csv')"
   ]
  },
  {
   "cell_type": "code",
   "execution_count": 14,
   "id": "99e3ad5c-3aa4-4c9c-a4c5-b5802cd8dc17",
   "metadata": {
    "execution": {
     "iopub.execute_input": "2025-01-15T02:42:18.937021Z",
     "iopub.status.busy": "2025-01-15T02:42:18.936484Z",
     "iopub.status.idle": "2025-01-15T02:42:22.504408Z",
     "shell.execute_reply": "2025-01-15T02:42:22.502952Z",
     "shell.execute_reply.started": "2025-01-15T02:42:18.936974Z"
    }
   },
   "outputs": [],
   "source": [
    "#合并cis-caQTL的结果\n",
    "lead_esnp_all_df =  pd.read_csv('/CIMA/Result/20250108_cis_caQTL_studywise_sig.csv',index_col=0) \n",
    "\n",
    "lead_esnp_all_df['variant_celltype'] = lead_esnp_all_df['variant_id']+\"_\"+lead_esnp_all_df['celltype']\n",
    "\n",
    "lead_snp_egene = lead_esnp_all_df.groupby('variant_celltype')['phenotype_id'].agg(';'.join).reset_index()\n",
    "\n",
    "lead_snp_egene = lead_snp_egene.rename(columns={'phenotype_id': 'cis_caPeak'})\n",
    "\n",
    "trans_df_all_sig_merge = pd.merge(trans_df_all_sig, lead_snp_egene, on='variant_celltype', how='inner')\n",
    "\n",
    "trans_df_all_sig_merge['trans_caPeak'] = trans_df_all_sig_merge['phenotype_id']\n"
   ]
  },
  {
   "cell_type": "code",
   "execution_count": 15,
   "id": "b8332de3-48fd-440e-8692-1a28a1078d30",
   "metadata": {
    "execution": {
     "iopub.execute_input": "2025-01-15T02:42:23.314697Z",
     "iopub.status.busy": "2025-01-15T02:42:23.313999Z",
     "iopub.status.idle": "2025-01-15T02:42:23.332983Z",
     "shell.execute_reply": "2025-01-15T02:42:23.332124Z",
     "shell.execute_reply.started": "2025-01-15T02:42:23.314648Z"
    }
   },
   "outputs": [],
   "source": [
    "trans_df_all_sig_merge.to_csv('/CIMA/Result/summary/20250114_trans_caQTL_fdr005.csv')"
   ]
  },
  {
   "cell_type": "code",
   "execution_count": 109,
   "id": "0fe62499-4cae-48b0-b351-3f6fb4a3d01b",
   "metadata": {
    "execution": {
     "iopub.execute_input": "2025-01-14T10:46:20.603724Z",
     "iopub.status.busy": "2025-01-14T10:46:20.602566Z",
     "iopub.status.idle": "2025-01-14T10:46:20.607893Z",
     "shell.execute_reply": "2025-01-14T10:46:20.607145Z",
     "shell.execute_reply.started": "2025-01-14T10:46:20.603670Z"
    }
   },
   "outputs": [],
   "source": [
    "#查看有无位点既有cis-eQTL/caQTL效应也有trans-eQTL/caQTL效应"
   ]
  },
  {
   "cell_type": "code",
   "execution_count": 17,
   "id": "3875434b-e5be-4783-841a-cac46887bd16",
   "metadata": {
    "execution": {
     "iopub.execute_input": "2025-01-15T02:42:39.294241Z",
     "iopub.status.busy": "2025-01-15T02:42:39.293670Z",
     "iopub.status.idle": "2025-01-15T02:42:39.310687Z",
     "shell.execute_reply": "2025-01-15T02:42:39.309502Z",
     "shell.execute_reply.started": "2025-01-15T02:42:39.294190Z"
    }
   },
   "outputs": [],
   "source": [
    "trans_df_all_sig_merge = pd.read_csv('/CIMA/Result/summary/20250114_trans_caQTL_fdr005.csv',index_col=0)"
   ]
  },
  {
   "cell_type": "code",
   "execution_count": 18,
   "id": "7402c975-aa7b-46ab-bc6d-cc6fbc7c2854",
   "metadata": {
    "execution": {
     "iopub.execute_input": "2025-01-15T02:42:43.451620Z",
     "iopub.status.busy": "2025-01-15T02:42:43.451054Z",
     "iopub.status.idle": "2025-01-15T02:42:43.466695Z",
     "shell.execute_reply": "2025-01-15T02:42:43.465464Z",
     "shell.execute_reply.started": "2025-01-15T02:42:43.451571Z"
    }
   },
   "outputs": [],
   "source": [
    "trans_df_all_sig_merge_eQTL =  pd.read_csv('/CIMA/Result/summary/20250110_trans_eQTL_fdr005.csv',index_col=0)"
   ]
  },
  {
   "cell_type": "code",
   "execution_count": 19,
   "id": "655f6301-f352-4727-ba8a-650f2bbfc163",
   "metadata": {
    "execution": {
     "iopub.execute_input": "2025-01-15T02:42:44.067294Z",
     "iopub.status.busy": "2025-01-15T02:42:44.066787Z",
     "iopub.status.idle": "2025-01-15T02:42:44.075187Z",
     "shell.execute_reply": "2025-01-15T02:42:44.074230Z",
     "shell.execute_reply.started": "2025-01-15T02:42:44.067248Z"
    }
   },
   "outputs": [],
   "source": [
    "trans_df_all_sig_merge_eQTL = trans_df_all_sig_merge_eQTL[\n",
    "    trans_df_all_sig_merge_eQTL['variant_celltype'].isin(trans_df_all_sig_merge['variant_celltype'])\n",
    "]"
   ]
  },
  {
   "cell_type": "code",
   "execution_count": 20,
   "id": "cf78de27-7293-41f6-afd4-1666265f966d",
   "metadata": {
    "execution": {
     "iopub.execute_input": "2025-01-15T02:42:45.388136Z",
     "iopub.status.busy": "2025-01-15T02:42:45.387627Z",
     "iopub.status.idle": "2025-01-15T02:42:45.395981Z",
     "shell.execute_reply": "2025-01-15T02:42:45.395023Z",
     "shell.execute_reply.started": "2025-01-15T02:42:45.388089Z"
    }
   },
   "outputs": [],
   "source": [
    "trans_df_all_sig_merge = trans_df_all_sig_merge.loc[:,[\"variant_celltype\",\"cis_caPeak\",\"trans_caPeak\"]]"
   ]
  },
  {
   "cell_type": "code",
   "execution_count": 21,
   "id": "151ddef3-7d67-48a7-a2eb-9d413dea7a34",
   "metadata": {
    "execution": {
     "iopub.execute_input": "2025-01-15T02:42:46.405083Z",
     "iopub.status.busy": "2025-01-15T02:42:46.404591Z",
     "iopub.status.idle": "2025-01-15T02:42:46.415255Z",
     "shell.execute_reply": "2025-01-15T02:42:46.414496Z",
     "shell.execute_reply.started": "2025-01-15T02:42:46.405037Z"
    }
   },
   "outputs": [],
   "source": [
    "trans_df_all_sig_merge_e_caQTL = pd.merge(trans_df_all_sig_merge_eQTL, trans_df_all_sig_merge, on='variant_celltype', how='inner')"
   ]
  },
  {
   "cell_type": "code",
   "execution_count": 22,
   "id": "a9ae6b89-6fde-4aea-bb59-e08c386a9f99",
   "metadata": {
    "execution": {
     "iopub.execute_input": "2025-01-15T02:42:47.483270Z",
     "iopub.status.busy": "2025-01-15T02:42:47.482778Z",
     "iopub.status.idle": "2025-01-15T02:42:47.493838Z",
     "shell.execute_reply": "2025-01-15T02:42:47.492806Z",
     "shell.execute_reply.started": "2025-01-15T02:42:47.483224Z"
    }
   },
   "outputs": [
    {
     "data": {
      "text/plain": [
       "array(['chr6_130185237_CD8_Tn_CCR7', 'chr17_40096407_CD8_Tn_CCR7',\n",
       "       'chr9_136619405_Mature_NK_dim_FCGR3A',\n",
       "       'chr9_133003751_ncMono_FCGR3A'], dtype=object)"
      ]
     },
     "execution_count": 22,
     "metadata": {},
     "output_type": "execute_result"
    }
   ],
   "source": [
    "trans_df_all_sig_merge_eQTL['variant_celltype'].unique()"
   ]
  },
  {
   "cell_type": "code",
   "execution_count": 23,
   "id": "b79b2913-6c68-4ec5-b1b2-1bee69806e43",
   "metadata": {
    "execution": {
     "iopub.execute_input": "2025-01-15T02:42:47.954937Z",
     "iopub.status.busy": "2025-01-15T02:42:47.953926Z",
     "iopub.status.idle": "2025-01-15T02:42:47.961912Z",
     "shell.execute_reply": "2025-01-15T02:42:47.960779Z",
     "shell.execute_reply.started": "2025-01-15T02:42:47.954905Z"
    }
   },
   "outputs": [
    {
     "data": {
      "text/plain": [
       "array(['chr6_130185237_CD8_Tn_CCR7', 'chr17_40096407_CD8_Tn_CCR7',\n",
       "       'chr9_136619405_Mature_NK_dim_FCGR3A',\n",
       "       'chr9_133003751_ncMono_FCGR3A'], dtype=object)"
      ]
     },
     "execution_count": 23,
     "metadata": {},
     "output_type": "execute_result"
    }
   ],
   "source": [
    "trans_df_all_sig_merge_e_caQTL['variant_celltype'].unique()"
   ]
  },
  {
   "cell_type": "code",
   "execution_count": 24,
   "id": "ca2252c3-0c64-4dac-8bfa-a170c18711ed",
   "metadata": {
    "execution": {
     "iopub.execute_input": "2025-01-15T02:42:50.622423Z",
     "iopub.status.busy": "2025-01-15T02:42:50.622154Z",
     "iopub.status.idle": "2025-01-15T02:42:50.627579Z",
     "shell.execute_reply": "2025-01-15T02:42:50.626840Z",
     "shell.execute_reply.started": "2025-01-15T02:42:50.622403Z"
    }
   },
   "outputs": [],
   "source": [
    "# 提取指定列\n",
    "selected_columns = ['variant_celltype', 'cis_eGene', 'trans_eGene', 'cis_caPeak', 'trans_caPeak']\n",
    "trans_df_all_sig_merge_e_caQTL = trans_df_all_sig_merge_e_caQTL[selected_columns]"
   ]
  },
  {
   "cell_type": "code",
   "execution_count": 25,
   "id": "a29ad4c5-d2a5-4ab2-a60f-032a72d93098",
   "metadata": {
    "execution": {
     "iopub.execute_input": "2025-01-15T02:42:51.080529Z",
     "iopub.status.busy": "2025-01-15T02:42:51.079818Z",
     "iopub.status.idle": "2025-01-15T02:42:51.094396Z",
     "shell.execute_reply": "2025-01-15T02:42:51.093904Z",
     "shell.execute_reply.started": "2025-01-15T02:42:51.080477Z"
    }
   },
   "outputs": [],
   "source": [
    "trans_df_all_sig_merge_e_caQTL = trans_df_all_sig_merge_e_caQTL.groupby('variant_celltype').agg({\n",
    "    'cis_eGene': lambda x: ';'.join(x.astype(str)),\n",
    "    'trans_eGene': lambda x: ';'.join(x.astype(str)),\n",
    "    'cis_caPeak': lambda x: ';'.join(x.astype(str)),\n",
    "    'trans_caPeak': lambda x: ';'.join(x.astype(str))\n",
    "}).reset_index()"
   ]
  },
  {
   "cell_type": "code",
   "execution_count": 26,
   "id": "7e9ca46c-cef5-48d1-9bf7-720fd8b5bc1c",
   "metadata": {
    "execution": {
     "iopub.execute_input": "2025-01-15T02:42:52.024017Z",
     "iopub.status.busy": "2025-01-15T02:42:52.023530Z",
     "iopub.status.idle": "2025-01-15T02:42:52.035709Z",
     "shell.execute_reply": "2025-01-15T02:42:52.034993Z",
     "shell.execute_reply.started": "2025-01-15T02:42:52.023972Z"
    }
   },
   "outputs": [
    {
     "data": {
      "text/html": [
       "<div>\n",
       "<style scoped>\n",
       "    .dataframe tbody tr th:only-of-type {\n",
       "        vertical-align: middle;\n",
       "    }\n",
       "\n",
       "    .dataframe tbody tr th {\n",
       "        vertical-align: top;\n",
       "    }\n",
       "\n",
       "    .dataframe thead th {\n",
       "        text-align: right;\n",
       "    }\n",
       "</style>\n",
       "<table border=\"1\" class=\"dataframe\">\n",
       "  <thead>\n",
       "    <tr style=\"text-align: right;\">\n",
       "      <th></th>\n",
       "      <th>variant_celltype</th>\n",
       "      <th>cis_eGene</th>\n",
       "      <th>trans_eGene</th>\n",
       "      <th>cis_caPeak</th>\n",
       "      <th>trans_caPeak</th>\n",
       "    </tr>\n",
       "  </thead>\n",
       "  <tbody>\n",
       "    <tr>\n",
       "      <th>0</th>\n",
       "      <td>chr17_40096407_CD8_Tn_CCR7</td>\n",
       "      <td>THRA</td>\n",
       "      <td>ARNTL</td>\n",
       "      <td>chr17:40068745-40069246;chr17:40069867-4007036...</td>\n",
       "      <td>chr10:63421561-63422062</td>\n",
       "    </tr>\n",
       "    <tr>\n",
       "      <th>1</th>\n",
       "      <td>chr6_130185237_CD8_Tn_CCR7</td>\n",
       "      <td>AL355581.1;SAMD3;AL355581.1;SAMD3</td>\n",
       "      <td>DGKD;DGKD</td>\n",
       "      <td>chr6:130183864-130184365;chr6:130183864-130184365</td>\n",
       "      <td>chr2:233419586-233420087;chr8:124637460-124637961</td>\n",
       "    </tr>\n",
       "    <tr>\n",
       "      <th>2</th>\n",
       "      <td>chr9_133003751_ncMono_FCGR3A</td>\n",
       "      <td>GFI1B;GFI1B;GFI1B;GFI1B;GFI1B;GFI1B;GFI1B;GFI1...</td>\n",
       "      <td>RBP7;RBP7;RBP7;RBP7;RBP7;RBP7;RBP7;CLEC4A;CLEC...</td>\n",
       "      <td>chr9:132977604-132978105;chr9:132978468-132978...</td>\n",
       "      <td>chr1:27099453-27099954;chr1:85278804-85279305;...</td>\n",
       "    </tr>\n",
       "    <tr>\n",
       "      <th>3</th>\n",
       "      <td>chr9_136619405_Mature_NK_dim_FCGR3A</td>\n",
       "      <td>NALT1;NALT1;NALT1;NALT1;NALT1;NALT1;NALT1;NALT...</td>\n",
       "      <td>JAK1;JAK1;JAK1;JAK1;DENND2D;DENND2D;DENND2D;DE...</td>\n",
       "      <td>chr9:136545948-136546449;chr9:136563049-136563...</td>\n",
       "      <td>chr1:999918-1000419;chr14:68711726-68712227;ch...</td>\n",
       "    </tr>\n",
       "  </tbody>\n",
       "</table>\n",
       "</div>"
      ],
      "text/plain": [
       "                      variant_celltype  \\\n",
       "0           chr17_40096407_CD8_Tn_CCR7   \n",
       "1           chr6_130185237_CD8_Tn_CCR7   \n",
       "2         chr9_133003751_ncMono_FCGR3A   \n",
       "3  chr9_136619405_Mature_NK_dim_FCGR3A   \n",
       "\n",
       "                                           cis_eGene  \\\n",
       "0                                               THRA   \n",
       "1                  AL355581.1;SAMD3;AL355581.1;SAMD3   \n",
       "2  GFI1B;GFI1B;GFI1B;GFI1B;GFI1B;GFI1B;GFI1B;GFI1...   \n",
       "3  NALT1;NALT1;NALT1;NALT1;NALT1;NALT1;NALT1;NALT...   \n",
       "\n",
       "                                         trans_eGene  \\\n",
       "0                                              ARNTL   \n",
       "1                                          DGKD;DGKD   \n",
       "2  RBP7;RBP7;RBP7;RBP7;RBP7;RBP7;RBP7;CLEC4A;CLEC...   \n",
       "3  JAK1;JAK1;JAK1;JAK1;DENND2D;DENND2D;DENND2D;DE...   \n",
       "\n",
       "                                          cis_caPeak  \\\n",
       "0  chr17:40068745-40069246;chr17:40069867-4007036...   \n",
       "1  chr6:130183864-130184365;chr6:130183864-130184365   \n",
       "2  chr9:132977604-132978105;chr9:132978468-132978...   \n",
       "3  chr9:136545948-136546449;chr9:136563049-136563...   \n",
       "\n",
       "                                        trans_caPeak  \n",
       "0                            chr10:63421561-63422062  \n",
       "1  chr2:233419586-233420087;chr8:124637460-124637961  \n",
       "2  chr1:27099453-27099954;chr1:85278804-85279305;...  \n",
       "3  chr1:999918-1000419;chr14:68711726-68712227;ch...  "
      ]
     },
     "execution_count": 26,
     "metadata": {},
     "output_type": "execute_result"
    }
   ],
   "source": [
    "trans_df_all_sig_merge_e_caQTL"
   ]
  },
  {
   "cell_type": "code",
   "execution_count": 27,
   "id": "95e30405-820b-489a-8e0f-f9be151bfc40",
   "metadata": {
    "execution": {
     "iopub.execute_input": "2025-01-15T02:42:57.326256Z",
     "iopub.status.busy": "2025-01-15T02:42:57.325699Z",
     "iopub.status.idle": "2025-01-15T02:42:57.339517Z",
     "shell.execute_reply": "2025-01-15T02:42:57.338838Z",
     "shell.execute_reply.started": "2025-01-15T02:42:57.326209Z"
    }
   },
   "outputs": [],
   "source": [
    "# 去除每个列中以 \";\" 分隔的子元素的重复值\n",
    "def remove_duplicates(x):\n",
    "    # 将字符串分割为列表，去除重复值，再用 \";\" 连接\n",
    "    return ';'.join(sorted(set(x.split(';')), key=x.split(';').index))\n",
    "\n",
    "# 对每一列应用去重操作\n",
    "trans_df_all_sig_merge_e_caQTL[['cis_eGene', 'trans_eGene', 'cis_caPeak', 'trans_caPeak']] = trans_df_all_sig_merge_e_caQTL[['cis_eGene', 'trans_eGene', 'cis_caPeak', 'trans_caPeak']].map(remove_duplicates)"
   ]
  },
  {
   "cell_type": "code",
   "execution_count": 28,
   "id": "52c85d65-446a-431c-acc9-01eef7d5b94d",
   "metadata": {
    "execution": {
     "iopub.execute_input": "2025-01-15T02:42:59.179178Z",
     "iopub.status.busy": "2025-01-15T02:42:59.178648Z",
     "iopub.status.idle": "2025-01-15T02:42:59.189890Z",
     "shell.execute_reply": "2025-01-15T02:42:59.188934Z",
     "shell.execute_reply.started": "2025-01-15T02:42:59.179131Z"
    }
   },
   "outputs": [],
   "source": [
    "trans_df_all_sig_merge_e_caQTL.to_csv('/CIMA/Result/summary/20250114_trans_e_caQTL_overlap.csv')"
   ]
  },
  {
   "cell_type": "code",
   "execution_count": 29,
   "id": "4135ac92-c755-4b50-9eec-2765832264d5",
   "metadata": {
    "execution": {
     "iopub.execute_input": "2025-01-15T02:43:03.032470Z",
     "iopub.status.busy": "2025-01-15T02:43:03.031398Z",
     "iopub.status.idle": "2025-01-15T02:43:03.046069Z",
     "shell.execute_reply": "2025-01-15T02:43:03.045311Z",
     "shell.execute_reply.started": "2025-01-15T02:43:03.032420Z"
    }
   },
   "outputs": [
    {
     "data": {
      "text/html": [
       "<div>\n",
       "<style scoped>\n",
       "    .dataframe tbody tr th:only-of-type {\n",
       "        vertical-align: middle;\n",
       "    }\n",
       "\n",
       "    .dataframe tbody tr th {\n",
       "        vertical-align: top;\n",
       "    }\n",
       "\n",
       "    .dataframe thead th {\n",
       "        text-align: right;\n",
       "    }\n",
       "</style>\n",
       "<table border=\"1\" class=\"dataframe\">\n",
       "  <thead>\n",
       "    <tr style=\"text-align: right;\">\n",
       "      <th></th>\n",
       "      <th>variant_celltype</th>\n",
       "      <th>cis_eGene</th>\n",
       "      <th>trans_eGene</th>\n",
       "      <th>cis_caPeak</th>\n",
       "      <th>trans_caPeak</th>\n",
       "    </tr>\n",
       "  </thead>\n",
       "  <tbody>\n",
       "    <tr>\n",
       "      <th>0</th>\n",
       "      <td>chr17_40096407_CD8_Tn_CCR7</td>\n",
       "      <td>THRA</td>\n",
       "      <td>ARNTL</td>\n",
       "      <td>chr17:40068745-40069246;chr17:40069867-4007036...</td>\n",
       "      <td>chr10:63421561-63422062</td>\n",
       "    </tr>\n",
       "    <tr>\n",
       "      <th>1</th>\n",
       "      <td>chr6_130185237_CD8_Tn_CCR7</td>\n",
       "      <td>AL355581.1;SAMD3</td>\n",
       "      <td>DGKD</td>\n",
       "      <td>chr6:130183864-130184365</td>\n",
       "      <td>chr2:233419586-233420087;chr8:124637460-124637961</td>\n",
       "    </tr>\n",
       "    <tr>\n",
       "      <th>2</th>\n",
       "      <td>chr9_133003751_ncMono_FCGR3A</td>\n",
       "      <td>GFI1B</td>\n",
       "      <td>RBP7;CLEC4A;LRP1;USP36;KIAA0355</td>\n",
       "      <td>chr9:132977604-132978105;chr9:132978468-132978...</td>\n",
       "      <td>chr1:27099453-27099954;chr1:85278804-85279305;...</td>\n",
       "    </tr>\n",
       "    <tr>\n",
       "      <th>3</th>\n",
       "      <td>chr9_136619405_Mature_NK_dim_FCGR3A</td>\n",
       "      <td>NALT1</td>\n",
       "      <td>JAK1;DENND2D;CD244;PPM1L;SPON2;GSAP;PTPN12;PRF...</td>\n",
       "      <td>chr9:136545948-136546449;chr9:136563049-136563...</td>\n",
       "      <td>chr1:999918-1000419;chr14:68711726-68712227;ch...</td>\n",
       "    </tr>\n",
       "  </tbody>\n",
       "</table>\n",
       "</div>"
      ],
      "text/plain": [
       "                      variant_celltype         cis_eGene  \\\n",
       "0           chr17_40096407_CD8_Tn_CCR7              THRA   \n",
       "1           chr6_130185237_CD8_Tn_CCR7  AL355581.1;SAMD3   \n",
       "2         chr9_133003751_ncMono_FCGR3A             GFI1B   \n",
       "3  chr9_136619405_Mature_NK_dim_FCGR3A             NALT1   \n",
       "\n",
       "                                         trans_eGene  \\\n",
       "0                                              ARNTL   \n",
       "1                                               DGKD   \n",
       "2                    RBP7;CLEC4A;LRP1;USP36;KIAA0355   \n",
       "3  JAK1;DENND2D;CD244;PPM1L;SPON2;GSAP;PTPN12;PRF...   \n",
       "\n",
       "                                          cis_caPeak  \\\n",
       "0  chr17:40068745-40069246;chr17:40069867-4007036...   \n",
       "1                           chr6:130183864-130184365   \n",
       "2  chr9:132977604-132978105;chr9:132978468-132978...   \n",
       "3  chr9:136545948-136546449;chr9:136563049-136563...   \n",
       "\n",
       "                                        trans_caPeak  \n",
       "0                            chr10:63421561-63422062  \n",
       "1  chr2:233419586-233420087;chr8:124637460-124637961  \n",
       "2  chr1:27099453-27099954;chr1:85278804-85279305;...  \n",
       "3  chr1:999918-1000419;chr14:68711726-68712227;ch...  "
      ]
     },
     "execution_count": 29,
     "metadata": {},
     "output_type": "execute_result"
    }
   ],
   "source": [
    "trans_df_all_sig_merge_e_caQTL"
   ]
  }
 ],
 "metadata": {
  "kernelspec": {
   "display_name": "tensorqtl",
   "language": "python",
   "name": "tensorqtl"
  },
  "language_info": {
   "codemirror_mode": {
    "name": "ipython",
    "version": 3
   },
   "file_extension": ".py",
   "mimetype": "text/x-python",
   "name": "python",
   "nbconvert_exporter": "python",
   "pygments_lexer": "ipython3",
   "version": "3.10.16"
  }
 },
 "nbformat": 4,
 "nbformat_minor": 5
}
