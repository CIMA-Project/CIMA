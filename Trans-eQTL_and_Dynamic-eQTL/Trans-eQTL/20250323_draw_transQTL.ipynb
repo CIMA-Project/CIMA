{
 "cells": [
  {
   "cell_type": "code",
   "execution_count": 2,
   "id": "666ffcaf-87d8-45c1-9720-ab51c403c097",
   "metadata": {
    "execution": {
     "iopub.execute_input": "2025-04-01T10:47:28.808196Z",
     "iopub.status.busy": "2025-04-01T10:47:28.807700Z",
     "iopub.status.idle": "2025-04-01T10:47:29.165509Z",
     "shell.execute_reply": "2025-04-01T10:47:29.164770Z",
     "shell.execute_reply.started": "2025-04-01T10:47:28.808149Z"
    }
   },
   "outputs": [],
   "source": [
    "import pandas as pd"
   ]
  },
  {
   "cell_type": "code",
   "execution_count": 3,
   "id": "85cc3b24-7d58-45e8-8b51-c2c83ad68207",
   "metadata": {
    "execution": {
     "iopub.execute_input": "2025-04-01T10:47:29.166743Z",
     "iopub.status.busy": "2025-04-01T10:47:29.166492Z",
     "iopub.status.idle": "2025-04-01T10:47:29.410184Z",
     "shell.execute_reply": "2025-04-01T10:47:29.409335Z",
     "shell.execute_reply.started": "2025-04-01T10:47:29.166725Z"
    }
   },
   "outputs": [],
   "source": [
    "trans_eQTL = pd.read_csv('/CIMA/Result/summary/20250110_trans_eQTL_fdr005.csv',index_col=0)"
   ]
  },
  {
   "cell_type": "code",
   "execution_count": 25,
   "id": "ad29e9c5-500c-4a11-956b-adf939c170c5",
   "metadata": {
    "execution": {
     "iopub.execute_input": "2025-03-23T13:23:47.183560Z",
     "iopub.status.busy": "2025-03-23T13:23:47.183227Z",
     "iopub.status.idle": "2025-03-23T13:23:50.530195Z",
     "shell.execute_reply": "2025-03-23T13:23:50.529301Z",
     "shell.execute_reply.started": "2025-03-23T13:23:47.183533Z"
    }
   },
   "outputs": [],
   "source": [
    "bim_file = pd.read_csv('/CIMA/genetics/qc/10.maf01.bim',index_col=0,sep = '\\t',header=None)"
   ]
  },
  {
   "cell_type": "code",
   "execution_count": 26,
   "id": "166f801f-0032-4d20-843d-5cfbf3f4e225",
   "metadata": {
    "execution": {
     "iopub.execute_input": "2025-03-23T13:23:53.595269Z",
     "iopub.status.busy": "2025-03-23T13:23:53.594688Z",
     "iopub.status.idle": "2025-03-23T13:23:53.608784Z",
     "shell.execute_reply": "2025-03-23T13:23:53.608008Z",
     "shell.execute_reply.started": "2025-03-23T13:23:53.595216Z"
    }
   },
   "outputs": [
    {
     "data": {
      "text/html": [
       "<div>\n",
       "<style scoped>\n",
       "    .dataframe tbody tr th:only-of-type {\n",
       "        vertical-align: middle;\n",
       "    }\n",
       "\n",
       "    .dataframe tbody tr th {\n",
       "        vertical-align: top;\n",
       "    }\n",
       "\n",
       "    .dataframe thead th {\n",
       "        text-align: right;\n",
       "    }\n",
       "</style>\n",
       "<table border=\"1\" class=\"dataframe\">\n",
       "  <thead>\n",
       "    <tr style=\"text-align: right;\">\n",
       "      <th></th>\n",
       "      <th>1</th>\n",
       "      <th>2</th>\n",
       "      <th>3</th>\n",
       "      <th>4</th>\n",
       "      <th>5</th>\n",
       "    </tr>\n",
       "    <tr>\n",
       "      <th>0</th>\n",
       "      <th></th>\n",
       "      <th></th>\n",
       "      <th></th>\n",
       "      <th></th>\n",
       "      <th></th>\n",
       "    </tr>\n",
       "  </thead>\n",
       "  <tbody>\n",
       "    <tr>\n",
       "      <th>1</th>\n",
       "      <td>chr1_266093</td>\n",
       "      <td>0</td>\n",
       "      <td>266093</td>\n",
       "      <td>G</td>\n",
       "      <td>C</td>\n",
       "    </tr>\n",
       "    <tr>\n",
       "      <th>1</th>\n",
       "      <td>chr1_266225</td>\n",
       "      <td>0</td>\n",
       "      <td>266225</td>\n",
       "      <td>A</td>\n",
       "      <td>C</td>\n",
       "    </tr>\n",
       "    <tr>\n",
       "      <th>1</th>\n",
       "      <td>chr1_280087</td>\n",
       "      <td>0</td>\n",
       "      <td>280087</td>\n",
       "      <td>G</td>\n",
       "      <td>A</td>\n",
       "    </tr>\n",
       "    <tr>\n",
       "      <th>1</th>\n",
       "      <td>chr1_280485</td>\n",
       "      <td>0</td>\n",
       "      <td>280485</td>\n",
       "      <td>C</td>\n",
       "      <td>CT</td>\n",
       "    </tr>\n",
       "    <tr>\n",
       "      <th>1</th>\n",
       "      <td>chr1_285386</td>\n",
       "      <td>0</td>\n",
       "      <td>285386</td>\n",
       "      <td>G</td>\n",
       "      <td>T</td>\n",
       "    </tr>\n",
       "    <tr>\n",
       "      <th>...</th>\n",
       "      <td>...</td>\n",
       "      <td>...</td>\n",
       "      <td>...</td>\n",
       "      <td>...</td>\n",
       "      <td>...</td>\n",
       "    </tr>\n",
       "    <tr>\n",
       "      <th>22</th>\n",
       "      <td>chr22_50797551</td>\n",
       "      <td>0</td>\n",
       "      <td>50797551</td>\n",
       "      <td>A</td>\n",
       "      <td>G</td>\n",
       "    </tr>\n",
       "    <tr>\n",
       "      <th>22</th>\n",
       "      <td>chr22_50798635</td>\n",
       "      <td>0</td>\n",
       "      <td>50798635</td>\n",
       "      <td>C</td>\n",
       "      <td>T</td>\n",
       "    </tr>\n",
       "    <tr>\n",
       "      <th>22</th>\n",
       "      <td>chr22_50802392</td>\n",
       "      <td>0</td>\n",
       "      <td>50802392</td>\n",
       "      <td>T</td>\n",
       "      <td>C</td>\n",
       "    </tr>\n",
       "    <tr>\n",
       "      <th>22</th>\n",
       "      <td>chr22_50803843</td>\n",
       "      <td>0</td>\n",
       "      <td>50803843</td>\n",
       "      <td>G</td>\n",
       "      <td>C</td>\n",
       "    </tr>\n",
       "    <tr>\n",
       "      <th>22</th>\n",
       "      <td>chr22_50807702</td>\n",
       "      <td>0</td>\n",
       "      <td>50807702</td>\n",
       "      <td>G</td>\n",
       "      <td>A</td>\n",
       "    </tr>\n",
       "  </tbody>\n",
       "</table>\n",
       "<p>5051397 rows × 5 columns</p>\n",
       "</div>"
      ],
      "text/plain": [
       "                 1  2         3  4   5\n",
       "0                                     \n",
       "1      chr1_266093  0    266093  G   C\n",
       "1      chr1_266225  0    266225  A   C\n",
       "1      chr1_280087  0    280087  G   A\n",
       "1      chr1_280485  0    280485  C  CT\n",
       "1      chr1_285386  0    285386  G   T\n",
       "..             ... ..       ... ..  ..\n",
       "22  chr22_50797551  0  50797551  A   G\n",
       "22  chr22_50798635  0  50798635  C   T\n",
       "22  chr22_50802392  0  50802392  T   C\n",
       "22  chr22_50803843  0  50803843  G   C\n",
       "22  chr22_50807702  0  50807702  G   A\n",
       "\n",
       "[5051397 rows x 5 columns]"
      ]
     },
     "execution_count": 26,
     "metadata": {},
     "output_type": "execute_result"
    }
   ],
   "source": [
    "bim_file"
   ]
  },
  {
   "cell_type": "code",
   "execution_count": 27,
   "id": "07e183e1-485b-4e15-8fae-8e4bf1cb711f",
   "metadata": {
    "execution": {
     "iopub.execute_input": "2025-03-23T13:24:20.157959Z",
     "iopub.status.busy": "2025-03-23T13:24:20.157365Z",
     "iopub.status.idle": "2025-03-23T13:24:20.298222Z",
     "shell.execute_reply": "2025-03-23T13:24:20.297229Z",
     "shell.execute_reply.started": "2025-03-23T13:24:20.157907Z"
    }
   },
   "outputs": [],
   "source": [
    "bim_file = bim_file.iloc[:,[0,3,4]]"
   ]
  },
  {
   "cell_type": "code",
   "execution_count": 29,
   "id": "2636dc48-9190-4151-bc63-9d8713010102",
   "metadata": {
    "execution": {
     "iopub.execute_input": "2025-03-23T13:25:42.837950Z",
     "iopub.status.busy": "2025-03-23T13:25:42.837395Z",
     "iopub.status.idle": "2025-03-23T13:25:42.842024Z",
     "shell.execute_reply": "2025-03-23T13:25:42.841289Z",
     "shell.execute_reply.started": "2025-03-23T13:25:42.837918Z"
    }
   },
   "outputs": [],
   "source": [
    "bim_file.columns = ['variant_id','A1(effect)','A2(REF])']"
   ]
  },
  {
   "cell_type": "code",
   "execution_count": 30,
   "id": "30ebc626-3711-4b36-8af7-6095e5f26b10",
   "metadata": {
    "execution": {
     "iopub.execute_input": "2025-03-23T13:26:10.224233Z",
     "iopub.status.busy": "2025-03-23T13:26:10.223822Z",
     "iopub.status.idle": "2025-03-23T13:26:13.608555Z",
     "shell.execute_reply": "2025-03-23T13:26:13.607377Z",
     "shell.execute_reply.started": "2025-03-23T13:26:10.224200Z"
    }
   },
   "outputs": [],
   "source": [
    "trans_eQTL = pd.merge(trans_eQTL,bim_file,on='variant_id')"
   ]
  },
  {
   "cell_type": "code",
   "execution_count": 32,
   "id": "3211e5ec-837c-437c-8857-b82f81a89d52",
   "metadata": {
    "execution": {
     "iopub.execute_input": "2025-03-23T13:26:56.663515Z",
     "iopub.status.busy": "2025-03-23T13:26:56.662933Z",
     "iopub.status.idle": "2025-03-23T13:26:56.684127Z",
     "shell.execute_reply": "2025-03-23T13:26:56.683155Z",
     "shell.execute_reply.started": "2025-03-23T13:26:56.663464Z"
    }
   },
   "outputs": [],
   "source": [
    "trans_eQTL.to_csv('/CIMA/Result/summary/20250323_trans_eQTL_fdr005_withA1A2.csv')"
   ]
  },
  {
   "cell_type": "code",
   "execution_count": 9,
   "id": "92987af6-ac49-4386-b648-3faa9bd0ef40",
   "metadata": {
    "execution": {
     "iopub.execute_input": "2025-03-23T12:27:32.192203Z",
     "iopub.status.busy": "2025-03-23T12:27:32.191677Z",
     "iopub.status.idle": "2025-03-23T12:27:32.199072Z",
     "shell.execute_reply": "2025-03-23T12:27:32.198399Z",
     "shell.execute_reply.started": "2025-03-23T12:27:32.192168Z"
    }
   },
   "outputs": [
    {
     "data": {
      "text/plain": [
       "45"
      ]
     },
     "execution_count": 9,
     "metadata": {},
     "output_type": "execute_result"
    }
   ],
   "source": [
    "len(trans_eQTL['celltype'].value_counts())"
   ]
  },
  {
   "cell_type": "code",
   "execution_count": 4,
   "id": "b8ed61b0-7247-4a82-bbfc-2d67080bab1c",
   "metadata": {
    "execution": {
     "iopub.execute_input": "2025-04-01T10:50:08.741243Z",
     "iopub.status.busy": "2025-04-01T10:50:08.740654Z",
     "iopub.status.idle": "2025-04-01T10:50:08.753424Z",
     "shell.execute_reply": "2025-04-01T10:50:08.752674Z",
     "shell.execute_reply.started": "2025-04-01T10:50:08.741193Z"
    }
   },
   "outputs": [
    {
     "data": {
      "text/plain": [
       "84"
      ]
     },
     "execution_count": 4,
     "metadata": {},
     "output_type": "execute_result"
    }
   ],
   "source": [
    "trans_eQTL['trans_eGene'].nunique()"
   ]
  },
  {
   "cell_type": "code",
   "execution_count": 8,
   "id": "a0b0d72c-674e-49c9-9a1a-0501cd083ad0",
   "metadata": {
    "execution": {
     "iopub.execute_input": "2025-04-01T10:51:10.316917Z",
     "iopub.status.busy": "2025-04-01T10:51:10.316397Z",
     "iopub.status.idle": "2025-04-01T10:51:10.325437Z",
     "shell.execute_reply": "2025-04-01T10:51:10.324652Z",
     "shell.execute_reply.started": "2025-04-01T10:51:10.316880Z"
    }
   },
   "outputs": [
    {
     "data": {
      "text/plain": [
       "variant_id\n",
       "chr17_64066984    31\n",
       "chr9_136620710    14\n",
       "chr17_7304645     13\n",
       "chr9_136619405    12\n",
       "chr4_88523377     11\n",
       "                  ..\n",
       "chr8_23443827      1\n",
       "chr7_97980428      1\n",
       "chr6_29548894      1\n",
       "chr6_29520860      1\n",
       "chr1_112704505     1\n",
       "Name: count, Length: 129, dtype: int64"
      ]
     },
     "execution_count": 8,
     "metadata": {},
     "output_type": "execute_result"
    }
   ],
   "source": [
    "trans_eQTL['variant_id'].value_counts()"
   ]
  },
  {
   "cell_type": "code",
   "execution_count": 9,
   "id": "7238c5f4-98bf-451e-a73c-38834d4c5ce4",
   "metadata": {
    "execution": {
     "iopub.execute_input": "2025-04-01T10:53:09.721204Z",
     "iopub.status.busy": "2025-04-01T10:53:09.720678Z",
     "iopub.status.idle": "2025-04-01T10:53:09.750284Z",
     "shell.execute_reply": "2025-04-01T10:53:09.748922Z",
     "shell.execute_reply.started": "2025-04-01T10:53:09.721154Z"
    }
   },
   "outputs": [],
   "source": [
    "a1 = pd.read_csv('/CIMA/Result/summary/20250323_trans_eQTL_number_by_celltype.csv')"
   ]
  },
  {
   "cell_type": "code",
   "execution_count": 11,
   "id": "8b32035e-c02f-4585-ad04-f6b015cf37a6",
   "metadata": {
    "execution": {
     "iopub.execute_input": "2025-04-01T10:53:36.360897Z",
     "iopub.status.busy": "2025-04-01T10:53:36.360341Z",
     "iopub.status.idle": "2025-04-01T10:53:36.370049Z",
     "shell.execute_reply": "2025-04-01T10:53:36.369255Z",
     "shell.execute_reply.started": "2025-04-01T10:53:36.360835Z"
    }
   },
   "outputs": [
    {
     "data": {
      "text/plain": [
       "58"
      ]
     },
     "execution_count": 11,
     "metadata": {},
     "output_type": "execute_result"
    }
   ],
   "source": [
    "a1['cs_eGene_num'].sum()"
   ]
  },
  {
   "cell_type": "code",
   "execution_count": 18,
   "id": "153b01d1-9dc8-4bf4-badb-63c074d2a18a",
   "metadata": {
    "execution": {
     "iopub.execute_input": "2025-04-01T11:18:17.195216Z",
     "iopub.status.busy": "2025-04-01T11:18:17.194624Z",
     "iopub.status.idle": "2025-04-01T11:18:17.212633Z",
     "shell.execute_reply": "2025-04-01T11:18:17.211879Z",
     "shell.execute_reply.started": "2025-04-01T11:18:17.195162Z"
    }
   },
   "outputs": [
    {
     "data": {
      "text/html": [
       "<div>\n",
       "<style scoped>\n",
       "    .dataframe tbody tr th:only-of-type {\n",
       "        vertical-align: middle;\n",
       "    }\n",
       "\n",
       "    .dataframe tbody tr th {\n",
       "        vertical-align: top;\n",
       "    }\n",
       "\n",
       "    .dataframe thead th {\n",
       "        text-align: right;\n",
       "    }\n",
       "</style>\n",
       "<table border=\"1\" class=\"dataframe\">\n",
       "  <thead>\n",
       "    <tr style=\"text-align: right;\">\n",
       "      <th></th>\n",
       "      <th>variant_id</th>\n",
       "      <th>phenotype_id</th>\n",
       "      <th>pval</th>\n",
       "      <th>b</th>\n",
       "      <th>b_se</th>\n",
       "      <th>af</th>\n",
       "      <th>variant_chr</th>\n",
       "      <th>phenotype_chr</th>\n",
       "      <th>celltype</th>\n",
       "      <th>pair</th>\n",
       "      <th>padj</th>\n",
       "      <th>variant_celltype</th>\n",
       "      <th>cis_eGene</th>\n",
       "      <th>trans_eGene</th>\n",
       "    </tr>\n",
       "  </thead>\n",
       "  <tbody>\n",
       "    <tr>\n",
       "      <th>56</th>\n",
       "      <td>chr2_100809622</td>\n",
       "      <td>NR1D1</td>\n",
       "      <td>2.686284e-20</td>\n",
       "      <td>0.559849</td>\n",
       "      <td>0.057104</td>\n",
       "      <td>0.383005</td>\n",
       "      <td>2</td>\n",
       "      <td>17</td>\n",
       "      <td>CD4_Tn_CCR7</td>\n",
       "      <td>chr2_100809622_NR1D1</td>\n",
       "      <td>3.034259e-13</td>\n",
       "      <td>chr2_100809622_CD4_Tn_CCR7</td>\n",
       "      <td>NPAS2</td>\n",
       "      <td>NR1D1</td>\n",
       "    </tr>\n",
       "  </tbody>\n",
       "</table>\n",
       "</div>"
      ],
      "text/plain": [
       "        variant_id phenotype_id          pval         b      b_se        af  \\\n",
       "56  chr2_100809622        NR1D1  2.686284e-20  0.559849  0.057104  0.383005   \n",
       "\n",
       "    variant_chr  phenotype_chr     celltype                  pair  \\\n",
       "56            2             17  CD4_Tn_CCR7  chr2_100809622_NR1D1   \n",
       "\n",
       "            padj            variant_celltype cis_eGene trans_eGene  \n",
       "56  3.034259e-13  chr2_100809622_CD4_Tn_CCR7     NPAS2       NR1D1  "
      ]
     },
     "execution_count": 18,
     "metadata": {},
     "output_type": "execute_result"
    }
   ],
   "source": [
    "trans_eQTL[trans_eQTL['phenotype_id'] == 'NR1D1']"
   ]
  }
 ],
 "metadata": {
  "kernelspec": {
   "display_name": "scPAFA",
   "language": "python",
   "name": "scpafa"
  },
  "language_info": {
   "codemirror_mode": {
    "name": "ipython",
    "version": 3
   },
   "file_extension": ".py",
   "mimetype": "text/x-python",
   "name": "python",
   "nbconvert_exporter": "python",
   "pygments_lexer": "ipython3",
   "version": "3.10.14"
  }
 },
 "nbformat": 4,
 "nbformat_minor": 5
}
